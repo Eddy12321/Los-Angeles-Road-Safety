{
 "cells": [
  {
   "cell_type": "markdown",
   "id": "53eb3a97",
   "metadata": {},
   "source": [
    "# Modeling <a id='Modeling'></a>"
   ]
  },
  {
   "cell_type": "markdown",
   "id": "a553a4b4",
   "metadata": {},
   "source": [
    "### 1 Table of Contents<a id='Contents'></a>\n",
    "* [Modeling](#Modeling)\n",
    "  * [1 Contents](#Contents)\n",
    "  * [2 Introduction](#2_Introduction)\n",
    "  * [3 Imports](#3_Imports)\n",
    "  * [4 Datasets and Dataloaders](#4_Datasets_and_Dataloaders)\n",
    "  * [5 Model1](#5_Model1)\n",
    "  * [6 Model2](#6_Model2)\n",
    "  * [7 Model3](#7_Model3)\n",
    "  * [8 Best Model](#8_Best_Model)\n",
    "  * [Conclusion](#Conclusion)"
   ]
  },
  {
   "cell_type": "markdown",
   "id": "4c5121bd",
   "metadata": {},
   "source": [
    "### 2 Introduction <a id='2_Introduction'></a>"
   ]
  },
  {
   "cell_type": "markdown",
   "id": "ed5c5b74",
   "metadata": {},
   "source": [
    "In the last notebook, we created the tensor, split the data, and stored it in an h5py file. In this notebook, we'll be building our models."
   ]
  },
  {
   "cell_type": "markdown",
   "id": "257eea25",
   "metadata": {},
   "source": [
    "### 3 Imports <a id='3_Imports'>"
   ]
  },
  {
   "cell_type": "code",
   "execution_count": 2,
   "id": "06a82cec",
   "metadata": {},
   "outputs": [
    {
     "ename": "ModuleNotFoundError",
     "evalue": "No module named 'torch_geometric_temporal'",
     "output_type": "error",
     "traceback": [
      "\u001b[1;31m---------------------------------------------------------------------------\u001b[0m",
      "\u001b[1;31mModuleNotFoundError\u001b[0m                       Traceback (most recent call last)",
      "Cell \u001b[1;32mIn[2], line 6\u001b[0m\n\u001b[0;32m      4\u001b[0m \u001b[38;5;28;01mimport\u001b[39;00m \u001b[38;5;21;01mtorch\u001b[39;00m\n\u001b[0;32m      5\u001b[0m \u001b[38;5;28;01mimport\u001b[39;00m \u001b[38;5;21;01mtorch\u001b[39;00m\u001b[38;5;21;01m.\u001b[39;00m\u001b[38;5;21;01mnn\u001b[39;00m\u001b[38;5;21;01m.\u001b[39;00m\u001b[38;5;21;01mfunctional\u001b[39;00m \u001b[38;5;28;01mas\u001b[39;00m \u001b[38;5;21;01mF\u001b[39;00m\n\u001b[1;32m----> 6\u001b[0m \u001b[38;5;28;01mfrom\u001b[39;00m \u001b[38;5;21;01mtorch_geometric_temporal\u001b[39;00m\u001b[38;5;21;01m.\u001b[39;00m\u001b[38;5;21;01mnn\u001b[39;00m\u001b[38;5;21;01m.\u001b[39;00m\u001b[38;5;21;01mrecurrent\u001b[39;00m \u001b[38;5;28;01mimport\u001b[39;00m GConvGRU\n\u001b[0;32m      7\u001b[0m \u001b[38;5;28;01mfrom\u001b[39;00m \u001b[38;5;21;01mtorch_geometric_temporal\u001b[39;00m\u001b[38;5;21;01m.\u001b[39;00m\u001b[38;5;21;01mnn\u001b[39;00m\u001b[38;5;21;01m.\u001b[39;00m\u001b[38;5;21;01mtemporal\u001b[39;00m \u001b[38;5;28;01mimport\u001b[39;00m STConv\n\u001b[0;32m      8\u001b[0m \u001b[38;5;28;01mfrom\u001b[39;00m \u001b[38;5;21;01mtorch_geometric_temporal\u001b[39;00m\u001b[38;5;21;01m.\u001b[39;00m\u001b[38;5;21;01msignal\u001b[39;00m \u001b[38;5;28;01mimport\u001b[39;00m StaticGraphTemporalSignal\n",
      "\u001b[1;31mModuleNotFoundError\u001b[0m: No module named 'torch_geometric_temporal'"
     ]
    }
   ],
   "source": [
    "import warnings\n",
    "warnings.simplefilter('ignore')\n",
    "import numpy as np\n",
    "import torch\n",
    "import torch.nn.functional as F\n",
    "from torch_geometric_temporal.nn.recurrent import GConvGRU\n",
    "from torch_geometric_temporal.nn.temporal import STConv\n",
    "from torch_geometric_temporal.signal import StaticGraphTemporalSignal\n",
    "import torch.utils.data as dt\n",
    "import torch.nn as nn\n",
    "import torch.optim as optim\n",
    "import gc\n",
    "import pandas as pd\n",
    "import seaborn as sns\n",
    "import matplotlib.pyplot as plt\n",
    "import requests\n",
    "import h5py\n",
    "import googlemaps\n",
    "import os\n",
    "import math\n",
    "import csv"
   ]
  },
  {
   "cell_type": "markdown",
   "id": "835228f0",
   "metadata": {},
   "source": [
    "### 4 Datasets and Dataloaders <a id='4_Datasets_and_Dataloaders'>"
   ]
  },
  {
   "cell_type": "code",
   "execution_count": null,
   "id": "93a5ddad",
   "metadata": {},
   "outputs": [],
   "source": [
    "class H5dataset(dt.Dataset):\n",
    "    def __init__(self, h5_path, set_name):\n",
    "        self.h5 = h5py.File(h5_path, 'r')\n",
    "        self.set = self.h5[set_name]\n",
    "        self.chunk_dict = {}\n",
    "        for ch, sl in enumerate(self.set.iter_chunks()):\n",
    "            self.chunk_dict[ch] = sl\n",
    "        \n",
    "    def __len__(self):\n",
    "        return self.set.shape[0]\n",
    "    \n",
    "    def __getitem__(self, idx):\n",
    "        chunk = math.floor(idx / 32)\n",
    "        chunk_idx = idx%32\n",
    "        sample = self.set[self.chunk_dict[chunk]][chunk_idx]\n",
    "        return t.tensor(sample[:,:,:], device = 'cuda:0'), #t.tensor(sample[:,:,:,0], device = 'cuda:0')\n",
    "    \n",
    "    def CLOSE(self):\n",
    "        self.h5.close()"
   ]
  },
  {
   "cell_type": "code",
   "execution_count": null,
   "id": "d9726d56",
   "metadata": {},
   "outputs": [],
   "source": [
    "train = H5dataset('../Data/LA_windowed_split_collisions_only.hdf5', 'train_windowed')\n",
    "test = H5dataset('../Data/LA_windowed_split_collisions_only.hdf5', 'test_windowed')"
   ]
  },
  {
   "cell_type": "markdown",
   "id": "77afde74",
   "metadata": {},
   "source": [
    "### 5 Model1 <a id='5_Model1'>"
   ]
  },
  {
   "cell_type": "code",
   "execution_count": null,
   "id": "a5678001",
   "metadata": {},
   "outputs": [],
   "source": [
    "class STGCN(nn.Module):\n",
    "\n",
    "    def __init__(self, node_features, num_classes):\n",
    "        super(RecurrentGCN, self).__init__()\n",
    "        self.temporal_1 = STConv(node_features, 32, 5)\n",
    "        self.temporal_2 = STConv(32, 16, 5)\n",
    "        self.linear = torch.nn.Linear(16, num_classes)\n",
    "\n",
    "    def forward(self, x, edge_index, edge_weight):\n",
    "        x = self.temporal_1(x, edge_index, edge_weight)\n",
    "        x = F.relu(x)\n",
    "        x = self.temporal_2(x, edge_index, edge_weight)\n",
    "        x = F.relu(x)\n",
    "        x = self.linear(x)\n",
    "        return F.log_softmax(x, dim=1)"
   ]
  },
  {
   "cell_type": "code",
   "execution_count": null,
   "id": "a4b6ace5",
   "metadata": {},
   "outputs": [],
   "source": [
    "model = RecurrentGCN(node_features = 1500, num_classes = 2)"
   ]
  },
  {
   "cell_type": "code",
   "execution_count": null,
   "id": "70a29d63",
   "metadata": {},
   "outputs": [],
   "source": []
  },
  {
   "cell_type": "code",
   "execution_count": null,
   "id": "8494d5d2",
   "metadata": {},
   "outputs": [],
   "source": []
  },
  {
   "cell_type": "code",
   "execution_count": null,
   "id": "4fb029f0",
   "metadata": {},
   "outputs": [],
   "source": []
  },
  {
   "cell_type": "code",
   "execution_count": null,
   "id": "32d95167",
   "metadata": {},
   "outputs": [],
   "source": []
  },
  {
   "cell_type": "code",
   "execution_count": null,
   "id": "3cd26d37",
   "metadata": {},
   "outputs": [],
   "source": []
  },
  {
   "cell_type": "code",
   "execution_count": null,
   "id": "00400eb5",
   "metadata": {},
   "outputs": [],
   "source": []
  },
  {
   "cell_type": "code",
   "execution_count": null,
   "id": "fe4124d4",
   "metadata": {},
   "outputs": [],
   "source": []
  },
  {
   "cell_type": "code",
   "execution_count": null,
   "id": "d3e9da31",
   "metadata": {},
   "outputs": [],
   "source": []
  },
  {
   "cell_type": "code",
   "execution_count": null,
   "id": "42be6586",
   "metadata": {},
   "outputs": [],
   "source": []
  },
  {
   "cell_type": "code",
   "execution_count": null,
   "id": "ecaad654",
   "metadata": {},
   "outputs": [],
   "source": [
    "class LA_Traffic_Model(nn.Module):\n",
    "    def __init__(self):\n",
    "        super().__init__()\n",
    "        self.lstm = nn.LSTM(input_size = 2, hidden_size = 11, num_layers = 1, batch_first=True)\n",
    "        self.linear  = nn.Linear(11, 2)\n",
    "    def forward(self, x):\n",
    "        #needs work. make x work with lstm and linear. Turn the 50x30 into a single dimension?\n",
    "        #needs to be able to pack and unpack nicely.\n",
    "        #x is a ... shape tensor. \n",
    "        x, _ = self.lstm(x)\n",
    "        x = self.linear(x)\n",
    "        return x"
   ]
  },
  {
   "cell_type": "code",
   "execution_count": null,
   "id": "4ca8672c",
   "metadata": {},
   "outputs": [],
   "source": [
    "model = LA_Traffic_Model()\n",
    "optimizer = optim.SGD(model.parameters(), lr = 0.001, momentum = 0.9)\n",
    "loss_fn = nn.CrossEntropyLoss()\n",
    "train_loader = dt.DataLoader(train, shuffle = True, batch_size = 8)\n",
    "classes = (0, 1)"
   ]
  },
  {
   "cell_type": "code",
   "execution_count": null,
   "id": "c0da9615",
   "metadata": {},
   "outputs": [],
   "source": [
    "X_batch1, y_batch1 = next(iter(train_loader))"
   ]
  },
  {
   "cell_type": "code",
   "execution_count": null,
   "id": "a103f3d5",
   "metadata": {},
   "outputs": [],
   "source": [
    "X_batch1.shape"
   ]
  },
  {
   "cell_type": "code",
   "execution_count": null,
   "id": "c8d89a6c",
   "metadata": {},
   "outputs": [],
   "source": [
    "y_batch1.shape"
   ]
  },
  {
   "cell_type": "code",
   "execution_count": null,
   "id": "548aff47",
   "metadata": {},
   "outputs": [],
   "source": [
    "X_batch1.device"
   ]
  },
  {
   "cell_type": "code",
   "execution_count": null,
   "id": "dba4af45",
   "metadata": {},
   "outputs": [],
   "source": [
    "X_batch1 = t.reshape(X_batch1, (8, 16500, 2))"
   ]
  },
  {
   "cell_type": "code",
   "execution_count": null,
   "id": "af4b900f",
   "metadata": {},
   "outputs": [],
   "source": [
    "X_batch1.shape"
   ]
  },
  {
   "cell_type": "code",
   "execution_count": null,
   "id": "d5c1afbc",
   "metadata": {},
   "outputs": [],
   "source": [
    "y_batch1 = t.reshape(y_batch1, (8, 1500, 2))"
   ]
  },
  {
   "cell_type": "code",
   "execution_count": null,
   "id": "6afde693",
   "metadata": {},
   "outputs": [],
   "source": [
    "y_batch1.shape"
   ]
  },
  {
   "cell_type": "code",
   "execution_count": null,
   "id": "135fc218",
   "metadata": {},
   "outputs": [],
   "source": [
    "model.cuda()\n",
    "y_pred = model(X_batch1.float())"
   ]
  },
  {
   "cell_type": "code",
   "execution_count": null,
   "id": "80167db2",
   "metadata": {},
   "outputs": [],
   "source": []
  },
  {
   "cell_type": "code",
   "execution_count": null,
   "id": "bfb52634",
   "metadata": {},
   "outputs": [],
   "source": [
    "# Training\n",
    "model.train()\n",
    "for X_batch, y_batch in train_loader:\n",
    "    y_pred = model(X_batch)\n",
    "    loss = loss_fn(y_pred, y_batch)\n",
    "    optimizer.zero_grad()\n",
    "    loss.backward()\n",
    "    optimizer.step()"
   ]
  },
  {
   "cell_type": "code",
   "execution_count": null,
   "id": "a0be1b86",
   "metadata": {},
   "outputs": [],
   "source": [
    "# Validation\n",
    "model.eval()\n",
    "with torch.no_grad():\n",
    "    y_pred = model(X_train)\n",
    "    train_CEL = loss_fn(y_pred, y_train)\n",
    "    y_pred = model(test[:,:,:,:,1:])\n",
    "    test_CEL = loss_fn(y_pred, test[:,:,:,:,0])\n",
    "print(\"Epoch %d: train CEL %.4f, test CEL %.4f\" % (epoch, train_CEL, test_CEL))"
   ]
  },
  {
   "cell_type": "code",
   "execution_count": null,
   "id": "06347cc2",
   "metadata": {},
   "outputs": [],
   "source": [
    "gc.collect()"
   ]
  },
  {
   "cell_type": "code",
   "execution_count": null,
   "id": "94df2d9d",
   "metadata": {},
   "outputs": [],
   "source": []
  },
  {
   "cell_type": "code",
   "execution_count": null,
   "id": "67058782",
   "metadata": {},
   "outputs": [],
   "source": []
  },
  {
   "cell_type": "code",
   "execution_count": null,
   "id": "5efbb407",
   "metadata": {},
   "outputs": [],
   "source": [
    "n_epochs = 2000\n",
    "for epoch in range(n_epochs):\n",
    "    model.train()\n",
    "    for X_batch, y_batch in train_loader:\n",
    "        y_pred = model(X_batch)\n",
    "        loss = loss_fn(y_pred, y_batch)\n",
    "        optimizer.zero_grad()\n",
    "        loss.backward()\n",
    "        optimizer.step()\n",
    "    # Validation\n",
    "    if epoch % 100 != 0:\n",
    "        continue\n",
    "    model.eval()\n",
    "    with torch.no_grad():\n",
    "        y_pred = model(X_train)\n",
    "        train_CEL = loss_fn(y_pred, y_train)\n",
    "        y_pred = model(test[:,:,:,:,1:])\n",
    "        test_CEL = loss_fn(y_pred, test[:,:,:,:,0])\n",
    "    print(\"Epoch %d: train CEL %.4f, test CEL %.4f\" % (epoch, train_CEL, test_CEL))\n",
    "    gc.collect()"
   ]
  },
  {
   "cell_type": "code",
   "execution_count": null,
   "id": "10c617b6",
   "metadata": {},
   "outputs": [],
   "source": []
  },
  {
   "cell_type": "code",
   "execution_count": null,
   "id": "4e16bad0",
   "metadata": {},
   "outputs": [],
   "source": []
  },
  {
   "cell_type": "code",
   "execution_count": null,
   "id": "aa4d3002",
   "metadata": {},
   "outputs": [],
   "source": []
  },
  {
   "cell_type": "code",
   "execution_count": null,
   "id": "6b6099f3",
   "metadata": {},
   "outputs": [],
   "source": []
  },
  {
   "cell_type": "code",
   "execution_count": null,
   "id": "f3c57571",
   "metadata": {},
   "outputs": [],
   "source": []
  },
  {
   "cell_type": "code",
   "execution_count": null,
   "id": "3e655e40",
   "metadata": {},
   "outputs": [],
   "source": []
  },
  {
   "cell_type": "code",
   "execution_count": null,
   "id": "e9d92a93",
   "metadata": {},
   "outputs": [],
   "source": []
  },
  {
   "cell_type": "code",
   "execution_count": null,
   "id": "c662466c",
   "metadata": {},
   "outputs": [],
   "source": []
  },
  {
   "cell_type": "code",
   "execution_count": null,
   "id": "9fa0773a",
   "metadata": {},
   "outputs": [],
   "source": []
  },
  {
   "cell_type": "code",
   "execution_count": null,
   "id": "e28752d0",
   "metadata": {},
   "outputs": [],
   "source": []
  },
  {
   "cell_type": "code",
   "execution_count": null,
   "id": "65282c37",
   "metadata": {},
   "outputs": [],
   "source": []
  },
  {
   "cell_type": "code",
   "execution_count": null,
   "id": "e73bbf00",
   "metadata": {},
   "outputs": [],
   "source": []
  },
  {
   "cell_type": "code",
   "execution_count": null,
   "id": "a903e9a7",
   "metadata": {},
   "outputs": [],
   "source": []
  },
  {
   "cell_type": "code",
   "execution_count": null,
   "id": "ad9bb212",
   "metadata": {},
   "outputs": [],
   "source": []
  },
  {
   "cell_type": "markdown",
   "id": "159f3b7d",
   "metadata": {},
   "source": [
    "### 6 Model2 <a id='6_Model2'>"
   ]
  },
  {
   "cell_type": "code",
   "execution_count": null,
   "id": "8b9b54d8",
   "metadata": {},
   "outputs": [],
   "source": [
    "class Model2(nn.Module):"
   ]
  },
  {
   "cell_type": "markdown",
   "id": "e9496d35",
   "metadata": {},
   "source": [
    "### 7 Model3 <a id='7_Model3'>"
   ]
  },
  {
   "cell_type": "code",
   "execution_count": null,
   "id": "522f487c",
   "metadata": {},
   "outputs": [],
   "source": [
    "class Model3(nn.Module):"
   ]
  },
  {
   "cell_type": "markdown",
   "id": "7962ced6",
   "metadata": {},
   "source": [
    "### 8 Best Model <a id='8_Best_Model'>"
   ]
  },
  {
   "cell_type": "code",
   "execution_count": null,
   "id": "1b522967",
   "metadata": {},
   "outputs": [],
   "source": [
    "class Model1(nn.Module):"
   ]
  },
  {
   "cell_type": "markdown",
   "id": "93595d4c",
   "metadata": {},
   "source": [
    "### Conclusion <a id='Conclusion'>"
   ]
  },
  {
   "cell_type": "markdown",
   "id": "b57980d1",
   "metadata": {},
   "source": [
    "The final model..."
   ]
  }
 ],
 "metadata": {
  "kernelspec": {
   "display_name": "Python 3 (ipykernel)",
   "language": "python",
   "name": "python3"
  },
  "language_info": {
   "codemirror_mode": {
    "name": "ipython",
    "version": 3
   },
   "file_extension": ".py",
   "mimetype": "text/x-python",
   "name": "python",
   "nbconvert_exporter": "python",
   "pygments_lexer": "ipython3",
   "version": "3.10.10"
  }
 },
 "nbformat": 4,
 "nbformat_minor": 5
}
