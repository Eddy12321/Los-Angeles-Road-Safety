{
 "cells": [
  {
   "cell_type": "markdown",
   "id": "53eb3a97",
   "metadata": {},
   "source": [
    "# Pre-Processing and Feature Engineering<a id='Pre-Processing_and_Feature_Engineering'></a>"
   ]
  },
  {
   "cell_type": "markdown",
   "id": "a553a4b4",
   "metadata": {},
   "source": [
    "### 1 Table of Contents<a id='Contents'></a>\n",
    "* [Pre-Processing and Feature Engineering](#Pre-Processing_and_Feature_Engineering)\n",
    "  * [1 Contents](#Contents)\n",
    "  * [2 Introduction](#2_Introduction)\n",
    "  * [3 Imports](#3_Imports)\n",
    "  * [4 Load Data](#4_Load_Data)\n",
    "  * [5 Creating the Tensor](#5_Creating_the_Tensor)\n",
    "  * [6 Split the Data](#6_Split_the_Data)\n",
    "  * [7 Saving as an H5PY File](#7_Saving_as_an_H5PY_File)\n",
    "  * [8 Creating Windowed Datasets](#8_Creating_Windowed_Datasets)\n",
    "  * [9 Conclusion](#9_Conclusion)"
   ]
  },
  {
   "cell_type": "markdown",
   "id": "9fb885e6",
   "metadata": {},
   "source": [
    "### 2 Introduction<a id='2_Introduction'>"
   ]
  },
  {
   "cell_type": "markdown",
   "id": "60918e16",
   "metadata": {},
   "source": [
    "In the last notebook, the spatial and temporal resolution that will be used for the tensors was decided. For spatial resolution, a 50x30 array will be used.  Traffic volume data was found from the Los Angeles Department of Transportation to be used as one of the tensor layers. The other layers will be made up of weather variables such as temperature, visibility, and cloud cover. The target is a 1 or 0 for each grid cell, representing whether an accident occured or not. \n",
    "\n",
    "In this notebook, we will build the complete tensor of weather, traffic, and collision data. The tensor will then be split into test and train sets and a baseline performance for the model will be determined."
   ]
  },
  {
   "cell_type": "markdown",
   "id": "d04975de",
   "metadata": {},
   "source": [
    "### 3 Imports<a id='3_Imports'>"
   ]
  },
  {
   "cell_type": "code",
   "execution_count": 1,
   "id": "571c0ab1",
   "metadata": {},
   "outputs": [],
   "source": [
    "import warnings\n",
    "warnings.simplefilter('ignore')\n",
    "import pandas as pd\n",
    "import numpy as np\n",
    "import h5py\n",
    "import torch as t\n",
    "import torch.utils.data as dt\n",
    "from sklearn.model_selection import train_test_split\n",
    "import gc\n",
    "from library.sb_utils import save_file\n",
    "import os\n",
    "import math\n",
    "import csv"
   ]
  },
  {
   "cell_type": "markdown",
   "id": "8e551dc2",
   "metadata": {},
   "source": [
    "### 4 Load Data<a id='4_Load_Data'>"
   ]
  },
  {
   "cell_type": "code",
   "execution_count": 2,
   "id": "8c7f4825",
   "metadata": {},
   "outputs": [],
   "source": [
    "LA_collisions = pd.read_csv('../Data/LA_collisions.csv', index_col = 'Unnamed: 0')\n",
    "LA_weather = pd.read_csv('../Data/LA_weather_cleaned.csv', index_col = 'Unnamed: 0')\n",
    "LA_traffic = pd.read_csv('../Data/LA_traffic.csv', index_col = 'Unnamed: 0')"
   ]
  },
  {
   "cell_type": "markdown",
   "id": "0ace474c",
   "metadata": {},
   "source": [
    "### 5 Creating the Tensor <a id='5_Creating_the_Tensor'>"
   ]
  },
  {
   "cell_type": "markdown",
   "id": "85d760ff",
   "metadata": {},
   "source": [
    "The unmerged dataframes will be used to fill the tensor, as the unmerged weather dataframe (which contains most of the input features) has complete hourly records of weather features dating back to 2006, the other input feature is the count data in the traffic dataframe, and the output feature is the presence of a collision in the collisions dataframe. First, to determine the columns in each of our dataframes"
   ]
  },
  {
   "cell_type": "code",
   "execution_count": 3,
   "id": "b9ab303c",
   "metadata": {},
   "outputs": [
    {
     "data": {
      "text/plain": [
       "Index(['primary_road', 'secondary_road', 'intersection', 'side_of_highway',\n",
       "       'severity', 'type', 'pedestrian', 'bicycle', 'motorcycle', 'truck',\n",
       "       'same_day_crashes', 'same_road_crashes', 'latitude', 'longitude',\n",
       "       'datetime'],\n",
       "      dtype='object')"
      ]
     },
     "execution_count": 3,
     "metadata": {},
     "output_type": "execute_result"
    }
   ],
   "source": [
    "LA_collisions.columns"
   ]
  },
  {
   "cell_type": "code",
   "execution_count": 4,
   "id": "2914e7ef",
   "metadata": {},
   "outputs": [
    {
     "data": {
      "text/plain": [
       "Index(['dt', 'temp', 'visibility', 'dew_point', 'temp_min', 'temp_max',\n",
       "       'pressure', 'humidity', 'wind_speed', 'wind_deg', 'wind_gust',\n",
       "       'rain_1h', 'rain_3h', 'clouds_all', 'datetime'],\n",
       "      dtype='object')"
      ]
     },
     "execution_count": 4,
     "metadata": {},
     "output_type": "execute_result"
    }
   ],
   "source": [
    "LA_weather.columns"
   ]
  },
  {
   "cell_type": "code",
   "execution_count": 5,
   "id": "918c614a",
   "metadata": {},
   "outputs": [
    {
     "data": {
      "text/plain": [
       "Index(['primary_road', 'secondary_road', 'lat', 'lon', 'Total'], dtype='object')"
      ]
     },
     "execution_count": 5,
     "metadata": {},
     "output_type": "execute_result"
    }
   ],
   "source": [
    "LA_traffic.columns"
   ]
  },
  {
   "cell_type": "markdown",
   "id": "444fd4a6",
   "metadata": {},
   "source": [
    "Before we start using the collisions coordinates to create our grid boundaries, we need to make sure there are no erroneous locations (which we've already seen in previous notebooks)"
   ]
  },
  {
   "cell_type": "code",
   "execution_count": 6,
   "id": "fac82ce5",
   "metadata": {},
   "outputs": [
    {
     "data": {
      "text/html": [
       "<div>\n",
       "<style scoped>\n",
       "    .dataframe tbody tr th:only-of-type {\n",
       "        vertical-align: middle;\n",
       "    }\n",
       "\n",
       "    .dataframe tbody tr th {\n",
       "        vertical-align: top;\n",
       "    }\n",
       "\n",
       "    .dataframe thead th {\n",
       "        text-align: right;\n",
       "    }\n",
       "</style>\n",
       "<table border=\"1\" class=\"dataframe\">\n",
       "  <thead>\n",
       "    <tr style=\"text-align: right;\">\n",
       "      <th></th>\n",
       "      <th>primary_road</th>\n",
       "      <th>secondary_road</th>\n",
       "      <th>intersection</th>\n",
       "      <th>side_of_highway</th>\n",
       "      <th>severity</th>\n",
       "      <th>type</th>\n",
       "      <th>pedestrian</th>\n",
       "      <th>bicycle</th>\n",
       "      <th>motorcycle</th>\n",
       "      <th>truck</th>\n",
       "      <th>same_day_crashes</th>\n",
       "      <th>same_road_crashes</th>\n",
       "      <th>latitude</th>\n",
       "      <th>longitude</th>\n",
       "      <th>datetime</th>\n",
       "    </tr>\n",
       "  </thead>\n",
       "  <tbody>\n",
       "  </tbody>\n",
       "</table>\n",
       "</div>"
      ],
      "text/plain": [
       "Empty DataFrame\n",
       "Columns: [primary_road, secondary_road, intersection, side_of_highway, severity, type, pedestrian, bicycle, motorcycle, truck, same_day_crashes, same_road_crashes, latitude, longitude, datetime]\n",
       "Index: []"
      ]
     },
     "execution_count": 6,
     "metadata": {},
     "output_type": "execute_result"
    }
   ],
   "source": [
    "LA_collisions[LA_collisions['latitude'] > 35]"
   ]
  },
  {
   "cell_type": "code",
   "execution_count": 7,
   "id": "9916709a",
   "metadata": {},
   "outputs": [
    {
     "data": {
      "text/html": [
       "<div>\n",
       "<style scoped>\n",
       "    .dataframe tbody tr th:only-of-type {\n",
       "        vertical-align: middle;\n",
       "    }\n",
       "\n",
       "    .dataframe tbody tr th {\n",
       "        vertical-align: top;\n",
       "    }\n",
       "\n",
       "    .dataframe thead th {\n",
       "        text-align: right;\n",
       "    }\n",
       "</style>\n",
       "<table border=\"1\" class=\"dataframe\">\n",
       "  <thead>\n",
       "    <tr style=\"text-align: right;\">\n",
       "      <th></th>\n",
       "      <th>primary_road</th>\n",
       "      <th>secondary_road</th>\n",
       "      <th>intersection</th>\n",
       "      <th>side_of_highway</th>\n",
       "      <th>severity</th>\n",
       "      <th>type</th>\n",
       "      <th>pedestrian</th>\n",
       "      <th>bicycle</th>\n",
       "      <th>motorcycle</th>\n",
       "      <th>truck</th>\n",
       "      <th>same_day_crashes</th>\n",
       "      <th>same_road_crashes</th>\n",
       "      <th>latitude</th>\n",
       "      <th>longitude</th>\n",
       "      <th>datetime</th>\n",
       "    </tr>\n",
       "  </thead>\n",
       "  <tbody>\n",
       "    <tr>\n",
       "      <th>300034</th>\n",
       "      <td>HOOVER</td>\n",
       "      <td>JEFFERSON</td>\n",
       "      <td>0.0</td>\n",
       "      <td>Not Available</td>\n",
       "      <td>Not Available</td>\n",
       "      <td>Not Available</td>\n",
       "      <td>0</td>\n",
       "      <td>0</td>\n",
       "      <td>0</td>\n",
       "      <td>0</td>\n",
       "      <td>0</td>\n",
       "      <td>0</td>\n",
       "      <td>0.0</td>\n",
       "      <td>0.0</td>\n",
       "      <td>2021-02-28 18:00:00</td>\n",
       "    </tr>\n",
       "    <tr>\n",
       "      <th>302523</th>\n",
       "      <td>RIVERSIDE</td>\n",
       "      <td>FULTON</td>\n",
       "      <td>0.0</td>\n",
       "      <td>Not Available</td>\n",
       "      <td>Not Available</td>\n",
       "      <td>Not Available</td>\n",
       "      <td>0</td>\n",
       "      <td>0</td>\n",
       "      <td>0</td>\n",
       "      <td>0</td>\n",
       "      <td>0</td>\n",
       "      <td>0</td>\n",
       "      <td>0.0</td>\n",
       "      <td>0.0</td>\n",
       "      <td>2020-04-16 18:00:00</td>\n",
       "    </tr>\n",
       "    <tr>\n",
       "      <th>302541</th>\n",
       "      <td>VENTURA                      BL</td>\n",
       "      <td>LA MAIDA                     ST</td>\n",
       "      <td>0.0</td>\n",
       "      <td>Not Available</td>\n",
       "      <td>Not Available</td>\n",
       "      <td>Not Available</td>\n",
       "      <td>0</td>\n",
       "      <td>0</td>\n",
       "      <td>0</td>\n",
       "      <td>0</td>\n",
       "      <td>0</td>\n",
       "      <td>0</td>\n",
       "      <td>0.0</td>\n",
       "      <td>0.0</td>\n",
       "      <td>2020-04-14 15:00:00</td>\n",
       "    </tr>\n",
       "    <tr>\n",
       "      <th>302566</th>\n",
       "      <td>VENTURA                      BL</td>\n",
       "      <td>DONNA                        AV</td>\n",
       "      <td>0.0</td>\n",
       "      <td>Not Available</td>\n",
       "      <td>Not Available</td>\n",
       "      <td>Not Available</td>\n",
       "      <td>0</td>\n",
       "      <td>0</td>\n",
       "      <td>0</td>\n",
       "      <td>0</td>\n",
       "      <td>0</td>\n",
       "      <td>0</td>\n",
       "      <td>0.0</td>\n",
       "      <td>0.0</td>\n",
       "      <td>2020-04-16 13:00:00</td>\n",
       "    </tr>\n",
       "    <tr>\n",
       "      <th>302671</th>\n",
       "      <td>VAN NUYS                     BL</td>\n",
       "      <td>HUSTON                       ST</td>\n",
       "      <td>0.0</td>\n",
       "      <td>Not Available</td>\n",
       "      <td>Not Available</td>\n",
       "      <td>Not Available</td>\n",
       "      <td>0</td>\n",
       "      <td>0</td>\n",
       "      <td>0</td>\n",
       "      <td>0</td>\n",
       "      <td>0</td>\n",
       "      <td>0</td>\n",
       "      <td>0.0</td>\n",
       "      <td>0.0</td>\n",
       "      <td>2020-04-16 15:00:00</td>\n",
       "    </tr>\n",
       "  </tbody>\n",
       "</table>\n",
       "</div>"
      ],
      "text/plain": [
       "                           primary_road                   secondary_road  \\\n",
       "300034                           HOOVER                        JEFFERSON   \n",
       "302523                        RIVERSIDE                           FULTON   \n",
       "302541  VENTURA                      BL  LA MAIDA                     ST   \n",
       "302566  VENTURA                      BL  DONNA                        AV   \n",
       "302671  VAN NUYS                     BL  HUSTON                       ST   \n",
       "\n",
       "        intersection side_of_highway       severity           type  \\\n",
       "300034           0.0   Not Available  Not Available  Not Available   \n",
       "302523           0.0   Not Available  Not Available  Not Available   \n",
       "302541           0.0   Not Available  Not Available  Not Available   \n",
       "302566           0.0   Not Available  Not Available  Not Available   \n",
       "302671           0.0   Not Available  Not Available  Not Available   \n",
       "\n",
       "        pedestrian  bicycle  motorcycle  truck  same_day_crashes  \\\n",
       "300034           0        0           0      0                 0   \n",
       "302523           0        0           0      0                 0   \n",
       "302541           0        0           0      0                 0   \n",
       "302566           0        0           0      0                 0   \n",
       "302671           0        0           0      0                 0   \n",
       "\n",
       "        same_road_crashes  latitude  longitude             datetime  \n",
       "300034                  0       0.0        0.0  2021-02-28 18:00:00  \n",
       "302523                  0       0.0        0.0  2020-04-16 18:00:00  \n",
       "302541                  0       0.0        0.0  2020-04-14 15:00:00  \n",
       "302566                  0       0.0        0.0  2020-04-16 13:00:00  \n",
       "302671                  0       0.0        0.0  2020-04-16 15:00:00  "
      ]
     },
     "execution_count": 7,
     "metadata": {},
     "output_type": "execute_result"
    }
   ],
   "source": [
    "LA_collisions[LA_collisions['latitude'] < 33].head(5)"
   ]
  },
  {
   "cell_type": "code",
   "execution_count": 8,
   "id": "69468ecf",
   "metadata": {},
   "outputs": [
    {
     "data": {
      "text/html": [
       "<div>\n",
       "<style scoped>\n",
       "    .dataframe tbody tr th:only-of-type {\n",
       "        vertical-align: middle;\n",
       "    }\n",
       "\n",
       "    .dataframe tbody tr th {\n",
       "        vertical-align: top;\n",
       "    }\n",
       "\n",
       "    .dataframe thead th {\n",
       "        text-align: right;\n",
       "    }\n",
       "</style>\n",
       "<table border=\"1\" class=\"dataframe\">\n",
       "  <thead>\n",
       "    <tr style=\"text-align: right;\">\n",
       "      <th></th>\n",
       "      <th>primary_road</th>\n",
       "      <th>secondary_road</th>\n",
       "      <th>intersection</th>\n",
       "      <th>side_of_highway</th>\n",
       "      <th>severity</th>\n",
       "      <th>type</th>\n",
       "      <th>pedestrian</th>\n",
       "      <th>bicycle</th>\n",
       "      <th>motorcycle</th>\n",
       "      <th>truck</th>\n",
       "      <th>same_day_crashes</th>\n",
       "      <th>same_road_crashes</th>\n",
       "      <th>latitude</th>\n",
       "      <th>longitude</th>\n",
       "      <th>datetime</th>\n",
       "    </tr>\n",
       "  </thead>\n",
       "  <tbody>\n",
       "  </tbody>\n",
       "</table>\n",
       "</div>"
      ],
      "text/plain": [
       "Empty DataFrame\n",
       "Columns: [primary_road, secondary_road, intersection, side_of_highway, severity, type, pedestrian, bicycle, motorcycle, truck, same_day_crashes, same_road_crashes, latitude, longitude, datetime]\n",
       "Index: []"
      ]
     },
     "execution_count": 8,
     "metadata": {},
     "output_type": "execute_result"
    }
   ],
   "source": [
    "LA_collisions[LA_collisions['longitude'] < -119]"
   ]
  },
  {
   "cell_type": "code",
   "execution_count": 9,
   "id": "dfc2aff3",
   "metadata": {},
   "outputs": [
    {
     "data": {
      "text/html": [
       "<div>\n",
       "<style scoped>\n",
       "    .dataframe tbody tr th:only-of-type {\n",
       "        vertical-align: middle;\n",
       "    }\n",
       "\n",
       "    .dataframe tbody tr th {\n",
       "        vertical-align: top;\n",
       "    }\n",
       "\n",
       "    .dataframe thead th {\n",
       "        text-align: right;\n",
       "    }\n",
       "</style>\n",
       "<table border=\"1\" class=\"dataframe\">\n",
       "  <thead>\n",
       "    <tr style=\"text-align: right;\">\n",
       "      <th></th>\n",
       "      <th>primary_road</th>\n",
       "      <th>secondary_road</th>\n",
       "      <th>intersection</th>\n",
       "      <th>side_of_highway</th>\n",
       "      <th>severity</th>\n",
       "      <th>type</th>\n",
       "      <th>pedestrian</th>\n",
       "      <th>bicycle</th>\n",
       "      <th>motorcycle</th>\n",
       "      <th>truck</th>\n",
       "      <th>same_day_crashes</th>\n",
       "      <th>same_road_crashes</th>\n",
       "      <th>latitude</th>\n",
       "      <th>longitude</th>\n",
       "      <th>datetime</th>\n",
       "    </tr>\n",
       "  </thead>\n",
       "  <tbody>\n",
       "    <tr>\n",
       "      <th>300034</th>\n",
       "      <td>HOOVER</td>\n",
       "      <td>JEFFERSON</td>\n",
       "      <td>0.0</td>\n",
       "      <td>Not Available</td>\n",
       "      <td>Not Available</td>\n",
       "      <td>Not Available</td>\n",
       "      <td>0</td>\n",
       "      <td>0</td>\n",
       "      <td>0</td>\n",
       "      <td>0</td>\n",
       "      <td>0</td>\n",
       "      <td>0</td>\n",
       "      <td>0.0</td>\n",
       "      <td>0.0</td>\n",
       "      <td>2021-02-28 18:00:00</td>\n",
       "    </tr>\n",
       "    <tr>\n",
       "      <th>302523</th>\n",
       "      <td>RIVERSIDE</td>\n",
       "      <td>FULTON</td>\n",
       "      <td>0.0</td>\n",
       "      <td>Not Available</td>\n",
       "      <td>Not Available</td>\n",
       "      <td>Not Available</td>\n",
       "      <td>0</td>\n",
       "      <td>0</td>\n",
       "      <td>0</td>\n",
       "      <td>0</td>\n",
       "      <td>0</td>\n",
       "      <td>0</td>\n",
       "      <td>0.0</td>\n",
       "      <td>0.0</td>\n",
       "      <td>2020-04-16 18:00:00</td>\n",
       "    </tr>\n",
       "    <tr>\n",
       "      <th>302541</th>\n",
       "      <td>VENTURA                      BL</td>\n",
       "      <td>LA MAIDA                     ST</td>\n",
       "      <td>0.0</td>\n",
       "      <td>Not Available</td>\n",
       "      <td>Not Available</td>\n",
       "      <td>Not Available</td>\n",
       "      <td>0</td>\n",
       "      <td>0</td>\n",
       "      <td>0</td>\n",
       "      <td>0</td>\n",
       "      <td>0</td>\n",
       "      <td>0</td>\n",
       "      <td>0.0</td>\n",
       "      <td>0.0</td>\n",
       "      <td>2020-04-14 15:00:00</td>\n",
       "    </tr>\n",
       "    <tr>\n",
       "      <th>302566</th>\n",
       "      <td>VENTURA                      BL</td>\n",
       "      <td>DONNA                        AV</td>\n",
       "      <td>0.0</td>\n",
       "      <td>Not Available</td>\n",
       "      <td>Not Available</td>\n",
       "      <td>Not Available</td>\n",
       "      <td>0</td>\n",
       "      <td>0</td>\n",
       "      <td>0</td>\n",
       "      <td>0</td>\n",
       "      <td>0</td>\n",
       "      <td>0</td>\n",
       "      <td>0.0</td>\n",
       "      <td>0.0</td>\n",
       "      <td>2020-04-16 13:00:00</td>\n",
       "    </tr>\n",
       "    <tr>\n",
       "      <th>302671</th>\n",
       "      <td>VAN NUYS                     BL</td>\n",
       "      <td>HUSTON                       ST</td>\n",
       "      <td>0.0</td>\n",
       "      <td>Not Available</td>\n",
       "      <td>Not Available</td>\n",
       "      <td>Not Available</td>\n",
       "      <td>0</td>\n",
       "      <td>0</td>\n",
       "      <td>0</td>\n",
       "      <td>0</td>\n",
       "      <td>0</td>\n",
       "      <td>0</td>\n",
       "      <td>0.0</td>\n",
       "      <td>0.0</td>\n",
       "      <td>2020-04-16 15:00:00</td>\n",
       "    </tr>\n",
       "  </tbody>\n",
       "</table>\n",
       "</div>"
      ],
      "text/plain": [
       "                           primary_road                   secondary_road  \\\n",
       "300034                           HOOVER                        JEFFERSON   \n",
       "302523                        RIVERSIDE                           FULTON   \n",
       "302541  VENTURA                      BL  LA MAIDA                     ST   \n",
       "302566  VENTURA                      BL  DONNA                        AV   \n",
       "302671  VAN NUYS                     BL  HUSTON                       ST   \n",
       "\n",
       "        intersection side_of_highway       severity           type  \\\n",
       "300034           0.0   Not Available  Not Available  Not Available   \n",
       "302523           0.0   Not Available  Not Available  Not Available   \n",
       "302541           0.0   Not Available  Not Available  Not Available   \n",
       "302566           0.0   Not Available  Not Available  Not Available   \n",
       "302671           0.0   Not Available  Not Available  Not Available   \n",
       "\n",
       "        pedestrian  bicycle  motorcycle  truck  same_day_crashes  \\\n",
       "300034           0        0           0      0                 0   \n",
       "302523           0        0           0      0                 0   \n",
       "302541           0        0           0      0                 0   \n",
       "302566           0        0           0      0                 0   \n",
       "302671           0        0           0      0                 0   \n",
       "\n",
       "        same_road_crashes  latitude  longitude             datetime  \n",
       "300034                  0       0.0        0.0  2021-02-28 18:00:00  \n",
       "302523                  0       0.0        0.0  2020-04-16 18:00:00  \n",
       "302541                  0       0.0        0.0  2020-04-14 15:00:00  \n",
       "302566                  0       0.0        0.0  2020-04-16 13:00:00  \n",
       "302671                  0       0.0        0.0  2020-04-16 15:00:00  "
      ]
     },
     "execution_count": 9,
     "metadata": {},
     "output_type": "execute_result"
    }
   ],
   "source": [
    "LA_collisions[LA_collisions['longitude'] > -117].head(5)"
   ]
  },
  {
   "cell_type": "markdown",
   "id": "a148d316",
   "metadata": {},
   "source": [
    "Looks like the erroneous locations are all at (0,0). We used the geocoding api quite a bit in the last notebook, so, in the interest of preserving cost, these rows will be dropped"
   ]
  },
  {
   "cell_type": "code",
   "execution_count": 10,
   "id": "afd0b7a0",
   "metadata": {},
   "outputs": [],
   "source": [
    "LA_collisions = LA_collisions[LA_collisions['latitude'] > 0]"
   ]
  },
  {
   "cell_type": "markdown",
   "id": "5706ea81",
   "metadata": {},
   "source": [
    "The factors that are important to the model are temp, visibility, dew point, pressure, humidity, wind speed, wind gust, rain 1h, rain 3h, and clouds all. Thats ten weather variables, the traffic flow data, and the target variable (collision or no collision) over time. To start, with a temporal resolution of 1 hour, how many frames will our data have?"
   ]
  },
  {
   "cell_type": "code",
   "execution_count": 11,
   "id": "5ee7a084",
   "metadata": {},
   "outputs": [],
   "source": [
    "LA_weather['datetime'] = pd.to_datetime(LA_weather['datetime'])\n",
    "LA_collisions['datetime'] = pd.to_datetime(LA_collisions['datetime'])"
   ]
  },
  {
   "cell_type": "code",
   "execution_count": 12,
   "id": "3d807fe6",
   "metadata": {},
   "outputs": [
    {
     "data": {
      "text/plain": [
       "Timestamp('2010-01-01 00:00:00')"
      ]
     },
     "execution_count": 12,
     "metadata": {},
     "output_type": "execute_result"
    }
   ],
   "source": [
    "LA_collisions.datetime.min()"
   ]
  },
  {
   "cell_type": "code",
   "execution_count": 13,
   "id": "9cf0db45",
   "metadata": {},
   "outputs": [
    {
     "data": {
      "text/plain": [
       "Timestamp('2023-02-04 08:00:00')"
      ]
     },
     "execution_count": 13,
     "metadata": {},
     "output_type": "execute_result"
    }
   ],
   "source": [
    "LA_collisions.datetime.max()"
   ]
  },
  {
   "cell_type": "code",
   "execution_count": 14,
   "id": "66268238",
   "metadata": {},
   "outputs": [
    {
     "data": {
      "text/plain": [
       "Timestamp('2006-12-31 16:00:00')"
      ]
     },
     "execution_count": 14,
     "metadata": {},
     "output_type": "execute_result"
    }
   ],
   "source": [
    "LA_weather.datetime.min()"
   ]
  },
  {
   "cell_type": "code",
   "execution_count": 15,
   "id": "ac345c5b",
   "metadata": {},
   "outputs": [
    {
     "data": {
      "text/plain": [
       "Timestamp('2021-12-31 15:00:00')"
      ]
     },
     "execution_count": 15,
     "metadata": {},
     "output_type": "execute_result"
    }
   ],
   "source": [
    "LA_weather.datetime.max()"
   ]
  },
  {
   "cell_type": "markdown",
   "id": "34d56559",
   "metadata": {},
   "source": [
    "The weather data starts earlier, but also ends sooner. Let's drop the extra rows from the two dataframes to make the times matchup."
   ]
  },
  {
   "cell_type": "code",
   "execution_count": 16,
   "id": "20e3a003",
   "metadata": {},
   "outputs": [],
   "source": [
    "LA_weather = LA_weather[LA_weather['datetime'] >= pd.to_datetime('2010-01-01 00:00:00')]\n",
    "LA_collisions = LA_collisions[LA_collisions['datetime'] <= pd.to_datetime('2021-12-31 15:00:00')]"
   ]
  },
  {
   "cell_type": "code",
   "execution_count": 17,
   "id": "cf9c2389",
   "metadata": {},
   "outputs": [],
   "source": [
    "LA_weather.sort_values('datetime', ignore_index = True, inplace = True)\n",
    "LA_collisions.sort_values('datetime', ignore_index = True, inplace = True)"
   ]
  },
  {
   "cell_type": "code",
   "execution_count": 18,
   "id": "0e68f65b",
   "metadata": {},
   "outputs": [
    {
     "data": {
      "text/plain": [
       "Timedelta('4382 days 15:00:00')"
      ]
     },
     "execution_count": 18,
     "metadata": {},
     "output_type": "execute_result"
    }
   ],
   "source": [
    "LA_weather.datetime.max() - LA_weather.datetime.min()"
   ]
  },
  {
   "cell_type": "code",
   "execution_count": 19,
   "id": "d0a08384",
   "metadata": {},
   "outputs": [
    {
     "data": {
      "text/plain": [
       "105183"
      ]
     },
     "execution_count": 19,
     "metadata": {},
     "output_type": "execute_result"
    }
   ],
   "source": [
    "(4382 * 24) + 15"
   ]
  },
  {
   "cell_type": "code",
   "execution_count": 20,
   "id": "873f8e82",
   "metadata": {},
   "outputs": [
    {
     "data": {
      "text/plain": [
       "103273"
      ]
     },
     "execution_count": 20,
     "metadata": {},
     "output_type": "execute_result"
    }
   ],
   "source": [
    "LA_weather.shape[0]"
   ]
  },
  {
   "cell_type": "markdown",
   "id": "4efc4472",
   "metadata": {},
   "source": [
    "There's going to be over 100,000 frames of data. However, there are obviously some missing times in our weather data, almost 2000. Let's see if we can input those missing times rows. The time will be handled first and the weather features can be handled after with .fillna"
   ]
  },
  {
   "cell_type": "code",
   "execution_count": 21,
   "id": "0b3a5128",
   "metadata": {
    "scrolled": true
   },
   "outputs": [],
   "source": [
    "for idx in range(1, 105184):\n",
    "    if ((LA_weather['datetime'][idx] - LA_weather['datetime'][idx - 1]) != pd.to_timedelta('0 days 01:00:00')):\n",
    "        idxs = np.split(LA_weather.index, [idx])\n",
    "        LA_weather.set_index(idxs[0].union(idxs[1] + 1), inplace = True)\n",
    "        LA_weather.loc[idx] = [np.NAN] * LA_weather.shape[1]\n",
    "        LA_weather['datetime'][idx] = LA_weather['datetime'][idx - 1] + pd.to_timedelta('01:00:00')\n",
    "        LA_weather.sort_values('datetime', ignore_index = True, inplace = True)"
   ]
  },
  {
   "cell_type": "markdown",
   "id": "f9cd129c",
   "metadata": {},
   "source": [
    "Now that the missing times are imputed, we can sort by the datetime and fill in the missing weather variables using pad or backfill."
   ]
  },
  {
   "cell_type": "code",
   "execution_count": 22,
   "id": "ea1c691d",
   "metadata": {},
   "outputs": [
    {
     "data": {
      "text/plain": [
       "dt            1911\n",
       "temp          1911\n",
       "visibility    1911\n",
       "dew_point     1911\n",
       "temp_min      1911\n",
       "temp_max      1911\n",
       "pressure      1911\n",
       "humidity      1911\n",
       "wind_speed    1911\n",
       "wind_deg      1911\n",
       "wind_gust     1911\n",
       "rain_1h       1911\n",
       "rain_3h       1911\n",
       "clouds_all    1911\n",
       "datetime         0\n",
       "dtype: int64"
      ]
     },
     "execution_count": 22,
     "metadata": {},
     "output_type": "execute_result"
    }
   ],
   "source": [
    "LA_weather.isna().sum()"
   ]
  },
  {
   "cell_type": "code",
   "execution_count": 23,
   "id": "8c0961cc",
   "metadata": {},
   "outputs": [],
   "source": [
    "LA_weather.sort_values('datetime', ignore_index = True, inplace = True)\n",
    "LA_weather.fillna(method = 'pad', inplace = True)"
   ]
  },
  {
   "cell_type": "code",
   "execution_count": 24,
   "id": "284c420e",
   "metadata": {},
   "outputs": [
    {
     "data": {
      "text/plain": [
       "dt            0\n",
       "temp          0\n",
       "visibility    0\n",
       "dew_point     0\n",
       "temp_min      0\n",
       "temp_max      0\n",
       "pressure      0\n",
       "humidity      0\n",
       "wind_speed    0\n",
       "wind_deg      0\n",
       "wind_gust     0\n",
       "rain_1h       0\n",
       "rain_3h       0\n",
       "clouds_all    0\n",
       "datetime      0\n",
       "dtype: int64"
      ]
     },
     "execution_count": 24,
     "metadata": {},
     "output_type": "execute_result"
    }
   ],
   "source": [
    "LA_weather.isna().sum()"
   ]
  },
  {
   "cell_type": "code",
   "execution_count": 25,
   "id": "ace51d5c",
   "metadata": {},
   "outputs": [
    {
     "data": {
      "text/plain": [
       "105184"
      ]
     },
     "execution_count": 25,
     "metadata": {},
     "output_type": "execute_result"
    }
   ],
   "source": [
    "LA_weather.shape[0]"
   ]
  },
  {
   "cell_type": "markdown",
   "id": "b4b2e02c",
   "metadata": {},
   "source": [
    "Now, just to make sure that the weather dataframe is sorted by the datetime"
   ]
  },
  {
   "cell_type": "code",
   "execution_count": 26,
   "id": "04654455",
   "metadata": {},
   "outputs": [],
   "source": [
    "LA_weather.sort_values('datetime', ignore_index = True, inplace = True)"
   ]
  },
  {
   "cell_type": "markdown",
   "id": "106d5a8b",
   "metadata": {},
   "source": [
    "We can now start creating the tensor. While the weather dataframe has a temporal component, it has no spatial component. The historical weather data was retrieved only for a single coordinate in the center of Los Angeles in order to preserve cost. That makes the nd-array creation much easier for those features. <br>\n",
    "The collisions dataframe and the weather dataframe have the same start and end datetime. This, and the fact that each time index represents one hour from the previous, means that to find the temporal index of the row in the collisions dataframe, we need only to subtract the minimum datetime from the corresponding datetime and record the number of hours. The latitude and longitude values can be found in the same way as the previous notebook."
   ]
  },
  {
   "cell_type": "code",
   "execution_count": 27,
   "id": "597284e7",
   "metadata": {},
   "outputs": [],
   "source": [
    "LA_grid = np.zeros((LA_weather.shape[0],50,30,12))"
   ]
  },
  {
   "cell_type": "code",
   "execution_count": 28,
   "id": "7dfdec12",
   "metadata": {},
   "outputs": [],
   "source": [
    "lats, lats_step = np.linspace(\n",
    "    LA_traffic['lat'].max(), LA_collisions['latitude'].min(), num = 50, retstep = True)\n",
    "lons, lons_step = np.linspace(\n",
    "    LA_traffic['lon'].min(), LA_collisions['longitude'].max(), num = 30, retstep = True)"
   ]
  },
  {
   "cell_type": "code",
   "execution_count": 29,
   "id": "b26c8429",
   "metadata": {},
   "outputs": [],
   "source": [
    "for idx in range(LA_weather.shape[0]):\n",
    "        LA_grid[idx,:,:,2] = LA_weather['temp'][idx]\n",
    "        LA_grid[idx,:,:,3] = LA_weather['visibility'][idx]\n",
    "        LA_grid[idx,:,:,4] = LA_weather['humidity'][idx]\n",
    "        LA_grid[idx,:,:,5] = LA_weather['rain_1h'][idx]\n",
    "        LA_grid[idx,:,:,6] = LA_weather['rain_3h'][idx]\n",
    "        LA_grid[idx,:,:,7] = LA_weather['clouds_all'][idx]\n",
    "        LA_grid[idx,:,:,8] = LA_weather['pressure'][idx]\n",
    "        LA_grid[idx,:,:,9] = LA_weather['wind_speed'][idx]\n",
    "        LA_grid[idx,:,:,10] = LA_weather['wind_gust'][idx]\n",
    "        LA_grid[idx,:,:,11] = LA_weather['dew_point'][idx]"
   ]
  },
  {
   "cell_type": "code",
   "execution_count": 30,
   "id": "de78fbeb",
   "metadata": {},
   "outputs": [],
   "source": [
    "lat_idxs = (LA_traffic['lat'] - LA_traffic['lat'].max()) / lats_step\n",
    "lon_idxs = (LA_traffic['lon'] - LA_traffic['lon'].min()) / lons_step\n",
    "for idx in range(lat_idxs.shape[0]):\n",
    "    lat_idx = abs(math.floor(lat_idxs.iloc[idx]))\n",
    "    lon_idx = abs(math.floor(lon_idxs.iloc[idx]))\n",
    "    LA_grid[:,lat_idx,lon_idx,1]  = LA_traffic['Total'][idx]"
   ]
  },
  {
   "cell_type": "code",
   "execution_count": 31,
   "id": "82302b21",
   "metadata": {},
   "outputs": [],
   "source": [
    "LA_collisions['lat_idxs'] = (LA_collisions['latitude'] - LA_traffic['lat'].max()) / lats_step\n",
    "LA_collisions['lon_idxs'] = (LA_collisions['longitude'] - LA_traffic['lon'].min()) / lons_step\n",
    "LA_collisions['time_idxs'] = (LA_collisions['datetime'] - LA_collisions['datetime'].min())\n",
    "LA_collisions['time_idxs'] = LA_collisions['time_idxs'].dt.components['days'] * 24 + LA_collisions['time_idxs'].dt.components['hours']\n",
    "for idx in range(LA_collisions.shape[0]):\n",
    "    lat_idx = abs(math.floor(LA_collisions['lat_idxs'][idx]))\n",
    "    lon_idx = abs(math.floor(LA_collisions['lon_idxs'][idx]))\n",
    "    time_idx = math.floor(LA_collisions['time_idxs'][idx])\n",
    "    LA_grid[time_idx,lat_idx,lon_idx,0] = 1"
   ]
  },
  {
   "cell_type": "code",
   "execution_count": 32,
   "id": "c7ae486d",
   "metadata": {},
   "outputs": [
    {
     "data": {
      "text/plain": [
       "(105184, 50, 30, 12)"
      ]
     },
     "execution_count": 32,
     "metadata": {},
     "output_type": "execute_result"
    }
   ],
   "source": [
    "LA_grid.shape"
   ]
  },
  {
   "cell_type": "markdown",
   "id": "d4ab01bb",
   "metadata": {},
   "source": [
    "It would be useful now to determine which, if any, grid cells never see a collision. If they don't see a collision then it might be useful to drop those cells from our graph. (This is possible in the next notebook when the grid is formatted for a GNN)"
   ]
  },
  {
   "cell_type": "code",
   "execution_count": 33,
   "id": "fc70a21b",
   "metadata": {},
   "outputs": [],
   "source": [
    "LA_grid = np.array(LA_grid)"
   ]
  },
  {
   "cell_type": "code",
   "execution_count": 34,
   "id": "01af641c",
   "metadata": {},
   "outputs": [],
   "source": [
    "collision_idxs = np.zeros(1500)"
   ]
  },
  {
   "cell_type": "code",
   "execution_count": 35,
   "id": "fb6444ec",
   "metadata": {},
   "outputs": [],
   "source": [
    "for idx0 in range(LA_grid.shape[0]):\n",
    "    for idx1 in range(LA_grid.shape[1]):\n",
    "        for idx2 in range(LA_grid.shape[2]):\n",
    "            if (LA_grid[idx0, idx1, idx2, 0] == 1):\n",
    "                collision_idxs[((idx1 * 30) + idx2)] += 1 "
   ]
  },
  {
   "cell_type": "code",
   "execution_count": 36,
   "id": "f78ccee0",
   "metadata": {},
   "outputs": [
    {
     "data": {
      "text/plain": [
       "(array([0.0000e+00, 1.0000e+00, 2.0000e+00, 3.0000e+00, 4.0000e+00,\n",
       "        5.0000e+00, 6.0000e+00, 7.0000e+00, 1.0000e+01, 1.1000e+01,\n",
       "        1.2000e+01, 1.3000e+01, 1.6000e+01, 1.7000e+01, 1.9000e+01,\n",
       "        3.2000e+01, 1.0500e+02, 1.1200e+02, 1.5100e+02, 1.6900e+02,\n",
       "        2.0300e+02, 2.1900e+02, 2.4400e+02, 3.3100e+02, 3.7000e+02,\n",
       "        4.6200e+02, 5.0400e+02, 5.8200e+02, 6.6100e+02, 7.5200e+02,\n",
       "        8.4200e+02, 9.5700e+02, 1.4680e+03, 1.4990e+03, 1.5780e+03,\n",
       "        1.5960e+03, 1.6670e+03, 2.0330e+03, 2.2480e+03, 2.2530e+03,\n",
       "        2.4440e+03, 2.6100e+03, 3.2350e+03, 3.5400e+03, 3.6040e+03,\n",
       "        3.6820e+03, 4.0280e+03, 4.1990e+03, 4.4740e+03, 4.5890e+03,\n",
       "        4.8960e+03, 4.9480e+03, 5.0400e+03, 5.8920e+03, 6.5490e+03,\n",
       "        6.5680e+03, 6.6160e+03, 6.7190e+03, 6.7710e+03, 6.7750e+03,\n",
       "        6.7890e+03, 7.1010e+03, 7.3100e+03, 7.6050e+03, 7.7690e+03,\n",
       "        7.7750e+03, 8.2040e+03, 8.3130e+03, 8.3430e+03, 8.4710e+03,\n",
       "        8.6880e+03, 9.1730e+03, 9.9550e+03, 1.0429e+04, 1.1645e+04,\n",
       "        1.2310e+04, 1.2527e+04, 1.2674e+04, 1.3404e+04, 1.3559e+04,\n",
       "        1.3620e+04, 1.3855e+04, 1.4923e+04, 1.5719e+04, 1.5881e+04,\n",
       "        1.6395e+04, 1.6805e+04, 1.7171e+04, 1.8548e+04, 1.8916e+04,\n",
       "        2.0885e+04, 2.5146e+04, 2.6133e+04, 2.8283e+04, 2.8564e+04,\n",
       "        3.2580e+04, 3.9441e+04, 4.2845e+04]),\n",
       " array([1384,   10,    6,    2,    3,    1,    2,    1,    1,    1,    1,\n",
       "           1,    1,    1,    2,    1,    1,    1,    1,    1,    1,    1,\n",
       "           1,    1,    1,    1,    1,    1,    1,    1,    1,    1,    1,\n",
       "           1,    1,    1,    1,    1,    1,    1,    1,    1,    1,    1,\n",
       "           1,    1,    1,    1,    1,    1,    1,    1,    1,    1,    1,\n",
       "           1,    1,    1,    1,    1,    1,    1,    1,    1,    1,    1,\n",
       "           1,    1,    1,    1,    1,    1,    1,    1,    1,    1,    1,\n",
       "           1,    1,    1,    1,    1,    1,    1,    1,    1,    1,    1,\n",
       "           1,    1,    1,    1,    1,    1,    1,    1,    1,    1],\n",
       "       dtype=int64))"
      ]
     },
     "execution_count": 36,
     "metadata": {},
     "output_type": "execute_result"
    }
   ],
   "source": [
    "np.unique(collision_idxs, return_counts = True)"
   ]
  },
  {
   "cell_type": "markdown",
   "id": "225f6046",
   "metadata": {},
   "source": [
    "Looks like 1384 of our grid cells never see a collision. This is expected since our grid is a rectangle, while the streets of LA are a much more organic shape. Let's get the indexes that never see an accident."
   ]
  },
  {
   "cell_type": "code",
   "execution_count": 37,
   "id": "75bffa97",
   "metadata": {},
   "outputs": [],
   "source": [
    "no_collisions = []\n",
    "for idx in range(collision_idxs.shape[0]):\n",
    "    if (collision_idxs[idx] == 0):\n",
    "        no_collisions.append(idx)"
   ]
  },
  {
   "cell_type": "code",
   "execution_count": 38,
   "id": "a57d6a45",
   "metadata": {},
   "outputs": [
    {
     "name": "stdout",
     "output_type": "stream",
     "text": [
      "Writing file.  \"../Data\\no_collision_indexes.csv\"\n"
     ]
    }
   ],
   "source": [
    "datapath = '../Data'\n",
    "save_file(pd.DataFrame(no_collisions), 'no_collision_indexes.csv', datapath)"
   ]
  },
  {
   "cell_type": "markdown",
   "id": "caaf4c7c",
   "metadata": {},
   "source": [
    "Now that all of the grids have been created, we can split the data into test and train data."
   ]
  },
  {
   "cell_type": "markdown",
   "id": "4c2de57e",
   "metadata": {},
   "source": [
    "### 6 Split the Data<a id='6_Split_the_Data'>"
   ]
  },
  {
   "cell_type": "markdown",
   "id": "ceda4341",
   "metadata": {},
   "source": [
    "It is expected that the temporal aspect of the data will be important to model performance. Specifically, we want the model to be able to predict the accidents occuring in the next hour based on the weather and traffic data at the time and the weather,traffic, and accident data at the current time. For this reason, a random split of the data will lose the temporal clarity that our model will need to make accurate predictions about the future. So, a single split will be made such that 75% of the data will make up the training data, consisting of data from the start date to the split date, and the remaining 25% of the date will be the test data, consisting of data from the split date to the end date. However, I also plan to run a spatial model without the temporal component. So, I will also perform a random split."
   ]
  },
  {
   "cell_type": "code",
   "execution_count": 39,
   "id": "812d3b60",
   "metadata": {},
   "outputs": [],
   "source": [
    "split_ind = math.floor(LA_grid.shape[0] * 0.75)\n",
    "LA_train_temporal = LA_grid[:split_ind,:,:,:]\n",
    "LA_test_temporal = LA_grid[split_ind:,:,:,:]"
   ]
  },
  {
   "cell_type": "code",
   "execution_count": 40,
   "id": "24214640",
   "metadata": {},
   "outputs": [
    {
     "data": {
      "text/plain": [
       "((78888, 50, 30, 12), (26296, 50, 30, 12))"
      ]
     },
     "execution_count": 40,
     "metadata": {},
     "output_type": "execute_result"
    }
   ],
   "source": [
    "LA_train_temporal.shape, LA_test_temporal.shape"
   ]
  },
  {
   "cell_type": "code",
   "execution_count": 41,
   "id": "75db0eff",
   "metadata": {},
   "outputs": [],
   "source": [
    "all_indices = list(range(LA_grid.shape[0]))\n",
    "train_ind, test_ind = train_test_split(all_indices, test_size=0.25)\n",
    "LA_train_random = LA_grid[train_ind,:,:,:]\n",
    "LA_test_random = LA_grid[test_ind,:,:,:]"
   ]
  },
  {
   "cell_type": "code",
   "execution_count": 42,
   "id": "1c1e7bc0",
   "metadata": {},
   "outputs": [
    {
     "data": {
      "text/plain": [
       "((78888, 50, 30, 12), (26296, 50, 30, 12))"
      ]
     },
     "execution_count": 42,
     "metadata": {},
     "output_type": "execute_result"
    }
   ],
   "source": [
    "LA_train_random.shape, LA_test_random.shape"
   ]
  },
  {
   "cell_type": "markdown",
   "id": "011c817d",
   "metadata": {},
   "source": [
    "### 7 Saving as an H5PY File <a id='7_Saving_as_an_H5PY_File'>"
   ]
  },
  {
   "cell_type": "markdown",
   "id": "92ac20d7",
   "metadata": {},
   "source": [
    "We can now store those arrays as datasets in h5py files. This will allow us to clear our memory of those datasets, which will make the next step possible, creating new datasets from windows of the old ones."
   ]
  },
  {
   "cell_type": "code",
   "execution_count": 43,
   "id": "65fbfa64",
   "metadata": {},
   "outputs": [],
   "source": [
    "LA_data_split_temporal = h5py.File('../Data/LA_data_split_temporal.hdf5','w-')"
   ]
  },
  {
   "cell_type": "code",
   "execution_count": 44,
   "id": "06a9b505",
   "metadata": {},
   "outputs": [],
   "source": [
    "LA_data_split_temporal.create_dataset('train', data = LA_train_temporal, chunks = (32,50,30,12), compression=\"gzip\");\n",
    "LA_data_split_temporal.create_dataset('test', data = LA_test_temporal, chunks = (32,50,30,12), compression=\"gzip\");"
   ]
  },
  {
   "cell_type": "code",
   "execution_count": 45,
   "id": "bc6a1778",
   "metadata": {},
   "outputs": [],
   "source": [
    "LA_data_split_temporal.close()"
   ]
  },
  {
   "cell_type": "code",
   "execution_count": 46,
   "id": "de35c8fa",
   "metadata": {},
   "outputs": [
    {
     "data": {
      "text/plain": [
       "18"
      ]
     },
     "execution_count": 46,
     "metadata": {},
     "output_type": "execute_result"
    }
   ],
   "source": [
    "del LA_train_temporal\n",
    "del LA_test_temporal\n",
    "gc.collect()"
   ]
  },
  {
   "cell_type": "code",
   "execution_count": 47,
   "id": "02d105cc",
   "metadata": {},
   "outputs": [],
   "source": [
    "LA_data_split_random = h5py.File('../Data/LA_data_split_random.hdf5','w-')"
   ]
  },
  {
   "cell_type": "code",
   "execution_count": 48,
   "id": "3b70f980",
   "metadata": {},
   "outputs": [],
   "source": [
    "LA_data_split_random.create_dataset('train', data = LA_train_random, chunks = (32,50,30,12), compression=\"gzip\");\n",
    "LA_data_split_random.create_dataset('test', data = LA_test_random, chunks = (32,50,30,12), compression=\"gzip\");"
   ]
  },
  {
   "cell_type": "code",
   "execution_count": 49,
   "id": "2bf68a80",
   "metadata": {},
   "outputs": [],
   "source": [
    "LA_data_split_random.close()"
   ]
  },
  {
   "cell_type": "code",
   "execution_count": 50,
   "id": "a0bc8ee7",
   "metadata": {},
   "outputs": [
    {
     "data": {
      "text/plain": [
       "0"
      ]
     },
     "execution_count": 50,
     "metadata": {},
     "output_type": "execute_result"
    }
   ],
   "source": [
    "del LA_train_random\n",
    "del LA_test_random\n",
    "del LA_grid\n",
    "gc.collect()"
   ]
  },
  {
   "cell_type": "markdown",
   "id": "7730b19c",
   "metadata": {},
   "source": [
    "### 8 Creating Windowed Datasets <a id='8_Creating_Windowed_Datasets'>"
   ]
  },
  {
   "cell_type": "markdown",
   "id": "de74422c",
   "metadata": {},
   "source": [
    "I am now going to create a windowed dataset using the H5PY file just created. The window will be of size 6 and will include only the collision information, no traffic or weather. After, I will make a new H5PY file for the windowed datasets, which will be used in the modeling notebook."
   ]
  },
  {
   "cell_type": "code",
   "execution_count": 51,
   "id": "b5888507",
   "metadata": {},
   "outputs": [],
   "source": [
    "LA_windowed_split = h5py.File('../Data/LA_windowed_split.hdf5','w-')"
   ]
  },
  {
   "cell_type": "code",
   "execution_count": 52,
   "id": "a2124346",
   "metadata": {},
   "outputs": [],
   "source": [
    "class H5dataset(dt.Dataset):\n",
    "    def __init__(self, h5_path, set_name):\n",
    "        self.h5 = h5py.File(h5_path, 'r')\n",
    "        self.set = self.h5[set_name]\n",
    "        self.chunk_dict = {}\n",
    "        for ch, sl in enumerate(self.set.iter_chunks()):\n",
    "            self.chunk_dict[ch] = sl\n",
    "        \n",
    "    def __len__(self):\n",
    "        return self.set.shape[0]\n",
    "    \n",
    "    def __getitem__(self, chunk, chunk_idx):\n",
    "        sample = self.set[self.chunk_dict[chunk]][chunk_idx,:,:,0]\n",
    "        return t.tensor(sample)\n",
    "    \n",
    "    def CLOSE(self):\n",
    "        self.h5.close()"
   ]
  },
  {
   "cell_type": "code",
   "execution_count": 53,
   "id": "9e48078a",
   "metadata": {},
   "outputs": [],
   "source": [
    "train_data = H5dataset('../Data/LA_data_split_temporal.hdf5', 'train')\n",
    "test_data = H5dataset('../Data/LA_data_split_temporal.hdf5', 'test')"
   ]
  },
  {
   "cell_type": "code",
   "execution_count": 54,
   "id": "bc007acf",
   "metadata": {},
   "outputs": [],
   "source": [
    "def get_window(dataset, start, end):\n",
    "    chunk = math.floor(start / 32)\n",
    "    chunk_idx = start%32\n",
    "    windows = []\n",
    "    for idx in range(start, end+1):\n",
    "        window = dataset.__getitem__(chunk, chunk_idx)\n",
    "        chunk_idx += 1\n",
    "        if (chunk_idx == 32):\n",
    "            chunk += 1\n",
    "            chunk_idx = 0\n",
    "        windows.append(window)\n",
    "    window_tensor = t.stack(windows)\n",
    "    return window_tensor"
   ]
  },
  {
   "cell_type": "code",
   "execution_count": 55,
   "id": "68a461b4",
   "metadata": {},
   "outputs": [],
   "source": [
    "def create_windowed_dataset(dataset, lookback):\n",
    "    windows = []\n",
    "    for i in range(len(dataset) - lookback):\n",
    "        window = get_window(dataset, i, i+lookback)\n",
    "        windows.append(window)\n",
    "    windowed_dataset = t.stack(windows)\n",
    "    return windowed_dataset"
   ]
  },
  {
   "cell_type": "code",
   "execution_count": 56,
   "id": "edb4d057",
   "metadata": {
    "scrolled": false
   },
   "outputs": [],
   "source": [
    "train_windowed = create_windowed_dataset(train_data, 5)"
   ]
  },
  {
   "cell_type": "code",
   "execution_count": 57,
   "id": "cbe061de",
   "metadata": {},
   "outputs": [
    {
     "data": {
      "text/plain": [
       "torch.Size([78883, 6, 50, 30])"
      ]
     },
     "execution_count": 57,
     "metadata": {},
     "output_type": "execute_result"
    }
   ],
   "source": [
    "train_windowed.shape"
   ]
  },
  {
   "cell_type": "code",
   "execution_count": 58,
   "id": "88867c6c",
   "metadata": {},
   "outputs": [],
   "source": [
    "LA_windowed_split.create_dataset('train_windowed', data = train_windowed, chunks = (32,6,50,30), compression=\"gzip\");"
   ]
  },
  {
   "cell_type": "code",
   "execution_count": 59,
   "id": "49c4c296",
   "metadata": {},
   "outputs": [],
   "source": [
    "train_data.CLOSE()"
   ]
  },
  {
   "cell_type": "code",
   "execution_count": 60,
   "id": "2e3e3224",
   "metadata": {},
   "outputs": [
    {
     "data": {
      "text/plain": [
       "0"
      ]
     },
     "execution_count": 60,
     "metadata": {},
     "output_type": "execute_result"
    }
   ],
   "source": [
    "del train_windowed\n",
    "del train_data\n",
    "gc.collect()"
   ]
  },
  {
   "cell_type": "code",
   "execution_count": 61,
   "id": "7a1cf1ee",
   "metadata": {},
   "outputs": [],
   "source": [
    "test_windowed = create_windowed_dataset(test_data, 5)"
   ]
  },
  {
   "cell_type": "code",
   "execution_count": 62,
   "id": "ecb61616",
   "metadata": {},
   "outputs": [
    {
     "data": {
      "text/plain": [
       "torch.Size([26291, 6, 50, 30])"
      ]
     },
     "execution_count": 62,
     "metadata": {},
     "output_type": "execute_result"
    }
   ],
   "source": [
    "test_windowed.shape"
   ]
  },
  {
   "cell_type": "code",
   "execution_count": 63,
   "id": "2b0965c1",
   "metadata": {},
   "outputs": [],
   "source": [
    "LA_windowed_split.create_dataset('test_windowed', data = test_windowed, chunks = (32,6,50,30), compression=\"gzip\");"
   ]
  },
  {
   "cell_type": "code",
   "execution_count": 64,
   "id": "0a540f0b",
   "metadata": {},
   "outputs": [],
   "source": [
    "test_data.CLOSE()"
   ]
  },
  {
   "cell_type": "code",
   "execution_count": 65,
   "id": "4f42629e",
   "metadata": {},
   "outputs": [
    {
     "data": {
      "text/plain": [
       "0"
      ]
     },
     "execution_count": 65,
     "metadata": {},
     "output_type": "execute_result"
    }
   ],
   "source": [
    "del test_windowed\n",
    "del test_data\n",
    "gc.collect()"
   ]
  },
  {
   "cell_type": "code",
   "execution_count": 66,
   "id": "a9b8b144",
   "metadata": {},
   "outputs": [],
   "source": [
    "LA_windowed_split.close()"
   ]
  },
  {
   "cell_type": "markdown",
   "id": "5cba8281",
   "metadata": {},
   "source": [
    "### 9 Conclusion<a id='9_Conclusion'>"
   ]
  },
  {
   "cell_type": "markdown",
   "id": "4b02e844",
   "metadata": {},
   "source": [
    "In this notebook, we created the tensor that will be used for modeling , split the data, and created an h5py file to hold that split data. The data was split 75/25. We then created windowed datasats for our train and test sets.. FInally, another H5PY file was created to hold the windowed datasets for use in modeling.\n",
    "\n",
    "We are now going to move into the modeling phase of the project in the following notebook."
   ]
  }
 ],
 "metadata": {
  "kernelspec": {
   "display_name": "Python 3 (ipykernel)",
   "language": "python",
   "name": "python3"
  },
  "language_info": {
   "codemirror_mode": {
    "name": "ipython",
    "version": 3
   },
   "file_extension": ".py",
   "mimetype": "text/x-python",
   "name": "python",
   "nbconvert_exporter": "python",
   "pygments_lexer": "ipython3",
   "version": "3.10.10"
  }
 },
 "nbformat": 4,
 "nbformat_minor": 5
}
