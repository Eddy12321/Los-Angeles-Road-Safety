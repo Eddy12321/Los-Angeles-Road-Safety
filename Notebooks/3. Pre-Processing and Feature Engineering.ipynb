{
 "cells": [
  {
   "cell_type": "markdown",
   "id": "53eb3a97",
   "metadata": {},
   "source": [
    "# Pre-Processing and Feature Engineering<a id='Pre-Processing_and_Feature_Engineering'></a>"
   ]
  },
  {
   "cell_type": "markdown",
   "id": "a553a4b4",
   "metadata": {},
   "source": [
    "### 1 Table of Contents<a id='Contents'></a>\n",
    "* [Pre-Processing and Feature Engineering](#Pre-Processing_and_Feature_Engineering)\n",
    "  * [1 Contents](#Contents)\n",
    "  * [2 Introduction](#2_Introduction)\n",
    "  * [3 Imports](#3_Imports)\n",
    "  * [4 Load Data](#4_Load_Data)\n",
    "  * [5 Creating the Tensors](#5_Creating_the_Tensors)\n",
    "  * [Save Data](#Save_Data)\n",
    "  * [Conclusion](#Conclusion)"
   ]
  },
  {
   "cell_type": "markdown",
   "id": "9fb885e6",
   "metadata": {},
   "source": [
    "### 2 Introduction<a id='2_Introduction'>"
   ]
  },
  {
   "cell_type": "markdown",
   "id": "60918e16",
   "metadata": {},
   "source": [
    "In the last notebook, the spatial and temporal resolution that will be used for the tensors was decided. For spatial resolution, a 30x30 grid will be used.  Traffic volume data was found from the Los Angeles Department of Transportation to be used as one of the tensor layers. The other layers will be made up of weather variables such as temperature, visibility, and cloud cover. The target is a 1 or 0 for each grid cell, representing whether an accident occured or not. \n",
    "\n",
    "In this notebook, the complete tensor relationship will be built using pytorch. The tensors will then be split into test and train sets and a baseline performance for the model will be determined."
   ]
  },
  {
   "cell_type": "markdown",
   "id": "d04975de",
   "metadata": {},
   "source": [
    "### 3 Imports<a id='3_Imports'>"
   ]
  },
  {
   "cell_type": "code",
   "execution_count": 2,
   "id": "571c0ab1",
   "metadata": {},
   "outputs": [],
   "source": [
    "import warnings\n",
    "warnings.simplefilter('ignore')\n",
    "import pandas as pd\n",
    "import seaborn as sns\n",
    "import numpy as np\n",
    "from sklearn.model_selection import train_test_split\n",
    "import requests\n",
    "import torch\n",
    "import googlemaps\n",
    "from library.sb_utils import save_file\n",
    "import os\n",
    "import math\n",
    "import csv"
   ]
  },
  {
   "cell_type": "markdown",
   "id": "8e551dc2",
   "metadata": {},
   "source": [
    "### 4 Load Data<a id='4_Load_Data'>"
   ]
  },
  {
   "cell_type": "code",
   "execution_count": 9,
   "id": "8c7f4825",
   "metadata": {},
   "outputs": [],
   "source": [
    "LA_data = pd.read_csv('../Data/LA_data.csv', index_col = 'Unnamed: 0')\n",
    "LA_traffic = pd.read_csv('../Data/LA_traffic.csv', index_col = 'Unnamed: 0')\n",
    "openWeather_api_key = pd.read_json('../credentials.json', typ='series')['openWeather_api_key']\n",
    "maps_api_key = pd.read_json('../credentials.json', typ='series')['maps_api_key']"
   ]
  },
  {
   "cell_type": "markdown",
   "id": "0ace474c",
   "metadata": {},
   "source": [
    "### 5 Creating the Tensors <a id='5_Creating_the_Tensors'>"
   ]
  },
  {
   "cell_type": "markdown",
   "id": "85d760ff",
   "metadata": {},
   "source": [
    "The tensors for the weather variables and the traffic flow will be created in the same way that the grids were created in the last notebook. However, this time, each tensor needs only to describe one hour of weather variables. The traffic data is static so that will be a single layer that is carried to each future tensor. First, to determine how many weather variables there are."
   ]
  },
  {
   "cell_type": "code",
   "execution_count": 10,
   "id": "b9ab303c",
   "metadata": {},
   "outputs": [
    {
     "data": {
      "text/plain": [
       "Index(['level_0', 'index', 'primary_road', 'secondary_road', 'intersection',\n",
       "       'side_of_highway', 'severity', 'type', 'pedestrian', 'bicycle',\n",
       "       'motorcycle', 'truck', 'same_day_crashes', 'same_road_crashes',\n",
       "       'latitude', 'longitude', 'datetime', 'temp', 'visibility', 'dew_point',\n",
       "       'temp_min', 'temp_max', 'pressure', 'humidity', 'wind_speed',\n",
       "       'wind_deg', 'wind_gust', 'rain_1h', 'rain_3h', 'clouds_all'],\n",
       "      dtype='object')"
      ]
     },
     "execution_count": 10,
     "metadata": {},
     "output_type": "execute_result"
    }
   ],
   "source": [
    "LA_data.columns"
   ]
  },
  {
   "cell_type": "markdown",
   "id": "5706ea81",
   "metadata": {},
   "source": [
    "The factors that are important to the model are temp, visibility, dew point, pressure, humidity, wind speed, wind gust, rain 1h, rain 3h, and clouds all. Thats ten weather variables, the traffic flow data, and the target variable (collision or no collision) over time. To start, with a temporal resolution of 1 hour, how many frames will our data have?"
   ]
  },
  {
   "cell_type": "code",
   "execution_count": 11,
   "id": "3d807fe6",
   "metadata": {},
   "outputs": [
    {
     "data": {
      "text/plain": [
       "'2010-01-01 00:00:00'"
      ]
     },
     "execution_count": 11,
     "metadata": {},
     "output_type": "execute_result"
    }
   ],
   "source": [
    "LA_data.datetime.min()"
   ]
  },
  {
   "cell_type": "code",
   "execution_count": 12,
   "id": "66268238",
   "metadata": {},
   "outputs": [
    {
     "data": {
      "text/plain": [
       "'2021-12-31 15:00:00'"
      ]
     },
     "execution_count": 12,
     "metadata": {},
     "output_type": "execute_result"
    }
   ],
   "source": [
    "LA_data.datetime.max()"
   ]
  },
  {
   "cell_type": "code",
   "execution_count": 14,
   "id": "4a6d6e61",
   "metadata": {},
   "outputs": [],
   "source": [
    "LA_data['datetime'] = pd.to_datetime(LA_data['datetime'])"
   ]
  },
  {
   "cell_type": "code",
   "execution_count": 15,
   "id": "b4ead853",
   "metadata": {},
   "outputs": [
    {
     "data": {
      "text/plain": [
       "Timedelta('4382 days 15:00:00')"
      ]
     },
     "execution_count": 15,
     "metadata": {},
     "output_type": "execute_result"
    }
   ],
   "source": [
    "LA_data.datetime.max() - LA_data.datetime.min()"
   ]
  },
  {
   "cell_type": "code",
   "execution_count": 16,
   "id": "423d6fef",
   "metadata": {},
   "outputs": [
    {
     "data": {
      "text/plain": [
       "105183"
      ]
     },
     "execution_count": 16,
     "metadata": {},
     "output_type": "execute_result"
    }
   ],
   "source": [
    "(4382 * 24) + 15"
   ]
  },
  {
   "cell_type": "markdown",
   "id": "4efc4472",
   "metadata": {},
   "source": [
    "There's going to be over 100,000 frames of data. To aide in the process of creating all of these frames, a function can be made to fill pytorch tensors, which will be used to model later."
   ]
  },
  {
   "cell_type": "code",
   "execution_count": null,
   "id": "2e68af2c",
   "metadata": {},
   "outputs": [],
   "source": [
    "def fillGrid(cols)\n",
    "    for idx0 in range(lat_idxs.shape[0]):\n",
    "        lat_idx = math.floor(lat_idxs.iloc[idx0])\n",
    "        lon_idx = math.floor(lon_idxs.iloc[idx0])\n",
    "        lat_lon_grid.iloc[lat_idx, lon_idx] += 1\n",
    "        "
   ]
  },
  {
   "cell_type": "code",
   "execution_count": null,
   "id": "c298dd15",
   "metadata": {},
   "outputs": [],
   "source": []
  },
  {
   "cell_type": "code",
   "execution_count": null,
   "id": "cc70e6aa",
   "metadata": {},
   "outputs": [],
   "source": []
  },
  {
   "cell_type": "code",
   "execution_count": null,
   "id": "a6a6711e",
   "metadata": {},
   "outputs": [],
   "source": []
  },
  {
   "cell_type": "code",
   "execution_count": null,
   "id": "577f2286",
   "metadata": {},
   "outputs": [],
   "source": []
  },
  {
   "cell_type": "code",
   "execution_count": null,
   "id": "f26effbe",
   "metadata": {},
   "outputs": [],
   "source": []
  },
  {
   "cell_type": "code",
   "execution_count": null,
   "id": "bb33c931",
   "metadata": {},
   "outputs": [],
   "source": []
  },
  {
   "cell_type": "code",
   "execution_count": null,
   "id": "6b12832f",
   "metadata": {},
   "outputs": [],
   "source": []
  },
  {
   "cell_type": "code",
   "execution_count": null,
   "id": "850d44df",
   "metadata": {},
   "outputs": [],
   "source": []
  },
  {
   "cell_type": "code",
   "execution_count": null,
   "id": "e0604de6",
   "metadata": {},
   "outputs": [],
   "source": []
  },
  {
   "cell_type": "code",
   "execution_count": null,
   "id": "2ef72bf9",
   "metadata": {},
   "outputs": [],
   "source": []
  },
  {
   "cell_type": "code",
   "execution_count": null,
   "id": "655e816d",
   "metadata": {},
   "outputs": [],
   "source": []
  },
  {
   "cell_type": "markdown",
   "id": "35265a31",
   "metadata": {},
   "source": [
    "### Save Data<a id='Save_Data'>"
   ]
  },
  {
   "cell_type": "code",
   "execution_count": null,
   "id": "c70c2f92",
   "metadata": {},
   "outputs": [],
   "source": []
  },
  {
   "cell_type": "markdown",
   "id": "7730b19c",
   "metadata": {},
   "source": [
    "### Conclusion<a id='Conclusion'>"
   ]
  },
  {
   "cell_type": "markdown",
   "id": "4b02e844",
   "metadata": {},
   "source": []
  }
 ],
 "metadata": {
  "kernelspec": {
   "display_name": "Python 3 (ipykernel)",
   "language": "python",
   "name": "python3"
  },
  "language_info": {
   "codemirror_mode": {
    "name": "ipython",
    "version": 3
   },
   "file_extension": ".py",
   "mimetype": "text/x-python",
   "name": "python",
   "nbconvert_exporter": "python",
   "pygments_lexer": "ipython3",
   "version": "3.9.12"
  }
 },
 "nbformat": 4,
 "nbformat_minor": 5
}
