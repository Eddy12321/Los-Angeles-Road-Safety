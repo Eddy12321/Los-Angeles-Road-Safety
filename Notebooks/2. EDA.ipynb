{
 "cells": [
  {
   "cell_type": "markdown",
   "id": "94e55284",
   "metadata": {},
   "source": [
    "# Exploratory Data Analysis<a id='Exploratory_Data_Analysis'></a>"
   ]
  },
  {
   "cell_type": "markdown",
   "id": "a553a4b4",
   "metadata": {},
   "source": [
    "### 1 Table of Contents<a id='Contents'></a>\n",
    "* [Exploratory Data Analysis](#Exploratory_Data_Analysis)\n",
    "  * [1 Contents](#Contents)\n",
    "  * [2 Introduction](#2_Introduction)\n",
    "  * [3 Imports](#3_Imports)\n",
    "  * [4 Load Data](#4_Load_Data)\n",
    "  * [5 Traffic Counts](#5_Traffic_Counts)\n",
    "      * [5.1 Geocoding](#5.1_Geocoding)\n",
    "      * [5.2 Mapping](#5.2_Mapping)\n",
    "      * [5.3 Counts](#5.3_Counts)\n",
    "  * [6 Explore](#6_Explore)\n",
    "  * [7 Target Feature](#7_Target_Feature)\n",
    "  * [8 Save Data](#8_Save_Data)\n",
    "  * [9 Conclusion](#9_Conclusion)"
   ]
  },
  {
   "cell_type": "markdown",
   "id": "9fb885e6",
   "metadata": {},
   "source": [
    "### 2 Introduction<a id='2_Introduction'>"
   ]
  },
  {
   "cell_type": "markdown",
   "id": "f0ad944c",
   "metadata": {},
   "source": [
    "In the last notebook, the data was cleaned and the weather and collision data was merged into a single dataframe. The Google Maps API and OpenWeather API were also investigated. The Google Maps API returns a number of routes with a varying number of steps in each route. The start and end coordinates are given for each step of each route. The OpenWeather API provides data that looks almost identical to the weather dataset from the last notebook. \n",
    "\n",
    "In this notebook, the different features will be investigated and compared. The goal for the end of this notebook is to have a good idea of the features that will feed into the model and what form those features should take."
   ]
  },
  {
   "cell_type": "markdown",
   "id": "d04975de",
   "metadata": {},
   "source": [
    "### 3 Imports<a id='3_Imports'>"
   ]
  },
  {
   "cell_type": "code",
   "execution_count": 1,
   "id": "c21d9b69",
   "metadata": {},
   "outputs": [],
   "source": [
    "import warnings\n",
    "warnings.simplefilter('ignore')\n",
    "import matplotlib.pyplot as plt\n",
    "import pandas as pd\n",
    "import seaborn as sns\n",
    "import numpy as np\n",
    "import pandas_profiling\n",
    "import requests\n",
    "import gmaps\n",
    "import googlemaps\n",
    "from library.sb_utils import save_file\n",
    "import os\n",
    "import math\n",
    "import csv"
   ]
  },
  {
   "cell_type": "markdown",
   "id": "8e551dc2",
   "metadata": {},
   "source": [
    "### 4 Load Data<a id='4_Load_Data'>"
   ]
  },
  {
   "cell_type": "markdown",
   "id": "e7715067",
   "metadata": {},
   "source": [
    "The data is stored in the LA_Data file, which is the merged set of weather and collisions"
   ]
  },
  {
   "cell_type": "code",
   "execution_count": 2,
   "id": "9962da69",
   "metadata": {},
   "outputs": [],
   "source": [
    "LA_data = pd.read_csv('../Data/LA_data.csv', index_col = 'Unnamed: 0')\n",
    "LA_traffic_counts = pd.read_csv('../Data/LA_traffic_counts.csv', index_col = 'Unnamed: 0')\n",
    "openWeather_api_key = pd.read_json('../credentials.json', typ='series')['openWeather_api_key']\n",
    "maps_api_key = pd.read_json('../credentials.json', typ='series')['maps_api_key']"
   ]
  },
  {
   "cell_type": "code",
   "execution_count": 3,
   "id": "72798063",
   "metadata": {},
   "outputs": [
    {
     "data": {
      "text/html": [
       "<div>\n",
       "<style scoped>\n",
       "    .dataframe tbody tr th:only-of-type {\n",
       "        vertical-align: middle;\n",
       "    }\n",
       "\n",
       "    .dataframe tbody tr th {\n",
       "        vertical-align: top;\n",
       "    }\n",
       "\n",
       "    .dataframe thead th {\n",
       "        text-align: right;\n",
       "    }\n",
       "</style>\n",
       "<table border=\"1\" class=\"dataframe\">\n",
       "  <thead>\n",
       "    <tr style=\"text-align: right;\">\n",
       "      <th></th>\n",
       "      <th>level_0</th>\n",
       "      <th>index</th>\n",
       "      <th>primary_road</th>\n",
       "      <th>secondary_road</th>\n",
       "      <th>intersection</th>\n",
       "      <th>side_of_highway</th>\n",
       "      <th>severity</th>\n",
       "      <th>type</th>\n",
       "      <th>pedestrian</th>\n",
       "      <th>bicycle</th>\n",
       "      <th>...</th>\n",
       "      <th>temp_min</th>\n",
       "      <th>temp_max</th>\n",
       "      <th>pressure</th>\n",
       "      <th>humidity</th>\n",
       "      <th>wind_speed</th>\n",
       "      <th>wind_deg</th>\n",
       "      <th>wind_gust</th>\n",
       "      <th>rain_1h</th>\n",
       "      <th>rain_3h</th>\n",
       "      <th>clouds_all</th>\n",
       "    </tr>\n",
       "  </thead>\n",
       "  <tbody>\n",
       "    <tr>\n",
       "      <th>0</th>\n",
       "      <td>0</td>\n",
       "      <td>0</td>\n",
       "      <td>CENTINELA AV</td>\n",
       "      <td>BEACH AV</td>\n",
       "      <td>0.0</td>\n",
       "      <td>Not Available</td>\n",
       "      <td>pain</td>\n",
       "      <td>broadside</td>\n",
       "      <td>0</td>\n",
       "      <td>0</td>\n",
       "      <td>...</td>\n",
       "      <td>20.21</td>\n",
       "      <td>32.14</td>\n",
       "      <td>1014</td>\n",
       "      <td>54</td>\n",
       "      <td>1.34</td>\n",
       "      <td>293</td>\n",
       "      <td>0.45</td>\n",
       "      <td>0.0</td>\n",
       "      <td>0.0</td>\n",
       "      <td>0</td>\n",
       "    </tr>\n",
       "    <tr>\n",
       "      <th>1</th>\n",
       "      <td>1</td>\n",
       "      <td>1</td>\n",
       "      <td>CRENSHAW                     BL</td>\n",
       "      <td>VERNON                       AV</td>\n",
       "      <td>0.0</td>\n",
       "      <td>Not Available</td>\n",
       "      <td>Not Available</td>\n",
       "      <td>Not Available</td>\n",
       "      <td>0</td>\n",
       "      <td>0</td>\n",
       "      <td>...</td>\n",
       "      <td>20.21</td>\n",
       "      <td>32.14</td>\n",
       "      <td>1014</td>\n",
       "      <td>54</td>\n",
       "      <td>1.34</td>\n",
       "      <td>293</td>\n",
       "      <td>0.45</td>\n",
       "      <td>0.0</td>\n",
       "      <td>0.0</td>\n",
       "      <td>0</td>\n",
       "    </tr>\n",
       "    <tr>\n",
       "      <th>2</th>\n",
       "      <td>2</td>\n",
       "      <td>2</td>\n",
       "      <td>MANCHESTER BLVD</td>\n",
       "      <td>11TH AV</td>\n",
       "      <td>1.0</td>\n",
       "      <td>Not Available</td>\n",
       "      <td>pain</td>\n",
       "      <td>broadside</td>\n",
       "      <td>0</td>\n",
       "      <td>0</td>\n",
       "      <td>...</td>\n",
       "      <td>19.10</td>\n",
       "      <td>31.11</td>\n",
       "      <td>1013</td>\n",
       "      <td>58</td>\n",
       "      <td>2.57</td>\n",
       "      <td>0</td>\n",
       "      <td>0.00</td>\n",
       "      <td>0.0</td>\n",
       "      <td>0.0</td>\n",
       "      <td>0</td>\n",
       "    </tr>\n",
       "    <tr>\n",
       "      <th>3</th>\n",
       "      <td>3</td>\n",
       "      <td>3</td>\n",
       "      <td>I-710 NORTHBOUND(LONG BEACH FREEWAY)</td>\n",
       "      <td>IMPERIAL HWY</td>\n",
       "      <td>0.0</td>\n",
       "      <td>Not Available</td>\n",
       "      <td>property damage only</td>\n",
       "      <td>rear end</td>\n",
       "      <td>0</td>\n",
       "      <td>0</td>\n",
       "      <td>...</td>\n",
       "      <td>19.10</td>\n",
       "      <td>31.11</td>\n",
       "      <td>1013</td>\n",
       "      <td>58</td>\n",
       "      <td>2.57</td>\n",
       "      <td>0</td>\n",
       "      <td>0.00</td>\n",
       "      <td>0.0</td>\n",
       "      <td>0.0</td>\n",
       "      <td>0</td>\n",
       "    </tr>\n",
       "    <tr>\n",
       "      <th>4</th>\n",
       "      <td>4</td>\n",
       "      <td>4</td>\n",
       "      <td>JEFFERSON</td>\n",
       "      <td>2ND                          AV</td>\n",
       "      <td>0.0</td>\n",
       "      <td>Not Available</td>\n",
       "      <td>Not Available</td>\n",
       "      <td>Not Available</td>\n",
       "      <td>0</td>\n",
       "      <td>0</td>\n",
       "      <td>...</td>\n",
       "      <td>19.10</td>\n",
       "      <td>31.11</td>\n",
       "      <td>1013</td>\n",
       "      <td>58</td>\n",
       "      <td>2.57</td>\n",
       "      <td>0</td>\n",
       "      <td>0.00</td>\n",
       "      <td>0.0</td>\n",
       "      <td>0.0</td>\n",
       "      <td>0</td>\n",
       "    </tr>\n",
       "  </tbody>\n",
       "</table>\n",
       "<p>5 rows × 30 columns</p>\n",
       "</div>"
      ],
      "text/plain": [
       "   level_0  index                          primary_road  \\\n",
       "0        0      0                          CENTINELA AV   \n",
       "1        1      1       CRENSHAW                     BL   \n",
       "2        2      2                       MANCHESTER BLVD   \n",
       "3        3      3  I-710 NORTHBOUND(LONG BEACH FREEWAY)   \n",
       "4        4      4                             JEFFERSON   \n",
       "\n",
       "                    secondary_road  intersection side_of_highway  \\\n",
       "0                         BEACH AV           0.0   Not Available   \n",
       "1  VERNON                       AV           0.0   Not Available   \n",
       "2                          11TH AV           1.0   Not Available   \n",
       "3                     IMPERIAL HWY           0.0   Not Available   \n",
       "4  2ND                          AV           0.0   Not Available   \n",
       "\n",
       "               severity           type  pedestrian  bicycle  ...  temp_min  \\\n",
       "0                  pain      broadside           0        0  ...     20.21   \n",
       "1         Not Available  Not Available           0        0  ...     20.21   \n",
       "2                  pain      broadside           0        0  ...     19.10   \n",
       "3  property damage only       rear end           0        0  ...     19.10   \n",
       "4         Not Available  Not Available           0        0  ...     19.10   \n",
       "\n",
       "   temp_max  pressure  humidity  wind_speed  wind_deg wind_gust  rain_1h  \\\n",
       "0     32.14      1014        54        1.34       293      0.45      0.0   \n",
       "1     32.14      1014        54        1.34       293      0.45      0.0   \n",
       "2     31.11      1013        58        2.57         0      0.00      0.0   \n",
       "3     31.11      1013        58        2.57         0      0.00      0.0   \n",
       "4     31.11      1013        58        2.57         0      0.00      0.0   \n",
       "\n",
       "   rain_3h  clouds_all  \n",
       "0      0.0           0  \n",
       "1      0.0           0  \n",
       "2      0.0           0  \n",
       "3      0.0           0  \n",
       "4      0.0           0  \n",
       "\n",
       "[5 rows x 30 columns]"
      ]
     },
     "execution_count": 3,
     "metadata": {},
     "output_type": "execute_result"
    }
   ],
   "source": [
    "LA_data.head()"
   ]
  },
  {
   "cell_type": "code",
   "execution_count": 4,
   "id": "ebf52bc4",
   "metadata": {},
   "outputs": [
    {
     "data": {
      "text/plain": [
       "Index(['level_0', 'index', 'primary_road', 'secondary_road', 'intersection',\n",
       "       'side_of_highway', 'severity', 'type', 'pedestrian', 'bicycle',\n",
       "       'motorcycle', 'truck', 'same_day_crashes', 'same_road_crashes',\n",
       "       'latitude', 'longitude', 'datetime', 'temp', 'visibility', 'dew_point',\n",
       "       'temp_min', 'temp_max', 'pressure', 'humidity', 'wind_speed',\n",
       "       'wind_deg', 'wind_gust', 'rain_1h', 'rain_3h', 'clouds_all'],\n",
       "      dtype='object')"
      ]
     },
     "execution_count": 4,
     "metadata": {},
     "output_type": "execute_result"
    }
   ],
   "source": [
    "LA_data.columns"
   ]
  },
  {
   "cell_type": "code",
   "execution_count": 5,
   "id": "a9d145c8",
   "metadata": {
    "scrolled": true
   },
   "outputs": [
    {
     "data": {
      "text/plain": [
       "(825506, 30)"
      ]
     },
     "execution_count": 5,
     "metadata": {},
     "output_type": "execute_result"
    }
   ],
   "source": [
    "LA_data.shape"
   ]
  },
  {
   "cell_type": "code",
   "execution_count": 6,
   "id": "cbabb3bd",
   "metadata": {},
   "outputs": [
    {
     "data": {
      "text/plain": [
       "0        -118.34786\n",
       "1        -118.33060\n",
       "2        -118.32868\n",
       "3        -118.17820\n",
       "4        -118.31890\n",
       "            ...    \n",
       "825501   -118.33860\n",
       "825502   -118.32880\n",
       "825503   -118.30330\n",
       "825504   -118.36660\n",
       "825505   -118.30900\n",
       "Name: longitude, Length: 825506, dtype: float64"
      ]
     },
     "execution_count": 6,
     "metadata": {},
     "output_type": "execute_result"
    }
   ],
   "source": [
    "LA_data['longitude']"
   ]
  },
  {
   "cell_type": "markdown",
   "id": "a5b43a05",
   "metadata": {},
   "source": [
    "### 5 Traffic Counts<a id='5_Traffic_Counts'>"
   ]
  },
  {
   "cell_type": "markdown",
   "id": "6551c18c",
   "metadata": {},
   "source": [
    "#### 5.1 Geocoding<a id='5.1_Geocoding'>"
   ]
  },
  {
   "cell_type": "markdown",
   "id": "b27349d6",
   "metadata": {},
   "source": [
    "The traffic count data that is available is only for a small number of streets, compared to the total number of streets. This data can be used, however, to infer information about the other streets"
   ]
  },
  {
   "cell_type": "code",
   "execution_count": 7,
   "id": "f8ba8969",
   "metadata": {},
   "outputs": [
    {
     "data": {
      "text/html": [
       "<div>\n",
       "<style scoped>\n",
       "    .dataframe tbody tr th:only-of-type {\n",
       "        vertical-align: middle;\n",
       "    }\n",
       "\n",
       "    .dataframe tbody tr th {\n",
       "        vertical-align: top;\n",
       "    }\n",
       "\n",
       "    .dataframe thead th {\n",
       "        text-align: right;\n",
       "    }\n",
       "</style>\n",
       "<table border=\"1\" class=\"dataframe\">\n",
       "  <thead>\n",
       "    <tr style=\"text-align: right;\">\n",
       "      <th></th>\n",
       "      <th>primary_road</th>\n",
       "      <th>secondary_road</th>\n",
       "      <th>Count Date</th>\n",
       "      <th>Total</th>\n",
       "    </tr>\n",
       "  </thead>\n",
       "  <tbody>\n",
       "    <tr>\n",
       "      <th>0</th>\n",
       "      <td>1 st ST</td>\n",
       "      <td>MC CADDEN PL</td>\n",
       "      <td>February 05 2013</td>\n",
       "      <td>1127.0</td>\n",
       "    </tr>\n",
       "    <tr>\n",
       "      <th>1</th>\n",
       "      <td>1 st ST</td>\n",
       "      <td>ALAMEDA ST</td>\n",
       "      <td>January 16 2014</td>\n",
       "      <td>18102.0</td>\n",
       "    </tr>\n",
       "    <tr>\n",
       "      <th>2</th>\n",
       "      <td>1 st ST</td>\n",
       "      <td>MAIN ST</td>\n",
       "      <td>March 27 2013</td>\n",
       "      <td>19032.0</td>\n",
       "    </tr>\n",
       "    <tr>\n",
       "      <th>3</th>\n",
       "      <td>1 st ST</td>\n",
       "      <td>SPRING ST</td>\n",
       "      <td>March 19 2013</td>\n",
       "      <td>19249.0</td>\n",
       "    </tr>\n",
       "    <tr>\n",
       "      <th>4</th>\n",
       "      <td>1 st ST</td>\n",
       "      <td>MAIN ST</td>\n",
       "      <td>November 08 2011</td>\n",
       "      <td>23897.0</td>\n",
       "    </tr>\n",
       "  </tbody>\n",
       "</table>\n",
       "</div>"
      ],
      "text/plain": [
       "  primary_road secondary_road        Count Date    Total\n",
       "0      1 st ST   MC CADDEN PL  February 05 2013   1127.0\n",
       "1      1 st ST     ALAMEDA ST   January 16 2014  18102.0\n",
       "2      1 st ST        MAIN ST     March 27 2013  19032.0\n",
       "3      1 st ST      SPRING ST     March 19 2013  19249.0\n",
       "4      1 st ST        MAIN ST  November 08 2011  23897.0"
      ]
     },
     "execution_count": 7,
     "metadata": {},
     "output_type": "execute_result"
    }
   ],
   "source": [
    "LA_traffic_counts.head()"
   ]
  },
  {
   "cell_type": "code",
   "execution_count": 8,
   "id": "bf673647",
   "metadata": {},
   "outputs": [
    {
     "data": {
      "text/plain": [
       "(5938, 4)"
      ]
     },
     "execution_count": 8,
     "metadata": {},
     "output_type": "execute_result"
    }
   ],
   "source": [
    "LA_traffic_counts.shape"
   ]
  },
  {
   "cell_type": "markdown",
   "id": "4c631f98",
   "metadata": {},
   "source": [
    "To start, latitude and longitude values are obtained for each location using the Google Maps Geocoding API using the primary and secondary road."
   ]
  },
  {
   "cell_type": "code",
   "execution_count": 9,
   "id": "d66dc668",
   "metadata": {},
   "outputs": [],
   "source": [
    "API_KEY = maps_api_key\n",
    "response = requests.get(\n",
    "    f'https://maps.googleapis.com/maps/api/geocode/json?address=1+st+ST+and+MC+CADDEN+PL,+Los+Angeles,+CA&key={API_KEY}')"
   ]
  },
  {
   "cell_type": "code",
   "execution_count": 10,
   "id": "64bca074",
   "metadata": {},
   "outputs": [],
   "source": [
    "lat = response.json()['results'][0]['geometry']['location']['lat']\n",
    "lon = response.json()['results'][0]['geometry']['location']['lng']"
   ]
  },
  {
   "cell_type": "code",
   "execution_count": 11,
   "id": "d64076f7",
   "metadata": {},
   "outputs": [
    {
     "name": "stdout",
     "output_type": "stream",
     "text": [
      "34.0736031\n",
      "-118.3372133\n"
     ]
    }
   ],
   "source": [
    "print(lat)\n",
    "print(lon)"
   ]
  },
  {
   "cell_type": "markdown",
   "id": "35ace6e9",
   "metadata": {},
   "source": [
    "Now, to do that for the entire dataframe. To not overuse the API, the duplicate intersections don't need to be requested. A seperate dataframe will be made for this purpose."
   ]
  },
  {
   "cell_type": "code",
   "execution_count": 12,
   "id": "815ed1de",
   "metadata": {},
   "outputs": [
    {
     "data": {
      "text/html": [
       "<div>\n",
       "<style scoped>\n",
       "    .dataframe tbody tr th:only-of-type {\n",
       "        vertical-align: middle;\n",
       "    }\n",
       "\n",
       "    .dataframe tbody tr th {\n",
       "        vertical-align: top;\n",
       "    }\n",
       "\n",
       "    .dataframe thead th {\n",
       "        text-align: right;\n",
       "    }\n",
       "</style>\n",
       "<table border=\"1\" class=\"dataframe\">\n",
       "  <thead>\n",
       "    <tr style=\"text-align: right;\">\n",
       "      <th></th>\n",
       "      <th>primary_road</th>\n",
       "      <th>secondary_road</th>\n",
       "    </tr>\n",
       "  </thead>\n",
       "  <tbody>\n",
       "    <tr>\n",
       "      <th>0</th>\n",
       "      <td>1 st ST</td>\n",
       "      <td>MC CADDEN PL</td>\n",
       "    </tr>\n",
       "    <tr>\n",
       "      <th>1</th>\n",
       "      <td>1 st ST</td>\n",
       "      <td>ALAMEDA ST</td>\n",
       "    </tr>\n",
       "    <tr>\n",
       "      <th>2</th>\n",
       "      <td>1 st ST</td>\n",
       "      <td>MAIN ST</td>\n",
       "    </tr>\n",
       "    <tr>\n",
       "      <th>3</th>\n",
       "      <td>1 st ST</td>\n",
       "      <td>SPRING ST</td>\n",
       "    </tr>\n",
       "    <tr>\n",
       "      <th>4</th>\n",
       "      <td>10 th AV</td>\n",
       "      <td>48 th ST</td>\n",
       "    </tr>\n",
       "  </tbody>\n",
       "</table>\n",
       "</div>"
      ],
      "text/plain": [
       "  primary_road secondary_road\n",
       "0      1 st ST   MC CADDEN PL\n",
       "1      1 st ST     ALAMEDA ST\n",
       "2      1 st ST        MAIN ST\n",
       "3      1 st ST      SPRING ST\n",
       "4     10 th AV       48 th ST"
      ]
     },
     "execution_count": 12,
     "metadata": {},
     "output_type": "execute_result"
    }
   ],
   "source": [
    "unique_intersections = LA_traffic_counts[['primary_road', 'secondary_road']].drop_duplicates(ignore_index = True)\n",
    "unique_intersections.head()"
   ]
  },
  {
   "cell_type": "code",
   "execution_count": 13,
   "id": "b895eee4",
   "metadata": {},
   "outputs": [],
   "source": [
    "API_KEY = maps_api_key\n",
    "def getCoords(p_road, s_road):\n",
    "    p_road = p_road.replace(' ', '+')\n",
    "    s_road = s_road.replace(' ', '+')\n",
    "    try:\n",
    "        response = requests.get(\n",
    "            f'https://maps.googleapis.com/maps/api/geocode/json?address={p_road}+and+{s_road},+Los+Angeles,+CA&key={API_KEY}')\n",
    "        coords = (response.json()['results'][0]['geometry']['location']['lat']\n",
    "                     , response.json()['results'][0]['geometry']['location']['lng'])\n",
    "    except:\n",
    "        return 'N/A'\n",
    "    else:\n",
    "        return coords"
   ]
  },
  {
   "cell_type": "code",
   "execution_count": 14,
   "id": "415acafc",
   "metadata": {},
   "outputs": [
    {
     "data": {
      "text/plain": [
       "(34.0736031, -118.3372133)"
      ]
     },
     "execution_count": 14,
     "metadata": {},
     "output_type": "execute_result"
    }
   ],
   "source": [
    "getCoords(unique_intersections['primary_road'][0], unique_intersections['secondary_road'][0])"
   ]
  },
  {
   "cell_type": "markdown",
   "id": "d01fde69",
   "metadata": {},
   "source": [
    "Now the coordinates can be obtained"
   ]
  },
  {
   "cell_type": "code",
   "execution_count": 15,
   "id": "096c4d28",
   "metadata": {},
   "outputs": [],
   "source": [
    "coords = [0] * unique_intersections.shape[0]\n",
    "for idx in range(unique_intersections.shape[0]):\n",
    "    coords[idx] = getCoords(unique_intersections['primary_road'][idx], unique_intersections['secondary_road'][idx])"
   ]
  },
  {
   "cell_type": "code",
   "execution_count": 16,
   "id": "56d65c93",
   "metadata": {
    "scrolled": true
   },
   "outputs": [],
   "source": [
    "unique_intersections['lat'], unique_intersections['lon'] = zip(*coords)"
   ]
  },
  {
   "cell_type": "code",
   "execution_count": 17,
   "id": "59fd816a",
   "metadata": {},
   "outputs": [
    {
     "data": {
      "text/html": [
       "<div>\n",
       "<style scoped>\n",
       "    .dataframe tbody tr th:only-of-type {\n",
       "        vertical-align: middle;\n",
       "    }\n",
       "\n",
       "    .dataframe tbody tr th {\n",
       "        vertical-align: top;\n",
       "    }\n",
       "\n",
       "    .dataframe thead th {\n",
       "        text-align: right;\n",
       "    }\n",
       "</style>\n",
       "<table border=\"1\" class=\"dataframe\">\n",
       "  <thead>\n",
       "    <tr style=\"text-align: right;\">\n",
       "      <th></th>\n",
       "      <th>primary_road</th>\n",
       "      <th>secondary_road</th>\n",
       "      <th>lat</th>\n",
       "      <th>lon</th>\n",
       "    </tr>\n",
       "  </thead>\n",
       "  <tbody>\n",
       "    <tr>\n",
       "      <th>0</th>\n",
       "      <td>1 st ST</td>\n",
       "      <td>MC CADDEN PL</td>\n",
       "      <td>34.073603</td>\n",
       "      <td>-118.337213</td>\n",
       "    </tr>\n",
       "    <tr>\n",
       "      <th>1</th>\n",
       "      <td>1 st ST</td>\n",
       "      <td>ALAMEDA ST</td>\n",
       "      <td>34.048943</td>\n",
       "      <td>-118.238117</td>\n",
       "    </tr>\n",
       "    <tr>\n",
       "      <th>2</th>\n",
       "      <td>1 st ST</td>\n",
       "      <td>MAIN ST</td>\n",
       "      <td>34.052239</td>\n",
       "      <td>-118.243398</td>\n",
       "    </tr>\n",
       "    <tr>\n",
       "      <th>3</th>\n",
       "      <td>1 st ST</td>\n",
       "      <td>SPRING ST</td>\n",
       "      <td>34.05294</td>\n",
       "      <td>-118.244467</td>\n",
       "    </tr>\n",
       "    <tr>\n",
       "      <th>4</th>\n",
       "      <td>10 th AV</td>\n",
       "      <td>48 th ST</td>\n",
       "      <td>34.000268</td>\n",
       "      <td>-118.258673</td>\n",
       "    </tr>\n",
       "  </tbody>\n",
       "</table>\n",
       "</div>"
      ],
      "text/plain": [
       "  primary_road secondary_road        lat         lon\n",
       "0      1 st ST   MC CADDEN PL  34.073603 -118.337213\n",
       "1      1 st ST     ALAMEDA ST  34.048943 -118.238117\n",
       "2      1 st ST        MAIN ST  34.052239 -118.243398\n",
       "3      1 st ST      SPRING ST   34.05294 -118.244467\n",
       "4     10 th AV       48 th ST  34.000268 -118.258673"
      ]
     },
     "execution_count": 17,
     "metadata": {},
     "output_type": "execute_result"
    }
   ],
   "source": [
    "unique_intersections.head()"
   ]
  },
  {
   "cell_type": "code",
   "execution_count": 18,
   "id": "b78ff768",
   "metadata": {},
   "outputs": [],
   "source": [
    "unique_intersections = unique_intersections[unique_intersections['lat'] != 'N']"
   ]
  },
  {
   "cell_type": "markdown",
   "id": "14006431",
   "metadata": {},
   "source": [
    "#### 5.2 Mapping<a id='5.2_Mapping'>"
   ]
  },
  {
   "cell_type": "code",
   "execution_count": 19,
   "id": "61f925b1",
   "metadata": {
    "scrolled": false
   },
   "outputs": [
    {
     "data": {
      "application/vnd.jupyter.widget-view+json": {
       "model_id": "0214b60f4d2e49bc93b5cbc39fa34a62",
       "version_major": 2,
       "version_minor": 0
      },
      "text/plain": [
       "Figure(layout=FigureLayout(height='420px'))"
      ]
     },
     "metadata": {},
     "output_type": "display_data"
    }
   ],
   "source": [
    "gmaps.configure(api_key = maps_api_key)\n",
    "LA_coords = (34.0522, -118.2437)\n",
    "fig = gmaps.figure(center = LA_coords, zoom_level = 10)\n",
    "fig.add_layer(gmaps.symbol_layer(unique_intersections[['lat','lon']]))\n",
    "fig"
   ]
  },
  {
   "cell_type": "markdown",
   "id": "01a2d23e",
   "metadata": {},
   "source": [
    "From the map above, The intersections that have traffic count data are pretty well spread out. This is great, as it allows for making assumptions about the rest of the intersections depending on the surrounding ones. As well, the traffic volume data covers generally the same area as the collision data."
   ]
  },
  {
   "cell_type": "markdown",
   "id": "7298dadd",
   "metadata": {},
   "source": [
    "#### 5.3 Counts<a id='5.3_Counts'>"
   ]
  },
  {
   "cell_type": "markdown",
   "id": "19cd117c",
   "metadata": {},
   "source": [
    "First, to get averages of traffic counts for each intersection dataframe. These averages can then be joined to the unique_intersections dataframe"
   ]
  },
  {
   "cell_type": "code",
   "execution_count": 20,
   "id": "8b6beab3",
   "metadata": {},
   "outputs": [
    {
     "data": {
      "text/plain": [
       "primary_road                secondary_road\n",
       "1 st ST                     ALAMEDA ST        18102.0\n",
       "                            MAIN ST           21464.5\n",
       "                            MC CADDEN PL       1127.0\n",
       "                            SPRING ST         19249.0\n",
       "10 FWY E/B ON AND OFF RAMP  PORTER ST          5645.0\n",
       "Name: Total, dtype: float64"
      ]
     },
     "execution_count": 20,
     "metadata": {},
     "output_type": "execute_result"
    }
   ],
   "source": [
    "intersection_avg = LA_traffic_counts.groupby(by = ['primary_road', 'secondary_road'])['Total'].mean()\n",
    "intersection_avg.head()"
   ]
  },
  {
   "cell_type": "code",
   "execution_count": 21,
   "id": "fd60be55",
   "metadata": {},
   "outputs": [
    {
     "data": {
      "text/html": [
       "<div>\n",
       "<style scoped>\n",
       "    .dataframe tbody tr th:only-of-type {\n",
       "        vertical-align: middle;\n",
       "    }\n",
       "\n",
       "    .dataframe tbody tr th {\n",
       "        vertical-align: top;\n",
       "    }\n",
       "\n",
       "    .dataframe thead th {\n",
       "        text-align: right;\n",
       "    }\n",
       "</style>\n",
       "<table border=\"1\" class=\"dataframe\">\n",
       "  <thead>\n",
       "    <tr style=\"text-align: right;\">\n",
       "      <th></th>\n",
       "      <th>primary_road</th>\n",
       "      <th>secondary_road</th>\n",
       "      <th>lat</th>\n",
       "      <th>lon</th>\n",
       "      <th>Total</th>\n",
       "    </tr>\n",
       "  </thead>\n",
       "  <tbody>\n",
       "    <tr>\n",
       "      <th>0</th>\n",
       "      <td>1 st ST</td>\n",
       "      <td>MC CADDEN PL</td>\n",
       "      <td>34.073603</td>\n",
       "      <td>-118.337213</td>\n",
       "      <td>1127.0</td>\n",
       "    </tr>\n",
       "    <tr>\n",
       "      <th>1</th>\n",
       "      <td>1 st ST</td>\n",
       "      <td>ALAMEDA ST</td>\n",
       "      <td>34.048943</td>\n",
       "      <td>-118.238117</td>\n",
       "      <td>18102.0</td>\n",
       "    </tr>\n",
       "    <tr>\n",
       "      <th>2</th>\n",
       "      <td>1 st ST</td>\n",
       "      <td>MAIN ST</td>\n",
       "      <td>34.052239</td>\n",
       "      <td>-118.243398</td>\n",
       "      <td>21464.5</td>\n",
       "    </tr>\n",
       "    <tr>\n",
       "      <th>3</th>\n",
       "      <td>1 st ST</td>\n",
       "      <td>SPRING ST</td>\n",
       "      <td>34.05294</td>\n",
       "      <td>-118.244467</td>\n",
       "      <td>19249.0</td>\n",
       "    </tr>\n",
       "    <tr>\n",
       "      <th>4</th>\n",
       "      <td>10 th AV</td>\n",
       "      <td>48 th ST</td>\n",
       "      <td>34.000268</td>\n",
       "      <td>-118.258673</td>\n",
       "      <td>643.0</td>\n",
       "    </tr>\n",
       "  </tbody>\n",
       "</table>\n",
       "</div>"
      ],
      "text/plain": [
       "  primary_road secondary_road        lat         lon    Total\n",
       "0      1 st ST   MC CADDEN PL  34.073603 -118.337213   1127.0\n",
       "1      1 st ST     ALAMEDA ST  34.048943 -118.238117  18102.0\n",
       "2      1 st ST        MAIN ST  34.052239 -118.243398  21464.5\n",
       "3      1 st ST      SPRING ST   34.05294 -118.244467  19249.0\n",
       "4     10 th AV       48 th ST  34.000268 -118.258673    643.0"
      ]
     },
     "execution_count": 21,
     "metadata": {},
     "output_type": "execute_result"
    }
   ],
   "source": [
    "LA_traffic = unique_intersections.merge(intersection_avg, on = ['primary_road', 'secondary_road'])\n",
    "LA_traffic.head()"
   ]
  },
  {
   "cell_type": "markdown",
   "id": "21e7399d",
   "metadata": {},
   "source": [
    "The above is a dataframe of all unique intersections and the corresponding average traffic counts. How about another map, but this time with a heatmap layer showing the average counts"
   ]
  },
  {
   "cell_type": "code",
   "execution_count": 22,
   "id": "7c061a1f",
   "metadata": {},
   "outputs": [
    {
     "data": {
      "application/vnd.jupyter.widget-view+json": {
       "model_id": "6d473fc7bfd8453e9f9dd29de109a3a1",
       "version_major": 2,
       "version_minor": 0
      },
      "text/plain": [
       "Figure(layout=FigureLayout(height='420px'))"
      ]
     },
     "metadata": {},
     "output_type": "display_data"
    }
   ],
   "source": [
    "gmaps.configure(api_key = maps_api_key)\n",
    "LA_coords = (34.0522, -118.2437)\n",
    "fig = gmaps.figure(center = LA_coords, zoom_level = 10)\n",
    "fig.add_layer(gmaps.heatmap_layer(LA_traffic[['lat','lon']], weights = LA_traffic['Total'], max_intensity = 250000))\n",
    "fig"
   ]
  },
  {
   "cell_type": "markdown",
   "id": "5c53d02d",
   "metadata": {},
   "source": [
    "As expected, traffic is heavier in the center of the city."
   ]
  },
  {
   "cell_type": "markdown",
   "id": "8cc15b93",
   "metadata": {},
   "source": [
    "### 6 Explore<a id='6_Explore'>"
   ]
  },
  {
   "cell_type": "markdown",
   "id": "35be5215",
   "metadata": {},
   "source": [
    "#### 6.1 Spatial Resolution<a id='6.1_Spatial_Resolution'>"
   ]
  },
  {
   "cell_type": "markdown",
   "id": "6b94e94d",
   "metadata": {},
   "source": [
    "The plan to model accidents across the city of Los Angeles requires both spatial and temporal slicing. To figure out the best spatial and temporal resolution, different slices are taken at varying resolutions and the resulting density of accidents is explored."
   ]
  },
  {
   "cell_type": "code",
   "execution_count": 23,
   "id": "e08b7b0b",
   "metadata": {},
   "outputs": [
    {
     "name": "stdout",
     "output_type": "stream",
     "text": [
      "33.5969319\n",
      "41.2033216\n",
      "-119.0987176\n",
      "-77.1945247\n"
     ]
    }
   ],
   "source": [
    "print(LA_traffic['lat'].min())\n",
    "print(LA_traffic['lat'].max())\n",
    "print(LA_traffic['lon'].min())\n",
    "print(LA_traffic['lon'].max())"
   ]
  },
  {
   "cell_type": "markdown",
   "id": "4442a0f3",
   "metadata": {},
   "source": [
    "That maximum longitude and latitude values are way off. What's the intersection?"
   ]
  },
  {
   "cell_type": "code",
   "execution_count": 24,
   "id": "403812c1",
   "metadata": {},
   "outputs": [
    {
     "data": {
      "text/html": [
       "<div>\n",
       "<style scoped>\n",
       "    .dataframe tbody tr th:only-of-type {\n",
       "        vertical-align: middle;\n",
       "    }\n",
       "\n",
       "    .dataframe tbody tr th {\n",
       "        vertical-align: top;\n",
       "    }\n",
       "\n",
       "    .dataframe thead th {\n",
       "        text-align: right;\n",
       "    }\n",
       "</style>\n",
       "<table border=\"1\" class=\"dataframe\">\n",
       "  <thead>\n",
       "    <tr style=\"text-align: right;\">\n",
       "      <th></th>\n",
       "      <th>primary_road</th>\n",
       "      <th>secondary_road</th>\n",
       "      <th>lat</th>\n",
       "      <th>lon</th>\n",
       "      <th>Total</th>\n",
       "    </tr>\n",
       "  </thead>\n",
       "  <tbody>\n",
       "    <tr>\n",
       "      <th>3853</th>\n",
       "      <td>PENNSYLVANIA AV / IOWA AV</td>\n",
       "      <td>CENTINELA AV</td>\n",
       "      <td>41.203322</td>\n",
       "      <td>-77.194525</td>\n",
       "      <td>1305.0</td>\n",
       "    </tr>\n",
       "  </tbody>\n",
       "</table>\n",
       "</div>"
      ],
      "text/plain": [
       "                   primary_road secondary_road        lat        lon   Total\n",
       "3853  PENNSYLVANIA AV / IOWA AV   CENTINELA AV  41.203322 -77.194525  1305.0"
      ]
     },
     "execution_count": 24,
     "metadata": {},
     "output_type": "execute_result"
    }
   ],
   "source": [
    "LA_traffic[LA_traffic['lon'] == -77.1945247]"
   ]
  },
  {
   "cell_type": "markdown",
   "id": "ba758a1c",
   "metadata": {},
   "source": [
    "The api must've gotten confused due to the double primary road. A google search reveals the true coordinates to be (34.034601, -118.463089)"
   ]
  },
  {
   "cell_type": "code",
   "execution_count": 25,
   "id": "19cd79ac",
   "metadata": {},
   "outputs": [],
   "source": [
    "LA_traffic.loc[LA_traffic.primary_road == 'PENNSYLVANIA AV / IOWA AV', 'lat'] = 34.034601\n",
    "LA_traffic.loc[LA_traffic.primary_road == 'PENNSYLVANIA AV / IOWA AV', 'lon'] = -118.463089"
   ]
  },
  {
   "cell_type": "code",
   "execution_count": 26,
   "id": "cb67037c",
   "metadata": {},
   "outputs": [
    {
     "name": "stdout",
     "output_type": "stream",
     "text": [
      "36.4135605\n",
      "-117.8825555\n"
     ]
    }
   ],
   "source": [
    "print(LA_traffic['lat'].max())\n",
    "print(LA_traffic['lon'].max())"
   ]
  },
  {
   "cell_type": "markdown",
   "id": "1a4514d7",
   "metadata": {},
   "source": [
    "These numbers make much more sense."
   ]
  },
  {
   "cell_type": "code",
   "execution_count": 27,
   "id": "7cde82a0",
   "metadata": {},
   "outputs": [
    {
     "name": "stdout",
     "output_type": "stream",
     "text": [
      "33.3427\n",
      "34.692\n",
      "-118.6673\n",
      "-117.7059\n"
     ]
    }
   ],
   "source": [
    "print(LA_data['latitude'].min())\n",
    "print(LA_data['latitude'].max())\n",
    "print(LA_data['longitude'].min())\n",
    "print(LA_data['longitude'].max())"
   ]
  },
  {
   "cell_type": "markdown",
   "id": "a697cf9f",
   "metadata": {},
   "source": [
    "(0, 0) is obviously wrong. How many rows have a latitude and longitude of 0"
   ]
  },
  {
   "cell_type": "code",
   "execution_count": 28,
   "id": "597c5219",
   "metadata": {},
   "outputs": [
    {
     "data": {
      "text/plain": [
       "(0, 30)"
      ]
     },
     "execution_count": 28,
     "metadata": {},
     "output_type": "execute_result"
    }
   ],
   "source": [
    "LA_data[LA_data.latitude == 0].shape"
   ]
  },
  {
   "cell_type": "markdown",
   "id": "cc2c626c",
   "metadata": {},
   "source": [
    "Not too many. Those rows will be dropped, as there is plenty of collision data already and using the geocoding api more will cost money."
   ]
  },
  {
   "cell_type": "code",
   "execution_count": 29,
   "id": "ee9e1659",
   "metadata": {},
   "outputs": [],
   "source": [
    "LA_data = LA_data[LA_data.latitude > 0]"
   ]
  },
  {
   "cell_type": "code",
   "execution_count": 32,
   "id": "ac2ed5b1",
   "metadata": {},
   "outputs": [
    {
     "name": "stdout",
     "output_type": "stream",
     "text": [
      "33.3427\n",
      "34.692\n",
      "-118.6673\n",
      "-117.7059\n"
     ]
    }
   ],
   "source": [
    "print(LA_data['latitude'].min())\n",
    "print(LA_data['latitude'].max())\n",
    "print(LA_data['longitude'].min())\n",
    "print(LA_data['longitude'].max())"
   ]
  },
  {
   "cell_type": "markdown",
   "id": "21099828",
   "metadata": {},
   "source": [
    "Now it's clear that the range is similar between the two datasets."
   ]
  },
  {
   "cell_type": "markdown",
   "id": "a1258461",
   "metadata": {},
   "source": [
    "Now, a dataframe can be made representing a grid of latitudes and longitudes, which can be filled with the count of accidents within each grid cell. The minimums and maximums from the collision dataset will be used as the bounds of our axes, as this range is bigger one. The area covered by this data is roughly 48 miles by 81 miles, so there should be about 1.7 times more rows than columns, in order to keep the grid cells approximately square. First, 100 steps will be used for the number of columns (longitudes). "
   ]
  },
  {
   "cell_type": "code",
   "execution_count": 33,
   "id": "f637053a",
   "metadata": {},
   "outputs": [],
   "source": [
    "lats, lats_step = np.linspace(LA_data['latitude'].max(), LA_data['latitude'].min(), num = math.floor(100 * (81/48)), retstep = True)\n",
    "lons, lons_step = np.linspace(LA_data['longitude'].min(), LA_data['longitude'].max(), num = 100, retstep = True)"
   ]
  },
  {
   "cell_type": "code",
   "execution_count": 34,
   "id": "a63b9499",
   "metadata": {},
   "outputs": [],
   "source": [
    "lat_lon_grid = pd.DataFrame(data = np.zeros((math.floor(100 * (81/48)),100)), index = lats, columns = lons)"
   ]
  },
  {
   "cell_type": "code",
   "execution_count": 35,
   "id": "9d18f418",
   "metadata": {
    "scrolled": true
   },
   "outputs": [],
   "source": [
    "lat_idxs = (LA_data['latitude'] - LA_data['latitude'].max()) / lats_step\n",
    "lon_idxs = (LA_data['longitude'] - LA_data['longitude'].min()) / lons_step"
   ]
  },
  {
   "cell_type": "code",
   "execution_count": 36,
   "id": "cde2797f",
   "metadata": {},
   "outputs": [],
   "source": [
    "for idx0 in range(lat_idxs.shape[0]):\n",
    "    lat_idx = math.floor(lat_idxs.iloc[idx0])\n",
    "    lon_idx = math.floor(lon_idxs.iloc[idx0])\n",
    "    lat_lon_grid.iloc[lat_idx, lon_idx] += 1"
   ]
  },
  {
   "cell_type": "code",
   "execution_count": 37,
   "id": "0b6337d1",
   "metadata": {},
   "outputs": [
    {
     "data": {
      "text/plain": [
       "14361"
      ]
     },
     "execution_count": 37,
     "metadata": {},
     "output_type": "execute_result"
    }
   ],
   "source": [
    "(lat_lon_grid == 0).sum().sum()"
   ]
  },
  {
   "cell_type": "code",
   "execution_count": 38,
   "id": "82d1e16a",
   "metadata": {},
   "outputs": [
    {
     "data": {
      "text/plain": [
       "85.48214285714286"
      ]
     },
     "execution_count": 38,
     "metadata": {},
     "output_type": "execute_result"
    }
   ],
   "source": [
    "(14361 / 16800) * 100"
   ]
  },
  {
   "cell_type": "markdown",
   "id": "18a7b49e",
   "metadata": {},
   "source": [
    "With a 168x100 grid, there are about 85 percent of cells that have never seen an accident. To find the best value, the previous method will be repeated multiple times and the percent of empty cells investigated for each resolution."
   ]
  },
  {
   "cell_type": "code",
   "execution_count": 39,
   "id": "5132687a",
   "metadata": {},
   "outputs": [],
   "source": [
    "def testResolution(numSamples):\n",
    "    lats, lats_step = np.linspace(\n",
    "        LA_data['latitude'].max(), LA_data['latitude'].min(), num = math.floor(numSamples * (81/48)), retstep = True)\n",
    "    lons, lons_step = np.linspace(\n",
    "        LA_data['longitude'].min(), LA_data['longitude'].max(), num = numSamples, retstep = True)\n",
    "    lat_lon_grid = pd.DataFrame(data = np.zeros((math.floor(numSamples * (81/48)),numSamples)), index = lats, columns = lons)\n",
    "    lat_idxs = (LA_data['latitude'] - LA_data['latitude'].max()) / lats_step\n",
    "    lon_idxs = (LA_data['longitude'] - LA_data['longitude'].min()) / lons_step\n",
    "    for idx0 in range(lat_idxs.shape[0]):\n",
    "        lat_idx = math.floor(lat_idxs.iloc[idx0])\n",
    "        lon_idx = math.floor(lon_idxs.iloc[idx0])\n",
    "        lat_lon_grid.iloc[lat_idx, lon_idx] += 1\n",
    "    percent_missing = ((lat_lon_grid == 0).sum().sum() / (lat_lon_grid.shape[0] * lat_lon_grid.shape[1])) * 100\n",
    "    return percent_missing"
   ]
  },
  {
   "cell_type": "code",
   "execution_count": 40,
   "id": "214478de",
   "metadata": {},
   "outputs": [],
   "source": [
    "resolutions = [5, 10, 15, 20, 25, 30, 40, 50, 60, 70, 80, 90, 100]\n",
    "percents_missing = []\n",
    "for i in resolutions:\n",
    "    percents_missing.append(testResolution(int(i)))"
   ]
  },
  {
   "cell_type": "code",
   "execution_count": 41,
   "id": "43a7a83e",
   "metadata": {},
   "outputs": [
    {
     "data": {
      "image/png": "[encoded data removed]",
      "text/plain": [
       "<Figure size 432x288 with 1 Axes>"
      ]
     },
     "metadata": {
      "needs_background": "light"
     },
     "output_type": "display_data"
    }
   ],
   "source": [
    "plt.plot(resolutions, percents_missing)\n",
    "plt.title('Percent Missing vs Axes Length (Resolution)')\n",
    "plt.ylabel('Percent Missing')\n",
    "plt.xlabel('Axes Length (Resolution)')\n",
    "plt.show()"
   ]
  },
  {
   "cell_type": "markdown",
   "id": "7cf300dd",
   "metadata": {},
   "source": [
    "As expected, the number of empty cells increases as the resolution increases. The graph start to level off at 30 columns, which is also means 50 columns  . However, the percent missing does increase by about another seven or eight percent above that resolutions, so 50x30 is a good trade off in resolution and data sparsity."
   ]
  },
  {
   "cell_type": "markdown",
   "id": "91355452",
   "metadata": {},
   "source": [
    "What about the traffic volume data?"
   ]
  },
  {
   "cell_type": "code",
   "execution_count": 42,
   "id": "476098de",
   "metadata": {},
   "outputs": [],
   "source": [
    "def testVolResolution(numSamples):\n",
    "    lats, lats_step = np.linspace(\n",
    "        LA_traffic['lat'].max(), LA_traffic['lat'].min(), num = math.floor(numSamples * (81/48)), retstep = True)\n",
    "    lons, lons_step = np.linspace(\n",
    "        LA_traffic['lon'].min(), LA_traffic['lon'].max(), num = numSamples, retstep = True)\n",
    "    lat_lon_grid = pd.DataFrame(data = np.zeros((math.floor(numSamples * (81/48)),numSamples)), index = lats, columns = lons)\n",
    "    lat_idxs = (LA_traffic['lat'] - LA_traffic['lat'].max()) / lats_step\n",
    "    lon_idxs = (LA_traffic['lon'] - LA_traffic['lon'].min()) / lons_step\n",
    "    for idx0 in range(lat_idxs.shape[0]):\n",
    "        lat_idx = math.floor(lat_idxs.iloc[idx0])\n",
    "        lon_idx = math.floor(lon_idxs.iloc[idx0])\n",
    "        lat_lon_grid.iloc[lat_idx, lon_idx] += 1\n",
    "    percent_missing = ((lat_lon_grid == 0).sum().sum() / (lat_lon_grid.shape[0] * lat_lon_grid.shape[1])) * 100\n",
    "    return percent_missing"
   ]
  },
  {
   "cell_type": "code",
   "execution_count": 43,
   "id": "3ab06be7",
   "metadata": {},
   "outputs": [],
   "source": [
    "resolutions = [5, 10, 15, 20, 25, 30, 40, 50, 60, 70]\n",
    "percents_missing = []\n",
    "for i in resolutions:\n",
    "    percents_missing.append(testVolResolution(int(i)))"
   ]
  },
  {
   "cell_type": "code",
   "execution_count": 44,
   "id": "19b55cf0",
   "metadata": {},
   "outputs": [
    {
     "data": {
      "image/png": "[encoded data removed]",
      "text/plain": [
       "<Figure size 432x288 with 1 Axes>"
      ]
     },
     "metadata": {
      "needs_background": "light"
     },
     "output_type": "display_data"
    }
   ],
   "source": [
    "plt.plot(resolutions, percents_missing)\n",
    "plt.title('Percent Missing vs Axes Length (Resolution)')\n",
    "plt.ylabel('Percent Missing')\n",
    "plt.xlabel('Axes Length (Resolution)')\n",
    "plt.show()"
   ]
  },
  {
   "cell_type": "markdown",
   "id": "b578e190",
   "metadata": {},
   "source": [
    "50x30 still seems like the best option for both resolution and sparsity, so that will be the final choice."
   ]
  },
  {
   "cell_type": "markdown",
   "id": "db621619",
   "metadata": {},
   "source": [
    "#### 6.2 Temporal Resolution<a id='6.2_Temporal_Resolution'>"
   ]
  },
  {
   "cell_type": "markdown",
   "id": "f14d14de",
   "metadata": {},
   "source": [
    "The traffic count dataframe does not have a time component, but the collision data does. What's the timeframe of the data?"
   ]
  },
  {
   "cell_type": "code",
   "execution_count": 45,
   "id": "35e4489d",
   "metadata": {},
   "outputs": [
    {
     "name": "stdout",
     "output_type": "stream",
     "text": [
      "2010-01-01 00:00:00\n",
      "2021-12-31 15:00:00\n"
     ]
    }
   ],
   "source": [
    "print(LA_data['datetime'].min())\n",
    "print(LA_data['datetime'].max())"
   ]
  },
  {
   "cell_type": "code",
   "execution_count": 46,
   "id": "6429fd12",
   "metadata": {
    "scrolled": false
   },
   "outputs": [],
   "source": [
    "LA_data['datetime'] = pd.to_datetime(LA_data['datetime'])"
   ]
  },
  {
   "cell_type": "code",
   "execution_count": 47,
   "id": "5afefea9",
   "metadata": {},
   "outputs": [],
   "source": [
    "diffs = []\n",
    "times = LA_data['datetime'].sort_values()\n",
    "for idx in range(1, LA_data.shape[0]):\n",
    "    diffs.append(times[idx] - times[idx - 1])"
   ]
  },
  {
   "cell_type": "code",
   "execution_count": 48,
   "id": "f86d0230",
   "metadata": {},
   "outputs": [
    {
     "data": {
      "text/plain": [
       "[Timedelta('0 days 00:00:00'),\n",
       " Timedelta('0 days 02:00:00'),\n",
       " Timedelta('0 days 00:00:00'),\n",
       " Timedelta('0 days 00:00:00'),\n",
       " Timedelta('-3 days +15:00:00'),\n",
       " Timedelta('0 days 00:00:00'),\n",
       " Timedelta('0 days 16:00:00'),\n",
       " Timedelta('0 days 00:00:00'),\n",
       " Timedelta('-1 days +10:00:00'),\n",
       " Timedelta('-2 days +22:00:00'),\n",
       " Timedelta('0 days 00:00:00'),\n",
       " Timedelta('0 days 00:00:00'),\n",
       " Timedelta('0 days 16:00:00'),\n",
       " Timedelta('0 days 00:00:00'),\n",
       " Timedelta('0 days 00:00:00'),\n",
       " Timedelta('0 days 00:00:00'),\n",
       " Timedelta('0 days 00:00:00'),\n",
       " Timedelta('-1 days +16:00:00'),\n",
       " Timedelta('0 days 00:00:00'),\n",
       " Timedelta('0 days 00:00:00'),\n",
       " Timedelta('-1 days +21:00:00'),\n",
       " Timedelta('0 days 00:00:00'),\n",
       " Timedelta('0 days 00:00:00'),\n",
       " Timedelta('0 days 00:00:00'),\n",
       " Timedelta('0 days 00:00:00'),\n",
       " Timedelta('0 days 04:00:00'),\n",
       " Timedelta('0 days 00:00:00'),\n",
       " Timedelta('0 days 00:00:00'),\n",
       " Timedelta('0 days 00:00:00'),\n",
       " Timedelta('0 days 00:00:00'),\n",
       " Timedelta('-2 days +11:00:00'),\n",
       " Timedelta('0 days 00:00:00'),\n",
       " Timedelta('0 days 00:00:00'),\n",
       " Timedelta('0 days 19:00:00'),\n",
       " Timedelta('0 days 00:00:00'),\n",
       " Timedelta('0 days 00:00:00'),\n",
       " Timedelta('0 days 00:00:00'),\n",
       " Timedelta('0 days 00:00:00'),\n",
       " Timedelta('0 days 00:00:00'),\n",
       " Timedelta('-1 days +03:00:00'),\n",
       " Timedelta('0 days 00:00:00'),\n",
       " Timedelta('0 days 14:00:00'),\n",
       " Timedelta('0 days 00:00:00'),\n",
       " Timedelta('0 days 00:00:00'),\n",
       " Timedelta('0 days 00:00:00'),\n",
       " Timedelta('-2 days +18:00:00'),\n",
       " Timedelta('0 days 00:00:00'),\n",
       " Timedelta('0 days 00:00:00'),\n",
       " Timedelta('0 days 00:00:00'),\n",
       " Timedelta('0 days 00:00:00'),\n",
       " Timedelta('0 days 04:00:00'),\n",
       " Timedelta('0 days 00:00:00'),\n",
       " Timedelta('0 days 00:00:00'),\n",
       " Timedelta('0 days 00:00:00'),\n",
       " Timedelta('0 days 04:00:00'),\n",
       " Timedelta('0 days 00:00:00'),\n",
       " Timedelta('0 days 00:00:00'),\n",
       " Timedelta('0 days 00:00:00'),\n",
       " Timedelta('0 days 00:00:00'),\n",
       " Timedelta('0 days 00:00:00'),\n",
       " Timedelta('0 days 00:00:00'),\n",
       " Timedelta('0 days 00:00:00'),\n",
       " Timedelta('-1 days +15:00:00'),\n",
       " Timedelta('0 days 02:00:00'),\n",
       " Timedelta('0 days 00:00:00'),\n",
       " Timedelta('0 days 00:00:00'),\n",
       " Timedelta('0 days 02:00:00'),\n",
       " Timedelta('0 days 00:00:00'),\n",
       " Timedelta('0 days 10:00:00'),\n",
       " Timedelta('0 days 00:00:00'),\n",
       " Timedelta('0 days 00:00:00'),\n",
       " Timedelta('0 days 00:00:00'),\n",
       " Timedelta('0 days 00:00:00'),\n",
       " Timedelta('-2 days +20:00:00'),\n",
       " Timedelta('0 days 00:00:00'),\n",
       " Timedelta('0 days 00:00:00'),\n",
       " Timedelta('0 days 00:00:00'),\n",
       " Timedelta('-1 days +12:00:00'),\n",
       " Timedelta('0 days 01:00:00'),\n",
       " Timedelta('0 days 00:00:00'),\n",
       " Timedelta('0 days 01:00:00'),\n",
       " Timedelta('0 days 00:00:00'),\n",
       " Timedelta('0 days 00:00:00'),\n",
       " Timedelta('0 days 00:00:00'),\n",
       " Timedelta('0 days 00:00:00'),\n",
       " Timedelta('0 days 02:00:00'),\n",
       " Timedelta('0 days 00:00:00'),\n",
       " Timedelta('0 days 00:00:00'),\n",
       " Timedelta('0 days 00:00:00'),\n",
       " Timedelta('0 days 00:00:00'),\n",
       " Timedelta('0 days 06:00:00'),\n",
       " Timedelta('0 days 00:00:00'),\n",
       " Timedelta('0 days 03:00:00'),\n",
       " Timedelta('0 days 00:00:00'),\n",
       " Timedelta('-1 days +07:00:00'),\n",
       " Timedelta('0 days 07:00:00'),\n",
       " Timedelta('-2 days +21:00:00'),\n",
       " Timedelta('0 days 00:00:00'),\n",
       " Timedelta('0 days 00:00:00'),\n",
       " Timedelta('0 days 00:00:00'),\n",
       " Timedelta('0 days 00:00:00'),\n",
       " Timedelta('0 days 00:00:00'),\n",
       " Timedelta('0 days 08:00:00'),\n",
       " Timedelta('0 days 00:00:00'),\n",
       " Timedelta('0 days 00:00:00'),\n",
       " Timedelta('0 days 00:00:00'),\n",
       " Timedelta('0 days 00:00:00'),\n",
       " Timedelta('0 days 00:00:00'),\n",
       " Timedelta('0 days 03:00:00'),\n",
       " Timedelta('0 days 00:00:00'),\n",
       " Timedelta('0 days 00:00:00'),\n",
       " Timedelta('0 days 00:00:00'),\n",
       " Timedelta('0 days 00:00:00'),\n",
       " Timedelta('0 days 00:00:00'),\n",
       " Timedelta('0 days 00:00:00'),\n",
       " Timedelta('0 days 01:00:00'),\n",
       " Timedelta('0 days 00:00:00'),\n",
       " Timedelta('-1 days +08:00:00'),\n",
       " Timedelta('0 days 03:00:00'),\n",
       " Timedelta('0 days 00:00:00'),\n",
       " Timedelta('0 days 03:00:00'),\n",
       " Timedelta('0 days 00:00:00'),\n",
       " Timedelta('0 days 00:00:00'),\n",
       " Timedelta('0 days 00:00:00'),\n",
       " Timedelta('0 days 00:00:00'),\n",
       " Timedelta('0 days 05:00:00'),\n",
       " Timedelta('0 days 00:00:00'),\n",
       " Timedelta('-1 days +12:00:00'),\n",
       " Timedelta('0 days 00:00:00'),\n",
       " Timedelta('0 days 06:00:00'),\n",
       " Timedelta('0 days 00:00:00'),\n",
       " Timedelta('0 days 00:00:00'),\n",
       " Timedelta('0 days 05:00:00'),\n",
       " Timedelta('0 days 00:00:00'),\n",
       " Timedelta('0 days 03:00:00'),\n",
       " Timedelta('0 days 00:00:00'),\n",
       " Timedelta('0 days 00:00:00'),\n",
       " Timedelta('0 days 00:00:00'),\n",
       " Timedelta('0 days 01:00:00'),\n",
       " Timedelta('0 days 00:00:00'),\n",
       " Timedelta('0 days 00:00:00'),\n",
       " Timedelta('0 days 00:00:00'),\n",
       " Timedelta('0 days 05:00:00'),\n",
       " Timedelta('0 days 03:00:00'),\n",
       " Timedelta('0 days 00:00:00'),\n",
       " Timedelta('0 days 00:00:00'),\n",
       " Timedelta('-2 days +06:00:00'),\n",
       " Timedelta('0 days 00:00:00'),\n",
       " Timedelta('0 days 01:00:00'),\n",
       " Timedelta('0 days 00:00:00'),\n",
       " Timedelta('0 days 00:00:00'),\n",
       " Timedelta('0 days 00:00:00'),\n",
       " Timedelta('0 days 00:00:00'),\n",
       " Timedelta('0 days 05:00:00'),\n",
       " Timedelta('0 days 00:00:00'),\n",
       " Timedelta('0 days 00:00:00'),\n",
       " Timedelta('0 days 00:00:00'),\n",
       " Timedelta('0 days 00:00:00'),\n",
       " Timedelta('0 days 00:00:00'),\n",
       " Timedelta('0 days 00:00:00'),\n",
       " Timedelta('0 days 00:00:00'),\n",
       " Timedelta('0 days 00:00:00'),\n",
       " Timedelta('0 days 01:00:00'),\n",
       " Timedelta('0 days 00:00:00'),\n",
       " Timedelta('0 days 00:00:00'),\n",
       " Timedelta('0 days 00:00:00'),\n",
       " Timedelta('0 days 00:00:00'),\n",
       " Timedelta('0 days 03:00:00'),\n",
       " Timedelta('0 days 00:00:00'),\n",
       " Timedelta('0 days 00:00:00'),\n",
       " Timedelta('-1 days +23:00:00'),\n",
       " Timedelta('0 days 00:00:00'),\n",
       " Timedelta('0 days 00:00:00'),\n",
       " Timedelta('0 days 00:00:00'),\n",
       " Timedelta('-1 days +09:00:00'),\n",
       " Timedelta('0 days 00:00:00'),\n",
       " Timedelta('0 days 00:00:00'),\n",
       " Timedelta('0 days 00:00:00'),\n",
       " Timedelta('0 days 00:00:00'),\n",
       " Timedelta('0 days 11:00:00'),\n",
       " Timedelta('0 days 00:00:00'),\n",
       " Timedelta('0 days 00:00:00'),\n",
       " Timedelta('0 days 08:00:00'),\n",
       " Timedelta('0 days 00:00:00'),\n",
       " Timedelta('0 days 00:00:00'),\n",
       " Timedelta('0 days 00:00:00'),\n",
       " Timedelta('-1 days +15:00:00'),\n",
       " Timedelta('0 days 00:00:00'),\n",
       " Timedelta('0 days 00:00:00'),\n",
       " Timedelta('0 days 00:00:00'),\n",
       " Timedelta('0 days 10:00:00'),\n",
       " Timedelta('0 days 00:00:00'),\n",
       " Timedelta('0 days 00:00:00'),\n",
       " Timedelta('0 days 00:00:00'),\n",
       " Timedelta('-1 days +18:00:00'),\n",
       " Timedelta('0 days 00:00:00'),\n",
       " Timedelta('0 days 00:00:00'),\n",
       " Timedelta('0 days 03:00:00'),\n",
       " Timedelta('0 days 01:00:00'),\n",
       " Timedelta('0 days 00:00:00'),\n",
       " Timedelta('0 days 00:00:00'),\n",
       " Timedelta('0 days 00:00:00'),\n",
       " Timedelta('0 days 04:00:00'),\n",
       " Timedelta('0 days 00:00:00'),\n",
       " Timedelta('-1 days +10:00:00'),\n",
       " Timedelta('0 days 00:00:00'),\n",
       " Timedelta('0 days 00:00:00'),\n",
       " Timedelta('0 days 00:00:00'),\n",
       " Timedelta('0 days 01:00:00'),\n",
       " Timedelta('0 days 00:00:00'),\n",
       " Timedelta('0 days 00:00:00'),\n",
       " Timedelta('-1 days +19:00:00'),\n",
       " Timedelta('0 days 00:00:00'),\n",
       " Timedelta('-1 days +09:00:00'),\n",
       " Timedelta('0 days 00:00:00'),\n",
       " Timedelta('0 days 03:00:00'),\n",
       " Timedelta('0 days 07:00:00'),\n",
       " Timedelta('0 days 00:00:00'),\n",
       " Timedelta('0 days 00:00:00'),\n",
       " Timedelta('-1 days +05:00:00'),\n",
       " Timedelta('0 days 00:00:00'),\n",
       " Timedelta('0 days 00:00:00'),\n",
       " Timedelta('0 days 03:00:00'),\n",
       " Timedelta('0 days 11:00:00'),\n",
       " Timedelta('0 days 00:00:00'),\n",
       " Timedelta('0 days 00:00:00'),\n",
       " Timedelta('-1 days +20:00:00'),\n",
       " Timedelta('0 days 00:00:00'),\n",
       " Timedelta('0 days 00:00:00'),\n",
       " Timedelta('0 days 00:00:00'),\n",
       " Timedelta('0 days 00:00:00'),\n",
       " Timedelta('-1 days +15:00:00'),\n",
       " Timedelta('0 days 00:00:00'),\n",
       " Timedelta('0 days 10:00:00'),\n",
       " Timedelta('0 days 00:00:00'),\n",
       " Timedelta('0 days 00:00:00'),\n",
       " Timedelta('0 days 00:00:00'),\n",
       " Timedelta('0 days 00:00:00'),\n",
       " Timedelta('0 days 00:00:00'),\n",
       " Timedelta('0 days 07:00:00'),\n",
       " Timedelta('0 days 00:00:00'),\n",
       " Timedelta('0 days 00:00:00'),\n",
       " Timedelta('0 days 00:00:00'),\n",
       " Timedelta('0 days 00:00:00'),\n",
       " Timedelta('0 days 00:00:00'),\n",
       " Timedelta('0 days 00:00:00'),\n",
       " Timedelta('0 days 00:00:00'),\n",
       " Timedelta('-1 days +13:00:00'),\n",
       " Timedelta('-1 days +13:00:00'),\n",
       " Timedelta('0 days 00:00:00'),\n",
       " Timedelta('0 days 00:00:00'),\n",
       " Timedelta('0 days 19:00:00'),\n",
       " Timedelta('0 days 00:00:00'),\n",
       " Timedelta('0 days 00:00:00'),\n",
       " Timedelta('0 days 00:00:00'),\n",
       " Timedelta('0 days 00:00:00'),\n",
       " Timedelta('0 days 01:00:00'),\n",
       " Timedelta('0 days 00:00:00'),\n",
       " Timedelta('0 days 00:00:00'),\n",
       " Timedelta('0 days 00:00:00'),\n",
       " Timedelta('0 days 00:00:00'),\n",
       " Timedelta('0 days 00:00:00'),\n",
       " Timedelta('0 days 01:00:00'),\n",
       " Timedelta('0 days 00:00:00'),\n",
       " Timedelta('0 days 00:00:00'),\n",
       " Timedelta('0 days 00:00:00'),\n",
       " Timedelta('-1 days +12:00:00'),\n",
       " Timedelta('0 days 00:00:00'),\n",
       " Timedelta('0 days 00:00:00'),\n",
       " Timedelta('-1 days +23:00:00'),\n",
       " Timedelta('0 days 00:00:00'),\n",
       " Timedelta('-2 days +19:00:00'),\n",
       " Timedelta('0 days 00:00:00'),\n",
       " Timedelta('0 days 00:00:00'),\n",
       " Timedelta('0 days 00:00:00'),\n",
       " Timedelta('0 days 00:00:00'),\n",
       " Timedelta('0 days 00:00:00'),\n",
       " Timedelta('0 days 00:00:00'),\n",
       " Timedelta('0 days 00:00:00'),\n",
       " Timedelta('0 days 00:00:00'),\n",
       " Timedelta('0 days 00:00:00'),\n",
       " Timedelta('0 days 17:00:00'),\n",
       " Timedelta('0 days 00:00:00'),\n",
       " Timedelta('0 days 00:00:00'),\n",
       " Timedelta('0 days 00:00:00'),\n",
       " Timedelta('0 days 00:00:00'),\n",
       " Timedelta('0 days 00:00:00'),\n",
       " Timedelta('0 days 00:00:00'),\n",
       " Timedelta('-1 days +10:00:00'),\n",
       " Timedelta('0 days 00:00:00'),\n",
       " Timedelta('-1 days +23:00:00'),\n",
       " Timedelta('0 days 00:00:00'),\n",
       " Timedelta('0 days 09:00:00'),\n",
       " Timedelta('0 days 00:00:00'),\n",
       " Timedelta('0 days 00:00:00'),\n",
       " Timedelta('0 days 00:00:00'),\n",
       " Timedelta('-1 days +10:00:00'),\n",
       " Timedelta('0 days 00:00:00'),\n",
       " Timedelta('0 days 00:00:00'),\n",
       " Timedelta('0 days 00:00:00'),\n",
       " Timedelta('0 days 00:00:00'),\n",
       " Timedelta('0 days 00:00:00'),\n",
       " Timedelta('0 days 00:00:00'),\n",
       " Timedelta('0 days 12:00:00'),\n",
       " Timedelta('0 days 00:00:00'),\n",
       " Timedelta('0 days 00:00:00'),\n",
       " Timedelta('0 days 00:00:00'),\n",
       " Timedelta('0 days 00:00:00'),\n",
       " Timedelta('0 days 00:00:00'),\n",
       " Timedelta('0 days 01:00:00'),\n",
       " Timedelta('0 days 00:00:00'),\n",
       " Timedelta('0 days 00:00:00'),\n",
       " Timedelta('0 days 00:00:00'),\n",
       " Timedelta('0 days 00:00:00'),\n",
       " Timedelta('0 days 00:00:00'),\n",
       " Timedelta('0 days 00:00:00'),\n",
       " Timedelta('0 days 09:00:00'),\n",
       " Timedelta('0 days 00:00:00'),\n",
       " Timedelta('0 days 00:00:00'),\n",
       " Timedelta('0 days 00:00:00'),\n",
       " Timedelta('0 days 00:00:00'),\n",
       " Timedelta('0 days 00:00:00'),\n",
       " Timedelta('0 days 00:00:00'),\n",
       " Timedelta('0 days 00:00:00'),\n",
       " Timedelta('-1 days +17:00:00'),\n",
       " Timedelta('0 days 00:00:00'),\n",
       " Timedelta('0 days 00:00:00'),\n",
       " Timedelta('0 days 00:00:00'),\n",
       " Timedelta('-1 days +20:00:00'),\n",
       " Timedelta('0 days 00:00:00'),\n",
       " Timedelta('0 days 00:00:00'),\n",
       " Timedelta('0 days 00:00:00'),\n",
       " Timedelta('0 days 00:00:00'),\n",
       " Timedelta('0 days 00:00:00'),\n",
       " Timedelta('-1 days +20:00:00'),\n",
       " Timedelta('0 days 00:00:00'),\n",
       " Timedelta('0 days 00:00:00'),\n",
       " Timedelta('0 days 00:00:00'),\n",
       " Timedelta('0 days 00:00:00'),\n",
       " Timedelta('0 days 00:00:00'),\n",
       " Timedelta('0 days 10:00:00'),\n",
       " Timedelta('0 days 00:00:00'),\n",
       " Timedelta('0 days 00:00:00'),\n",
       " Timedelta('0 days 00:00:00'),\n",
       " Timedelta('0 days 00:00:00'),\n",
       " Timedelta('0 days 00:00:00'),\n",
       " Timedelta('-1 days +09:00:00'),\n",
       " Timedelta('0 days 00:00:00'),\n",
       " Timedelta('0 days 00:00:00'),\n",
       " Timedelta('0 days 00:00:00'),\n",
       " Timedelta('0 days 21:00:00'),\n",
       " Timedelta('0 days 00:00:00'),\n",
       " Timedelta('0 days 00:00:00'),\n",
       " Timedelta('0 days 00:00:00'),\n",
       " Timedelta('0 days 00:00:00'),\n",
       " Timedelta('-1 days +11:00:00'),\n",
       " Timedelta('0 days 00:00:00'),\n",
       " Timedelta('0 days 00:00:00'),\n",
       " Timedelta('0 days 00:00:00'),\n",
       " Timedelta('0 days 00:00:00'),\n",
       " Timedelta('0 days 06:00:00'),\n",
       " Timedelta('0 days 00:00:00'),\n",
       " Timedelta('0 days 00:00:00'),\n",
       " Timedelta('0 days 00:00:00'),\n",
       " Timedelta('0 days 00:00:00'),\n",
       " Timedelta('0 days 00:00:00'),\n",
       " Timedelta('0 days 02:00:00'),\n",
       " Timedelta('0 days 00:00:00'),\n",
       " Timedelta('0 days 00:00:00'),\n",
       " Timedelta('0 days 00:00:00'),\n",
       " Timedelta('0 days 01:00:00'),\n",
       " Timedelta('0 days 00:00:00'),\n",
       " Timedelta('0 days 00:00:00'),\n",
       " Timedelta('0 days 00:00:00'),\n",
       " Timedelta('0 days 00:00:00'),\n",
       " Timedelta('0 days 00:00:00'),\n",
       " Timedelta('0 days 00:00:00'),\n",
       " Timedelta('-1 days +14:00:00'),\n",
       " Timedelta('0 days 12:00:00'),\n",
       " Timedelta('0 days 00:00:00'),\n",
       " Timedelta('0 days 00:00:00'),\n",
       " Timedelta('-2 days +20:00:00'),\n",
       " Timedelta('0 days 00:00:00'),\n",
       " Timedelta('0 days 00:00:00'),\n",
       " Timedelta('0 days 00:00:00'),\n",
       " Timedelta('0 days 00:00:00'),\n",
       " Timedelta('0 days 00:00:00'),\n",
       " Timedelta('0 days 00:00:00'),\n",
       " Timedelta('0 days 00:00:00'),\n",
       " Timedelta('0 days 06:00:00'),\n",
       " Timedelta('0 days 00:00:00'),\n",
       " Timedelta('0 days 00:00:00'),\n",
       " Timedelta('0 days 00:00:00'),\n",
       " Timedelta('0 days 00:00:00'),\n",
       " Timedelta('0 days 00:00:00'),\n",
       " Timedelta('-1 days +13:00:00'),\n",
       " Timedelta('0 days 00:00:00'),\n",
       " Timedelta('0 days 00:00:00'),\n",
       " Timedelta('0 days 00:00:00'),\n",
       " Timedelta('0 days 00:00:00'),\n",
       " Timedelta('0 days 00:00:00'),\n",
       " Timedelta('0 days 00:00:00'),\n",
       " Timedelta('0 days 00:00:00'),\n",
       " Timedelta('0 days 00:00:00'),\n",
       " Timedelta('0 days 00:00:00'),\n",
       " Timedelta('0 days 02:00:00'),\n",
       " Timedelta('0 days 00:00:00'),\n",
       " Timedelta('0 days 00:00:00'),\n",
       " Timedelta('0 days 00:00:00'),\n",
       " Timedelta('0 days 00:00:00'),\n",
       " Timedelta('-1 days +20:00:00'),\n",
       " Timedelta('0 days 00:00:00'),\n",
       " Timedelta('0 days 00:00:00'),\n",
       " Timedelta('0 days 00:00:00'),\n",
       " Timedelta('0 days 00:00:00'),\n",
       " Timedelta('0 days 00:00:00'),\n",
       " Timedelta('0 days 08:00:00'),\n",
       " Timedelta('0 days 00:00:00'),\n",
       " Timedelta('0 days 00:00:00'),\n",
       " Timedelta('0 days 00:00:00'),\n",
       " Timedelta('0 days 00:00:00'),\n",
       " Timedelta('0 days 00:00:00'),\n",
       " Timedelta('0 days 00:00:00'),\n",
       " Timedelta('0 days 00:00:00'),\n",
       " Timedelta('0 days 00:00:00'),\n",
       " Timedelta('0 days 00:00:00'),\n",
       " Timedelta('0 days 00:00:00'),\n",
       " Timedelta('-1 days +10:00:00'),\n",
       " Timedelta('0 days 02:00:00'),\n",
       " Timedelta('0 days 00:00:00'),\n",
       " Timedelta('0 days 02:00:00'),\n",
       " Timedelta('0 days 00:00:00'),\n",
       " Timedelta('0 days 00:00:00'),\n",
       " Timedelta('0 days 00:00:00'),\n",
       " Timedelta('0 days 00:00:00'),\n",
       " Timedelta('0 days 08:00:00'),\n",
       " Timedelta('0 days 00:00:00'),\n",
       " Timedelta('0 days 00:00:00'),\n",
       " Timedelta('0 days 00:00:00'),\n",
       " Timedelta('0 days 00:00:00'),\n",
       " Timedelta('0 days 00:00:00'),\n",
       " Timedelta('0 days 00:00:00'),\n",
       " Timedelta('0 days 00:00:00'),\n",
       " Timedelta('0 days 00:00:00'),\n",
       " Timedelta('0 days 00:00:00'),\n",
       " Timedelta('0 days 00:00:00'),\n",
       " Timedelta('0 days 00:00:00'),\n",
       " Timedelta('-1 days +21:00:00'),\n",
       " Timedelta('0 days 00:00:00'),\n",
       " Timedelta('0 days 00:00:00'),\n",
       " Timedelta('0 days 00:00:00'),\n",
       " Timedelta('0 days 00:00:00'),\n",
       " Timedelta('0 days 00:00:00'),\n",
       " Timedelta('0 days 00:00:00'),\n",
       " Timedelta('-1 days +20:00:00'),\n",
       " Timedelta('0 days 00:00:00'),\n",
       " Timedelta('0 days 00:00:00'),\n",
       " Timedelta('0 days 00:00:00'),\n",
       " Timedelta('0 days 00:00:00'),\n",
       " Timedelta('0 days 00:00:00'),\n",
       " Timedelta('0 days 00:00:00'),\n",
       " Timedelta('0 days 00:00:00'),\n",
       " Timedelta('0 days 06:00:00'),\n",
       " Timedelta('0 days 00:00:00'),\n",
       " Timedelta('0 days 00:00:00'),\n",
       " Timedelta('0 days 00:00:00'),\n",
       " Timedelta('0 days 00:00:00'),\n",
       " Timedelta('0 days 00:00:00'),\n",
       " Timedelta('0 days 06:00:00'),\n",
       " Timedelta('0 days 00:00:00'),\n",
       " Timedelta('0 days 00:00:00'),\n",
       " Timedelta('0 days 00:00:00'),\n",
       " Timedelta('0 days 00:00:00'),\n",
       " Timedelta('-1 days +10:00:00'),\n",
       " Timedelta('0 days 00:00:00'),\n",
       " Timedelta('0 days 00:00:00'),\n",
       " Timedelta('0 days 00:00:00'),\n",
       " Timedelta('0 days 00:00:00'),\n",
       " Timedelta('0 days 04:00:00'),\n",
       " Timedelta('0 days 00:00:00'),\n",
       " Timedelta('0 days 00:00:00'),\n",
       " Timedelta('0 days 00:00:00'),\n",
       " Timedelta('0 days 00:00:00'),\n",
       " Timedelta('0 days 00:00:00'),\n",
       " Timedelta('0 days 09:00:00'),\n",
       " Timedelta('0 days 00:00:00'),\n",
       " Timedelta('-2 days +12:00:00'),\n",
       " Timedelta('0 days 00:00:00'),\n",
       " Timedelta('0 days 00:00:00'),\n",
       " Timedelta('0 days 00:00:00'),\n",
       " Timedelta('0 days 00:00:00'),\n",
       " Timedelta('0 days 00:00:00'),\n",
       " Timedelta('0 days 15:00:00'),\n",
       " Timedelta('0 days 00:00:00'),\n",
       " Timedelta('0 days 00:00:00'),\n",
       " Timedelta('0 days 00:00:00'),\n",
       " Timedelta('-1 days +02:00:00'),\n",
       " Timedelta('0 days 00:00:00'),\n",
       " Timedelta('0 days 00:00:00'),\n",
       " Timedelta('0 days 06:00:00'),\n",
       " Timedelta('0 days 00:00:00'),\n",
       " Timedelta('0 days 00:00:00'),\n",
       " Timedelta('0 days 00:00:00'),\n",
       " Timedelta('0 days 00:00:00'),\n",
       " Timedelta('0 days 07:00:00'),\n",
       " Timedelta('0 days 00:00:00'),\n",
       " Timedelta('0 days 00:00:00'),\n",
       " Timedelta('0 days 00:00:00'),\n",
       " Timedelta('0 days 00:00:00'),\n",
       " Timedelta('0 days 00:00:00'),\n",
       " Timedelta('-1 days +16:00:00'),\n",
       " Timedelta('0 days 00:00:00'),\n",
       " Timedelta('0 days 10:00:00'),\n",
       " Timedelta('0 days 00:00:00'),\n",
       " Timedelta('0 days 00:00:00'),\n",
       " Timedelta('0 days 00:00:00'),\n",
       " Timedelta('0 days 00:00:00'),\n",
       " Timedelta('0 days 00:00:00'),\n",
       " Timedelta('0 days 00:00:00'),\n",
       " Timedelta('0 days 00:00:00'),\n",
       " Timedelta('0 days 00:00:00'),\n",
       " Timedelta('0 days 00:00:00'),\n",
       " Timedelta('-1 days +23:00:00'),\n",
       " Timedelta('0 days 00:00:00'),\n",
       " Timedelta('0 days 00:00:00'),\n",
       " Timedelta('0 days 00:00:00'),\n",
       " Timedelta('0 days 00:00:00'),\n",
       " Timedelta('0 days 00:00:00'),\n",
       " Timedelta('0 days 03:00:00'),\n",
       " Timedelta('0 days 00:00:00'),\n",
       " Timedelta('0 days 00:00:00'),\n",
       " Timedelta('0 days 00:00:00'),\n",
       " Timedelta('-1 days +23:00:00'),\n",
       " Timedelta('0 days 00:00:00'),\n",
       " Timedelta('0 days 00:00:00'),\n",
       " Timedelta('0 days 00:00:00'),\n",
       " Timedelta('0 days 00:00:00'),\n",
       " Timedelta('0 days 00:00:00'),\n",
       " Timedelta('0 days 00:00:00'),\n",
       " Timedelta('0 days 03:00:00'),\n",
       " Timedelta('0 days 00:00:00'),\n",
       " Timedelta('0 days 00:00:00'),\n",
       " Timedelta('0 days 00:00:00'),\n",
       " Timedelta('0 days 02:00:00'),\n",
       " Timedelta('0 days 00:00:00'),\n",
       " Timedelta('0 days 00:00:00'),\n",
       " Timedelta('-1 days +06:00:00'),\n",
       " Timedelta('0 days 00:00:00'),\n",
       " Timedelta('0 days 00:00:00'),\n",
       " Timedelta('0 days 00:00:00'),\n",
       " Timedelta('0 days 00:00:00'),\n",
       " Timedelta('0 days 05:00:00'),\n",
       " Timedelta('0 days 00:00:00'),\n",
       " Timedelta('0 days 00:00:00'),\n",
       " Timedelta('-1 days +17:00:00'),\n",
       " Timedelta('0 days 17:00:00'),\n",
       " Timedelta('0 days 05:00:00'),\n",
       " Timedelta('0 days 00:00:00'),\n",
       " Timedelta('-1 days +10:00:00'),\n",
       " Timedelta('0 days 00:00:00'),\n",
       " Timedelta('0 days 00:00:00'),\n",
       " Timedelta('0 days 00:00:00'),\n",
       " Timedelta('0 days 11:00:00'),\n",
       " Timedelta('0 days 00:00:00'),\n",
       " Timedelta('-2 days +23:00:00'),\n",
       " Timedelta('0 days 00:00:00'),\n",
       " Timedelta('0 days 00:00:00'),\n",
       " Timedelta('0 days 00:00:00'),\n",
       " Timedelta('-1 days +19:00:00'),\n",
       " Timedelta('0 days 00:00:00'),\n",
       " Timedelta('0 days 00:00:00'),\n",
       " Timedelta('0 days 00:00:00'),\n",
       " Timedelta('0 days 00:00:00'),\n",
       " Timedelta('0 days 00:00:00'),\n",
       " Timedelta('0 days 00:00:00'),\n",
       " Timedelta('0 days 00:00:00'),\n",
       " Timedelta('-1 days +14:00:00'),\n",
       " Timedelta('0 days 02:00:00'),\n",
       " Timedelta('0 days 00:00:00'),\n",
       " Timedelta('0 days 00:00:00'),\n",
       " Timedelta('0 days 00:00:00'),\n",
       " Timedelta('0 days 02:00:00'),\n",
       " Timedelta('0 days 00:00:00'),\n",
       " Timedelta('0 days 00:00:00'),\n",
       " Timedelta('0 days 00:00:00'),\n",
       " Timedelta('0 days 14:00:00'),\n",
       " Timedelta('0 days 00:00:00'),\n",
       " Timedelta('0 days 00:00:00'),\n",
       " Timedelta('0 days 00:00:00'),\n",
       " Timedelta('-1 days +07:00:00'),\n",
       " Timedelta('0 days 00:00:00'),\n",
       " Timedelta('0 days 00:00:00'),\n",
       " Timedelta('0 days 13:00:00'),\n",
       " Timedelta('-1 days +06:00:00'),\n",
       " Timedelta('0 days 00:00:00'),\n",
       " Timedelta('0 days 00:00:00'),\n",
       " Timedelta('0 days 09:00:00'),\n",
       " Timedelta('0 days 00:00:00'),\n",
       " Timedelta('0 days 00:00:00'),\n",
       " Timedelta('0 days 01:00:00'),\n",
       " Timedelta('0 days 00:00:00'),\n",
       " Timedelta('0 days 05:00:00'),\n",
       " Timedelta('0 days 00:00:00'),\n",
       " Timedelta('0 days 00:00:00'),\n",
       " Timedelta('0 days 00:00:00'),\n",
       " Timedelta('0 days 00:00:00'),\n",
       " Timedelta('0 days 01:00:00'),\n",
       " Timedelta('0 days 00:00:00'),\n",
       " Timedelta('0 days 00:00:00'),\n",
       " Timedelta('0 days 00:00:00'),\n",
       " Timedelta('0 days 00:00:00'),\n",
       " Timedelta('0 days 00:00:00'),\n",
       " Timedelta('0 days 00:00:00'),\n",
       " Timedelta('0 days 00:00:00'),\n",
       " Timedelta('0 days 01:00:00'),\n",
       " Timedelta('0 days 00:00:00'),\n",
       " Timedelta('0 days 04:00:00'),\n",
       " Timedelta('0 days 00:00:00'),\n",
       " Timedelta('0 days 00:00:00'),\n",
       " Timedelta('-1 days +23:00:00'),\n",
       " Timedelta('0 days 00:00:00'),\n",
       " Timedelta('0 days 00:00:00'),\n",
       " Timedelta('0 days 00:00:00'),\n",
       " Timedelta('-1 days +15:00:00'),\n",
       " Timedelta('0 days 00:00:00'),\n",
       " Timedelta('0 days 00:00:00'),\n",
       " Timedelta('0 days 02:00:00'),\n",
       " Timedelta('0 days 00:00:00'),\n",
       " Timedelta('0 days 00:00:00'),\n",
       " Timedelta('0 days 00:00:00'),\n",
       " Timedelta('0 days 00:00:00'),\n",
       " Timedelta('-1 days +12:00:00'),\n",
       " Timedelta('0 days 00:00:00'),\n",
       " Timedelta('-1 days +08:00:00'),\n",
       " Timedelta('0 days 00:00:00'),\n",
       " Timedelta('0 days 00:00:00'),\n",
       " Timedelta('0 days 00:00:00'),\n",
       " Timedelta('0 days 00:00:00'),\n",
       " Timedelta('0 days 00:00:00'),\n",
       " Timedelta('0 days 00:00:00'),\n",
       " Timedelta('0 days 03:00:00'),\n",
       " Timedelta('0 days 00:00:00'),\n",
       " Timedelta('0 days 00:00:00'),\n",
       " Timedelta('0 days 00:00:00'),\n",
       " Timedelta('0 days 00:00:00'),\n",
       " Timedelta('0 days 00:00:00'),\n",
       " Timedelta('0 days 03:00:00'),\n",
       " Timedelta('0 days 00:00:00'),\n",
       " Timedelta('0 days 00:00:00'),\n",
       " Timedelta('0 days 00:00:00'),\n",
       " Timedelta('0 days 00:00:00'),\n",
       " Timedelta('0 days 00:00:00'),\n",
       " Timedelta('0 days 00:00:00'),\n",
       " Timedelta('0 days 00:00:00'),\n",
       " Timedelta('0 days 00:00:00'),\n",
       " Timedelta('0 days 00:00:00'),\n",
       " Timedelta('0 days 00:00:00'),\n",
       " Timedelta('-1 days +19:00:00'),\n",
       " Timedelta('0 days 00:00:00'),\n",
       " Timedelta('0 days 00:00:00'),\n",
       " Timedelta('0 days 00:00:00'),\n",
       " Timedelta('0 days 00:00:00'),\n",
       " Timedelta('0 days 10:00:00'),\n",
       " Timedelta('0 days 00:00:00'),\n",
       " Timedelta('0 days 00:00:00'),\n",
       " Timedelta('0 days 00:00:00'),\n",
       " Timedelta('0 days 00:00:00'),\n",
       " Timedelta('0 days 00:00:00'),\n",
       " Timedelta('0 days 00:00:00'),\n",
       " Timedelta('0 days 00:00:00'),\n",
       " Timedelta('-1 days +21:00:00'),\n",
       " Timedelta('0 days 00:00:00'),\n",
       " Timedelta('0 days 00:00:00'),\n",
       " Timedelta('0 days 00:00:00'),\n",
       " Timedelta('0 days 00:00:00'),\n",
       " Timedelta('0 days 00:00:00'),\n",
       " Timedelta('-1 days +18:00:00'),\n",
       " Timedelta('0 days 00:00:00'),\n",
       " Timedelta('0 days 00:00:00'),\n",
       " Timedelta('0 days 00:00:00'),\n",
       " Timedelta('0 days 02:00:00'),\n",
       " Timedelta('0 days 00:00:00'),\n",
       " Timedelta('0 days 00:00:00'),\n",
       " Timedelta('0 days 00:00:00'),\n",
       " Timedelta('0 days 00:00:00'),\n",
       " Timedelta('0 days 00:00:00'),\n",
       " Timedelta('0 days 00:00:00'),\n",
       " Timedelta('0 days 00:00:00'),\n",
       " Timedelta('0 days 06:00:00'),\n",
       " Timedelta('0 days 00:00:00'),\n",
       " Timedelta('0 days 00:00:00'),\n",
       " Timedelta('0 days 00:00:00'),\n",
       " Timedelta('-1 days +23:00:00'),\n",
       " Timedelta('0 days 00:00:00'),\n",
       " Timedelta('0 days 00:00:00'),\n",
       " Timedelta('-1 days +20:00:00'),\n",
       " Timedelta('0 days 00:00:00'),\n",
       " Timedelta('0 days 00:00:00'),\n",
       " Timedelta('0 days 00:00:00'),\n",
       " Timedelta('0 days 00:00:00'),\n",
       " Timedelta('0 days 00:00:00'),\n",
       " Timedelta('-1 days +18:00:00'),\n",
       " Timedelta('0 days 00:00:00'),\n",
       " Timedelta('0 days 00:00:00'),\n",
       " Timedelta('0 days 00:00:00'),\n",
       " Timedelta('0 days 00:00:00'),\n",
       " Timedelta('-1 days +21:00:00'),\n",
       " Timedelta('0 days 00:00:00'),\n",
       " Timedelta('0 days 00:00:00'),\n",
       " Timedelta('0 days 00:00:00'),\n",
       " Timedelta('-1 days +18:00:00'),\n",
       " Timedelta('0 days 00:00:00'),\n",
       " Timedelta('0 days 00:00:00'),\n",
       " Timedelta('0 days 00:00:00'),\n",
       " Timedelta('0 days 00:00:00'),\n",
       " Timedelta('0 days 05:00:00'),\n",
       " Timedelta('0 days 03:00:00'),\n",
       " Timedelta('0 days 00:00:00'),\n",
       " Timedelta('0 days 00:00:00'),\n",
       " Timedelta('0 days 00:00:00'),\n",
       " Timedelta('0 days 00:00:00'),\n",
       " Timedelta('0 days 00:00:00'),\n",
       " Timedelta('-1 days +17:00:00'),\n",
       " Timedelta('0 days 00:00:00'),\n",
       " Timedelta('0 days 21:00:00'),\n",
       " Timedelta('0 days 00:00:00'),\n",
       " Timedelta('0 days 00:00:00'),\n",
       " Timedelta('0 days 00:00:00'),\n",
       " Timedelta('-2 days +21:00:00'),\n",
       " Timedelta('0 days 00:00:00'),\n",
       " Timedelta('0 days 00:00:00'),\n",
       " Timedelta('0 days 00:00:00'),\n",
       " Timedelta('0 days 00:00:00'),\n",
       " Timedelta('0 days 00:00:00'),\n",
       " Timedelta('0 days 00:00:00'),\n",
       " Timedelta('0 days 00:00:00'),\n",
       " Timedelta('-1 days +08:00:00'),\n",
       " Timedelta('0 days 00:00:00'),\n",
       " Timedelta('0 days 00:00:00'),\n",
       " Timedelta('0 days 00:00:00'),\n",
       " Timedelta('0 days 00:00:00'),\n",
       " Timedelta('0 days 00:00:00'),\n",
       " Timedelta('0 days 18:00:00'),\n",
       " Timedelta('0 days 00:00:00'),\n",
       " Timedelta('-1 days +12:00:00'),\n",
       " Timedelta('0 days 00:00:00'),\n",
       " Timedelta('0 days 09:00:00'),\n",
       " Timedelta('0 days 00:00:00'),\n",
       " Timedelta('0 days 00:00:00'),\n",
       " Timedelta('-1 days +14:00:00'),\n",
       " Timedelta('0 days 00:00:00'),\n",
       " Timedelta('0 days 00:00:00'),\n",
       " Timedelta('0 days 00:00:00'),\n",
       " Timedelta('0 days 00:00:00'),\n",
       " Timedelta('0 days 00:00:00'),\n",
       " Timedelta('0 days 00:00:00'),\n",
       " Timedelta('0 days 03:00:00'),\n",
       " Timedelta('0 days 00:00:00'),\n",
       " Timedelta('0 days 00:00:00'),\n",
       " Timedelta('0 days 00:00:00'),\n",
       " Timedelta('-1 days +23:00:00'),\n",
       " Timedelta('0 days 00:00:00'),\n",
       " Timedelta('0 days 00:00:00'),\n",
       " Timedelta('0 days 00:00:00'),\n",
       " Timedelta('0 days 00:00:00'),\n",
       " Timedelta('0 days 00:00:00'),\n",
       " Timedelta('0 days 07:00:00'),\n",
       " Timedelta('0 days 00:00:00'),\n",
       " Timedelta('0 days 00:00:00'),\n",
       " Timedelta('0 days 00:00:00'),\n",
       " Timedelta('-1 days +20:00:00'),\n",
       " Timedelta('0 days 00:00:00'),\n",
       " Timedelta('0 days 00:00:00'),\n",
       " Timedelta('0 days 00:00:00'),\n",
       " Timedelta('0 days 09:00:00'),\n",
       " Timedelta('0 days 00:00:00'),\n",
       " Timedelta('0 days 00:00:00'),\n",
       " Timedelta('0 days 00:00:00'),\n",
       " Timedelta('0 days 00:00:00'),\n",
       " Timedelta('0 days 00:00:00'),\n",
       " Timedelta('0 days 00:00:00'),\n",
       " Timedelta('0 days 00:00:00'),\n",
       " Timedelta('0 days 00:00:00'),\n",
       " Timedelta('-1 days +18:00:00'),\n",
       " Timedelta('0 days 00:00:00'),\n",
       " Timedelta('0 days 00:00:00'),\n",
       " Timedelta('0 days 00:00:00'),\n",
       " Timedelta('0 days 00:00:00'),\n",
       " Timedelta('0 days 00:00:00'),\n",
       " Timedelta('-1 days +10:00:00'),\n",
       " Timedelta('0 days 00:00:00'),\n",
       " Timedelta('0 days 00:00:00'),\n",
       " Timedelta('0 days 00:00:00'),\n",
       " Timedelta('0 days 00:00:00'),\n",
       " Timedelta('0 days 03:00:00'),\n",
       " Timedelta('0 days 00:00:00'),\n",
       " Timedelta('0 days 00:00:00'),\n",
       " Timedelta('0 days 00:00:00'),\n",
       " Timedelta('0 days 01:00:00'),\n",
       " Timedelta('0 days 00:00:00'),\n",
       " Timedelta('0 days 00:00:00'),\n",
       " Timedelta('0 days 00:00:00'),\n",
       " Timedelta('0 days 08:00:00'),\n",
       " Timedelta('0 days 00:00:00'),\n",
       " Timedelta('0 days 00:00:00'),\n",
       " Timedelta('0 days 00:00:00'),\n",
       " Timedelta('-1 days +17:00:00'),\n",
       " Timedelta('0 days 00:00:00'),\n",
       " Timedelta('0 days 05:00:00'),\n",
       " Timedelta('0 days 00:00:00'),\n",
       " Timedelta('0 days 00:00:00'),\n",
       " Timedelta('0 days 00:00:00'),\n",
       " Timedelta('0 days 00:00:00'),\n",
       " Timedelta('0 days 00:00:00'),\n",
       " Timedelta('0 days 00:00:00'),\n",
       " Timedelta('0 days 08:00:00'),\n",
       " Timedelta('-1 days +19:00:00'),\n",
       " Timedelta('0 days 00:00:00'),\n",
       " Timedelta('0 days 00:00:00'),\n",
       " Timedelta('0 days 00:00:00'),\n",
       " Timedelta('0 days 00:00:00'),\n",
       " Timedelta('0 days 00:00:00'),\n",
       " Timedelta('0 days 00:00:00'),\n",
       " Timedelta('-2 days +18:00:00'),\n",
       " Timedelta('0 days 00:00:00'),\n",
       " Timedelta('0 days 00:00:00'),\n",
       " Timedelta('0 days 00:00:00'),\n",
       " Timedelta('0 days 01:00:00'),\n",
       " Timedelta('0 days 00:00:00'),\n",
       " Timedelta('-1 days +14:00:00'),\n",
       " Timedelta('0 days 00:00:00'),\n",
       " Timedelta('0 days 00:00:00'),\n",
       " Timedelta('0 days 00:00:00'),\n",
       " Timedelta('0 days 00:00:00'),\n",
       " Timedelta('0 days 00:00:00'),\n",
       " Timedelta('0 days 00:00:00'),\n",
       " Timedelta('0 days 14:00:00'),\n",
       " Timedelta('0 days 00:00:00'),\n",
       " Timedelta('0 days 00:00:00'),\n",
       " Timedelta('0 days 02:00:00'),\n",
       " Timedelta('0 days 00:00:00'),\n",
       " Timedelta('0 days 00:00:00'),\n",
       " Timedelta('0 days 00:00:00'),\n",
       " Timedelta('0 days 00:00:00'),\n",
       " Timedelta('0 days 00:00:00'),\n",
       " Timedelta('0 days 00:00:00'),\n",
       " Timedelta('0 days 00:00:00'),\n",
       " Timedelta('-1 days +20:00:00'),\n",
       " Timedelta('0 days 00:00:00'),\n",
       " Timedelta('0 days 00:00:00'),\n",
       " Timedelta('0 days 00:00:00'),\n",
       " Timedelta('0 days 00:00:00'),\n",
       " Timedelta('-1 days +13:00:00'),\n",
       " Timedelta('0 days 00:00:00'),\n",
       " Timedelta('0 days 19:00:00'),\n",
       " Timedelta('0 days 00:00:00'),\n",
       " Timedelta('0 days 02:00:00'),\n",
       " Timedelta('0 days 00:00:00'),\n",
       " Timedelta('0 days 00:00:00'),\n",
       " Timedelta('0 days 00:00:00'),\n",
       " Timedelta('0 days 00:00:00'),\n",
       " Timedelta('0 days 00:00:00'),\n",
       " Timedelta('0 days 01:00:00'),\n",
       " Timedelta('0 days 00:00:00'),\n",
       " Timedelta('0 days 00:00:00'),\n",
       " Timedelta('0 days 00:00:00'),\n",
       " Timedelta('-1 days +04:00:00'),\n",
       " Timedelta('0 days 00:00:00'),\n",
       " Timedelta('0 days 00:00:00'),\n",
       " Timedelta('0 days 00:00:00'),\n",
       " Timedelta('0 days 00:00:00'),\n",
       " Timedelta('0 days 00:00:00'),\n",
       " Timedelta('0 days 04:00:00'),\n",
       " Timedelta('0 days 00:00:00'),\n",
       " Timedelta('0 days 00:00:00'),\n",
       " Timedelta('0 days 04:00:00'),\n",
       " Timedelta('0 days 00:00:00'),\n",
       " Timedelta('0 days 00:00:00'),\n",
       " Timedelta('0 days 00:00:00'),\n",
       " Timedelta('0 days 00:00:00'),\n",
       " Timedelta('0 days 00:00:00'),\n",
       " Timedelta('-1 days +19:00:00'),\n",
       " Timedelta('0 days 00:00:00'),\n",
       " Timedelta('0 days 00:00:00'),\n",
       " Timedelta('0 days 00:00:00'),\n",
       " Timedelta('0 days 00:00:00'),\n",
       " Timedelta('0 days 12:00:00'),\n",
       " Timedelta('0 days 00:00:00'),\n",
       " Timedelta('0 days 00:00:00'),\n",
       " Timedelta('-1 days +23:00:00'),\n",
       " Timedelta('0 days 00:00:00'),\n",
       " Timedelta('0 days 00:00:00'),\n",
       " Timedelta('0 days 00:00:00'),\n",
       " Timedelta('-1 days +15:00:00'),\n",
       " Timedelta('0 days 00:00:00'),\n",
       " Timedelta('0 days 11:00:00'),\n",
       " Timedelta('0 days 00:00:00'),\n",
       " Timedelta('0 days 00:00:00'),\n",
       " Timedelta('0 days 00:00:00'),\n",
       " Timedelta('-1 days +20:00:00'),\n",
       " Timedelta('0 days 00:00:00'),\n",
       " Timedelta('0 days 00:00:00'),\n",
       " Timedelta('0 days 06:00:00'),\n",
       " Timedelta('0 days 00:00:00'),\n",
       " Timedelta('0 days 00:00:00'),\n",
       " Timedelta('0 days 00:00:00'),\n",
       " Timedelta('0 days 00:00:00'),\n",
       " Timedelta('-1 days +05:00:00'),\n",
       " Timedelta('0 days 00:00:00'),\n",
       " Timedelta('0 days 00:00:00'),\n",
       " Timedelta('0 days 00:00:00'),\n",
       " Timedelta('0 days 00:00:00'),\n",
       " Timedelta('0 days 00:00:00'),\n",
       " Timedelta('0 days 00:00:00'),\n",
       " Timedelta('-1 days +00:00:00'),\n",
       " Timedelta('0 days 00:00:00'),\n",
       " Timedelta('0 days 00:00:00'),\n",
       " Timedelta('0 days 00:00:00'),\n",
       " Timedelta('0 days 00:00:00'),\n",
       " Timedelta('0 days 06:00:00'),\n",
       " Timedelta('0 days 15:00:00'),\n",
       " Timedelta('0 days 00:00:00'),\n",
       " Timedelta('0 days 00:00:00'),\n",
       " Timedelta('0 days 00:00:00'),\n",
       " Timedelta('0 days 00:00:00'),\n",
       " Timedelta('0 days 00:00:00'),\n",
       " Timedelta('-1 days +17:00:00'),\n",
       " Timedelta('0 days 00:00:00'),\n",
       " Timedelta('0 days 00:00:00'),\n",
       " Timedelta('0 days 00:00:00'),\n",
       " Timedelta('0 days 00:00:00'),\n",
       " Timedelta('0 days 00:00:00'),\n",
       " Timedelta('-1 days +15:00:00'),\n",
       " Timedelta('0 days 00:00:00'),\n",
       " Timedelta('-1 days +17:00:00'),\n",
       " Timedelta('0 days 00:00:00'),\n",
       " Timedelta('0 days 00:00:00'),\n",
       " Timedelta('0 days 00:00:00'),\n",
       " Timedelta('0 days 00:00:00'),\n",
       " Timedelta('0 days 00:00:00'),\n",
       " Timedelta('0 days 00:00:00'),\n",
       " Timedelta('0 days 00:00:00'),\n",
       " Timedelta('0 days 14:00:00'),\n",
       " Timedelta('0 days 00:00:00'),\n",
       " Timedelta('0 days 00:00:00'),\n",
       " Timedelta('0 days 00:00:00'),\n",
       " Timedelta('0 days 00:00:00'),\n",
       " Timedelta('0 days 00:00:00'),\n",
       " Timedelta('0 days 00:00:00'),\n",
       " Timedelta('-1 days +21:00:00'),\n",
       " Timedelta('0 days 00:00:00'),\n",
       " Timedelta('0 days 00:00:00'),\n",
       " Timedelta('0 days 00:00:00'),\n",
       " Timedelta('0 days 00:00:00'),\n",
       " Timedelta('0 days 00:00:00'),\n",
       " Timedelta('-1 days +22:00:00'),\n",
       " Timedelta('0 days 00:00:00'),\n",
       " Timedelta('0 days 00:00:00'),\n",
       " Timedelta('0 days 13:00:00'),\n",
       " Timedelta('0 days 00:00:00'),\n",
       " Timedelta('0 days 00:00:00'),\n",
       " Timedelta('0 days 00:00:00'),\n",
       " Timedelta('0 days 00:00:00'),\n",
       " Timedelta('0 days 00:00:00'),\n",
       " Timedelta('-1 days +17:00:00'),\n",
       " Timedelta('0 days 00:00:00'),\n",
       " Timedelta('0 days 00:00:00'),\n",
       " Timedelta('0 days 00:00:00'),\n",
       " Timedelta('-1 days +13:00:00'),\n",
       " Timedelta('0 days 00:00:00'),\n",
       " Timedelta('0 days 00:00:00'),\n",
       " Timedelta('0 days 16:00:00'),\n",
       " Timedelta('0 days 00:00:00'),\n",
       " Timedelta('0 days 00:00:00'),\n",
       " Timedelta('0 days 00:00:00'),\n",
       " Timedelta('0 days 00:00:00'),\n",
       " Timedelta('-1 days +05:00:00'),\n",
       " Timedelta('0 days 00:00:00'),\n",
       " Timedelta('0 days 00:00:00'),\n",
       " Timedelta('0 days 00:00:00'),\n",
       " Timedelta('0 days 00:00:00'),\n",
       " Timedelta('0 days 00:00:00'),\n",
       " Timedelta('0 days 11:00:00'),\n",
       " Timedelta('0 days 00:00:00'),\n",
       " Timedelta('0 days 00:00:00'),\n",
       " Timedelta('0 days 00:00:00'),\n",
       " Timedelta('0 days 00:00:00'),\n",
       " Timedelta('0 days 00:00:00'),\n",
       " Timedelta('0 days 00:00:00'),\n",
       " Timedelta('0 days 01:00:00'),\n",
       " Timedelta('0 days 00:00:00'),\n",
       " Timedelta('0 days 00:00:00'),\n",
       " Timedelta('0 days 04:00:00'),\n",
       " Timedelta('0 days 00:00:00'),\n",
       " Timedelta('0 days 00:00:00'),\n",
       " Timedelta('0 days 00:00:00'),\n",
       " Timedelta('0 days 00:00:00'),\n",
       " Timedelta('0 days 01:00:00'),\n",
       " Timedelta('0 days 00:00:00'),\n",
       " Timedelta('0 days 03:00:00'),\n",
       " ...]"
      ]
     },
     "execution_count": 48,
     "metadata": {},
     "output_type": "execute_result"
    }
   ],
   "source": [
    "diffs"
   ]
  },
  {
   "cell_type": "markdown",
   "id": "e29b1944",
   "metadata": {},
   "source": [
    "There are many instances where accidents happen at the same time and some instances were there were multiple days with no accidents"
   ]
  },
  {
   "cell_type": "markdown",
   "id": "ebda6d4e",
   "metadata": {},
   "source": [
    "The temporal resolution does not need to be tested for in the same way as the spatial resolution. In fact, it can be determined just by considering the utility of the final model. A daily predictions is a little too long to be super useful to a user; the accident is not occuring (or affecting traffic or risking safety) all day long. Minutely predictions, however, is very frequent, and will require a lot of computation. An hour seems like the right choice; the weather api can return hourly weather predictions and the collision data is already in the format of hourly periods, so that will be the final choice."
   ]
  },
  {
   "cell_type": "markdown",
   "id": "407ef9e6",
   "metadata": {},
   "source": [
    "### 7 Target Feature<a id='7_Target_Feature'>"
   ]
  },
  {
   "cell_type": "markdown",
   "id": "6a4ab65b",
   "metadata": {},
   "source": [
    "The target feature is the 1 or 0 in the grid cell, representing whether an accident is predicted to occur in that zone. The 30x30 grid, aptly named target_grid, is just that. Although, currently the grid represents the total number of collisions in that zone over the entire period of our data, not separated by hour, as the final grid will be. The explanatory features are the weather and traffic volume data. The volume data is static, i.e. has no temporal component, and will have the same values in all tensors but will be specific to each grid cell. The weather does have a temporal component, and like the volume data will be specific to each grid cell"
   ]
  },
  {
   "cell_type": "markdown",
   "id": "35265a31",
   "metadata": {},
   "source": [
    "### 8 Save Data<a id='8_Save_Data'>"
   ]
  },
  {
   "cell_type": "code",
   "execution_count": 49,
   "id": "976479b3",
   "metadata": {},
   "outputs": [
    {
     "name": "stdout",
     "output_type": "stream",
     "text": [
      "A file already exists with this name.\n",
      "\n",
      "Do you want to overwrite? (Y/N)y\n",
      "Writing file.  \"../data/LA_data.csv\"\n",
      "A file already exists with this name.\n",
      "\n",
      "Do you want to overwrite? (Y/N)y\n",
      "Writing file.  \"../data/LA_traffic.csv\"\n"
     ]
    }
   ],
   "source": [
    "datapath = '../data'\n",
    "save_file(LA_data, 'LA_data.csv', datapath)\n",
    "save_file(LA_traffic, 'LA_traffic.csv', datapath)"
   ]
  },
  {
   "cell_type": "markdown",
   "id": "7730b19c",
   "metadata": {},
   "source": [
    "### 9 Conclusion<a id='9_Conclusion'>"
   ]
  },
  {
   "cell_type": "markdown",
   "id": "2e65bfe8",
   "metadata": {},
   "source": [
    "In this notebook, the coordinates for the traffic volume were found. The accident density was plotted as heatmap on a map of Los Angeles, as well as the traffic volume. The best resolution for the spatial and temporal components were determined based on the trade off with geographical sparsity of available data. A 50x30 grid will be used for the spatial component, with a period of 1 hour for the temporal component. The area covered by the grid is roughly 81mi x 48 mi., so the spatial resolution is about 1.6 mi.\n",
    "\n",
    "The input to the model will be built of tensors representing the weather and traffic flows for each zone over time. The output of the model will be a 1 or a 0, representing whether an accident is expected to occur within that grid cell in the next hour. "
   ]
  }
 ],
 "metadata": {
  "kernelspec": {
   "display_name": "Python 3 (ipykernel)",
   "language": "python",
   "name": "python3"
  },
  "language_info": {
   "codemirror_mode": {
    "name": "ipython",
    "version": 3
   },
   "file_extension": ".py",
   "mimetype": "text/x-python",
   "name": "python",
   "nbconvert_exporter": "python",
   "pygments_lexer": "ipython3",
   "version": "3.9.12"
  }
 },
 "nbformat": 4,
 "nbformat_minor": 5
}
