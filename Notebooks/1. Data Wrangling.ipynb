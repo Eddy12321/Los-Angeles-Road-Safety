{
 "cells": [
  {
   "cell_type": "markdown",
   "id": "b2942272",
   "metadata": {},
   "source": [
    "# Data Wrangling<a id='Data_Wrangling'></a>"
   ]
  },
  {
   "cell_type": "markdown",
   "id": "7d86834f",
   "metadata": {},
   "source": [
    "### 1 Table of Contents<a id='Contents'></a>\n",
    "* [Data Wrangling](#Data_Wrangling)\n",
    "  * [1 Contents](#Contents)\n",
    "  * [2 Introduction](#2_Introduction)\n",
    "      * [2.1 Problem](#2.1_Problem)\n",
    "      * [2.2 Data Sources](#2.2_Data_Sources)\n",
    "  * [3 Imports](#3_Imports)\n",
    "  * [4 Load Data](#4_Load_Data)\n",
    "      * [4.1 Highway Collisions](#4.1_Highway_Collisions)\n",
    "      * [4.2 Non-Highway Collisions](#4.2_Non-Highway_Collisions)\n",
    "      * [4.3 Traffic Volume](#4.3_Traffic_Volume)\n",
    "      * [4.4 Weather](#4.4_Weather)\n",
    "  * [5 Traffic Collisions](#5_Traffic_Collisions)\n",
    "      * [5.1 Highway Collisions](#5.1_Highway_Collisions)\n",
    "      * [5.2 Non-Highway Collisions](#5.2_Non-Highway_Collisions)\n",
    "  * [6 Weather](#6_Weather)\n",
    "  * [7 Merge](#7_Merge)\n",
    "      * [7.1 Combining Collision Datasets](#7.1_Combining_Collision_Datasets)\n",
    "      * [7.2 Merging Collision and Weather](#7.2_Merging_Collision_and_Weather)\n",
    "  * [8 Traffic Volume](#8_Traffic_Volume) \n",
    "  * [9 First Look](#9_First_Look)\n",
    "  * [10 Google Maps API](#10_Google_Maps_API)\n",
    "  * [11 OpenWeather API](#11_OpenWeather_API)\n",
    "  * [12 Save Data](#12_Save_Data)\n",
    "  * [13 Conclusion](#13_Conclusion)"
   ]
  },
  {
   "cell_type": "markdown",
   "id": "fd712465",
   "metadata": {},
   "source": [
    "### 2 Introduction<a id='2_Introduction'>"
   ]
  },
  {
   "cell_type": "markdown",
   "id": "df0371ce",
   "metadata": {},
   "source": [
    "#### 2.1 Problem<a id='2.1_Problem'>"
   ]
  },
  {
   "cell_type": "markdown",
   "id": "d3914eca",
   "metadata": {},
   "source": [
    "Millions of people are on the road everyday. In fact, there are more than seven million cars registered in LA county alone. With that many cars on the road, and pedestrians and cyclists, it can be quite dangerous to commute to everyday activities like work and grocery shopping, However, some routes are more dangerous than others. \n",
    "\n",
    "I will create a model to return the likelihood of an accident occurring on the different routes returned by the Google Maps API when prompted by a user, such that  the user can accurately choose the safest journey to take more than 75 percent of the time. For this project, I will be solely focusing on the city of Los Angeles.\n"
   ]
  },
  {
   "cell_type": "markdown",
   "id": "a268811f",
   "metadata": {},
   "source": [
    "#### 2.2 Data Sources<a id='2.2_Data_Sources'>"
   ]
  },
  {
   "cell_type": "markdown",
   "id": "61cde63d",
   "metadata": {},
   "source": [
    "The data that will be used is listed below:\n",
    "- SWITRS dataset on traffic collisions in California from 2001 to 2022. Sqlite files include info on collisions, parties involved, injuries, and a few weather factors. This is the dataset that will be used for modeling. The set contains over 300,000 collisions in the city of Los Angeles from 2007 to 2021.\n",
    "- LAPD data on non-highway traffic collisions from 2010 to present.\n",
    "- LADOT data on traffic volume for a number of streets in LA county.\n",
    "- OpenWeather API provides weather data used for training the model, as this set has more useful weather factors, mainly visibility, than the California traffic collision dataset.\n",
    "- Google Maps API to provide routes on demand\tto users, who will then be given the likelihood that each route will result in an accident. API "
   ]
  },
  {
   "cell_type": "markdown",
   "id": "dcd18f83",
   "metadata": {},
   "source": [
    "### 3 Imports<a id='3_Imports'>"
   ]
  },
  {
   "cell_type": "code",
   "execution_count": 1,
   "id": "124ea66a",
   "metadata": {},
   "outputs": [],
   "source": [
    "import warnings\n",
    "warnings.simplefilter('ignore')\n",
    "import matplotlib.pyplot as plt\n",
    "import pandas as pd\n",
    "import seaborn as sns\n",
    "import numpy as np\n",
    "from library.sb_utils import save_file\n",
    "import requests\n",
    "import gmaps\n",
    "import googlemaps\n",
    "import os\n",
    "import csv\n",
    "%matplotlib inline"
   ]
  },
  {
   "cell_type": "markdown",
   "id": "6fb05d45",
   "metadata": {},
   "source": [
    "### 4 Load Data<a id='4_Load_Data'>"
   ]
  },
  {
   "cell_type": "code",
   "execution_count": 3,
   "id": "782d7027",
   "metadata": {},
   "outputs": [],
   "source": [
    "LA_highway_collisions = pd.read_csv('../Raw Data/Traffic.csv')\n",
    "LA_nonhighway_collisions = pd.read_csv('../Raw Data/Traffic_Collisions_LAPD.csv')\n",
    "LA_traffic_counts = pd.read_csv('../Raw Data/Traffic_Counts.csv')\n",
    "LA_weather = pd.read_csv('../Raw Data/Los_Angeles_Weather.csv')\n",
    "openWeather_api_key = pd.read_json('../credentials.json', typ='series')['openWeather_api_key']\n",
    "maps_api_key = pd.read_json('../credentials.json', typ='series')['maps_api_key']"
   ]
  },
  {
   "cell_type": "markdown",
   "id": "a0166e7c",
   "metadata": {},
   "source": [
    "#### 4.1 Highway Collisions<a id='4.1_Highway_Collisions'>"
   ]
  },
  {
   "cell_type": "code",
   "execution_count": 4,
   "id": "f7cd1650",
   "metadata": {},
   "outputs": [
    {
     "data": {
      "text/html": [
       "<div>\n",
       "<style scoped>\n",
       "    .dataframe tbody tr th:only-of-type {\n",
       "        vertical-align: middle;\n",
       "    }\n",
       "\n",
       "    .dataframe tbody tr th {\n",
       "        vertical-align: top;\n",
       "    }\n",
       "\n",
       "    .dataframe thead th {\n",
       "        text-align: right;\n",
       "    }\n",
       "</style>\n",
       "<table border=\"1\" class=\"dataframe\">\n",
       "  <thead>\n",
       "    <tr style=\"text-align: right;\">\n",
       "      <th></th>\n",
       "      <th>id</th>\n",
       "      <th>primary_road</th>\n",
       "      <th>secondary_road</th>\n",
       "      <th>intersection</th>\n",
       "      <th>side_of_highway</th>\n",
       "      <th>severity</th>\n",
       "      <th>type</th>\n",
       "      <th>pedestrian</th>\n",
       "      <th>bicycle</th>\n",
       "      <th>motorcycle</th>\n",
       "      <th>truck</th>\n",
       "      <th>same_day_crashes</th>\n",
       "      <th>same_road_crashes</th>\n",
       "      <th>latitude</th>\n",
       "      <th>longitude</th>\n",
       "      <th>datetime</th>\n",
       "    </tr>\n",
       "  </thead>\n",
       "  <tbody>\n",
       "    <tr>\n",
       "      <th>0</th>\n",
       "      <td>81488182</td>\n",
       "      <td>CENTINELA AV</td>\n",
       "      <td>BEACH AV</td>\n",
       "      <td>0.0</td>\n",
       "      <td>NaN</td>\n",
       "      <td>pain</td>\n",
       "      <td>broadside</td>\n",
       "      <td>0</td>\n",
       "      <td>0</td>\n",
       "      <td>0</td>\n",
       "      <td>0</td>\n",
       "      <td>3</td>\n",
       "      <td>229</td>\n",
       "      <td>33.97074</td>\n",
       "      <td>-118.34786</td>\n",
       "      <td>2021-06-01 13:58:00</td>\n",
       "    </tr>\n",
       "    <tr>\n",
       "      <th>1</th>\n",
       "      <td>81488183</td>\n",
       "      <td>MANCHESTER BLVD</td>\n",
       "      <td>11TH AV</td>\n",
       "      <td>1.0</td>\n",
       "      <td>NaN</td>\n",
       "      <td>pain</td>\n",
       "      <td>broadside</td>\n",
       "      <td>0</td>\n",
       "      <td>0</td>\n",
       "      <td>0</td>\n",
       "      <td>0</td>\n",
       "      <td>3</td>\n",
       "      <td>185</td>\n",
       "      <td>33.95995</td>\n",
       "      <td>-118.32868</td>\n",
       "      <td>2021-06-01 16:15:00</td>\n",
       "    </tr>\n",
       "    <tr>\n",
       "      <th>2</th>\n",
       "      <td>91488003</td>\n",
       "      <td>I-710 NORTHBOUND(LONG BEACH FREEWAY)</td>\n",
       "      <td>IMPERIAL HWY</td>\n",
       "      <td>0.0</td>\n",
       "      <td>NaN</td>\n",
       "      <td>property damage only</td>\n",
       "      <td>rear end</td>\n",
       "      <td>0</td>\n",
       "      <td>0</td>\n",
       "      <td>0</td>\n",
       "      <td>0</td>\n",
       "      <td>3</td>\n",
       "      <td>1</td>\n",
       "      <td>33.92770</td>\n",
       "      <td>-118.17820</td>\n",
       "      <td>2021-06-01 16:20:00</td>\n",
       "    </tr>\n",
       "    <tr>\n",
       "      <th>3</th>\n",
       "      <td>81487205</td>\n",
       "      <td>LA BREA AV</td>\n",
       "      <td>FLORENCE AV</td>\n",
       "      <td>1.0</td>\n",
       "      <td>NaN</td>\n",
       "      <td>property damage only</td>\n",
       "      <td>hit object</td>\n",
       "      <td>0</td>\n",
       "      <td>0</td>\n",
       "      <td>0</td>\n",
       "      <td>0</td>\n",
       "      <td>3</td>\n",
       "      <td>424</td>\n",
       "      <td>33.96550</td>\n",
       "      <td>-118.35330</td>\n",
       "      <td>2021-05-30 06:45:00</td>\n",
       "    </tr>\n",
       "    <tr>\n",
       "      <th>4</th>\n",
       "      <td>91487342</td>\n",
       "      <td>I-605 (S/B)</td>\n",
       "      <td>WASHINGTON BLVD</td>\n",
       "      <td>0.0</td>\n",
       "      <td>NaN</td>\n",
       "      <td>severe injury</td>\n",
       "      <td>hit object</td>\n",
       "      <td>0</td>\n",
       "      <td>0</td>\n",
       "      <td>0</td>\n",
       "      <td>0</td>\n",
       "      <td>3</td>\n",
       "      <td>131</td>\n",
       "      <td>33.97228</td>\n",
       "      <td>-118.08097</td>\n",
       "      <td>2021-05-30 22:35:00</td>\n",
       "    </tr>\n",
       "  </tbody>\n",
       "</table>\n",
       "</div>"
      ],
      "text/plain": [
       "         id                          primary_road   secondary_road  \\\n",
       "0  81488182                          CENTINELA AV         BEACH AV   \n",
       "1  81488183                       MANCHESTER BLVD          11TH AV   \n",
       "2  91488003  I-710 NORTHBOUND(LONG BEACH FREEWAY)     IMPERIAL HWY   \n",
       "3  81487205                            LA BREA AV      FLORENCE AV   \n",
       "4  91487342                           I-605 (S/B)  WASHINGTON BLVD   \n",
       "\n",
       "   intersection side_of_highway              severity        type  pedestrian  \\\n",
       "0           0.0             NaN                  pain   broadside           0   \n",
       "1           1.0             NaN                  pain   broadside           0   \n",
       "2           0.0             NaN  property damage only    rear end           0   \n",
       "3           1.0             NaN  property damage only  hit object           0   \n",
       "4           0.0             NaN         severe injury  hit object           0   \n",
       "\n",
       "   bicycle  motorcycle  truck  same_day_crashes  same_road_crashes  latitude  \\\n",
       "0        0           0      0                 3                229  33.97074   \n",
       "1        0           0      0                 3                185  33.95995   \n",
       "2        0           0      0                 3                  1  33.92770   \n",
       "3        0           0      0                 3                424  33.96550   \n",
       "4        0           0      0                 3                131  33.97228   \n",
       "\n",
       "   longitude             datetime  \n",
       "0 -118.34786  2021-06-01 13:58:00  \n",
       "1 -118.32868  2021-06-01 16:15:00  \n",
       "2 -118.17820  2021-06-01 16:20:00  \n",
       "3 -118.35330  2021-05-30 06:45:00  \n",
       "4 -118.08097  2021-05-30 22:35:00  "
      ]
     },
     "execution_count": 4,
     "metadata": {},
     "output_type": "execute_result"
    }
   ],
   "source": [
    "LA_highway_collisions.head()"
   ]
  },
  {
   "cell_type": "markdown",
   "id": "bb46ace5",
   "metadata": {},
   "source": [
    "The collisions dataset contains information on each wreck, including: severity, road, and time. The dataset was queried from the SWITRS database using SQLiteStudio. "
   ]
  },
  {
   "cell_type": "code",
   "execution_count": 5,
   "id": "c08917f7",
   "metadata": {},
   "outputs": [
    {
     "data": {
      "text/plain": [
       "(319906, 16)"
      ]
     },
     "execution_count": 5,
     "metadata": {},
     "output_type": "execute_result"
    }
   ],
   "source": [
    "LA_highway_collisions.shape"
   ]
  },
  {
   "cell_type": "markdown",
   "id": "74e9ffb7",
   "metadata": {},
   "source": [
    "#### 4.2 Non-Highway Collisions<a id='4.2_Non-Highway_Collisions'>"
   ]
  },
  {
   "cell_type": "code",
   "execution_count": 6,
   "id": "de577bb7",
   "metadata": {},
   "outputs": [
    {
     "data": {
      "text/html": [
       "<div>\n",
       "<style scoped>\n",
       "    .dataframe tbody tr th:only-of-type {\n",
       "        vertical-align: middle;\n",
       "    }\n",
       "\n",
       "    .dataframe tbody tr th {\n",
       "        vertical-align: top;\n",
       "    }\n",
       "\n",
       "    .dataframe thead th {\n",
       "        text-align: right;\n",
       "    }\n",
       "</style>\n",
       "<table border=\"1\" class=\"dataframe\">\n",
       "  <thead>\n",
       "    <tr style=\"text-align: right;\">\n",
       "      <th></th>\n",
       "      <th>DR Number</th>\n",
       "      <th>Date Reported</th>\n",
       "      <th>Date Occurred</th>\n",
       "      <th>Time Occurred</th>\n",
       "      <th>Area ID</th>\n",
       "      <th>Area Name</th>\n",
       "      <th>Reporting District</th>\n",
       "      <th>Crime Code</th>\n",
       "      <th>Crime Code Description</th>\n",
       "      <th>MO Codes</th>\n",
       "      <th>Victim Age</th>\n",
       "      <th>Victim Sex</th>\n",
       "      <th>Victim Descent</th>\n",
       "      <th>Premise Code</th>\n",
       "      <th>Premise Description</th>\n",
       "      <th>Address</th>\n",
       "      <th>Cross Street</th>\n",
       "      <th>Location</th>\n",
       "    </tr>\n",
       "  </thead>\n",
       "  <tbody>\n",
       "    <tr>\n",
       "      <th>0</th>\n",
       "      <td>190319651</td>\n",
       "      <td>08/24/2019</td>\n",
       "      <td>08/24/2019</td>\n",
       "      <td>450</td>\n",
       "      <td>3</td>\n",
       "      <td>Southwest</td>\n",
       "      <td>356</td>\n",
       "      <td>997</td>\n",
       "      <td>TRAFFIC COLLISION</td>\n",
       "      <td>3036 3004 3026 3101 4003</td>\n",
       "      <td>22.0</td>\n",
       "      <td>M</td>\n",
       "      <td>H</td>\n",
       "      <td>101.0</td>\n",
       "      <td>STREET</td>\n",
       "      <td>JEFFERSON                    BL</td>\n",
       "      <td>NORMANDIE                    AV</td>\n",
       "      <td>(34.0255, -118.3002)</td>\n",
       "    </tr>\n",
       "    <tr>\n",
       "      <th>1</th>\n",
       "      <td>190319680</td>\n",
       "      <td>08/30/2019</td>\n",
       "      <td>08/30/2019</td>\n",
       "      <td>2320</td>\n",
       "      <td>3</td>\n",
       "      <td>Southwest</td>\n",
       "      <td>355</td>\n",
       "      <td>997</td>\n",
       "      <td>TRAFFIC COLLISION</td>\n",
       "      <td>3037 3006 3028 3030 3039 3101 4003</td>\n",
       "      <td>30.0</td>\n",
       "      <td>F</td>\n",
       "      <td>H</td>\n",
       "      <td>101.0</td>\n",
       "      <td>STREET</td>\n",
       "      <td>JEFFERSON                    BL</td>\n",
       "      <td>W  WESTERN</td>\n",
       "      <td>(34.0256, -118.3089)</td>\n",
       "    </tr>\n",
       "    <tr>\n",
       "      <th>2</th>\n",
       "      <td>190413769</td>\n",
       "      <td>08/25/2019</td>\n",
       "      <td>08/25/2019</td>\n",
       "      <td>545</td>\n",
       "      <td>4</td>\n",
       "      <td>Hollenbeck</td>\n",
       "      <td>422</td>\n",
       "      <td>997</td>\n",
       "      <td>TRAFFIC COLLISION</td>\n",
       "      <td>3101 3401 3701 3006 3030</td>\n",
       "      <td>NaN</td>\n",
       "      <td>M</td>\n",
       "      <td>X</td>\n",
       "      <td>101.0</td>\n",
       "      <td>STREET</td>\n",
       "      <td>N  BROADWAY</td>\n",
       "      <td>W  EASTLAKE                     AV</td>\n",
       "      <td>(34.0738, -118.2078)</td>\n",
       "    </tr>\n",
       "    <tr>\n",
       "      <th>3</th>\n",
       "      <td>190127578</td>\n",
       "      <td>11/20/2019</td>\n",
       "      <td>11/20/2019</td>\n",
       "      <td>350</td>\n",
       "      <td>1</td>\n",
       "      <td>Central</td>\n",
       "      <td>128</td>\n",
       "      <td>997</td>\n",
       "      <td>TRAFFIC COLLISION</td>\n",
       "      <td>0605 3101 3401 3701 3011 3034</td>\n",
       "      <td>21.0</td>\n",
       "      <td>M</td>\n",
       "      <td>H</td>\n",
       "      <td>101.0</td>\n",
       "      <td>STREET</td>\n",
       "      <td>1ST</td>\n",
       "      <td>CENTRAL</td>\n",
       "      <td>(34.0492, -118.2391)</td>\n",
       "    </tr>\n",
       "    <tr>\n",
       "      <th>4</th>\n",
       "      <td>190319695</td>\n",
       "      <td>08/30/2019</td>\n",
       "      <td>08/30/2019</td>\n",
       "      <td>2100</td>\n",
       "      <td>3</td>\n",
       "      <td>Southwest</td>\n",
       "      <td>374</td>\n",
       "      <td>997</td>\n",
       "      <td>TRAFFIC COLLISION</td>\n",
       "      <td>0605 4025 3037 3004 3025 3101</td>\n",
       "      <td>49.0</td>\n",
       "      <td>M</td>\n",
       "      <td>B</td>\n",
       "      <td>101.0</td>\n",
       "      <td>STREET</td>\n",
       "      <td>MARTIN LUTHER KING JR</td>\n",
       "      <td>ARLINGTON                    AV</td>\n",
       "      <td>(34.0108, -118.3182)</td>\n",
       "    </tr>\n",
       "  </tbody>\n",
       "</table>\n",
       "</div>"
      ],
      "text/plain": [
       "   DR Number Date Reported Date Occurred  Time Occurred  Area ID   Area Name  \\\n",
       "0  190319651    08/24/2019    08/24/2019            450        3   Southwest   \n",
       "1  190319680    08/30/2019    08/30/2019           2320        3   Southwest   \n",
       "2  190413769    08/25/2019    08/25/2019            545        4  Hollenbeck   \n",
       "3  190127578    11/20/2019    11/20/2019            350        1     Central   \n",
       "4  190319695    08/30/2019    08/30/2019           2100        3   Southwest   \n",
       "\n",
       "   Reporting District  Crime Code Crime Code Description  \\\n",
       "0                 356         997      TRAFFIC COLLISION   \n",
       "1                 355         997      TRAFFIC COLLISION   \n",
       "2                 422         997      TRAFFIC COLLISION   \n",
       "3                 128         997      TRAFFIC COLLISION   \n",
       "4                 374         997      TRAFFIC COLLISION   \n",
       "\n",
       "                             MO Codes  Victim Age Victim Sex Victim Descent  \\\n",
       "0            3036 3004 3026 3101 4003        22.0          M              H   \n",
       "1  3037 3006 3028 3030 3039 3101 4003        30.0          F              H   \n",
       "2            3101 3401 3701 3006 3030         NaN          M              X   \n",
       "3       0605 3101 3401 3701 3011 3034        21.0          M              H   \n",
       "4       0605 4025 3037 3004 3025 3101        49.0          M              B   \n",
       "\n",
       "   Premise Code Premise Description                          Address  \\\n",
       "0         101.0              STREET  JEFFERSON                    BL   \n",
       "1         101.0              STREET  JEFFERSON                    BL   \n",
       "2         101.0              STREET                      N  BROADWAY   \n",
       "3         101.0              STREET                              1ST   \n",
       "4         101.0              STREET            MARTIN LUTHER KING JR   \n",
       "\n",
       "                         Cross Street              Location  \n",
       "0     NORMANDIE                    AV  (34.0255, -118.3002)  \n",
       "1                          W  WESTERN  (34.0256, -118.3089)  \n",
       "2  W  EASTLAKE                     AV  (34.0738, -118.2078)  \n",
       "3                             CENTRAL  (34.0492, -118.2391)  \n",
       "4     ARLINGTON                    AV  (34.0108, -118.3182)  "
      ]
     },
     "execution_count": 6,
     "metadata": {},
     "output_type": "execute_result"
    }
   ],
   "source": [
    "LA_nonhighway_collisions.head()"
   ]
  },
  {
   "cell_type": "code",
   "execution_count": 7,
   "id": "8c5f992e",
   "metadata": {},
   "outputs": [
    {
     "data": {
      "text/plain": [
       "(587194, 18)"
      ]
     },
     "execution_count": 7,
     "metadata": {},
     "output_type": "execute_result"
    }
   ],
   "source": [
    "LA_nonhighway_collisions.shape"
   ]
  },
  {
   "cell_type": "markdown",
   "id": "61061fd6",
   "metadata": {},
   "source": [
    "#### 4.3 Traffic Volume<a id='4.3_Traffic_Volume'>"
   ]
  },
  {
   "cell_type": "markdown",
   "id": "18d57fc5",
   "metadata": {},
   "source": [
    "Below is the data for traffic flow. This data is much smaller in volume but the data included will be useful for inferring other values."
   ]
  },
  {
   "cell_type": "code",
   "execution_count": 8,
   "id": "b9031d77",
   "metadata": {
    "scrolled": true
   },
   "outputs": [
    {
     "data": {
      "text/html": [
       "<div>\n",
       "<style scoped>\n",
       "    .dataframe tbody tr th:only-of-type {\n",
       "        vertical-align: middle;\n",
       "    }\n",
       "\n",
       "    .dataframe tbody tr th {\n",
       "        vertical-align: top;\n",
       "    }\n",
       "\n",
       "    .dataframe thead th {\n",
       "        text-align: right;\n",
       "    }\n",
       "</style>\n",
       "<table border=\"1\" class=\"dataframe\">\n",
       "  <thead>\n",
       "    <tr style=\"text-align: right;\">\n",
       "      <th></th>\n",
       "      <th>Primary Street</th>\n",
       "      <th>Dir</th>\n",
       "      <th>Cross Street</th>\n",
       "      <th>Type</th>\n",
       "      <th>Dist</th>\n",
       "      <th>Count Date</th>\n",
       "      <th>Day</th>\n",
       "      <th>W/B</th>\n",
       "      <th>E/B</th>\n",
       "      <th>N/B</th>\n",
       "      <th>S/B</th>\n",
       "      <th>Total</th>\n",
       "    </tr>\n",
       "  </thead>\n",
       "  <tbody>\n",
       "    <tr>\n",
       "      <th>0</th>\n",
       "      <td>1 st ST</td>\n",
       "      <td>AT</td>\n",
       "      <td>MC CADDEN PL</td>\n",
       "      <td>AUT</td>\n",
       "      <td>TUE</td>\n",
       "      <td>February 05 2013</td>\n",
       "      <td>TUE</td>\n",
       "      <td>364.0</td>\n",
       "      <td>763.0</td>\n",
       "      <td>0.0</td>\n",
       "      <td>0.0</td>\n",
       "      <td>1127.0</td>\n",
       "    </tr>\n",
       "    <tr>\n",
       "      <th>1</th>\n",
       "      <td>1 st ST</td>\n",
       "      <td>AT</td>\n",
       "      <td>ALAMEDA ST</td>\n",
       "      <td>AUTO</td>\n",
       "      <td>CR</td>\n",
       "      <td>January 16 2014</td>\n",
       "      <td>THU</td>\n",
       "      <td>6433.0</td>\n",
       "      <td>11669.0</td>\n",
       "      <td>0.0</td>\n",
       "      <td>0.0</td>\n",
       "      <td>18102.0</td>\n",
       "    </tr>\n",
       "    <tr>\n",
       "      <th>2</th>\n",
       "      <td>1 st ST</td>\n",
       "      <td>AT</td>\n",
       "      <td>MAIN ST</td>\n",
       "      <td>MIO</td>\n",
       "      <td>CR</td>\n",
       "      <td>March 27 2013</td>\n",
       "      <td>WED</td>\n",
       "      <td>9221.0</td>\n",
       "      <td>9811.0</td>\n",
       "      <td>0.0</td>\n",
       "      <td>0.0</td>\n",
       "      <td>19032.0</td>\n",
       "    </tr>\n",
       "    <tr>\n",
       "      <th>3</th>\n",
       "      <td>1 st ST</td>\n",
       "      <td>AT</td>\n",
       "      <td>SPRING ST</td>\n",
       "      <td>MIO</td>\n",
       "      <td>CR</td>\n",
       "      <td>March 19 2013</td>\n",
       "      <td>TUE</td>\n",
       "      <td>9365.0</td>\n",
       "      <td>9884.0</td>\n",
       "      <td>0.0</td>\n",
       "      <td>0.0</td>\n",
       "      <td>19249.0</td>\n",
       "    </tr>\n",
       "    <tr>\n",
       "      <th>4</th>\n",
       "      <td>1 st ST</td>\n",
       "      <td>AT</td>\n",
       "      <td>MAIN ST</td>\n",
       "      <td>MAN</td>\n",
       "      <td>CR</td>\n",
       "      <td>November 08 2011</td>\n",
       "      <td>TUE</td>\n",
       "      <td>11400.0</td>\n",
       "      <td>12497.0</td>\n",
       "      <td>NaN</td>\n",
       "      <td>NaN</td>\n",
       "      <td>23897.0</td>\n",
       "    </tr>\n",
       "  </tbody>\n",
       "</table>\n",
       "</div>"
      ],
      "text/plain": [
       "  Primary Street Dir  Cross Street  Type Dist        Count Date  Day      W/B  \\\n",
       "0        1 st ST  AT  MC CADDEN PL   AUT  TUE  February 05 2013  TUE    364.0   \n",
       "1        1 st ST  AT    ALAMEDA ST  AUTO   CR   January 16 2014  THU   6433.0   \n",
       "2        1 st ST  AT       MAIN ST   MIO   CR     March 27 2013  WED   9221.0   \n",
       "3        1 st ST  AT     SPRING ST   MIO   CR     March 19 2013  TUE   9365.0   \n",
       "4        1 st ST  AT       MAIN ST   MAN   CR  November 08 2011  TUE  11400.0   \n",
       "\n",
       "       E/B  N/B  S/B    Total  \n",
       "0    763.0  0.0  0.0   1127.0  \n",
       "1  11669.0  0.0  0.0  18102.0  \n",
       "2   9811.0  0.0  0.0  19032.0  \n",
       "3   9884.0  0.0  0.0  19249.0  \n",
       "4  12497.0  NaN  NaN  23897.0  "
      ]
     },
     "execution_count": 8,
     "metadata": {},
     "output_type": "execute_result"
    }
   ],
   "source": [
    "LA_traffic_counts.head()"
   ]
  },
  {
   "cell_type": "code",
   "execution_count": 9,
   "id": "827725b4",
   "metadata": {},
   "outputs": [
    {
     "data": {
      "text/plain": [
       "(5953, 12)"
      ]
     },
     "execution_count": 9,
     "metadata": {},
     "output_type": "execute_result"
    }
   ],
   "source": [
    "LA_traffic_counts.shape"
   ]
  },
  {
   "cell_type": "markdown",
   "id": "ccda3d1e",
   "metadata": {},
   "source": [
    "#### 4.4 Weather<a id='4.4_Weather'>"
   ]
  },
  {
   "cell_type": "code",
   "execution_count": 10,
   "id": "4999325d",
   "metadata": {
    "scrolled": false
   },
   "outputs": [
    {
     "data": {
      "text/html": [
       "<div>\n",
       "<style scoped>\n",
       "    .dataframe tbody tr th:only-of-type {\n",
       "        vertical-align: middle;\n",
       "    }\n",
       "\n",
       "    .dataframe tbody tr th {\n",
       "        vertical-align: top;\n",
       "    }\n",
       "\n",
       "    .dataframe thead th {\n",
       "        text-align: right;\n",
       "    }\n",
       "</style>\n",
       "<table border=\"1\" class=\"dataframe\">\n",
       "  <thead>\n",
       "    <tr style=\"text-align: right;\">\n",
       "      <th></th>\n",
       "      <th>dt</th>\n",
       "      <th>dt_iso</th>\n",
       "      <th>timezone</th>\n",
       "      <th>city_name</th>\n",
       "      <th>lat</th>\n",
       "      <th>lon</th>\n",
       "      <th>temp</th>\n",
       "      <th>visibility</th>\n",
       "      <th>dew_point</th>\n",
       "      <th>feels_like</th>\n",
       "      <th>...</th>\n",
       "      <th>wind_gust</th>\n",
       "      <th>rain_1h</th>\n",
       "      <th>rain_3h</th>\n",
       "      <th>snow_1h</th>\n",
       "      <th>snow_3h</th>\n",
       "      <th>clouds_all</th>\n",
       "      <th>weather_id</th>\n",
       "      <th>weather_main</th>\n",
       "      <th>weather_description</th>\n",
       "      <th>weather_icon</th>\n",
       "    </tr>\n",
       "  </thead>\n",
       "  <tbody>\n",
       "    <tr>\n",
       "      <th>0</th>\n",
       "      <td>1167609600</td>\n",
       "      <td>2007-01-01 00:00:00 +0000 UTC</td>\n",
       "      <td>-28800</td>\n",
       "      <td>Los Angeles</td>\n",
       "      <td>34.052234</td>\n",
       "      <td>-118.243685</td>\n",
       "      <td>15.88</td>\n",
       "      <td>10000.0</td>\n",
       "      <td>8.38</td>\n",
       "      <td>15.12</td>\n",
       "      <td>...</td>\n",
       "      <td>NaN</td>\n",
       "      <td>NaN</td>\n",
       "      <td>NaN</td>\n",
       "      <td>NaN</td>\n",
       "      <td>NaN</td>\n",
       "      <td>0</td>\n",
       "      <td>800</td>\n",
       "      <td>Clear</td>\n",
       "      <td>sky is clear</td>\n",
       "      <td>01d</td>\n",
       "    </tr>\n",
       "    <tr>\n",
       "      <th>1</th>\n",
       "      <td>1167613200</td>\n",
       "      <td>2007-01-01 01:00:00 +0000 UTC</td>\n",
       "      <td>-28800</td>\n",
       "      <td>Los Angeles</td>\n",
       "      <td>34.052234</td>\n",
       "      <td>-118.243685</td>\n",
       "      <td>14.79</td>\n",
       "      <td>10000.0</td>\n",
       "      <td>8.51</td>\n",
       "      <td>14.05</td>\n",
       "      <td>...</td>\n",
       "      <td>NaN</td>\n",
       "      <td>NaN</td>\n",
       "      <td>NaN</td>\n",
       "      <td>NaN</td>\n",
       "      <td>NaN</td>\n",
       "      <td>0</td>\n",
       "      <td>800</td>\n",
       "      <td>Clear</td>\n",
       "      <td>sky is clear</td>\n",
       "      <td>01n</td>\n",
       "    </tr>\n",
       "    <tr>\n",
       "      <th>2</th>\n",
       "      <td>1167616800</td>\n",
       "      <td>2007-01-01 02:00:00 +0000 UTC</td>\n",
       "      <td>-28800</td>\n",
       "      <td>Los Angeles</td>\n",
       "      <td>34.052234</td>\n",
       "      <td>-118.243685</td>\n",
       "      <td>14.01</td>\n",
       "      <td>10000.0</td>\n",
       "      <td>9.45</td>\n",
       "      <td>13.40</td>\n",
       "      <td>...</td>\n",
       "      <td>NaN</td>\n",
       "      <td>NaN</td>\n",
       "      <td>NaN</td>\n",
       "      <td>NaN</td>\n",
       "      <td>NaN</td>\n",
       "      <td>0</td>\n",
       "      <td>800</td>\n",
       "      <td>Clear</td>\n",
       "      <td>sky is clear</td>\n",
       "      <td>01n</td>\n",
       "    </tr>\n",
       "    <tr>\n",
       "      <th>3</th>\n",
       "      <td>1167620400</td>\n",
       "      <td>2007-01-01 03:00:00 +0000 UTC</td>\n",
       "      <td>-28800</td>\n",
       "      <td>Los Angeles</td>\n",
       "      <td>34.052234</td>\n",
       "      <td>-118.243685</td>\n",
       "      <td>12.08</td>\n",
       "      <td>9656.0</td>\n",
       "      <td>6.99</td>\n",
       "      <td>11.20</td>\n",
       "      <td>...</td>\n",
       "      <td>NaN</td>\n",
       "      <td>NaN</td>\n",
       "      <td>NaN</td>\n",
       "      <td>NaN</td>\n",
       "      <td>NaN</td>\n",
       "      <td>100</td>\n",
       "      <td>721</td>\n",
       "      <td>Haze</td>\n",
       "      <td>haze</td>\n",
       "      <td>50n</td>\n",
       "    </tr>\n",
       "    <tr>\n",
       "      <th>4</th>\n",
       "      <td>1167624000</td>\n",
       "      <td>2007-01-01 04:00:00 +0000 UTC</td>\n",
       "      <td>-28800</td>\n",
       "      <td>Los Angeles</td>\n",
       "      <td>34.052234</td>\n",
       "      <td>-118.243685</td>\n",
       "      <td>11.55</td>\n",
       "      <td>8047.0</td>\n",
       "      <td>7.66</td>\n",
       "      <td>10.77</td>\n",
       "      <td>...</td>\n",
       "      <td>NaN</td>\n",
       "      <td>NaN</td>\n",
       "      <td>NaN</td>\n",
       "      <td>NaN</td>\n",
       "      <td>NaN</td>\n",
       "      <td>75</td>\n",
       "      <td>721</td>\n",
       "      <td>Haze</td>\n",
       "      <td>haze</td>\n",
       "      <td>50n</td>\n",
       "    </tr>\n",
       "  </tbody>\n",
       "</table>\n",
       "<p>5 rows × 28 columns</p>\n",
       "</div>"
      ],
      "text/plain": [
       "           dt                         dt_iso  timezone    city_name  \\\n",
       "0  1167609600  2007-01-01 00:00:00 +0000 UTC    -28800  Los Angeles   \n",
       "1  1167613200  2007-01-01 01:00:00 +0000 UTC    -28800  Los Angeles   \n",
       "2  1167616800  2007-01-01 02:00:00 +0000 UTC    -28800  Los Angeles   \n",
       "3  1167620400  2007-01-01 03:00:00 +0000 UTC    -28800  Los Angeles   \n",
       "4  1167624000  2007-01-01 04:00:00 +0000 UTC    -28800  Los Angeles   \n",
       "\n",
       "         lat         lon   temp  visibility  dew_point  feels_like  ...  \\\n",
       "0  34.052234 -118.243685  15.88     10000.0       8.38       15.12  ...   \n",
       "1  34.052234 -118.243685  14.79     10000.0       8.51       14.05  ...   \n",
       "2  34.052234 -118.243685  14.01     10000.0       9.45       13.40  ...   \n",
       "3  34.052234 -118.243685  12.08      9656.0       6.99       11.20  ...   \n",
       "4  34.052234 -118.243685  11.55      8047.0       7.66       10.77  ...   \n",
       "\n",
       "   wind_gust  rain_1h  rain_3h  snow_1h  snow_3h  clouds_all  weather_id  \\\n",
       "0        NaN      NaN      NaN      NaN      NaN           0         800   \n",
       "1        NaN      NaN      NaN      NaN      NaN           0         800   \n",
       "2        NaN      NaN      NaN      NaN      NaN           0         800   \n",
       "3        NaN      NaN      NaN      NaN      NaN         100         721   \n",
       "4        NaN      NaN      NaN      NaN      NaN          75         721   \n",
       "\n",
       "   weather_main  weather_description  weather_icon  \n",
       "0         Clear         sky is clear           01d  \n",
       "1         Clear         sky is clear           01n  \n",
       "2         Clear         sky is clear           01n  \n",
       "3          Haze                 haze           50n  \n",
       "4          Haze                 haze           50n  \n",
       "\n",
       "[5 rows x 28 columns]"
      ]
     },
     "execution_count": 10,
     "metadata": {},
     "output_type": "execute_result"
    }
   ],
   "source": [
    "LA_weather.head()"
   ]
  },
  {
   "cell_type": "markdown",
   "id": "ecb530dd",
   "metadata": {},
   "source": [
    "The weather dataset contains information on each wreck, including: temp, visibility, and wind. This dataset will be joined to the collisions dataset on the time column later in this notebook. But first, cleaning the datasets."
   ]
  },
  {
   "cell_type": "code",
   "execution_count": 11,
   "id": "50fc60ab",
   "metadata": {},
   "outputs": [
    {
     "data": {
      "text/plain": [
       "(132731, 28)"
      ]
     },
     "execution_count": 11,
     "metadata": {},
     "output_type": "execute_result"
    }
   ],
   "source": [
    "LA_weather.shape"
   ]
  },
  {
   "cell_type": "markdown",
   "id": "4bab6b37",
   "metadata": {},
   "source": [
    "### 5 Traffic Collisions<a id='5_Traffic_Collisions'>"
   ]
  },
  {
   "cell_type": "markdown",
   "id": "f1673853",
   "metadata": {},
   "source": [
    "#### 5.1 Highway Collisions<a id='5.1_Highway_Collisions'>"
   ]
  },
  {
   "cell_type": "code",
   "execution_count": 12,
   "id": "0fbcd996",
   "metadata": {
    "scrolled": true
   },
   "outputs": [
    {
     "data": {
      "text/plain": [
       "id                     int64\n",
       "primary_road          object\n",
       "secondary_road        object\n",
       "intersection         float64\n",
       "side_of_highway       object\n",
       "severity              object\n",
       "type                  object\n",
       "pedestrian             int64\n",
       "bicycle                int64\n",
       "motorcycle             int64\n",
       "truck                  int64\n",
       "same_day_crashes       int64\n",
       "same_road_crashes      int64\n",
       "latitude             float64\n",
       "longitude            float64\n",
       "datetime              object\n",
       "dtype: object"
      ]
     },
     "execution_count": 12,
     "metadata": {},
     "output_type": "execute_result"
    }
   ],
   "source": [
    "LA_highway_collisions.dtypes"
   ]
  },
  {
   "cell_type": "markdown",
   "id": "5e72b562",
   "metadata": {},
   "source": [
    "The object dtypes are string objects. These will be turned into dummy columns in a future notebook. For now, focusing on missing values."
   ]
  },
  {
   "cell_type": "code",
   "execution_count": 13,
   "id": "967d4ba6",
   "metadata": {
    "scrolled": true
   },
   "outputs": [
    {
     "data": {
      "text/plain": [
       "id                        0\n",
       "primary_road              0\n",
       "secondary_road            2\n",
       "intersection            266\n",
       "side_of_highway      216113\n",
       "severity                  0\n",
       "type                    805\n",
       "pedestrian                0\n",
       "bicycle                   0\n",
       "motorcycle                0\n",
       "truck                     0\n",
       "same_day_crashes          0\n",
       "same_road_crashes         0\n",
       "latitude                  0\n",
       "longitude                 0\n",
       "datetime               1817\n",
       "dtype: int64"
      ]
     },
     "execution_count": 13,
     "metadata": {},
     "output_type": "execute_result"
    }
   ],
   "source": [
    "LA_highway_collisions.isna().sum()"
   ]
  },
  {
   "cell_type": "markdown",
   "id": "b6a4453a",
   "metadata": {},
   "source": [
    "There are quite a lot of missing values in a number of columns. Datetime is important, since that is the column that  will be used to join the two datasets on. Imputing values based on nearby values is an option, however it is only about 0.5% of the rows that are missing values in that column, so they will be dropped instead to avoid incorrect imputation. "
   ]
  },
  {
   "cell_type": "code",
   "execution_count": 14,
   "id": "e6f5ce3f",
   "metadata": {},
   "outputs": [],
   "source": [
    "LA_highway_collisions.dropna(subset = ['datetime'], inplace = True)"
   ]
  },
  {
   "cell_type": "code",
   "execution_count": 15,
   "id": "a0bd71f5",
   "metadata": {},
   "outputs": [
    {
     "name": "stdout",
     "output_type": "stream",
     "text": [
      "side_of_highway: [nan 'eastbound' 'southbound' 'northbound' 'westbound']\n",
      "type: ['broadside' 'rear end' 'hit object' 'sideswipe' 'head-on' 'other'\n",
      " 'pedestrian' 'overturned' nan]\n",
      "intersection: [ 0.  1. nan]\n"
     ]
    }
   ],
   "source": [
    "print('side_of_highway:', LA_highway_collisions['side_of_highway'].unique())\n",
    "print('type:', LA_highway_collisions['type'].unique())\n",
    "print('intersection:', LA_highway_collisions['intersection'].unique())"
   ]
  },
  {
   "cell_type": "markdown",
   "id": "db7a0680",
   "metadata": {},
   "source": [
    "The above columns are a mixture of string objects and a float. The string objects will be imputed with \"Not Available\" and the float will be imputed with zero. It is assumed that missing values for intersection are instances that did not involve an intersection"
   ]
  },
  {
   "cell_type": "code",
   "execution_count": 16,
   "id": "51836a33",
   "metadata": {},
   "outputs": [],
   "source": [
    "LA_highway_collisions.fillna({'side_of_highway':'Not Available', 'type':'Not Available',\n",
    "                              'intersection':0}, inplace = True)"
   ]
  },
  {
   "cell_type": "code",
   "execution_count": 17,
   "id": "b21232b5",
   "metadata": {},
   "outputs": [
    {
     "data": {
      "text/plain": [
       "id                   0\n",
       "primary_road         0\n",
       "secondary_road       2\n",
       "intersection         0\n",
       "side_of_highway      0\n",
       "severity             0\n",
       "type                 0\n",
       "pedestrian           0\n",
       "bicycle              0\n",
       "motorcycle           0\n",
       "truck                0\n",
       "same_day_crashes     0\n",
       "same_road_crashes    0\n",
       "latitude             0\n",
       "longitude            0\n",
       "datetime             0\n",
       "dtype: int64"
      ]
     },
     "execution_count": 17,
     "metadata": {},
     "output_type": "execute_result"
    }
   ],
   "source": [
    "LA_highway_collisions.isna().sum()"
   ]
  },
  {
   "cell_type": "code",
   "execution_count": 18,
   "id": "1a582808",
   "metadata": {},
   "outputs": [],
   "source": [
    "LA_highway_collisions.dropna(inplace = True)"
   ]
  },
  {
   "cell_type": "markdown",
   "id": "b465ee76",
   "metadata": {},
   "source": [
    "That's all of the null values handled in this dataset. The id column is no longer needed so that can be dropped."
   ]
  },
  {
   "cell_type": "code",
   "execution_count": 19,
   "id": "d95a9738",
   "metadata": {},
   "outputs": [],
   "source": [
    "LA_highway_collisions.drop(columns = ['id'], inplace = True)"
   ]
  },
  {
   "cell_type": "code",
   "execution_count": 20,
   "id": "703a5791",
   "metadata": {},
   "outputs": [
    {
     "data": {
      "text/plain": [
       "primary_road          26565\n",
       "secondary_road        15307\n",
       "intersection              2\n",
       "side_of_highway           5\n",
       "severity                  5\n",
       "type                      9\n",
       "pedestrian                2\n",
       "bicycle                   2\n",
       "motorcycle                2\n",
       "truck                     2\n",
       "same_day_crashes        145\n",
       "same_road_crashes       319\n",
       "latitude              24841\n",
       "longitude             43383\n",
       "datetime             283208\n",
       "dtype: int64"
      ]
     },
     "execution_count": 20,
     "metadata": {},
     "output_type": "execute_result"
    }
   ],
   "source": [
    "LA_highway_collisions.nunique()"
   ]
  },
  {
   "cell_type": "markdown",
   "id": "9e774394",
   "metadata": {},
   "source": [
    "Now, the non-highway collisions"
   ]
  },
  {
   "cell_type": "markdown",
   "id": "f4c4b273",
   "metadata": {},
   "source": [
    "#### 5.2 Non-Highway Collisions<a id='5.2_Non-Highway_Collisions'>"
   ]
  },
  {
   "cell_type": "code",
   "execution_count": 21,
   "id": "09d71929",
   "metadata": {
    "scrolled": true
   },
   "outputs": [
    {
     "data": {
      "text/plain": [
       "DR Number                   int64\n",
       "Date Reported              object\n",
       "Date Occurred              object\n",
       "Time Occurred               int64\n",
       "Area ID                     int64\n",
       "Area Name                  object\n",
       "Reporting District          int64\n",
       "Crime Code                  int64\n",
       "Crime Code Description     object\n",
       "MO Codes                   object\n",
       "Victim Age                float64\n",
       "Victim Sex                 object\n",
       "Victim Descent             object\n",
       "Premise Code              float64\n",
       "Premise Description        object\n",
       "Address                    object\n",
       "Cross Street               object\n",
       "Location                   object\n",
       "dtype: object"
      ]
     },
     "execution_count": 21,
     "metadata": {},
     "output_type": "execute_result"
    }
   ],
   "source": [
    "LA_nonhighway_collisions.dtypes"
   ]
  },
  {
   "cell_type": "markdown",
   "id": "11eb7128",
   "metadata": {},
   "source": [
    "There are many unneeded columns in this dataset. Mostly, columns pertaining to the victim's age or sex or pertaining to the area, other than Location, are not needed."
   ]
  },
  {
   "cell_type": "code",
   "execution_count": 22,
   "id": "02069c58",
   "metadata": {},
   "outputs": [],
   "source": [
    "LA_nonhighway_collisions.drop(columns = ['DR Number', 'Date Reported', 'Area ID', 'Area Name', \n",
    "                                         'Reporting District', 'Crime Code', 'Crime Code Description', 'MO Codes',\n",
    "                                         'Victim Sex', 'Victim Age', 'Victim Descent', 'Premise Code',\n",
    "                                         'Premise Description'], inplace = True)"
   ]
  },
  {
   "cell_type": "code",
   "execution_count": 23,
   "id": "b9003bd3",
   "metadata": {},
   "outputs": [
    {
     "data": {
      "text/html": [
       "<div>\n",
       "<style scoped>\n",
       "    .dataframe tbody tr th:only-of-type {\n",
       "        vertical-align: middle;\n",
       "    }\n",
       "\n",
       "    .dataframe tbody tr th {\n",
       "        vertical-align: top;\n",
       "    }\n",
       "\n",
       "    .dataframe thead th {\n",
       "        text-align: right;\n",
       "    }\n",
       "</style>\n",
       "<table border=\"1\" class=\"dataframe\">\n",
       "  <thead>\n",
       "    <tr style=\"text-align: right;\">\n",
       "      <th></th>\n",
       "      <th>Date Occurred</th>\n",
       "      <th>Time Occurred</th>\n",
       "      <th>Address</th>\n",
       "      <th>Cross Street</th>\n",
       "      <th>Location</th>\n",
       "    </tr>\n",
       "  </thead>\n",
       "  <tbody>\n",
       "    <tr>\n",
       "      <th>0</th>\n",
       "      <td>08/24/2019</td>\n",
       "      <td>450</td>\n",
       "      <td>JEFFERSON                    BL</td>\n",
       "      <td>NORMANDIE                    AV</td>\n",
       "      <td>(34.0255, -118.3002)</td>\n",
       "    </tr>\n",
       "    <tr>\n",
       "      <th>1</th>\n",
       "      <td>08/30/2019</td>\n",
       "      <td>2320</td>\n",
       "      <td>JEFFERSON                    BL</td>\n",
       "      <td>W  WESTERN</td>\n",
       "      <td>(34.0256, -118.3089)</td>\n",
       "    </tr>\n",
       "    <tr>\n",
       "      <th>2</th>\n",
       "      <td>08/25/2019</td>\n",
       "      <td>545</td>\n",
       "      <td>N  BROADWAY</td>\n",
       "      <td>W  EASTLAKE                     AV</td>\n",
       "      <td>(34.0738, -118.2078)</td>\n",
       "    </tr>\n",
       "    <tr>\n",
       "      <th>3</th>\n",
       "      <td>11/20/2019</td>\n",
       "      <td>350</td>\n",
       "      <td>1ST</td>\n",
       "      <td>CENTRAL</td>\n",
       "      <td>(34.0492, -118.2391)</td>\n",
       "    </tr>\n",
       "    <tr>\n",
       "      <th>4</th>\n",
       "      <td>08/30/2019</td>\n",
       "      <td>2100</td>\n",
       "      <td>MARTIN LUTHER KING JR</td>\n",
       "      <td>ARLINGTON                    AV</td>\n",
       "      <td>(34.0108, -118.3182)</td>\n",
       "    </tr>\n",
       "  </tbody>\n",
       "</table>\n",
       "</div>"
      ],
      "text/plain": [
       "  Date Occurred  Time Occurred                          Address  \\\n",
       "0    08/24/2019            450  JEFFERSON                    BL   \n",
       "1    08/30/2019           2320  JEFFERSON                    BL   \n",
       "2    08/25/2019            545                      N  BROADWAY   \n",
       "3    11/20/2019            350                              1ST   \n",
       "4    08/30/2019           2100            MARTIN LUTHER KING JR   \n",
       "\n",
       "                         Cross Street              Location  \n",
       "0     NORMANDIE                    AV  (34.0255, -118.3002)  \n",
       "1                          W  WESTERN  (34.0256, -118.3089)  \n",
       "2  W  EASTLAKE                     AV  (34.0738, -118.2078)  \n",
       "3                             CENTRAL  (34.0492, -118.2391)  \n",
       "4     ARLINGTON                    AV  (34.0108, -118.3182)  "
      ]
     },
     "execution_count": 23,
     "metadata": {},
     "output_type": "execute_result"
    }
   ],
   "source": [
    "LA_nonhighway_collisions.head()"
   ]
  },
  {
   "cell_type": "code",
   "execution_count": 24,
   "id": "c9bb0f87",
   "metadata": {},
   "outputs": [
    {
     "name": "stdout",
     "output_type": "stream",
     "text": [
      "<class 'str'>\n"
     ]
    }
   ],
   "source": [
    "print(type(LA_nonhighway_collisions['Location'][0]))"
   ]
  },
  {
   "cell_type": "markdown",
   "id": "df5c6dfa",
   "metadata": {},
   "source": [
    "The Location column has the latitude and logitude as a string. This string can be broken up by using ', ' as the seperator. The type will also be changed to float64 to match the highway collisions dataset"
   ]
  },
  {
   "cell_type": "code",
   "execution_count": 25,
   "id": "0352df51",
   "metadata": {},
   "outputs": [],
   "source": [
    "LA_nonhighway_collisions['latitude'] = LA_nonhighway_collisions['Location'].agg(\n",
    "    lambda x: x.split(', ')[0].replace('(', '')).astype('float64')\n",
    "LA_nonhighway_collisions['longitude'] = LA_nonhighway_collisions['Location'].agg(\n",
    "    lambda x: x.split(', ')[1].replace(')', '')).astype('float64')\n",
    "LA_nonhighway_collisions.drop(columns = ['Location'], inplace = True)"
   ]
  },
  {
   "cell_type": "code",
   "execution_count": 26,
   "id": "49ff967e",
   "metadata": {},
   "outputs": [
    {
     "data": {
      "text/html": [
       "<div>\n",
       "<style scoped>\n",
       "    .dataframe tbody tr th:only-of-type {\n",
       "        vertical-align: middle;\n",
       "    }\n",
       "\n",
       "    .dataframe tbody tr th {\n",
       "        vertical-align: top;\n",
       "    }\n",
       "\n",
       "    .dataframe thead th {\n",
       "        text-align: right;\n",
       "    }\n",
       "</style>\n",
       "<table border=\"1\" class=\"dataframe\">\n",
       "  <thead>\n",
       "    <tr style=\"text-align: right;\">\n",
       "      <th></th>\n",
       "      <th>Date Occurred</th>\n",
       "      <th>Time Occurred</th>\n",
       "      <th>Address</th>\n",
       "      <th>Cross Street</th>\n",
       "      <th>latitude</th>\n",
       "      <th>longitude</th>\n",
       "    </tr>\n",
       "  </thead>\n",
       "  <tbody>\n",
       "    <tr>\n",
       "      <th>0</th>\n",
       "      <td>08/24/2019</td>\n",
       "      <td>450</td>\n",
       "      <td>JEFFERSON                    BL</td>\n",
       "      <td>NORMANDIE                    AV</td>\n",
       "      <td>34.0255</td>\n",
       "      <td>-118.3002</td>\n",
       "    </tr>\n",
       "    <tr>\n",
       "      <th>1</th>\n",
       "      <td>08/30/2019</td>\n",
       "      <td>2320</td>\n",
       "      <td>JEFFERSON                    BL</td>\n",
       "      <td>W  WESTERN</td>\n",
       "      <td>34.0256</td>\n",
       "      <td>-118.3089</td>\n",
       "    </tr>\n",
       "    <tr>\n",
       "      <th>2</th>\n",
       "      <td>08/25/2019</td>\n",
       "      <td>545</td>\n",
       "      <td>N  BROADWAY</td>\n",
       "      <td>W  EASTLAKE                     AV</td>\n",
       "      <td>34.0738</td>\n",
       "      <td>-118.2078</td>\n",
       "    </tr>\n",
       "    <tr>\n",
       "      <th>3</th>\n",
       "      <td>11/20/2019</td>\n",
       "      <td>350</td>\n",
       "      <td>1ST</td>\n",
       "      <td>CENTRAL</td>\n",
       "      <td>34.0492</td>\n",
       "      <td>-118.2391</td>\n",
       "    </tr>\n",
       "    <tr>\n",
       "      <th>4</th>\n",
       "      <td>08/30/2019</td>\n",
       "      <td>2100</td>\n",
       "      <td>MARTIN LUTHER KING JR</td>\n",
       "      <td>ARLINGTON                    AV</td>\n",
       "      <td>34.0108</td>\n",
       "      <td>-118.3182</td>\n",
       "    </tr>\n",
       "  </tbody>\n",
       "</table>\n",
       "</div>"
      ],
      "text/plain": [
       "  Date Occurred  Time Occurred                          Address  \\\n",
       "0    08/24/2019            450  JEFFERSON                    BL   \n",
       "1    08/30/2019           2320  JEFFERSON                    BL   \n",
       "2    08/25/2019            545                      N  BROADWAY   \n",
       "3    11/20/2019            350                              1ST   \n",
       "4    08/30/2019           2100            MARTIN LUTHER KING JR   \n",
       "\n",
       "                         Cross Street  latitude  longitude  \n",
       "0     NORMANDIE                    AV   34.0255  -118.3002  \n",
       "1                          W  WESTERN   34.0256  -118.3089  \n",
       "2  W  EASTLAKE                     AV   34.0738  -118.2078  \n",
       "3                             CENTRAL   34.0492  -118.2391  \n",
       "4     ARLINGTON                    AV   34.0108  -118.3182  "
      ]
     },
     "execution_count": 26,
     "metadata": {},
     "output_type": "execute_result"
    }
   ],
   "source": [
    "LA_nonhighway_collisions.head()"
   ]
  },
  {
   "cell_type": "code",
   "execution_count": 27,
   "id": "52cb5a36",
   "metadata": {},
   "outputs": [],
   "source": [
    "LA_nonhighway_collisions.rename(columns = {'Address':'primary_road', 'Cross Street':'secondary_road'}, inplace = True)"
   ]
  },
  {
   "cell_type": "code",
   "execution_count": 28,
   "id": "c9978082",
   "metadata": {},
   "outputs": [
    {
     "data": {
      "text/plain": [
       "Date Occurred      object\n",
       "Time Occurred       int64\n",
       "primary_road       object\n",
       "secondary_road     object\n",
       "latitude          float64\n",
       "longitude         float64\n",
       "dtype: object"
      ]
     },
     "execution_count": 28,
     "metadata": {},
     "output_type": "execute_result"
    }
   ],
   "source": [
    "LA_nonhighway_collisions.dtypes"
   ]
  },
  {
   "cell_type": "markdown",
   "id": "e5eafb23",
   "metadata": {},
   "source": [
    "Are there any null values?"
   ]
  },
  {
   "cell_type": "code",
   "execution_count": 29,
   "id": "a642424c",
   "metadata": {
    "scrolled": true
   },
   "outputs": [
    {
     "data": {
      "text/plain": [
       "Date Occurred         0\n",
       "Time Occurred         0\n",
       "primary_road          0\n",
       "secondary_road    27892\n",
       "latitude              0\n",
       "longitude             0\n",
       "dtype: int64"
      ]
     },
     "execution_count": 29,
     "metadata": {},
     "output_type": "execute_result"
    }
   ],
   "source": [
    "LA_nonhighway_collisions.isna().sum()"
   ]
  },
  {
   "cell_type": "code",
   "execution_count": 30,
   "id": "cde2655f",
   "metadata": {},
   "outputs": [],
   "source": [
    "LA_nonhighway_collisions.dropna(inplace = True)"
   ]
  },
  {
   "cell_type": "markdown",
   "id": "c542a904",
   "metadata": {},
   "source": [
    "Columns are added to match the highway collisions dataset. The columns are loaded with either 0 or 'Not Available' depending on column type."
   ]
  },
  {
   "cell_type": "code",
   "execution_count": 31,
   "id": "785c2519",
   "metadata": {},
   "outputs": [],
   "source": [
    "LA_nonhighway_collisions['intersection'] = 0\n",
    "LA_nonhighway_collisions['side_of_highway'] = 'Not Available'\n",
    "LA_nonhighway_collisions['severity'] = 'Not Available'\n",
    "LA_nonhighway_collisions['type'] = 'Not Available'\n",
    "LA_nonhighway_collisions['pedestrian'] = 0\n",
    "LA_nonhighway_collisions['bicycle'] = 0\n",
    "LA_nonhighway_collisions['motorcycle'] = 0\n",
    "LA_nonhighway_collisions['truck'] = 0\n",
    "LA_nonhighway_collisions['same_day_crashes'] = 0\n",
    "LA_nonhighway_collisions['same_road_crashes'] = 0"
   ]
  },
  {
   "cell_type": "markdown",
   "id": "0eb4c2b3",
   "metadata": {},
   "source": [
    "### 6 Weather<a id='6_Weather'>"
   ]
  },
  {
   "cell_type": "code",
   "execution_count": 32,
   "id": "945a2095",
   "metadata": {},
   "outputs": [
    {
     "data": {
      "text/plain": [
       "dt                       int64\n",
       "dt_iso                  object\n",
       "timezone                 int64\n",
       "city_name               object\n",
       "lat                    float64\n",
       "lon                    float64\n",
       "temp                   float64\n",
       "visibility             float64\n",
       "dew_point              float64\n",
       "feels_like             float64\n",
       "temp_min               float64\n",
       "temp_max               float64\n",
       "pressure                 int64\n",
       "sea_level              float64\n",
       "grnd_level             float64\n",
       "humidity                 int64\n",
       "wind_speed             float64\n",
       "wind_deg                 int64\n",
       "wind_gust              float64\n",
       "rain_1h                float64\n",
       "rain_3h                float64\n",
       "snow_1h                float64\n",
       "snow_3h                float64\n",
       "clouds_all               int64\n",
       "weather_id               int64\n",
       "weather_main            object\n",
       "weather_description     object\n",
       "weather_icon            object\n",
       "dtype: object"
      ]
     },
     "execution_count": 32,
     "metadata": {},
     "output_type": "execute_result"
    }
   ],
   "source": [
    "LA_weather.dtypes"
   ]
  },
  {
   "cell_type": "markdown",
   "id": "48607366",
   "metadata": {},
   "source": [
    "Again, this dataset, like the previous, is a mixture of numerics and strings."
   ]
  },
  {
   "cell_type": "code",
   "execution_count": 33,
   "id": "d8903f9d",
   "metadata": {
    "scrolled": false
   },
   "outputs": [
    {
     "data": {
      "text/plain": [
       "dt                          0\n",
       "dt_iso                      0\n",
       "timezone                    0\n",
       "city_name                   0\n",
       "lat                         0\n",
       "lon                         0\n",
       "temp                        0\n",
       "visibility               1133\n",
       "dew_point                   0\n",
       "feels_like                  0\n",
       "temp_min                    0\n",
       "temp_max                    0\n",
       "pressure                    0\n",
       "sea_level              132731\n",
       "grnd_level             132731\n",
       "humidity                    0\n",
       "wind_speed                  0\n",
       "wind_deg                    0\n",
       "wind_gust              112518\n",
       "rain_1h                126144\n",
       "rain_3h                132314\n",
       "snow_1h                132731\n",
       "snow_3h                132731\n",
       "clouds_all                  0\n",
       "weather_id                  0\n",
       "weather_main                0\n",
       "weather_description         0\n",
       "weather_icon                0\n",
       "dtype: int64"
      ]
     },
     "execution_count": 33,
     "metadata": {},
     "output_type": "execute_result"
    }
   ],
   "source": [
    "LA_weather.isna().sum()"
   ]
  },
  {
   "cell_type": "code",
   "execution_count": 34,
   "id": "a81d8e4e",
   "metadata": {},
   "outputs": [],
   "source": [
    "LA_weather.drop(columns = ['dt_iso', 'timezone', 'city_name', 'lat', 'lon', 'sea_level', 'grnd_level', 'feels_like', \\\n",
    "                           'weather_id', 'weather_main', 'weather_description', 'weather_icon'], inplace = True)"
   ]
  },
  {
   "cell_type": "markdown",
   "id": "0d16de64",
   "metadata": {},
   "source": [
    "The columns dropped above are not pertinent to our this case or for the joining of the two datasets. "
   ]
  },
  {
   "cell_type": "code",
   "execution_count": 35,
   "id": "c4cc090f",
   "metadata": {},
   "outputs": [
    {
     "data": {
      "text/plain": [
       "0.00     8578\n",
       "0.45     1257\n",
       "1.34      853\n",
       "1.79      823\n",
       "2.24      755\n",
       "         ... \n",
       "12.34       1\n",
       "14.39       1\n",
       "17.00       1\n",
       "16.00       1\n",
       "12.07       1\n",
       "Name: wind_gust, Length: 84, dtype: int64"
      ]
     },
     "execution_count": 35,
     "metadata": {},
     "output_type": "execute_result"
    }
   ],
   "source": [
    "LA_weather['wind_gust'].value_counts()"
   ]
  },
  {
   "cell_type": "code",
   "execution_count": 36,
   "id": "ed7ce0df",
   "metadata": {},
   "outputs": [
    {
     "data": {
      "text/plain": [
       "0.30    699\n",
       "0.50    413\n",
       "0.20    300\n",
       "0.25    242\n",
       "0.11    197\n",
       "       ... \n",
       "2.44      1\n",
       "3.32      1\n",
       "2.31      1\n",
       "1.79      1\n",
       "2.95      1\n",
       "Name: rain_1h, Length: 391, dtype: int64"
      ]
     },
     "execution_count": 36,
     "metadata": {},
     "output_type": "execute_result"
    }
   ],
   "source": [
    "LA_weather['rain_1h'].value_counts()"
   ]
  },
  {
   "cell_type": "code",
   "execution_count": 37,
   "id": "427daf1a",
   "metadata": {},
   "outputs": [
    {
     "data": {
      "text/plain": [
       "0.30     87\n",
       "0.50     41\n",
       "0.80     32\n",
       "1.30     18\n",
       "1.00     18\n",
       "         ..\n",
       "18.80     1\n",
       "8.60      1\n",
       "16.80     1\n",
       "28.40     1\n",
       "8.12      1\n",
       "Name: rain_3h, Length: 64, dtype: int64"
      ]
     },
     "execution_count": 37,
     "metadata": {},
     "output_type": "execute_result"
    }
   ],
   "source": [
    "LA_weather['rain_3h'].value_counts()"
   ]
  },
  {
   "cell_type": "markdown",
   "id": "62028f66",
   "metadata": {},
   "source": [
    "Looking at the value counts above, it is reasonable to impute the value of zero for null values for those columns."
   ]
  },
  {
   "cell_type": "code",
   "execution_count": 38,
   "id": "96168ca5",
   "metadata": {},
   "outputs": [
    {
     "data": {
      "text/plain": [
       "(0, 16)"
      ]
     },
     "execution_count": 38,
     "metadata": {},
     "output_type": "execute_result"
    }
   ],
   "source": [
    "LA_weather[LA_weather['rain_1h'] == 0].shape"
   ]
  },
  {
   "cell_type": "markdown",
   "id": "70c5bc71",
   "metadata": {},
   "source": [
    "Indeed, there are no zero values in the rain_1h column, giving further confirmation that the missing values are meant to be zero."
   ]
  },
  {
   "cell_type": "markdown",
   "id": "a1b13ead",
   "metadata": {},
   "source": [
    "The columns snow_1h and snow_3h are missing all of the values. This isn't that surprising; it is L.A. So, these columns will be dropped, as well."
   ]
  },
  {
   "cell_type": "code",
   "execution_count": 39,
   "id": "c9052597",
   "metadata": {},
   "outputs": [],
   "source": [
    "LA_weather.drop(columns = ['snow_1h', 'snow_3h'], inplace = True)"
   ]
  },
  {
   "cell_type": "markdown",
   "id": "b5a78631",
   "metadata": {},
   "source": [
    "The missing values in the visibility column will be dropped. Like the datetime column in the collisions dataset, the missing values only make up about 1% of the total number of rows, and imputing could lead to erroneous results"
   ]
  },
  {
   "cell_type": "code",
   "execution_count": 40,
   "id": "9bfb4b24",
   "metadata": {},
   "outputs": [],
   "source": [
    "LA_weather.dropna(subset = ['visibility'], inplace = True)\n",
    "LA_weather.fillna(value = 0, inplace = True)"
   ]
  },
  {
   "cell_type": "code",
   "execution_count": 41,
   "id": "fad8087e",
   "metadata": {},
   "outputs": [
    {
     "data": {
      "text/plain": [
       "dt            0\n",
       "temp          0\n",
       "visibility    0\n",
       "dew_point     0\n",
       "temp_min      0\n",
       "temp_max      0\n",
       "pressure      0\n",
       "humidity      0\n",
       "wind_speed    0\n",
       "wind_deg      0\n",
       "wind_gust     0\n",
       "rain_1h       0\n",
       "rain_3h       0\n",
       "clouds_all    0\n",
       "dtype: int64"
      ]
     },
     "execution_count": 41,
     "metadata": {},
     "output_type": "execute_result"
    }
   ],
   "source": [
    "LA_weather.isna().sum()"
   ]
  },
  {
   "cell_type": "markdown",
   "id": "1c8d80ea",
   "metadata": {},
   "source": [
    "Again, this dataset is now cleaning of any missing values"
   ]
  },
  {
   "cell_type": "code",
   "execution_count": 42,
   "id": "a4650a8b",
   "metadata": {},
   "outputs": [
    {
     "data": {
      "text/plain": [
       "dt            130363\n",
       "temp            3479\n",
       "visibility        19\n",
       "dew_point       3836\n",
       "temp_min        3170\n",
       "temp_max        3644\n",
       "pressure          49\n",
       "humidity          98\n",
       "wind_speed       228\n",
       "wind_deg         361\n",
       "wind_gust         84\n",
       "rain_1h          389\n",
       "rain_3h           65\n",
       "clouds_all        98\n",
       "dtype: int64"
      ]
     },
     "execution_count": 42,
     "metadata": {},
     "output_type": "execute_result"
    }
   ],
   "source": [
    "LA_weather.nunique()"
   ]
  },
  {
   "cell_type": "markdown",
   "id": "eb190a44",
   "metadata": {},
   "source": [
    "### 7 Merge<a id='7_Merge'>"
   ]
  },
  {
   "cell_type": "markdown",
   "id": "9d763e1c",
   "metadata": {},
   "source": [
    "#### 7.1 Combining Collision Datasets<a id='7.1_Combining_Collision_Datasets'>"
   ]
  },
  {
   "cell_type": "markdown",
   "id": "eeff8a7a",
   "metadata": {},
   "source": [
    "To start, the 'Date Occurred' and 'Time Occurred' columns of the non-highway collisions dataset need to be combined into a single column. The Time Occured column is an int representation of a 24-hour clock. This column needs to be changed into a workable format "
   ]
  },
  {
   "cell_type": "code",
   "execution_count": 43,
   "id": "c670dcde",
   "metadata": {},
   "outputs": [],
   "source": [
    "LA_nonhighway_collisions['Time Occurred'] = LA_nonhighway_collisions['Time Occurred'].astype('str').agg(\n",
    "    lambda x: x[:2] + ':' + x[2:] + ':00' if len(x) > 3 else x[:1] + ':' + x[1:] + ':00' if\n",
    "    len(x) > 2 else '00' + ':' + x + ':00')\n",
    "LA_nonhighway_collisions['Date Occurred'] = LA_nonhighway_collisions['Date Occurred'].agg(\n",
    "    lambda x: x.replace('/','-'))"
   ]
  },
  {
   "cell_type": "code",
   "execution_count": 44,
   "id": "23e1ba79",
   "metadata": {},
   "outputs": [
    {
     "data": {
      "text/plain": [
       "0     4:50:00\n",
       "1    23:20:00\n",
       "2     5:45:00\n",
       "3     3:50:00\n",
       "4    21:00:00\n",
       "Name: Time Occurred, dtype: object"
      ]
     },
     "execution_count": 44,
     "metadata": {},
     "output_type": "execute_result"
    }
   ],
   "source": [
    "LA_nonhighway_collisions['Time Occurred'].head()"
   ]
  },
  {
   "cell_type": "code",
   "execution_count": 45,
   "id": "897dd66f",
   "metadata": {},
   "outputs": [],
   "source": [
    "LA_nonhighway_collisions['datetime'] = LA_nonhighway_collisions['Date Occurred'] + ' ' + LA_nonhighway_collisions['Time Occurred']"
   ]
  },
  {
   "cell_type": "code",
   "execution_count": 46,
   "id": "ed81de9a",
   "metadata": {},
   "outputs": [
    {
     "data": {
      "text/html": [
       "<div>\n",
       "<style scoped>\n",
       "    .dataframe tbody tr th:only-of-type {\n",
       "        vertical-align: middle;\n",
       "    }\n",
       "\n",
       "    .dataframe tbody tr th {\n",
       "        vertical-align: top;\n",
       "    }\n",
       "\n",
       "    .dataframe thead th {\n",
       "        text-align: right;\n",
       "    }\n",
       "</style>\n",
       "<table border=\"1\" class=\"dataframe\">\n",
       "  <thead>\n",
       "    <tr style=\"text-align: right;\">\n",
       "      <th></th>\n",
       "      <th>Date Occurred</th>\n",
       "      <th>Time Occurred</th>\n",
       "      <th>primary_road</th>\n",
       "      <th>secondary_road</th>\n",
       "      <th>latitude</th>\n",
       "      <th>longitude</th>\n",
       "      <th>intersection</th>\n",
       "      <th>side_of_highway</th>\n",
       "      <th>severity</th>\n",
       "      <th>type</th>\n",
       "      <th>pedestrian</th>\n",
       "      <th>bicycle</th>\n",
       "      <th>motorcycle</th>\n",
       "      <th>truck</th>\n",
       "      <th>same_day_crashes</th>\n",
       "      <th>same_road_crashes</th>\n",
       "      <th>datetime</th>\n",
       "    </tr>\n",
       "  </thead>\n",
       "  <tbody>\n",
       "    <tr>\n",
       "      <th>0</th>\n",
       "      <td>08-24-2019</td>\n",
       "      <td>4:50:00</td>\n",
       "      <td>JEFFERSON                    BL</td>\n",
       "      <td>NORMANDIE                    AV</td>\n",
       "      <td>34.0255</td>\n",
       "      <td>-118.3002</td>\n",
       "      <td>0</td>\n",
       "      <td>Not Available</td>\n",
       "      <td>Not Available</td>\n",
       "      <td>Not Available</td>\n",
       "      <td>0</td>\n",
       "      <td>0</td>\n",
       "      <td>0</td>\n",
       "      <td>0</td>\n",
       "      <td>0</td>\n",
       "      <td>0</td>\n",
       "      <td>08-24-2019 4:50:00</td>\n",
       "    </tr>\n",
       "    <tr>\n",
       "      <th>1</th>\n",
       "      <td>08-30-2019</td>\n",
       "      <td>23:20:00</td>\n",
       "      <td>JEFFERSON                    BL</td>\n",
       "      <td>W  WESTERN</td>\n",
       "      <td>34.0256</td>\n",
       "      <td>-118.3089</td>\n",
       "      <td>0</td>\n",
       "      <td>Not Available</td>\n",
       "      <td>Not Available</td>\n",
       "      <td>Not Available</td>\n",
       "      <td>0</td>\n",
       "      <td>0</td>\n",
       "      <td>0</td>\n",
       "      <td>0</td>\n",
       "      <td>0</td>\n",
       "      <td>0</td>\n",
       "      <td>08-30-2019 23:20:00</td>\n",
       "    </tr>\n",
       "    <tr>\n",
       "      <th>2</th>\n",
       "      <td>08-25-2019</td>\n",
       "      <td>5:45:00</td>\n",
       "      <td>N  BROADWAY</td>\n",
       "      <td>W  EASTLAKE                     AV</td>\n",
       "      <td>34.0738</td>\n",
       "      <td>-118.2078</td>\n",
       "      <td>0</td>\n",
       "      <td>Not Available</td>\n",
       "      <td>Not Available</td>\n",
       "      <td>Not Available</td>\n",
       "      <td>0</td>\n",
       "      <td>0</td>\n",
       "      <td>0</td>\n",
       "      <td>0</td>\n",
       "      <td>0</td>\n",
       "      <td>0</td>\n",
       "      <td>08-25-2019 5:45:00</td>\n",
       "    </tr>\n",
       "    <tr>\n",
       "      <th>3</th>\n",
       "      <td>11-20-2019</td>\n",
       "      <td>3:50:00</td>\n",
       "      <td>1ST</td>\n",
       "      <td>CENTRAL</td>\n",
       "      <td>34.0492</td>\n",
       "      <td>-118.2391</td>\n",
       "      <td>0</td>\n",
       "      <td>Not Available</td>\n",
       "      <td>Not Available</td>\n",
       "      <td>Not Available</td>\n",
       "      <td>0</td>\n",
       "      <td>0</td>\n",
       "      <td>0</td>\n",
       "      <td>0</td>\n",
       "      <td>0</td>\n",
       "      <td>0</td>\n",
       "      <td>11-20-2019 3:50:00</td>\n",
       "    </tr>\n",
       "    <tr>\n",
       "      <th>4</th>\n",
       "      <td>08-30-2019</td>\n",
       "      <td>21:00:00</td>\n",
       "      <td>MARTIN LUTHER KING JR</td>\n",
       "      <td>ARLINGTON                    AV</td>\n",
       "      <td>34.0108</td>\n",
       "      <td>-118.3182</td>\n",
       "      <td>0</td>\n",
       "      <td>Not Available</td>\n",
       "      <td>Not Available</td>\n",
       "      <td>Not Available</td>\n",
       "      <td>0</td>\n",
       "      <td>0</td>\n",
       "      <td>0</td>\n",
       "      <td>0</td>\n",
       "      <td>0</td>\n",
       "      <td>0</td>\n",
       "      <td>08-30-2019 21:00:00</td>\n",
       "    </tr>\n",
       "  </tbody>\n",
       "</table>\n",
       "</div>"
      ],
      "text/plain": [
       "  Date Occurred Time Occurred                     primary_road  \\\n",
       "0    08-24-2019       4:50:00  JEFFERSON                    BL   \n",
       "1    08-30-2019      23:20:00  JEFFERSON                    BL   \n",
       "2    08-25-2019       5:45:00                      N  BROADWAY   \n",
       "3    11-20-2019       3:50:00                              1ST   \n",
       "4    08-30-2019      21:00:00            MARTIN LUTHER KING JR   \n",
       "\n",
       "                       secondary_road  latitude  longitude  intersection  \\\n",
       "0     NORMANDIE                    AV   34.0255  -118.3002             0   \n",
       "1                          W  WESTERN   34.0256  -118.3089             0   \n",
       "2  W  EASTLAKE                     AV   34.0738  -118.2078             0   \n",
       "3                             CENTRAL   34.0492  -118.2391             0   \n",
       "4     ARLINGTON                    AV   34.0108  -118.3182             0   \n",
       "\n",
       "  side_of_highway       severity           type  pedestrian  bicycle  \\\n",
       "0   Not Available  Not Available  Not Available           0        0   \n",
       "1   Not Available  Not Available  Not Available           0        0   \n",
       "2   Not Available  Not Available  Not Available           0        0   \n",
       "3   Not Available  Not Available  Not Available           0        0   \n",
       "4   Not Available  Not Available  Not Available           0        0   \n",
       "\n",
       "   motorcycle  truck  same_day_crashes  same_road_crashes             datetime  \n",
       "0           0      0                 0                  0   08-24-2019 4:50:00  \n",
       "1           0      0                 0                  0  08-30-2019 23:20:00  \n",
       "2           0      0                 0                  0   08-25-2019 5:45:00  \n",
       "3           0      0                 0                  0   11-20-2019 3:50:00  \n",
       "4           0      0                 0                  0  08-30-2019 21:00:00  "
      ]
     },
     "execution_count": 46,
     "metadata": {},
     "output_type": "execute_result"
    }
   ],
   "source": [
    "LA_nonhighway_collisions.head()"
   ]
  },
  {
   "cell_type": "code",
   "execution_count": 47,
   "id": "2cab1a09",
   "metadata": {},
   "outputs": [],
   "source": [
    "LA_nonhighway_collisions.drop(columns = ['Date Occurred', 'Time Occurred'], inplace = True)\n",
    "LA_nonhighway_collisions.rename(columns = {'Address':'road'}, inplace = True)"
   ]
  },
  {
   "cell_type": "markdown",
   "id": "cfc42710",
   "metadata": {},
   "source": [
    "The datetime column of both dataframes will now be converted to a datetime object."
   ]
  },
  {
   "cell_type": "code",
   "execution_count": 48,
   "id": "d74c0437",
   "metadata": {},
   "outputs": [],
   "source": [
    "LA_highway_collisions['datetime'] = pd.to_datetime(LA_highway_collisions['datetime'])\n",
    "LA_nonhighway_collisions['datetime'] = pd.to_datetime(LA_nonhighway_collisions['datetime'])"
   ]
  },
  {
   "cell_type": "code",
   "execution_count": 49,
   "id": "83493d29",
   "metadata": {},
   "outputs": [
    {
     "data": {
      "text/plain": [
       "Timestamp('2007-11-15 08:42:00')"
      ]
     },
     "execution_count": 49,
     "metadata": {},
     "output_type": "execute_result"
    }
   ],
   "source": [
    "LA_highway_collisions['datetime'].min()"
   ]
  },
  {
   "cell_type": "code",
   "execution_count": 50,
   "id": "6c3fc941",
   "metadata": {},
   "outputs": [
    {
     "data": {
      "text/plain": [
       "Timestamp('2010-01-01 00:05:00')"
      ]
     },
     "execution_count": 50,
     "metadata": {},
     "output_type": "execute_result"
    }
   ],
   "source": [
    "LA_nonhighway_collisions['datetime'].min()"
   ]
  },
  {
   "cell_type": "markdown",
   "id": "6f732b4a",
   "metadata": {},
   "source": [
    "The highway collisions contain data from an earlier date than the nonhighway collisions. It would be best to drop this data from the earlier dates, so that the danger of the highways isn't skewed more dangerous than it may or may not be. First, how much of that data would be dropped?"
   ]
  },
  {
   "cell_type": "code",
   "execution_count": 51,
   "id": "69b1f577",
   "metadata": {},
   "outputs": [
    {
     "data": {
      "text/plain": [
       "(18118, 15)"
      ]
     },
     "execution_count": 51,
     "metadata": {},
     "output_type": "execute_result"
    }
   ],
   "source": [
    "LA_highway_collisions[LA_highway_collisions['datetime'] < pd.to_datetime('2010-01-01 00:05:00')].shape"
   ]
  },
  {
   "cell_type": "code",
   "execution_count": 52,
   "id": "1115be6a",
   "metadata": {},
   "outputs": [
    {
     "data": {
      "text/plain": [
       "(318087, 15)"
      ]
     },
     "execution_count": 52,
     "metadata": {},
     "output_type": "execute_result"
    }
   ],
   "source": [
    "LA_highway_collisions.shape"
   ]
  },
  {
   "cell_type": "markdown",
   "id": "31cda498",
   "metadata": {},
   "source": [
    "Only about 5% of the data will be lost. "
   ]
  },
  {
   "cell_type": "code",
   "execution_count": 53,
   "id": "70c30616",
   "metadata": {},
   "outputs": [],
   "source": [
    "LA_highway_collisions = LA_highway_collisions[LA_highway_collisions['datetime'] > pd.to_datetime('2010-01-01 00:05:00')]"
   ]
  },
  {
   "cell_type": "code",
   "execution_count": 54,
   "id": "715f95c0",
   "metadata": {},
   "outputs": [],
   "source": [
    "LA_collisions = LA_highway_collisions.append(LA_nonhighway_collisions, ignore_index = True)"
   ]
  },
  {
   "cell_type": "code",
   "execution_count": 55,
   "id": "2365a981",
   "metadata": {},
   "outputs": [
    {
     "data": {
      "text/html": [
       "<div>\n",
       "<style scoped>\n",
       "    .dataframe tbody tr th:only-of-type {\n",
       "        vertical-align: middle;\n",
       "    }\n",
       "\n",
       "    .dataframe tbody tr th {\n",
       "        vertical-align: top;\n",
       "    }\n",
       "\n",
       "    .dataframe thead th {\n",
       "        text-align: right;\n",
       "    }\n",
       "</style>\n",
       "<table border=\"1\" class=\"dataframe\">\n",
       "  <thead>\n",
       "    <tr style=\"text-align: right;\">\n",
       "      <th></th>\n",
       "      <th>primary_road</th>\n",
       "      <th>secondary_road</th>\n",
       "      <th>intersection</th>\n",
       "      <th>side_of_highway</th>\n",
       "      <th>severity</th>\n",
       "      <th>type</th>\n",
       "      <th>pedestrian</th>\n",
       "      <th>bicycle</th>\n",
       "      <th>motorcycle</th>\n",
       "      <th>truck</th>\n",
       "      <th>same_day_crashes</th>\n",
       "      <th>same_road_crashes</th>\n",
       "      <th>latitude</th>\n",
       "      <th>longitude</th>\n",
       "      <th>datetime</th>\n",
       "    </tr>\n",
       "  </thead>\n",
       "  <tbody>\n",
       "    <tr>\n",
       "      <th>0</th>\n",
       "      <td>CENTINELA AV</td>\n",
       "      <td>BEACH AV</td>\n",
       "      <td>0.0</td>\n",
       "      <td>Not Available</td>\n",
       "      <td>pain</td>\n",
       "      <td>broadside</td>\n",
       "      <td>0</td>\n",
       "      <td>0</td>\n",
       "      <td>0</td>\n",
       "      <td>0</td>\n",
       "      <td>3</td>\n",
       "      <td>229</td>\n",
       "      <td>33.97074</td>\n",
       "      <td>-118.34786</td>\n",
       "      <td>2021-06-01 13:58:00</td>\n",
       "    </tr>\n",
       "    <tr>\n",
       "      <th>1</th>\n",
       "      <td>MANCHESTER BLVD</td>\n",
       "      <td>11TH AV</td>\n",
       "      <td>1.0</td>\n",
       "      <td>Not Available</td>\n",
       "      <td>pain</td>\n",
       "      <td>broadside</td>\n",
       "      <td>0</td>\n",
       "      <td>0</td>\n",
       "      <td>0</td>\n",
       "      <td>0</td>\n",
       "      <td>3</td>\n",
       "      <td>185</td>\n",
       "      <td>33.95995</td>\n",
       "      <td>-118.32868</td>\n",
       "      <td>2021-06-01 16:15:00</td>\n",
       "    </tr>\n",
       "    <tr>\n",
       "      <th>2</th>\n",
       "      <td>I-710 NORTHBOUND(LONG BEACH FREEWAY)</td>\n",
       "      <td>IMPERIAL HWY</td>\n",
       "      <td>0.0</td>\n",
       "      <td>Not Available</td>\n",
       "      <td>property damage only</td>\n",
       "      <td>rear end</td>\n",
       "      <td>0</td>\n",
       "      <td>0</td>\n",
       "      <td>0</td>\n",
       "      <td>0</td>\n",
       "      <td>3</td>\n",
       "      <td>1</td>\n",
       "      <td>33.92770</td>\n",
       "      <td>-118.17820</td>\n",
       "      <td>2021-06-01 16:20:00</td>\n",
       "    </tr>\n",
       "    <tr>\n",
       "      <th>3</th>\n",
       "      <td>LA BREA AV</td>\n",
       "      <td>FLORENCE AV</td>\n",
       "      <td>1.0</td>\n",
       "      <td>Not Available</td>\n",
       "      <td>property damage only</td>\n",
       "      <td>hit object</td>\n",
       "      <td>0</td>\n",
       "      <td>0</td>\n",
       "      <td>0</td>\n",
       "      <td>0</td>\n",
       "      <td>3</td>\n",
       "      <td>424</td>\n",
       "      <td>33.96550</td>\n",
       "      <td>-118.35330</td>\n",
       "      <td>2021-05-30 06:45:00</td>\n",
       "    </tr>\n",
       "    <tr>\n",
       "      <th>4</th>\n",
       "      <td>I-605 (S/B)</td>\n",
       "      <td>WASHINGTON BLVD</td>\n",
       "      <td>0.0</td>\n",
       "      <td>Not Available</td>\n",
       "      <td>severe injury</td>\n",
       "      <td>hit object</td>\n",
       "      <td>0</td>\n",
       "      <td>0</td>\n",
       "      <td>0</td>\n",
       "      <td>0</td>\n",
       "      <td>3</td>\n",
       "      <td>131</td>\n",
       "      <td>33.97228</td>\n",
       "      <td>-118.08097</td>\n",
       "      <td>2021-05-30 22:35:00</td>\n",
       "    </tr>\n",
       "  </tbody>\n",
       "</table>\n",
       "</div>"
      ],
      "text/plain": [
       "                           primary_road   secondary_road  intersection  \\\n",
       "0                          CENTINELA AV         BEACH AV           0.0   \n",
       "1                       MANCHESTER BLVD          11TH AV           1.0   \n",
       "2  I-710 NORTHBOUND(LONG BEACH FREEWAY)     IMPERIAL HWY           0.0   \n",
       "3                            LA BREA AV      FLORENCE AV           1.0   \n",
       "4                           I-605 (S/B)  WASHINGTON BLVD           0.0   \n",
       "\n",
       "  side_of_highway              severity        type  pedestrian  bicycle  \\\n",
       "0   Not Available                  pain   broadside           0        0   \n",
       "1   Not Available                  pain   broadside           0        0   \n",
       "2   Not Available  property damage only    rear end           0        0   \n",
       "3   Not Available  property damage only  hit object           0        0   \n",
       "4   Not Available         severe injury  hit object           0        0   \n",
       "\n",
       "   motorcycle  truck  same_day_crashes  same_road_crashes  latitude  \\\n",
       "0           0      0                 3                229  33.97074   \n",
       "1           0      0                 3                185  33.95995   \n",
       "2           0      0                 3                  1  33.92770   \n",
       "3           0      0                 3                424  33.96550   \n",
       "4           0      0                 3                131  33.97228   \n",
       "\n",
       "   longitude            datetime  \n",
       "0 -118.34786 2021-06-01 13:58:00  \n",
       "1 -118.32868 2021-06-01 16:15:00  \n",
       "2 -118.17820 2021-06-01 16:20:00  \n",
       "3 -118.35330 2021-05-30 06:45:00  \n",
       "4 -118.08097 2021-05-30 22:35:00  "
      ]
     },
     "execution_count": 55,
     "metadata": {},
     "output_type": "execute_result"
    }
   ],
   "source": [
    "LA_collisions.head()"
   ]
  },
  {
   "cell_type": "code",
   "execution_count": 56,
   "id": "46b600e3",
   "metadata": {},
   "outputs": [
    {
     "data": {
      "text/plain": [
       "(859271, 15)"
      ]
     },
     "execution_count": 56,
     "metadata": {},
     "output_type": "execute_result"
    }
   ],
   "source": [
    "LA_collisions.shape"
   ]
  },
  {
   "cell_type": "markdown",
   "id": "f87c68bd",
   "metadata": {},
   "source": [
    "Great! The two collision datasets are now combined into one dataframe. Now that dataframe can be merged with the weather data."
   ]
  },
  {
   "cell_type": "markdown",
   "id": "f36c3e81",
   "metadata": {},
   "source": [
    "#### 7.2 Merging Collision and Weather<a id='7.2_Merging_Collision_and_Weather'>"
   ]
  },
  {
   "cell_type": "markdown",
   "id": "6de993f6",
   "metadata": {},
   "source": [
    "The datasets will be merged on the datetime column. Before this can be done, the weather dataset needs a datetime column. This can be extracted form the dt column which is the time given as a UNIX timestamp."
   ]
  },
  {
   "cell_type": "code",
   "execution_count": 57,
   "id": "37cec5cb",
   "metadata": {},
   "outputs": [],
   "source": [
    "LA_weather['datetime'] = pd.to_datetime(LA_weather['dt'], unit='s')"
   ]
  },
  {
   "cell_type": "code",
   "execution_count": 58,
   "id": "9f83bc4f",
   "metadata": {},
   "outputs": [
    {
     "data": {
      "text/plain": [
       "0   2007-01-01 00:00:00\n",
       "1   2007-01-01 01:00:00\n",
       "2   2007-01-01 02:00:00\n",
       "3   2007-01-01 03:00:00\n",
       "4   2007-01-01 04:00:00\n",
       "5   2007-01-01 05:00:00\n",
       "6   2007-01-01 06:00:00\n",
       "7   2007-01-01 07:00:00\n",
       "8   2007-01-01 08:00:00\n",
       "9   2007-01-01 09:00:00\n",
       "Name: datetime, dtype: datetime64[ns]"
      ]
     },
     "execution_count": 58,
     "metadata": {},
     "output_type": "execute_result"
    }
   ],
   "source": [
    "LA_weather['datetime'].head(10)"
   ]
  },
  {
   "cell_type": "markdown",
   "id": "d8cfc528",
   "metadata": {},
   "source": [
    "However, the datetime column is now in GMT time. pd.Timedelta allows for subtracting the necessary amount of hours, 8, to get the column into L.A. time."
   ]
  },
  {
   "cell_type": "code",
   "execution_count": 59,
   "id": "d70ee186",
   "metadata": {},
   "outputs": [],
   "source": [
    "LA_weather.loc[:,'datetime'] += pd.Timedelta(value = -8, unit = 'h')"
   ]
  },
  {
   "cell_type": "code",
   "execution_count": 60,
   "id": "8acd379c",
   "metadata": {},
   "outputs": [
    {
     "data": {
      "text/plain": [
       "0   2006-12-31 16:00:00\n",
       "1   2006-12-31 17:00:00\n",
       "2   2006-12-31 18:00:00\n",
       "3   2006-12-31 19:00:00\n",
       "4   2006-12-31 20:00:00\n",
       "5   2006-12-31 21:00:00\n",
       "6   2006-12-31 22:00:00\n",
       "7   2006-12-31 23:00:00\n",
       "8   2007-01-01 00:00:00\n",
       "9   2007-01-01 01:00:00\n",
       "Name: datetime, dtype: datetime64[ns]"
      ]
     },
     "execution_count": 60,
     "metadata": {},
     "output_type": "execute_result"
    }
   ],
   "source": [
    "LA_weather['datetime'].head(10)"
   ]
  },
  {
   "cell_type": "markdown",
   "id": "35a10571",
   "metadata": {},
   "source": [
    "The weather dataset's datetime column is in intervals of one hour, while the collisions dataset's datetime values can be any time. Before the merge, the collisions dataset's datetime column will be rounded to the nearest hour. Also, duplicates will be dropped from the weather dataset to avoid any unwanted rows"
   ]
  },
  {
   "cell_type": "code",
   "execution_count": 61,
   "id": "b8f30365",
   "metadata": {},
   "outputs": [],
   "source": [
    "LA_collisions['datetime'] = LA_collisions['datetime'].dt.round(freq = 'H')\n",
    "LA_weather.drop_duplicates(subset = ['datetime'], keep = False, inplace = True)"
   ]
  },
  {
   "cell_type": "code",
   "execution_count": 62,
   "id": "8069d9aa",
   "metadata": {},
   "outputs": [],
   "source": [
    "LA_data = LA_collisions.merge(LA_weather, how = 'inner', on = 'datetime')"
   ]
  },
  {
   "cell_type": "code",
   "execution_count": 63,
   "id": "922a2ea6",
   "metadata": {},
   "outputs": [
    {
     "data": {
      "text/html": [
       "<div>\n",
       "<style scoped>\n",
       "    .dataframe tbody tr th:only-of-type {\n",
       "        vertical-align: middle;\n",
       "    }\n",
       "\n",
       "    .dataframe tbody tr th {\n",
       "        vertical-align: top;\n",
       "    }\n",
       "\n",
       "    .dataframe thead th {\n",
       "        text-align: right;\n",
       "    }\n",
       "</style>\n",
       "<table border=\"1\" class=\"dataframe\">\n",
       "  <thead>\n",
       "    <tr style=\"text-align: right;\">\n",
       "      <th></th>\n",
       "      <th>primary_road</th>\n",
       "      <th>secondary_road</th>\n",
       "      <th>intersection</th>\n",
       "      <th>side_of_highway</th>\n",
       "      <th>severity</th>\n",
       "      <th>type</th>\n",
       "      <th>pedestrian</th>\n",
       "      <th>bicycle</th>\n",
       "      <th>motorcycle</th>\n",
       "      <th>truck</th>\n",
       "      <th>...</th>\n",
       "      <th>temp_min</th>\n",
       "      <th>temp_max</th>\n",
       "      <th>pressure</th>\n",
       "      <th>humidity</th>\n",
       "      <th>wind_speed</th>\n",
       "      <th>wind_deg</th>\n",
       "      <th>wind_gust</th>\n",
       "      <th>rain_1h</th>\n",
       "      <th>rain_3h</th>\n",
       "      <th>clouds_all</th>\n",
       "    </tr>\n",
       "  </thead>\n",
       "  <tbody>\n",
       "    <tr>\n",
       "      <th>0</th>\n",
       "      <td>CENTINELA AV</td>\n",
       "      <td>BEACH AV</td>\n",
       "      <td>0.0</td>\n",
       "      <td>Not Available</td>\n",
       "      <td>pain</td>\n",
       "      <td>broadside</td>\n",
       "      <td>0</td>\n",
       "      <td>0</td>\n",
       "      <td>0</td>\n",
       "      <td>0</td>\n",
       "      <td>...</td>\n",
       "      <td>20.21</td>\n",
       "      <td>32.14</td>\n",
       "      <td>1014</td>\n",
       "      <td>54</td>\n",
       "      <td>1.34</td>\n",
       "      <td>293</td>\n",
       "      <td>0.45</td>\n",
       "      <td>0.0</td>\n",
       "      <td>0.0</td>\n",
       "      <td>0</td>\n",
       "    </tr>\n",
       "    <tr>\n",
       "      <th>1</th>\n",
       "      <td>CRENSHAW                     BL</td>\n",
       "      <td>VERNON                       AV</td>\n",
       "      <td>0.0</td>\n",
       "      <td>Not Available</td>\n",
       "      <td>Not Available</td>\n",
       "      <td>Not Available</td>\n",
       "      <td>0</td>\n",
       "      <td>0</td>\n",
       "      <td>0</td>\n",
       "      <td>0</td>\n",
       "      <td>...</td>\n",
       "      <td>20.21</td>\n",
       "      <td>32.14</td>\n",
       "      <td>1014</td>\n",
       "      <td>54</td>\n",
       "      <td>1.34</td>\n",
       "      <td>293</td>\n",
       "      <td>0.45</td>\n",
       "      <td>0.0</td>\n",
       "      <td>0.0</td>\n",
       "      <td>0</td>\n",
       "    </tr>\n",
       "    <tr>\n",
       "      <th>2</th>\n",
       "      <td>MANCHESTER BLVD</td>\n",
       "      <td>11TH AV</td>\n",
       "      <td>1.0</td>\n",
       "      <td>Not Available</td>\n",
       "      <td>pain</td>\n",
       "      <td>broadside</td>\n",
       "      <td>0</td>\n",
       "      <td>0</td>\n",
       "      <td>0</td>\n",
       "      <td>0</td>\n",
       "      <td>...</td>\n",
       "      <td>19.10</td>\n",
       "      <td>31.11</td>\n",
       "      <td>1013</td>\n",
       "      <td>58</td>\n",
       "      <td>2.57</td>\n",
       "      <td>0</td>\n",
       "      <td>0.00</td>\n",
       "      <td>0.0</td>\n",
       "      <td>0.0</td>\n",
       "      <td>0</td>\n",
       "    </tr>\n",
       "    <tr>\n",
       "      <th>3</th>\n",
       "      <td>I-710 NORTHBOUND(LONG BEACH FREEWAY)</td>\n",
       "      <td>IMPERIAL HWY</td>\n",
       "      <td>0.0</td>\n",
       "      <td>Not Available</td>\n",
       "      <td>property damage only</td>\n",
       "      <td>rear end</td>\n",
       "      <td>0</td>\n",
       "      <td>0</td>\n",
       "      <td>0</td>\n",
       "      <td>0</td>\n",
       "      <td>...</td>\n",
       "      <td>19.10</td>\n",
       "      <td>31.11</td>\n",
       "      <td>1013</td>\n",
       "      <td>58</td>\n",
       "      <td>2.57</td>\n",
       "      <td>0</td>\n",
       "      <td>0.00</td>\n",
       "      <td>0.0</td>\n",
       "      <td>0.0</td>\n",
       "      <td>0</td>\n",
       "    </tr>\n",
       "    <tr>\n",
       "      <th>4</th>\n",
       "      <td>JEFFERSON</td>\n",
       "      <td>2ND                          AV</td>\n",
       "      <td>0.0</td>\n",
       "      <td>Not Available</td>\n",
       "      <td>Not Available</td>\n",
       "      <td>Not Available</td>\n",
       "      <td>0</td>\n",
       "      <td>0</td>\n",
       "      <td>0</td>\n",
       "      <td>0</td>\n",
       "      <td>...</td>\n",
       "      <td>19.10</td>\n",
       "      <td>31.11</td>\n",
       "      <td>1013</td>\n",
       "      <td>58</td>\n",
       "      <td>2.57</td>\n",
       "      <td>0</td>\n",
       "      <td>0.00</td>\n",
       "      <td>0.0</td>\n",
       "      <td>0.0</td>\n",
       "      <td>0</td>\n",
       "    </tr>\n",
       "  </tbody>\n",
       "</table>\n",
       "<p>5 rows × 29 columns</p>\n",
       "</div>"
      ],
      "text/plain": [
       "                           primary_road                   secondary_road  \\\n",
       "0                          CENTINELA AV                         BEACH AV   \n",
       "1       CRENSHAW                     BL  VERNON                       AV   \n",
       "2                       MANCHESTER BLVD                          11TH AV   \n",
       "3  I-710 NORTHBOUND(LONG BEACH FREEWAY)                     IMPERIAL HWY   \n",
       "4                             JEFFERSON  2ND                          AV   \n",
       "\n",
       "   intersection side_of_highway              severity           type  \\\n",
       "0           0.0   Not Available                  pain      broadside   \n",
       "1           0.0   Not Available         Not Available  Not Available   \n",
       "2           1.0   Not Available                  pain      broadside   \n",
       "3           0.0   Not Available  property damage only       rear end   \n",
       "4           0.0   Not Available         Not Available  Not Available   \n",
       "\n",
       "   pedestrian  bicycle  motorcycle  truck  ...  temp_min  temp_max  pressure  \\\n",
       "0           0        0           0      0  ...     20.21     32.14      1014   \n",
       "1           0        0           0      0  ...     20.21     32.14      1014   \n",
       "2           0        0           0      0  ...     19.10     31.11      1013   \n",
       "3           0        0           0      0  ...     19.10     31.11      1013   \n",
       "4           0        0           0      0  ...     19.10     31.11      1013   \n",
       "\n",
       "   humidity wind_speed  wind_deg  wind_gust  rain_1h  rain_3h  clouds_all  \n",
       "0        54       1.34       293       0.45      0.0      0.0           0  \n",
       "1        54       1.34       293       0.45      0.0      0.0           0  \n",
       "2        58       2.57         0       0.00      0.0      0.0           0  \n",
       "3        58       2.57         0       0.00      0.0      0.0           0  \n",
       "4        58       2.57         0       0.00      0.0      0.0           0  \n",
       "\n",
       "[5 rows x 29 columns]"
      ]
     },
     "execution_count": 63,
     "metadata": {},
     "output_type": "execute_result"
    }
   ],
   "source": [
    "LA_data.head()"
   ]
  },
  {
   "cell_type": "code",
   "execution_count": 64,
   "id": "91472d50",
   "metadata": {},
   "outputs": [
    {
     "data": {
      "text/plain": [
       "(826202, 29)"
      ]
     },
     "execution_count": 64,
     "metadata": {},
     "output_type": "execute_result"
    }
   ],
   "source": [
    "LA_data.shape"
   ]
  },
  {
   "cell_type": "code",
   "execution_count": 65,
   "id": "9f15b9b1",
   "metadata": {},
   "outputs": [
    {
     "data": {
      "text/plain": [
       "Index(['primary_road', 'secondary_road', 'intersection', 'side_of_highway',\n",
       "       'severity', 'type', 'pedestrian', 'bicycle', 'motorcycle', 'truck',\n",
       "       'same_day_crashes', 'same_road_crashes', 'latitude', 'longitude',\n",
       "       'datetime', 'dt', 'temp', 'visibility', 'dew_point', 'temp_min',\n",
       "       'temp_max', 'pressure', 'humidity', 'wind_speed', 'wind_deg',\n",
       "       'wind_gust', 'rain_1h', 'rain_3h', 'clouds_all'],\n",
       "      dtype='object')"
      ]
     },
     "execution_count": 65,
     "metadata": {},
     "output_type": "execute_result"
    }
   ],
   "source": [
    "LA_data.columns"
   ]
  },
  {
   "cell_type": "code",
   "execution_count": 66,
   "id": "e9cc2ae3",
   "metadata": {},
   "outputs": [
    {
     "data": {
      "text/html": [
       "<div>\n",
       "<style scoped>\n",
       "    .dataframe tbody tr th:only-of-type {\n",
       "        vertical-align: middle;\n",
       "    }\n",
       "\n",
       "    .dataframe tbody tr th {\n",
       "        vertical-align: top;\n",
       "    }\n",
       "\n",
       "    .dataframe thead th {\n",
       "        text-align: right;\n",
       "    }\n",
       "</style>\n",
       "<table border=\"1\" class=\"dataframe\">\n",
       "  <thead>\n",
       "    <tr style=\"text-align: right;\">\n",
       "      <th></th>\n",
       "      <th>datetime</th>\n",
       "      <th>dt</th>\n",
       "    </tr>\n",
       "  </thead>\n",
       "  <tbody>\n",
       "    <tr>\n",
       "      <th>0</th>\n",
       "      <td>2021-06-01 14:00:00</td>\n",
       "      <td>1622584800</td>\n",
       "    </tr>\n",
       "    <tr>\n",
       "      <th>1</th>\n",
       "      <td>2021-06-01 14:00:00</td>\n",
       "      <td>1622584800</td>\n",
       "    </tr>\n",
       "    <tr>\n",
       "      <th>2</th>\n",
       "      <td>2021-06-01 16:00:00</td>\n",
       "      <td>1622592000</td>\n",
       "    </tr>\n",
       "    <tr>\n",
       "      <th>3</th>\n",
       "      <td>2021-06-01 16:00:00</td>\n",
       "      <td>1622592000</td>\n",
       "    </tr>\n",
       "    <tr>\n",
       "      <th>4</th>\n",
       "      <td>2021-06-01 16:00:00</td>\n",
       "      <td>1622592000</td>\n",
       "    </tr>\n",
       "  </tbody>\n",
       "</table>\n",
       "</div>"
      ],
      "text/plain": [
       "             datetime          dt\n",
       "0 2021-06-01 14:00:00  1622584800\n",
       "1 2021-06-01 14:00:00  1622584800\n",
       "2 2021-06-01 16:00:00  1622592000\n",
       "3 2021-06-01 16:00:00  1622592000\n",
       "4 2021-06-01 16:00:00  1622592000"
      ]
     },
     "execution_count": 66,
     "metadata": {},
     "output_type": "execute_result"
    }
   ],
   "source": [
    "LA_data[['datetime', 'dt']].head()"
   ]
  },
  {
   "cell_type": "code",
   "execution_count": 67,
   "id": "b48def80",
   "metadata": {},
   "outputs": [],
   "source": [
    "LA_data.drop(columns = ['dt'], inplace = True)"
   ]
  },
  {
   "cell_type": "code",
   "execution_count": 68,
   "id": "6872c9c5",
   "metadata": {},
   "outputs": [
    {
     "data": {
      "text/plain": [
       "primary_road                 object\n",
       "secondary_road               object\n",
       "intersection                float64\n",
       "side_of_highway              object\n",
       "severity                     object\n",
       "type                         object\n",
       "pedestrian                    int64\n",
       "bicycle                       int64\n",
       "motorcycle                    int64\n",
       "truck                         int64\n",
       "same_day_crashes              int64\n",
       "same_road_crashes             int64\n",
       "latitude                    float64\n",
       "longitude                   float64\n",
       "datetime             datetime64[ns]\n",
       "temp                        float64\n",
       "visibility                  float64\n",
       "dew_point                   float64\n",
       "temp_min                    float64\n",
       "temp_max                    float64\n",
       "pressure                      int64\n",
       "humidity                      int64\n",
       "wind_speed                  float64\n",
       "wind_deg                      int64\n",
       "wind_gust                   float64\n",
       "rain_1h                     float64\n",
       "rain_3h                     float64\n",
       "clouds_all                    int64\n",
       "dtype: object"
      ]
     },
     "execution_count": 68,
     "metadata": {},
     "output_type": "execute_result"
    }
   ],
   "source": [
    "LA_data.dtypes"
   ]
  },
  {
   "cell_type": "markdown",
   "id": "26c9d5d4",
   "metadata": {},
   "source": [
    "After the merge, the dataset contains only a slightly fewer number of rows than the collisions dataset. This means that only a few accidents didn't have corresponding weather data, which is great."
   ]
  },
  {
   "cell_type": "markdown",
   "id": "d74ebb43",
   "metadata": {},
   "source": [
    "### 8 Traffic Volume<a id='8_Traffic_Volume'>"
   ]
  },
  {
   "cell_type": "markdown",
   "id": "4f083281",
   "metadata": {},
   "source": [
    "It needs to be determined which roads we have volume data for and how that compares to the roads that we have collision data for"
   ]
  },
  {
   "cell_type": "code",
   "execution_count": 69,
   "id": "fc412f93",
   "metadata": {},
   "outputs": [],
   "source": [
    "LA_traffic_counts.drop(columns = ['Dir', 'Type', 'Dist', 'Day', 'W/B', 'E/B', 'N/B', 'S/B'], inplace = True)\n",
    "LA_traffic_counts.rename(columns = {'Primary Street':'primary_road', 'Cross Street':'secondary_road'}, inplace = True)"
   ]
  },
  {
   "cell_type": "code",
   "execution_count": 70,
   "id": "e36b2156",
   "metadata": {},
   "outputs": [
    {
     "data": {
      "text/plain": [
       "1531"
      ]
     },
     "execution_count": 70,
     "metadata": {},
     "output_type": "execute_result"
    }
   ],
   "source": [
    "volume_roads = LA_traffic_counts['primary_road']\n",
    "volume_roads.nunique()"
   ]
  },
  {
   "cell_type": "code",
   "execution_count": 71,
   "id": "94932152",
   "metadata": {},
   "outputs": [
    {
     "data": {
      "text/plain": [
       "40168"
      ]
     },
     "execution_count": 71,
     "metadata": {},
     "output_type": "execute_result"
    }
   ],
   "source": [
    "collision_roads = LA_data['primary_road']\n",
    "collision_roads.nunique()"
   ]
  },
  {
   "cell_type": "markdown",
   "id": "df5c4466",
   "metadata": {},
   "source": [
    "Obviously, there are many more roads that have collisions on them than roads that have available traffic volume data. But, the volume data can still be useful."
   ]
  },
  {
   "cell_type": "markdown",
   "id": "10c8acb6",
   "metadata": {},
   "source": [
    "How clean is the data in terms of missing values?"
   ]
  },
  {
   "cell_type": "code",
   "execution_count": 72,
   "id": "251bd27a",
   "metadata": {},
   "outputs": [
    {
     "data": {
      "text/plain": [
       "primary_road      0\n",
       "secondary_road    0\n",
       "Count Date        6\n",
       "Total             9\n",
       "dtype: int64"
      ]
     },
     "execution_count": 72,
     "metadata": {},
     "output_type": "execute_result"
    }
   ],
   "source": [
    "LA_traffic_counts.isna().sum()"
   ]
  },
  {
   "cell_type": "code",
   "execution_count": 73,
   "id": "9bbfe4bc",
   "metadata": {},
   "outputs": [],
   "source": [
    "LA_traffic_counts.dropna(inplace = True)"
   ]
  },
  {
   "cell_type": "markdown",
   "id": "630f50b9",
   "metadata": {},
   "source": [
    "What are the data types?"
   ]
  },
  {
   "cell_type": "code",
   "execution_count": 74,
   "id": "006b463b",
   "metadata": {
    "scrolled": true
   },
   "outputs": [
    {
     "data": {
      "text/plain": [
       "primary_road       object\n",
       "secondary_road     object\n",
       "Count Date         object\n",
       "Total             float64\n",
       "dtype: object"
      ]
     },
     "execution_count": 74,
     "metadata": {},
     "output_type": "execute_result"
    }
   ],
   "source": [
    "LA_traffic_counts.dtypes"
   ]
  },
  {
   "cell_type": "markdown",
   "id": "30fc005f",
   "metadata": {},
   "source": [
    "This data will be revisited in the following notebook, Exploratory Data Analysis. The data is much less 'complete' than the collision data, so some inferences will have to be made. The traffic count data that is available will be used to make assumptions about other roads."
   ]
  },
  {
   "cell_type": "markdown",
   "id": "ea8bd65d",
   "metadata": {},
   "source": [
    "### 9 First Look<a id='9_First_Look'>"
   ]
  },
  {
   "cell_type": "markdown",
   "id": "1ad8f98f",
   "metadata": {},
   "source": [
    "Which 5 roads see the most accidents?"
   ]
  },
  {
   "cell_type": "code",
   "execution_count": 75,
   "id": "c306ed5f",
   "metadata": {},
   "outputs": [
    {
     "data": {
      "text/plain": [
       "RT 10     16263\n",
       "RT 5      13021\n",
       "RT 110    12262\n",
       "RT 405    10767\n",
       "RT 605     7500\n",
       "Name: primary_road, dtype: int64"
      ]
     },
     "execution_count": 75,
     "metadata": {},
     "output_type": "execute_result"
    }
   ],
   "source": [
    "LA_data['primary_road'].value_counts().head(5)"
   ]
  },
  {
   "cell_type": "markdown",
   "id": "9d267c1d",
   "metadata": {},
   "source": [
    "What was the least and most amount of crashes in a single day?"
   ]
  },
  {
   "cell_type": "code",
   "execution_count": 76,
   "id": "aa52d335",
   "metadata": {},
   "outputs": [
    {
     "name": "stdout",
     "output_type": "stream",
     "text": [
      "0\n",
      "163\n"
     ]
    }
   ],
   "source": [
    "print(min(LA_data['same_day_crashes']))\n",
    "print(max(LA_data['same_day_crashes']))"
   ]
  },
  {
   "cell_type": "markdown",
   "id": "80da9ce1",
   "metadata": {},
   "source": [
    "What was the weather like on those days?"
   ]
  },
  {
   "cell_type": "code",
   "execution_count": 77,
   "id": "68012569",
   "metadata": {
    "scrolled": true
   },
   "outputs": [
    {
     "data": {
      "text/plain": [
       "0.19472972972972974"
      ]
     },
     "execution_count": 77,
     "metadata": {},
     "output_type": "execute_result"
    }
   ],
   "source": [
    "LA_data[LA_data['same_day_crashes'] == 163]['rain_1h'].mean()"
   ]
  },
  {
   "cell_type": "code",
   "execution_count": 78,
   "id": "e86c304e",
   "metadata": {},
   "outputs": [
    {
     "data": {
      "text/plain": [
       "9759.256756756757"
      ]
     },
     "execution_count": 78,
     "metadata": {},
     "output_type": "execute_result"
    }
   ],
   "source": [
    "LA_data[LA_data['same_day_crashes'] == 163]['visibility'].mean()"
   ]
  },
  {
   "cell_type": "code",
   "execution_count": 79,
   "id": "fd3d7f3d",
   "metadata": {},
   "outputs": [
    {
     "data": {
      "text/plain": [
       "20.469114475590303"
      ]
     },
     "execution_count": 79,
     "metadata": {},
     "output_type": "execute_result"
    }
   ],
   "source": [
    "LA_data[LA_data['same_day_crashes'] == 0]['temp'].mean()"
   ]
  },
  {
   "cell_type": "code",
   "execution_count": 80,
   "id": "b293a24a",
   "metadata": {},
   "outputs": [
    {
     "data": {
      "text/plain": [
       "22.67945945945946"
      ]
     },
     "execution_count": 80,
     "metadata": {},
     "output_type": "execute_result"
    }
   ],
   "source": [
    "LA_data[LA_data['same_day_crashes'] == 163]['temp'].mean()"
   ]
  },
  {
   "cell_type": "markdown",
   "id": "f9de1a61",
   "metadata": {},
   "source": [
    "How many accidents involve something other than a car?"
   ]
  },
  {
   "cell_type": "code",
   "execution_count": 81,
   "id": "149c9e9d",
   "metadata": {},
   "outputs": [
    {
     "name": "stdout",
     "output_type": "stream",
     "text": [
      "4760\n",
      "3311\n",
      "10507\n",
      "24476\n"
     ]
    }
   ],
   "source": [
    "print(LA_data['pedestrian'].sum())\n",
    "print(LA_data['bicycle'].sum())\n",
    "print(LA_data['motorcycle'].sum())\n",
    "print(LA_data['truck'].sum())"
   ]
  },
  {
   "cell_type": "markdown",
   "id": "2cbe0cb1",
   "metadata": {},
   "source": [
    "Although these numbers are only applicable to the highway accidents, it is quite surprising that the motorcycle accidents are about half the number of truck accidents, considering there are many more trucks on the road than motorcycles"
   ]
  },
  {
   "cell_type": "markdown",
   "id": "ff04de33",
   "metadata": {},
   "source": [
    "### 10 Google Maps API<a id='10_Google_Maps_API'>"
   ]
  },
  {
   "cell_type": "markdown",
   "id": "7f02acf3",
   "metadata": {},
   "source": [
    "The google maps api will be used to get a list of possible routes for the user. The model will determine the safest route. To determine the model inputs and outputs, the google maps api response characteristics will be investigated."
   ]
  },
  {
   "cell_type": "code",
   "execution_count": 82,
   "id": "4fff4278",
   "metadata": {},
   "outputs": [],
   "source": [
    "gmaps.configure(api_key = maps_api_key)\n",
    "DirMap = googlemaps.Client(key = maps_api_key)"
   ]
  },
  {
   "cell_type": "code",
   "execution_count": 83,
   "id": "f57b47a2",
   "metadata": {
    "scrolled": false
   },
   "outputs": [
    {
     "data": {
      "application/vnd.jupyter.widget-view+json": {
       "model_id": "2e96481a39f14ce3ae00385e4acbf8be",
       "version_major": 2,
       "version_minor": 0
      },
      "text/plain": [
       "Figure(layout=FigureLayout(height='420px'))"
      ]
     },
     "execution_count": 83,
     "metadata": {},
     "output_type": "execute_result"
    }
   ],
   "source": [
    "LA_coords = (34.0522, -118.2437)\n",
    "gmaps.figure(center = LA_coords, zoom_level = 10)"
   ]
  },
  {
   "cell_type": "markdown",
   "id": "285946b0",
   "metadata": {},
   "source": [
    "To get directions from one location to another, the following code can be used,"
   ]
  },
  {
   "cell_type": "code",
   "execution_count": 84,
   "id": "fa940adf",
   "metadata": {},
   "outputs": [],
   "source": [
    "Origin = \"1111 S Figueroa St, Los Angeles, CA 90015\"\n",
    "Destination = \"430 Normandie Pl, Los Angeles, CA 90004\"\n",
    "\n",
    "directions = DirMap.directions(Origin, Destination, mode = \"driving\", alternatives = True)"
   ]
  },
  {
   "cell_type": "code",
   "execution_count": 85,
   "id": "f21a948d",
   "metadata": {},
   "outputs": [
    {
     "data": {
      "text/plain": [
       "list"
      ]
     },
     "execution_count": 85,
     "metadata": {},
     "output_type": "execute_result"
    }
   ],
   "source": [
    "type(directions)"
   ]
  },
  {
   "cell_type": "code",
   "execution_count": 86,
   "id": "df82079c",
   "metadata": {
    "scrolled": true
   },
   "outputs": [
    {
     "data": {
      "text/plain": [
       "[{'bounds': {'northeast': {'lat': 34.080595, 'lng': -118.2488468},\n",
       "   'southwest': {'lat': 34.0426288, 'lng': -118.301229}},\n",
       "  'copyrights': 'Map data ©2023 Google',\n",
       "  'legs': [{'distance': {'text': '5.6 mi', 'value': 9056},\n",
       "    'duration': {'text': '13 mins', 'value': 786},\n",
       "    'end_address': '430 Normandie Pl, Los Angeles, CA 90004, USA',\n",
       "    'end_location': {'lat': 34.078586, 'lng': -118.3012242},\n",
       "    'start_address': '1111 S Figueroa St, Los Angeles, CA 90015, USA',\n",
       "    'start_location': {'lat': 34.0426288, 'lng': -118.2662159},\n",
       "    'steps': [{'distance': {'text': '492 ft', 'value': 150},\n",
       "      'duration': {'text': '1 min', 'value': 22},\n",
       "      'end_location': {'lat': 34.0436931, 'lng': -118.2652206},\n",
       "      'html_instructions': 'Head <b>northeast</b> on <b>S Figueroa St</b> toward <b>W 11th St</b>',\n",
       "      'polyline': {'points': 'm}wnEzzypUwAqAk@i@EEiAeA'},\n",
       "      'start_location': {'lat': 34.0426288, 'lng': -118.2662159},\n",
       "      'travel_mode': 'DRIVING'},\n",
       "     {'distance': {'text': '0.3 mi', 'value': 469},\n",
       "      'duration': {'text': '1 min', 'value': 80},\n",
       "      'end_location': {'lat': 34.0450458, 'lng': -118.2699412},\n",
       "      'html_instructions': 'Turn <b>left</b> onto <b>Chick Hearn Ct</b>',\n",
       "      'maneuver': 'turn-left',\n",
       "      'polyline': {'points': 'adxnErtypUK`@If@CLCREf@AzAAlACd@Cp@AZCPEXGXENIVM\\\\[x@_AjCO`@aAhC'},\n",
       "      'start_location': {'lat': 34.0436931, 'lng': -118.2652206},\n",
       "      'travel_mode': 'DRIVING'},\n",
       "     {'distance': {'text': '0.3 mi', 'value': 441},\n",
       "      'duration': {'text': '1 min', 'value': 43},\n",
       "      'end_location': {'lat': 34.0476524, 'lng': -118.2666288},\n",
       "      'html_instructions': 'Turn <b>right</b> onto the <b>CA-110 N</b> ramp',\n",
       "      'maneuver': 'ramp-right',\n",
       "      'polyline': {'points': 'qlxnEbrzpUMVQWEEA?]WMMIKSQOSSUQUU[A?QUEGCESWIMGKQU?AOCSc@IOi@gAe@}@[o@i@cAKSMWUc@'},\n",
       "      'start_location': {'lat': 34.0450458, 'lng': -118.2699412},\n",
       "      'travel_mode': 'DRIVING'},\n",
       "     {'distance': {'text': '0.4 mi', 'value': 674},\n",
       "      'duration': {'text': '1 min', 'value': 39},\n",
       "      'end_location': {'lat': 34.0512269, 'lng': -118.2607221},\n",
       "      'html_instructions': 'Keep <b>left</b> to continue toward <b>CA-110 N</b>',\n",
       "      'maneuver': 'keep-left',\n",
       "      'polyline': {'points': 'y|xnEl}ypUWg@S_@O]y@aBS_@w@yAaAmBMWWm@Qa@KUAAAAIQ]s@KSISUc@i@eAYk@S]CEACMUYg@MUYi@GMIOo@kAa@s@Yc@'},\n",
       "      'start_location': {'lat': 34.0476524, 'lng': -118.2666288},\n",
       "      'travel_mode': 'DRIVING'},\n",
       "     {'distance': {'text': '0.2 mi', 'value': 394},\n",
       "      'duration': {'text': '1 min', 'value': 25},\n",
       "      'end_location': {'lat': 34.0537002, 'lng': -118.2576829},\n",
       "      'html_instructions': 'Keep <b>left</b>, follow signs for <b>3rd St</b>/<wbr/><b>4th St</b>',\n",
       "      'maneuver': 'keep-left',\n",
       "      'polyline': {'points': 'esynEnxxpUYg@]k@i@}@a@o@AA?AKOSY[e@eAyAm@w@_@i@UYa@a@KIe@c@[UQM'},\n",
       "      'start_location': {'lat': 34.0512269, 'lng': -118.2607221},\n",
       "      'travel_mode': 'DRIVING'},\n",
       "     {'distance': {'text': '318 ft', 'value': 97},\n",
       "      'duration': {'text': '1 min', 'value': 6},\n",
       "      'end_location': {'lat': 34.054446, 'lng': -118.2571452},\n",
       "      'html_instructions': 'Keep <b>left</b> to continue toward <b>CA-110 N</b>',\n",
       "      'maneuver': 'keep-left',\n",
       "      'polyline': {'points': 'sbznEnexpUOIOK[SOIQMA?c@[QK'},\n",
       "      'start_location': {'lat': 34.0537002, 'lng': -118.2576829},\n",
       "      'travel_mode': 'DRIVING'},\n",
       "     {'distance': {'text': '0.5 mi', 'value': 808},\n",
       "      'duration': {'text': '1 min', 'value': 57},\n",
       "      'end_location': {'lat': 34.0600436, 'lng': -118.2516477},\n",
       "      'html_instructions': 'Keep <b>left</b> and merge onto <b>CA-110 N</b>',\n",
       "      'maneuver': 'keep-left',\n",
       "      'polyline': {'points': 'igznEdbxpUIEIE]UIGQK]U[SYSUQMEIAMAu@q@SQ}@{@OOWUUWGEGGSUSSw@y@[]e@e@OSQSSYEGMKOQqAsAa@c@CCWWEEQSMMMMIKKMMMEEEE]a@[a@c@k@[c@_AmA'},\n",
       "      'start_location': {'lat': 34.054446, 'lng': -118.2571452},\n",
       "      'travel_mode': 'DRIVING'},\n",
       "     {'distance': {'text': '0.1 mi', 'value': 180},\n",
       "      'duration': {'text': '1 min', 'value': 13},\n",
       "      'end_location': {'lat': 34.0610645, 'lng': -118.2501502},\n",
       "      'html_instructions': 'Take the <b>US-101 N</b>/<wbr/><b>US-101 S</b> exit toward <b>Ventura</b>/<wbr/><b>I-5 S</b>/<wbr/><b>I-10 E</b>/<wbr/><b>CA-60 E</b>',\n",
       "      'maneuver': 'ramp-right',\n",
       "      'polyline': {'points': 'gj{nEx_wpUEW[g@MQk@}@g@u@i@y@]k@'},\n",
       "      'start_location': {'lat': 34.0600436, 'lng': -118.2516477},\n",
       "      'travel_mode': 'DRIVING'},\n",
       "     {'distance': {'text': '2.8 mi', 'value': 4474},\n",
       "      'duration': {'text': '4 mins', 'value': 261},\n",
       "      'end_location': {'lat': 34.0790986, 'lng': -118.2894676},\n",
       "      'html_instructions': 'Keep <b>left</b> at the fork, follow signs for <b>US-101 N</b>/<wbr/><b>Hollywood</b> and merge onto <b>US-101 N</b>',\n",
       "      'maneuver': 'fork-left',\n",
       "      'polyline': {'points': 'sp{nElvvpUQKIMGIOU_@i@Wa@OSACQUUSUQIEKEKEKCKCKCEAMAy@Ei@CO?O@M?QBM@KDIBOFA@MHIFGHKJ?@EDGLILEFKVMXKTKTEJEHMXGNIFEJYh@Yh@EHu@hAOXC^o@hAMPQVEFKPOVSVGJINc@n@A@U`@UZQVEHA@W`@SZSZCDa@p@CFKPIP]n@GLi@lAGLKVKVCDKXKVCJGNIRENKXGTELEPGR?@ITIZQt@CHA@?@YhACFSz@CJYfAMd@Kd@WbA[lAMh@?@]pAAFA@WdAWbAGVSr@ADa@bBGRI^[nACH_@zA]nAEPIZGNOh@Od@GTKVe@vA_@dASn@Ob@Wt@[~@O`@AB_@fAOd@KZUn@Qf@Qh@c@pAUt@Yz@Uv@c@vAa@tASn@ELIVKXOf@MZOb@EJCDM\\\\CFEHABYr@GNO\\\\IRQ`@KZO^g@vAOd@Y~@GPUx@ELCLCFIZI^Kb@GTCJKb@G\\\\Mj@Mt@Kd@Kj@Kf@GXI`@G^Kd@Kl@GZIZSfAQ`AMl@Ov@?BI`@GZG\\\\GZEPAFQx@EXI^ERCPIb@EPG^G\\\\G\\\\G`@G\\\\Kt@CRIl@Kr@_@bCCVU|AKt@EZGb@ETCTCPSpAIj@Kx@U|AKt@CNAHE`@EXGn@Gh@Ed@Kx@El@E\\\\Gf@AFEXGb@CVIh@CTEXG^G\\\\GVEXEPERGTI\\\\Mf@W~@'},\n",
       "      'start_location': {'lat': 34.0610645, 'lng': -118.2501502},\n",
       "      'travel_mode': 'DRIVING'},\n",
       "     {'distance': {'text': '0.2 mi', 'value': 274},\n",
       "      'duration': {'text': '1 min', 'value': 32},\n",
       "      'end_location': {'lat': 34.080595, 'lng': -118.2917227},\n",
       "      'html_instructions': 'Take exit <b>6A</b> for <b>Vermont Ave</b>',\n",
       "      'maneuver': 'ramp-right',\n",
       "      'polyline': {'points': 'ka_oEdl~pUWDA@IPGPABCFMTELGLGNKTGNIPEHEJEJGJCFEHGHEDIJEFOLWXKHKLQPCBEDCFA@ABCFCFAHCLAX'},\n",
       "      'start_location': {'lat': 34.0790986, 'lng': -118.2894676},\n",
       "      'travel_mode': 'DRIVING'},\n",
       "     {'distance': {'text': '0.1 mi', 'value': 171},\n",
       "      'duration': {'text': '1 min', 'value': 36},\n",
       "      'end_location': {'lat': 34.0790534, 'lng': -118.2917155},\n",
       "      'html_instructions': 'Turn <b>left</b> onto <b>N Vermont Ave</b>',\n",
       "      'maneuver': 'turn-left',\n",
       "      'polyline': {'points': 'uj_oEfz~pUP?F@N?L?T?b@Ah@?NAv@@f@AB?b@@'},\n",
       "      'start_location': {'lat': 34.080595, 'lng': -118.2917227},\n",
       "      'travel_mode': 'DRIVING'},\n",
       "     {'distance': {'text': '0.5 mi', 'value': 876},\n",
       "      'duration': {'text': '3 mins', 'value': 155},\n",
       "      'end_location': {'lat': 34.0790145, 'lng': -118.301229},\n",
       "      'html_instructions': 'Turn <b>right</b> onto <b>Rosewood Ave</b>',\n",
       "      'maneuver': 'turn-right',\n",
       "      'polyline': {'points': 'aa_oEfz~pU?h@@pA@pBAT?n@?j@AtB?xC@d@?v@?lB?`D@|@?vA?R?T?xA?\\\\?b@?r@?|@?H?j@?R@zE?bA@vA'},\n",
       "      'start_location': {'lat': 34.0790534, 'lng': -118.2917155},\n",
       "      'travel_mode': 'DRIVING'},\n",
       "     {'distance': {'text': '157 ft', 'value': 48},\n",
       "      'duration': {'text': '1 min', 'value': 17},\n",
       "      'end_location': {'lat': 34.078586, 'lng': -118.3012242},\n",
       "      'html_instructions': 'Turn <b>left</b> onto <b>Normandie Pl</b><div style=\"font-size:0.9em\">Destination will be on the left</div>',\n",
       "      'maneuver': 'turn-left',\n",
       "      'polyline': {'points': 'y`_oEtu`qUF?H?t@AJ?'},\n",
       "      'start_location': {'lat': 34.0790145, 'lng': -118.301229},\n",
       "      'travel_mode': 'DRIVING'}],\n",
       "    'traffic_speed_entry': [],\n",
       "    'via_waypoint': []}],\n",
       "  'overview_polyline': {'points': 'm}wnEzzypUsEgE]jBEf@AzAErBElAIj@Mh@Wt@mDpJMVQWGEk@e@aAgA{@gAaAwAOCSc@s@wAwBeEeF}JoAeCi@oAYk@eDuGsCkFaE}GaCiDmAaBw@{@_BqAkAs@iAu@SKg@]eBiAc@WWCwCoC}@{@{BaCu@y@e@m@uByBcAeA}AcByBsC_AmAEW}BmDgAeB[YoAkBy@aA_@Wo@SyAMiAAm@Dg@R_@ZY`@mAhCUh@ORs@rAkAlBC^o@hA_@h@u@hAw@lAeCzDu@pAyA|CgApCw@fCeA`EkF~SiBjHmAxEg@~AqDtKgCpHiEfNs@tBg@rAyAlDsAxD}@xC_AzDyAtH_DpP{@nEaArG}D|Xu@lHo@bF]nBYtAWdAW~@WDA@Qb@Yn@c@bA[r@Yf@gBjBORK\\\\Ef@X@vAAxCAf@@@zB?bF?lJ@fQ@~N@vAF?~@AJ?'},\n",
       "  'summary': 'US-101 N',\n",
       "  'warnings': [],\n",
       "  'waypoint_order': []},\n",
       " {'bounds': {'northeast': {'lat': 34.080595, 'lng': -118.2553018},\n",
       "   'southwest': {'lat': 34.0426288, 'lng': -118.301229}},\n",
       "  'copyrights': 'Map data ©2023 Google',\n",
       "  'legs': [{'distance': {'text': '5.5 mi', 'value': 8883},\n",
       "    'duration': {'text': '15 mins', 'value': 922},\n",
       "    'end_address': '430 Normandie Pl, Los Angeles, CA 90004, USA',\n",
       "    'end_location': {'lat': 34.078586, 'lng': -118.3012242},\n",
       "    'start_address': '1111 S Figueroa St, Los Angeles, CA 90015, USA',\n",
       "    'start_location': {'lat': 34.0426288, 'lng': -118.2662159},\n",
       "    'steps': [{'distance': {'text': '492 ft', 'value': 150},\n",
       "      'duration': {'text': '1 min', 'value': 22},\n",
       "      'end_location': {'lat': 34.0436931, 'lng': -118.2652206},\n",
       "      'html_instructions': 'Head <b>northeast</b> on <b>S Figueroa St</b> toward <b>W 11th St</b>',\n",
       "      'polyline': {'points': 'm}wnEzzypUwAqAk@i@EEiAeA'},\n",
       "      'start_location': {'lat': 34.0426288, 'lng': -118.2662159},\n",
       "      'travel_mode': 'DRIVING'},\n",
       "     {'distance': {'text': '0.3 mi', 'value': 469},\n",
       "      'duration': {'text': '1 min', 'value': 80},\n",
       "      'end_location': {'lat': 34.0450458, 'lng': -118.2699412},\n",
       "      'html_instructions': 'Turn <b>left</b> onto <b>Chick Hearn Ct</b>',\n",
       "      'maneuver': 'turn-left',\n",
       "      'polyline': {'points': 'adxnErtypUK`@If@CLCREf@AzAAlACd@Cp@AZCPEXGXENIVM\\\\[x@_AjCO`@aAhC'},\n",
       "      'start_location': {'lat': 34.0436931, 'lng': -118.2652206},\n",
       "      'travel_mode': 'DRIVING'},\n",
       "     {'distance': {'text': '0.3 mi', 'value': 441},\n",
       "      'duration': {'text': '1 min', 'value': 43},\n",
       "      'end_location': {'lat': 34.0476524, 'lng': -118.2666288},\n",
       "      'html_instructions': 'Turn <b>right</b> onto the <b>CA-110 N</b> ramp',\n",
       "      'maneuver': 'ramp-right',\n",
       "      'polyline': {'points': 'qlxnEbrzpUMVQWEEA?]WMMIKSQOSSUQUU[A?QUEGCESWIMGKQU?AOCSc@IOi@gAe@}@[o@i@cAKSMWUc@'},\n",
       "      'start_location': {'lat': 34.0450458, 'lng': -118.2699412},\n",
       "      'travel_mode': 'DRIVING'},\n",
       "     {'distance': {'text': '0.4 mi', 'value': 674},\n",
       "      'duration': {'text': '1 min', 'value': 39},\n",
       "      'end_location': {'lat': 34.0512269, 'lng': -118.2607221},\n",
       "      'html_instructions': 'Keep <b>left</b> to continue toward <b>W 3rd St</b>/<wbr/><b>Miramar St</b>',\n",
       "      'maneuver': 'keep-left',\n",
       "      'polyline': {'points': 'y|xnEl}ypUWg@S_@O]y@aBS_@w@yAaAmBMWWm@Qa@KUAAAAIQ]s@KSISUc@i@eAYk@S]CEACMUYg@MUYi@GMIOo@kAa@s@Yc@'},\n",
       "      'start_location': {'lat': 34.0476524, 'lng': -118.2666288},\n",
       "      'travel_mode': 'DRIVING'},\n",
       "     {'distance': {'text': '0.2 mi', 'value': 394},\n",
       "      'duration': {'text': '1 min', 'value': 25},\n",
       "      'end_location': {'lat': 34.0537002, 'lng': -118.2576829},\n",
       "      'html_instructions': 'Keep <b>left</b>, follow signs for <b>3rd St</b>/<wbr/><b>4th St</b>',\n",
       "      'maneuver': 'keep-left',\n",
       "      'polyline': {'points': 'esynEnxxpUYg@]k@i@}@a@o@AA?AKOSY[e@eAyAm@w@_@i@UYa@a@KIe@c@[UQM'},\n",
       "      'start_location': {'lat': 34.0512269, 'lng': -118.2607221},\n",
       "      'travel_mode': 'DRIVING'},\n",
       "     {'distance': {'text': '318 ft', 'value': 97},\n",
       "      'duration': {'text': '1 min', 'value': 6},\n",
       "      'end_location': {'lat': 34.054446, 'lng': -118.2571452},\n",
       "      'html_instructions': 'Keep <b>left</b> to continue toward <b>W 3rd St</b>/<wbr/><b>Miramar St</b>',\n",
       "      'maneuver': 'keep-left',\n",
       "      'polyline': {'points': 'sbznEnexpUOIOK[SOIQMA?c@[QK'},\n",
       "      'start_location': {'lat': 34.0537002, 'lng': -118.2576829},\n",
       "      'travel_mode': 'DRIVING'},\n",
       "     {'distance': {'text': '322 ft', 'value': 98},\n",
       "      'duration': {'text': '1 min', 'value': 7},\n",
       "      'end_location': {'lat': 34.0551229, 'lng': -118.2564677},\n",
       "      'html_instructions': 'Keep <b>right</b> to continue on <b>Exit 23C</b>',\n",
       "      'maneuver': 'keep-right',\n",
       "      'polyline': {'points': 'igznEdbxpUEIYUQOIIGGGGGGQOOQOS'},\n",
       "      'start_location': {'lat': 34.054446, 'lng': -118.2571452},\n",
       "      'travel_mode': 'DRIVING'},\n",
       "     {'distance': {'text': '0.1 mi', 'value': 203},\n",
       "      'duration': {'text': '1 min', 'value': 27},\n",
       "      'end_location': {'lat': 34.0565371, 'lng': -118.2566356},\n",
       "      'html_instructions': 'Keep <b>left</b> at the fork and merge onto <b>W 3rd St</b>/<wbr/><b>Miramar St</b>',\n",
       "      'maneuver': 'fork-left',\n",
       "      'polyline': {'points': 'okznE|}wpUIEECGGGGQQGGACOMGIMKAAIGCCCAC?CACAA?C?C?C?C?A?C@E@C?C@A@A@GFA@CBCBA@A@C?A@C?G?OXINCBMT?@EDUb@'},\n",
       "      'start_location': {'lat': 34.0551229, 'lng': -118.2564677},\n",
       "      'travel_mode': 'DRIVING'},\n",
       "     {'distance': {'text': '0.1 mi', 'value': 201},\n",
       "      'duration': {'text': '1 min', 'value': 31},\n",
       "      'end_location': {'lat': 34.0579642, 'lng': -118.2553018},\n",
       "      'html_instructions': 'Turn <b>right</b> onto <b>S Beaudry Ave</b>',\n",
       "      'maneuver': 'turn-right',\n",
       "      'polyline': {'points': 'ktznE~~wpUMM}CsCe@c@a@_@][II'},\n",
       "      'start_location': {'lat': 34.0565371, 'lng': -118.2566356},\n",
       "      'travel_mode': 'DRIVING'},\n",
       "     {'distance': {'text': '0.4 mi', 'value': 603},\n",
       "      'duration': {'text': '2 mins', 'value': 90},\n",
       "      'end_location': {'lat': 34.0619453, 'lng': -118.2596136},\n",
       "      'html_instructions': 'Turn <b>left</b> onto <b>W 2nd St</b>',\n",
       "      'maneuver': 'turn-left',\n",
       "      'polyline': {'points': 'g}znErvwpUs@nAGJGJKRqA|BY^WZMLEDsAlAYVMJy@t@w@r@c@b@i@f@g@b@]`@_@b@GFQAA?A?a@Zw@t@GLEHEFGH'},\n",
       "      'start_location': {'lat': 34.0579642, 'lng': -118.2553018},\n",
       "      'travel_mode': 'DRIVING'},\n",
       "     {'distance': {'text': '0.6 mi', 'value': 980},\n",
       "      'duration': {'text': '2 mins', 'value': 133},\n",
       "      'end_location': {'lat': 34.07061600000001, 'lng': -118.2614499},\n",
       "      'html_instructions': '<b>W 2nd St</b> turns <b>right</b> and becomes <b>Glendale Blvd</b>',\n",
       "      'polyline': {'points': 'ev{nEpqxpUm@LM@O@G@G@G?E@mBJe@B[BmBNe@Bs@H_ALiBXq@J_@FUBw@Lg@Hk@JmBXy@J_@Fa@F_@Fa@Fi@JWBWDa@H[DYF_@FWDc@Fg@H]DQBgAPOBSDG@M@M@E?I@I?I?'},\n",
       "      'start_location': {'lat': 34.0619453, 'lng': -118.2596136},\n",
       "      'travel_mode': 'DRIVING'},\n",
       "     {'distance': {'text': '0.1 mi', 'value': 190},\n",
       "      'duration': {'text': '1 min', 'value': 37},\n",
       "      'end_location': {'lat': 34.0698311, 'lng': -118.2596234},\n",
       "      'html_instructions': 'Turn <b>right</b> onto <b>Bellevue Ave</b>',\n",
       "      'maneuver': 'turn-right',\n",
       "      'polyline': {'points': 'kl}nE`}xpUDSBMRo@f@wANe@@?Ne@\\\\cAVs@'},\n",
       "      'start_location': {'lat': 34.07061600000001, 'lng': -118.2614499},\n",
       "      'travel_mode': 'DRIVING'},\n",
       "     {'distance': {'text': '1.9 mi', 'value': 3014},\n",
       "      'duration': {'text': '2 mins', 'value': 142},\n",
       "      'end_location': {'lat': 34.0790986, 'lng': -118.2894676},\n",
       "      'html_instructions': 'Turn <b>right</b> to merge onto <b>US-101 N</b>',\n",
       "      'maneuver': 'ramp-right',\n",
       "      'polyline': {'points': 'mg}nErqxpUf@GD?D?B?B?B@@@@?@@@@BB@B@B@D@@?B@D?JAFCHCP?@D^WbAGVSr@ADa@bBGRI^[nACH_@zA]nAEPIZGNOh@Od@GTKVe@vA_@dASn@Ob@Wt@[~@O`@AB_@fAOd@KZUn@Qf@Qh@c@pAUt@Yz@Uv@c@vAa@tASn@ELIVKXOf@MZOb@EJCDM\\\\CFEHABYr@GNO\\\\IRQ`@KZO^g@vAOd@Y~@GPUx@ELCLCFIZI^Kb@GTCJKb@G\\\\Mj@Mt@Kd@Kj@Kf@GXI`@G^Kd@Kl@GZIZSfAQ`AMl@Ov@?BI`@GZG\\\\GZEPAFQx@EXI^ERCPIb@EPG^G\\\\G\\\\G`@G\\\\Kt@CRIl@Kr@_@bCCVU|AKt@EZGb@ETCTCPSpAIj@Kx@U|AKt@CNAHE`@EXGn@Gh@Ed@Kx@El@E\\\\Gf@AFEXGb@CVIh@CTEXG^G\\\\GVEXEPERGTI\\\\Mf@W~@'},\n",
       "      'start_location': {'lat': 34.0698311, 'lng': -118.2596234},\n",
       "      'travel_mode': 'DRIVING'},\n",
       "     {'distance': {'text': '0.2 mi', 'value': 274},\n",
       "      'duration': {'text': '1 min', 'value': 32},\n",
       "      'end_location': {'lat': 34.080595, 'lng': -118.2917227},\n",
       "      'html_instructions': 'Take exit <b>6A</b> for <b>Vermont Ave</b>',\n",
       "      'maneuver': 'ramp-right',\n",
       "      'polyline': {'points': 'ka_oEdl~pUWDA@IPGPABCFMTELGLGNKTGNIPEHEJEJGJCFEHGHEDIJEFOLWXKHKLQPCBEDCFA@ABCFCFAHCLAX'},\n",
       "      'start_location': {'lat': 34.0790986, 'lng': -118.2894676},\n",
       "      'travel_mode': 'DRIVING'},\n",
       "     {'distance': {'text': '0.1 mi', 'value': 171},\n",
       "      'duration': {'text': '1 min', 'value': 36},\n",
       "      'end_location': {'lat': 34.0790534, 'lng': -118.2917155},\n",
       "      'html_instructions': 'Turn <b>left</b> onto <b>N Vermont Ave</b>',\n",
       "      'maneuver': 'turn-left',\n",
       "      'polyline': {'points': 'uj_oEfz~pUP?F@N?L?T?b@Ah@?NAv@@f@AB?b@@'},\n",
       "      'start_location': {'lat': 34.080595, 'lng': -118.2917227},\n",
       "      'travel_mode': 'DRIVING'},\n",
       "     {'distance': {'text': '0.5 mi', 'value': 876},\n",
       "      'duration': {'text': '3 mins', 'value': 155},\n",
       "      'end_location': {'lat': 34.0790145, 'lng': -118.301229},\n",
       "      'html_instructions': 'Turn <b>right</b> onto <b>Rosewood Ave</b>',\n",
       "      'maneuver': 'turn-right',\n",
       "      'polyline': {'points': 'aa_oEfz~pU?h@@pA@pBAT?n@?j@AtB?xC@d@?v@?lB?`D@|@?vA?R?T?xA?\\\\?b@?r@?|@?H?j@?R@zE?bA@vA'},\n",
       "      'start_location': {'lat': 34.0790534, 'lng': -118.2917155},\n",
       "      'travel_mode': 'DRIVING'},\n",
       "     {'distance': {'text': '157 ft', 'value': 48},\n",
       "      'duration': {'text': '1 min', 'value': 17},\n",
       "      'end_location': {'lat': 34.078586, 'lng': -118.3012242},\n",
       "      'html_instructions': 'Turn <b>left</b> onto <b>Normandie Pl</b><div style=\"font-size:0.9em\">Destination will be on the left</div>',\n",
       "      'maneuver': 'turn-left',\n",
       "      'polyline': {'points': 'y`_oEtu`qUF?H?t@AJ?'},\n",
       "      'start_location': {'lat': 34.0790145, 'lng': -118.301229},\n",
       "      'travel_mode': 'DRIVING'}],\n",
       "    'traffic_speed_entry': [],\n",
       "    'via_waypoint': []}],\n",
       "  'overview_polyline': {'points': 'm}wnEzzypUsEgE]jBEf@AzAErBElAIj@Mh@Wt@mDpJMVQWGEk@e@aAgA{@gAaAwAOCSc@s@wAwBeEeF}JoAeCi@oAYk@eDuGsCkFaE}GaCiDmAaBw@{@_BqAkAs@iAu@{@y@i@g@_@e@OIi@i@g@g@SOMC[B]VIDK?Yh@W`@Ub@MMcEwD_A{@IIs@nAOV}ApCeAnAuDfDmDbD}@dAGFQAC?yApA[h@sARcCNuEZsBV{Cd@uCb@sFx@{F|@uGbAy@Lg@BI?DSV}@hAcDt@wBl@GP@FDHPBVIb@D`@_@zA_ApDwBrIaCjHyC|IeA|CiBzFsC`JmA|Cs@bBsAxD}@xC[pAc@hBo@dDqA~G_BlIy@fEy@xEmDtVgArIu@~GYzB]nBYtAWdAW~@WDA@Qb@Yn@_AvBYf@e@f@qAvAK\\\\Ef@X@vAAxCAf@@@zB?bF@rW?`I@~I@vAF?~@AJ?'},\n",
       "  'summary': 'Glendale Blvd and US-101 N',\n",
       "  'warnings': [],\n",
       "  'waypoint_order': []},\n",
       " {'bounds': {'northeast': {'lat': 34.080595, 'lng': -118.2439005},\n",
       "   'southwest': {'lat': 34.0426288, 'lng': -118.301229}},\n",
       "  'copyrights': 'Map data ©2023 Google',\n",
       "  'legs': [{'distance': {'text': '5.9 mi', 'value': 9443},\n",
       "    'duration': {'text': '18 mins', 'value': 1080},\n",
       "    'end_address': '430 Normandie Pl, Los Angeles, CA 90004, USA',\n",
       "    'end_location': {'lat': 34.078586, 'lng': -118.3012242},\n",
       "    'start_address': '1111 S Figueroa St, Los Angeles, CA 90015, USA',\n",
       "    'start_location': {'lat': 34.0426288, 'lng': -118.2662159},\n",
       "    'steps': [{'distance': {'text': '1.8 mi', 'value': 2914},\n",
       "      'duration': {'text': '8 mins', 'value': 485},\n",
       "      'end_location': {'lat': 34.0626595, 'lng': -118.2462958},\n",
       "      'html_instructions': 'Head <b>northeast</b> on <b>S Figueroa St</b> toward <b>W 11th St</b>',\n",
       "      'polyline': {'points': 'm}wnEzzypUwAqAk@i@EEiAeAy@u@MM][QSGCWYq@o@y@y@_@[i@e@YWo@k@w@q@m@i@q@m@m@m@UU}AwAGGKGGCCCCCCCAG}@w@YSc@a@w@s@YWCCWUi@g@a@]q@k@QSSQo@i@c@c@]YwAuA{@w@EEGEw@u@gAeAwCqCk@g@yAoAwBoBYWAAY[q@o@{@w@kAeAu@s@USSS{AwAII[UWWSSGGuAmAg@m@_@]SQWQWWa@]OQYUOQ_@]QQo@q@YYGIU_@KQACGOSc@Se@ACSe@e@iAACc@gAGMM_@Qe@Oa@K_@Qe@KYEKWk@S_@EGEIIMMQY]SUAAIIGE]SCAQIECc@Ug@WUMSIo@[_@Sm@Y_@Qq@]KECAEEIEEE'},\n",
       "      'start_location': {'lat': 34.0426288, 'lng': -118.2662159},\n",
       "      'travel_mode': 'DRIVING'},\n",
       "     {'distance': {'text': '0.2 mi', 'value': 317},\n",
       "      'duration': {'text': '1 min', 'value': 49},\n",
       "      'end_location': {'lat': 34.0606162, 'lng': -118.2439005},\n",
       "      'html_instructions': 'Turn <b>right</b> onto <b>W Cesar Estrada Chavez Ave</b>',\n",
       "      'maneuver': 'turn-right',\n",
       "      'polyline': {'points': 'sz{nEj~upUt@}@RYJKNSx@eAl@s@X]b@i@LSp@{@X[\\\\c@RU'},\n",
       "      'start_location': {'lat': 34.0626595, 'lng': -118.2462958},\n",
       "      'travel_mode': 'DRIVING'},\n",
       "     {'distance': {'text': '322 ft', 'value': 98},\n",
       "      'duration': {'text': '1 min', 'value': 21},\n",
       "      'end_location': {'lat': 34.05996349999999, 'lng': -118.2446098},\n",
       "      'html_instructions': 'Turn <b>right</b> onto <b>N Grand Ave</b>',\n",
       "      'maneuver': 'turn-right',\n",
       "      'polyline': {'points': '{m{nEjoupUTXLNVVPRPPb@d@'},\n",
       "      'start_location': {'lat': 34.0606162, 'lng': -118.2439005},\n",
       "      'travel_mode': 'DRIVING'},\n",
       "     {'distance': {'text': '2.9 mi', 'value': 4745},\n",
       "      'duration': {'text': '5 mins', 'value': 285},\n",
       "      'end_location': {'lat': 34.0790986, 'lng': -118.2894676},\n",
       "      'html_instructions': 'Turn <b>right</b> to merge onto <b>US-101 N</b>',\n",
       "      'maneuver': 'ramp-right',\n",
       "      'polyline': {'points': 'wi{nExsupUU\\\\A@GLAFAJCj@Ab@ARAPAZCZE^ANADCLELERGPGNGNEHEJMPOPIHGH?@IXc@\\\\SPMJe@`@UPq@j@UP]X_@Zu@l@CBWRSPc@\\\\GDWTUPe@`@[XUROR[ZEDKNY^UZW^g@x@]h@ILIJm@`ASXOJo@hAMPQVEFKPOVSVGJINc@n@A@U`@UZQVEHA@W`@SZSZCDa@p@CFKPIP]n@GLi@lAGLKVKVCDKXKVCJGNIRENKXGTELEPGR?@ITIZQt@CHA@?@YhACFSz@CJYfAMd@Kd@WbA[lAMh@?@]pAAFA@WdAWbAGVSr@ADa@bBGRI^[nACH_@zA]nAEPIZGNOh@Od@GTKVe@vA_@dASn@Ob@Wt@[~@O`@AB_@fAOd@KZUn@Qf@Qh@c@pAUt@Yz@Uv@c@vAa@tASn@ELIVKXOf@MZOb@EJCDM\\\\CFEHABYr@GNO\\\\IRQ`@KZO^g@vAOd@Y~@GPUx@ELCLCFIZI^Kb@GTCJKb@G\\\\Mj@Mt@Kd@Kj@Kf@GXI`@G^Kd@Kl@GZIZSfAQ`AMl@Ov@?BI`@GZG\\\\GZEPAFQx@EXI^ERCPIb@EPG^G\\\\G\\\\G`@G\\\\Kt@CRIl@Kr@_@bCCVU|AKt@EZGb@ETCTCPSpAIj@Kx@U|AKt@CNAHE`@EXGn@Gh@Ed@Kx@El@E\\\\Gf@AFEXGb@CVIh@CTEXG^G\\\\GVEXEPERGTI\\\\Mf@W~@'},\n",
       "      'start_location': {'lat': 34.05996349999999, 'lng': -118.2446098},\n",
       "      'travel_mode': 'DRIVING'},\n",
       "     {'distance': {'text': '0.2 mi', 'value': 274},\n",
       "      'duration': {'text': '1 min', 'value': 32},\n",
       "      'end_location': {'lat': 34.080595, 'lng': -118.2917227},\n",
       "      'html_instructions': 'Take exit <b>6A</b> for <b>Vermont Ave</b>',\n",
       "      'maneuver': 'ramp-right',\n",
       "      'polyline': {'points': 'ka_oEdl~pUWDA@IPGPABCFMTELGLGNKTGNIPEHEJEJGJCFEHGHEDIJEFOLWXKHKLQPCBEDCFA@ABCFCFAHCLAX'},\n",
       "      'start_location': {'lat': 34.0790986, 'lng': -118.2894676},\n",
       "      'travel_mode': 'DRIVING'},\n",
       "     {'distance': {'text': '0.1 mi', 'value': 171},\n",
       "      'duration': {'text': '1 min', 'value': 36},\n",
       "      'end_location': {'lat': 34.0790534, 'lng': -118.2917155},\n",
       "      'html_instructions': 'Turn <b>left</b> onto <b>N Vermont Ave</b>',\n",
       "      'maneuver': 'turn-left',\n",
       "      'polyline': {'points': 'uj_oEfz~pUP?F@N?L?T?b@Ah@?NAv@@f@AB?b@@'},\n",
       "      'start_location': {'lat': 34.080595, 'lng': -118.2917227},\n",
       "      'travel_mode': 'DRIVING'},\n",
       "     {'distance': {'text': '0.5 mi', 'value': 876},\n",
       "      'duration': {'text': '3 mins', 'value': 155},\n",
       "      'end_location': {'lat': 34.0790145, 'lng': -118.301229},\n",
       "      'html_instructions': 'Turn <b>right</b> onto <b>Rosewood Ave</b>',\n",
       "      'maneuver': 'turn-right',\n",
       "      'polyline': {'points': 'aa_oEfz~pU?h@@pA@pBAT?n@?j@AtB?xC@d@?v@?lB?`D@|@?vA?R?T?xA?\\\\?b@?r@?|@?H?j@?R@zE?bA@vA'},\n",
       "      'start_location': {'lat': 34.0790534, 'lng': -118.2917155},\n",
       "      'travel_mode': 'DRIVING'},\n",
       "     {'distance': {'text': '157 ft', 'value': 48},\n",
       "      'duration': {'text': '1 min', 'value': 17},\n",
       "      'end_location': {'lat': 34.078586, 'lng': -118.3012242},\n",
       "      'html_instructions': 'Turn <b>left</b> onto <b>Normandie Pl</b><div style=\"font-size:0.9em\">Destination will be on the left</div>',\n",
       "      'maneuver': 'turn-left',\n",
       "      'polyline': {'points': 'y`_oEtu`qUF?H?t@AJ?'},\n",
       "      'start_location': {'lat': 34.0790145, 'lng': -118.301229},\n",
       "      'travel_mode': 'DRIVING'}],\n",
       "    'traffic_speed_entry': [],\n",
       "    'via_waypoint': []}],\n",
       "  'overview_polyline': {'points': 'm}wnEzzypUsEgEwBsBkCgCsCeCeEwDsBmBSOSO_A_A}@u@mBeBkAeAcA_AeCyBaDyC_C{BcEyDmFyEsEiE{DsDqAkA}AuAgAkAeByAyAwAcBgBk@eAqCwG{@gC{@wBi@_A{@eAq@e@_Ae@aHiD_@SEEt@}@^e@pCkD|BuCp@y@b@h@~AbBW^ITInBMhBMp@Ut@a@v@a@d@IZw@n@{BjBiCtBiCtBgBbBgApAiEtGOJ}@zAs@hAiCzDqBdD{@`BiAjCcApCo@|BmA|EgGlVuBjIa@tAiAjDiD|JcAxCeBlF{C|JaAdC{@tBuAtDgApDW~@a@dBo@bDuAhHwCpO{@vEyAfKqAbJiAnIw@tH[~BYlBYvAw@zCWDKR[r@_AxBWh@]b@_A~@_@b@KTEVAXP?V@b@?tCAj@Ab@@?h@BbEAdA?`J@dK?nK@dH@zCP?`AA'},\n",
       "  'summary': 'S Figueroa St and US-101 N',\n",
       "  'warnings': [],\n",
       "  'waypoint_order': []}]"
      ]
     },
     "execution_count": 86,
     "metadata": {},
     "output_type": "execute_result"
    }
   ],
   "source": [
    "directions"
   ]
  },
  {
   "cell_type": "markdown",
   "id": "1d5dcaee",
   "metadata": {},
   "source": [
    "The different routes are stored as dictionaries in a list. The steps can be found in directions[0]['legs'][0]['steps'] where n is the index of the route being investigated. The steps dictionary contains the start and end latitude and longitude as well as text stating the road being travelled on."
   ]
  },
  {
   "cell_type": "code",
   "execution_count": 87,
   "id": "3e92a1f8",
   "metadata": {},
   "outputs": [
    {
     "data": {
      "text/plain": [
       "3"
      ]
     },
     "execution_count": 87,
     "metadata": {},
     "output_type": "execute_result"
    }
   ],
   "source": [
    "len(directions)"
   ]
  },
  {
   "cell_type": "markdown",
   "id": "e6773e10",
   "metadata": {},
   "source": [
    "The API returned two routes. What are the roads beings travelled on in the first route?"
   ]
  },
  {
   "cell_type": "code",
   "execution_count": 88,
   "id": "94139157",
   "metadata": {},
   "outputs": [
    {
     "data": {
      "text/plain": [
       "['Head <b>northeast</b> on <b>S Figueroa St</b> toward <b>W 11th St</b>',\n",
       " 'Turn <b>left</b> onto <b>Chick Hearn Ct</b>',\n",
       " 'Turn <b>right</b> onto the <b>CA-110 N</b> ramp',\n",
       " 'Keep <b>left</b> to continue toward <b>CA-110 N</b>',\n",
       " 'Keep <b>left</b>, follow signs for <b>3rd St</b>/<wbr/><b>4th St</b>',\n",
       " 'Keep <b>left</b> to continue toward <b>CA-110 N</b>',\n",
       " 'Keep <b>left</b> and merge onto <b>CA-110 N</b>',\n",
       " 'Take the <b>US-101 N</b>/<wbr/><b>US-101 S</b> exit toward <b>Ventura</b>/<wbr/><b>I-5 S</b>/<wbr/><b>I-10 E</b>/<wbr/><b>CA-60 E</b>',\n",
       " 'Keep <b>left</b> at the fork, follow signs for <b>US-101 N</b>/<wbr/><b>Hollywood</b> and merge onto <b>US-101 N</b>',\n",
       " 'Take exit <b>6A</b> for <b>Vermont Ave</b>',\n",
       " 'Turn <b>left</b> onto <b>N Vermont Ave</b>',\n",
       " 'Turn <b>right</b> onto <b>Rosewood Ave</b>',\n",
       " 'Turn <b>left</b> onto <b>Normandie Pl</b><div style=\"font-size:0.9em\">Destination will be on the left</div>']"
      ]
     },
     "execution_count": 88,
     "metadata": {},
     "output_type": "execute_result"
    }
   ],
   "source": [
    "roads = [0] * len(directions[0]['legs'][0]['steps'])\n",
    "for i in range(len(directions[0]['legs'][0]['steps'])):\n",
    "    roads[i] = directions[0]['legs'][0]['steps'][i]['html_instructions']\n",
    "roads"
   ]
  },
  {
   "cell_type": "markdown",
   "id": "692324c9",
   "metadata": {},
   "source": [
    "The text above contains the roads that are being travelled on in this route. More will be done with this later, during feature engineering. But this is a good starting point for deciding what our explanatory features and target feature should look like."
   ]
  },
  {
   "cell_type": "markdown",
   "id": "abcaa576",
   "metadata": {},
   "source": [
    "### 11 OpenWeather API<a id='11_OpenWeather_API'>"
   ]
  },
  {
   "cell_type": "markdown",
   "id": "aa3d27c7",
   "metadata": {},
   "source": [
    "The OpenWeather api will be used to get weather factors along the different routes supplied by the maps api. This information will also feed into the model, so it's characteristics must also be determined. It should be quite similar to the historic information that makes up the LA_weather dataframe. The possible file formats are json, html, and xml. Json will be used for the purpose of this project."
   ]
  },
  {
   "cell_type": "markdown",
   "id": "b0b25560",
   "metadata": {},
   "source": [
    "The current weather for a location in LA can be found as follows:"
   ]
  },
  {
   "cell_type": "code",
   "execution_count": 89,
   "id": "216b1b97",
   "metadata": {},
   "outputs": [],
   "source": [
    "lat = LA_coords[0]\n",
    "lon = LA_coords[1]\n",
    "API_key = openWeather_api_key\n",
    "\n",
    "LA_weather_response = requests.get(\n",
    "    f'https://api.openweathermap.org/data/3.0/onecall?lat={lat}&lon={lon}&exclude=minutely,hourly,monthly,alerts&appid={API_key}')"
   ]
  },
  {
   "cell_type": "code",
   "execution_count": 90,
   "id": "44e93f78",
   "metadata": {
    "scrolled": true
   },
   "outputs": [
    {
     "data": {
      "text/plain": [
       "{'lat': 34.0522,\n",
       " 'lon': -118.2437,\n",
       " 'timezone': 'America/Los_Angeles',\n",
       " 'timezone_offset': -25200,\n",
       " 'current': {'dt': 1678830085,\n",
       "  'sunrise': 1678802705,\n",
       "  'sunset': 1678845567,\n",
       "  'temp': 287.57,\n",
       "  'feels_like': 287.5,\n",
       "  'pressure': 1020,\n",
       "  'humidity': 93,\n",
       "  'dew_point': 286.45,\n",
       "  'uvi': 0.23,\n",
       "  'clouds': 100,\n",
       "  'visibility': 8047,\n",
       "  'wind_speed': 7.72,\n",
       "  'wind_deg': 120,\n",
       "  'wind_gust': 9.26,\n",
       "  'weather': [{'id': 701,\n",
       "    'main': 'Mist',\n",
       "    'description': 'mist',\n",
       "    'icon': '50d'}]},\n",
       " 'daily': [{'dt': 1678824000,\n",
       "   'sunrise': 1678802705,\n",
       "   'sunset': 1678845567,\n",
       "   'moonrise': 1678782780,\n",
       "   'moonset': 1678817880,\n",
       "   'moon_phase': 0.75,\n",
       "   'temp': {'day': 287.28,\n",
       "    'min': 286.82,\n",
       "    'max': 288.41,\n",
       "    'night': 286.95,\n",
       "    'eve': 286.98,\n",
       "    'morn': 286.82},\n",
       "   'feels_like': {'day': 287.18,\n",
       "    'night': 286.94,\n",
       "    'eve': 286.9,\n",
       "    'morn': 286.51},\n",
       "   'pressure': 1019,\n",
       "   'humidity': 93,\n",
       "   'dew_point': 286.17,\n",
       "   'wind_speed': 5.21,\n",
       "   'wind_deg': 130,\n",
       "   'wind_gust': 9.21,\n",
       "   'weather': [{'id': 502,\n",
       "     'main': 'Rain',\n",
       "     'description': 'heavy intensity rain',\n",
       "     'icon': '10d'}],\n",
       "   'clouds': 100,\n",
       "   'pop': 1,\n",
       "   'rain': 32.36,\n",
       "   'uvi': 0.92},\n",
       "  {'dt': 1678910400,\n",
       "   'sunrise': 1678889023,\n",
       "   'sunset': 1678932014,\n",
       "   'moonrise': 1678873140,\n",
       "   'moonset': 1678907700,\n",
       "   'moon_phase': 0.78,\n",
       "   'temp': {'day': 289.3,\n",
       "    'min': 285.73,\n",
       "    'max': 289.94,\n",
       "    'night': 285.73,\n",
       "    'eve': 286.94,\n",
       "    'morn': 287.31},\n",
       "   'feels_like': {'day': 289.03,\n",
       "    'night': 285.05,\n",
       "    'eve': 286.2,\n",
       "    'morn': 287.31},\n",
       "   'pressure': 1014,\n",
       "   'humidity': 79,\n",
       "   'dew_point': 285.05,\n",
       "   'wind_speed': 4.15,\n",
       "   'wind_deg': 226,\n",
       "   'wind_gust': 5.84,\n",
       "   'weather': [{'id': 502,\n",
       "     'main': 'Rain',\n",
       "     'description': 'heavy intensity rain',\n",
       "     'icon': '10d'}],\n",
       "   'clouds': 100,\n",
       "   'pop': 1,\n",
       "   'rain': 22.46,\n",
       "   'uvi': 4.79},\n",
       "  {'dt': 1678996800,\n",
       "   'sunrise': 1678975341,\n",
       "   'sunset': 1679018460,\n",
       "   'moonrise': 1678963260,\n",
       "   'moonset': 1678998060,\n",
       "   'moon_phase': 0.81,\n",
       "   'temp': {'day': 290.35,\n",
       "    'min': 284,\n",
       "    'max': 291.3,\n",
       "    'night': 286.4,\n",
       "    'eve': 289.09,\n",
       "    'morn': 284},\n",
       "   'feels_like': {'day': 289.33,\n",
       "    'night': 285.56,\n",
       "    'eve': 288.18,\n",
       "    'morn': 283.18},\n",
       "   'pressure': 1016,\n",
       "   'humidity': 46,\n",
       "   'dew_point': 278.21,\n",
       "   'wind_speed': 5.02,\n",
       "   'wind_deg': 217,\n",
       "   'wind_gust': 4.03,\n",
       "   'weather': [{'id': 801,\n",
       "     'main': 'Clouds',\n",
       "     'description': 'few clouds',\n",
       "     'icon': '02d'}],\n",
       "   'clouds': 18,\n",
       "   'pop': 0,\n",
       "   'uvi': 7.13},\n",
       "  {'dt': 1679083200,\n",
       "   'sunrise': 1679061659,\n",
       "   'sunset': 1679104906,\n",
       "   'moonrise': 1679052960,\n",
       "   'moonset': 1679088780,\n",
       "   'moon_phase': 0.85,\n",
       "   'temp': {'day': 291.38,\n",
       "    'min': 284.49,\n",
       "    'max': 292.95,\n",
       "    'night': 287.59,\n",
       "    'eve': 288.65,\n",
       "    'morn': 284.49},\n",
       "   'feels_like': {'day': 290.54, 'night': 286.94, 'eve': 287.9, 'morn': 283.9},\n",
       "   'pressure': 1016,\n",
       "   'humidity': 49,\n",
       "   'dew_point': 280.14,\n",
       "   'wind_speed': 4.2,\n",
       "   'wind_deg': 237,\n",
       "   'wind_gust': 3.26,\n",
       "   'weather': [{'id': 804,\n",
       "     'main': 'Clouds',\n",
       "     'description': 'overcast clouds',\n",
       "     'icon': '04d'}],\n",
       "   'clouds': 96,\n",
       "   'pop': 0,\n",
       "   'uvi': 7.43},\n",
       "  {'dt': 1679169600,\n",
       "   'sunrise': 1679147977,\n",
       "   'sunset': 1679191352,\n",
       "   'moonrise': 1679142180,\n",
       "   'moonset': 1679179620,\n",
       "   'moon_phase': 0.89,\n",
       "   'temp': {'day': 292.63,\n",
       "    'min': 285.48,\n",
       "    'max': 292.77,\n",
       "    'night': 287.45,\n",
       "    'eve': 288.86,\n",
       "    'morn': 285.48},\n",
       "   'feels_like': {'day': 291.65,\n",
       "    'night': 286.61,\n",
       "    'eve': 287.92,\n",
       "    'morn': 284.88},\n",
       "   'pressure': 1013,\n",
       "   'humidity': 39,\n",
       "   'dew_point': 278.01,\n",
       "   'wind_speed': 4.87,\n",
       "   'wind_deg': 236,\n",
       "   'wind_gust': 3.99,\n",
       "   'weather': [{'id': 802,\n",
       "     'main': 'Clouds',\n",
       "     'description': 'scattered clouds',\n",
       "     'icon': '03d'}],\n",
       "   'clouds': 38,\n",
       "   'pop': 0,\n",
       "   'uvi': 7.06},\n",
       "  {'dt': 1679256000,\n",
       "   'sunrise': 1679234294,\n",
       "   'sunset': 1679277798,\n",
       "   'moonrise': 1679230920,\n",
       "   'moonset': 1679270460,\n",
       "   'moon_phase': 0.93,\n",
       "   'temp': {'day': 293.87,\n",
       "    'min': 285.96,\n",
       "    'max': 293.87,\n",
       "    'night': 288.45,\n",
       "    'eve': 289.35,\n",
       "    'morn': 286.19},\n",
       "   'feels_like': {'day': 292.99,\n",
       "    'night': 287.65,\n",
       "    'eve': 288.54,\n",
       "    'morn': 285.38},\n",
       "   'pressure': 1014,\n",
       "   'humidity': 38,\n",
       "   'dew_point': 278.75,\n",
       "   'wind_speed': 4.14,\n",
       "   'wind_deg': 221,\n",
       "   'wind_gust': 4.14,\n",
       "   'weather': [{'id': 800,\n",
       "     'main': 'Clear',\n",
       "     'description': 'clear sky',\n",
       "     'icon': '01d'}],\n",
       "   'clouds': 6,\n",
       "   'pop': 0,\n",
       "   'uvi': 8},\n",
       "  {'dt': 1679342400,\n",
       "   'sunrise': 1679320612,\n",
       "   'sunset': 1679364244,\n",
       "   'moonrise': 1679319360,\n",
       "   'moonset': 1679361180,\n",
       "   'moon_phase': 0.96,\n",
       "   'temp': {'day': 292.33,\n",
       "    'min': 286.32,\n",
       "    'max': 292.33,\n",
       "    'night': 286.32,\n",
       "    'eve': 288.09,\n",
       "    'morn': 286.65},\n",
       "   'feels_like': {'day': 291.56,\n",
       "    'night': 285.62,\n",
       "    'eve': 287.6,\n",
       "    'morn': 285.91},\n",
       "   'pressure': 1017,\n",
       "   'humidity': 48,\n",
       "   'dew_point': 280.74,\n",
       "   'wind_speed': 3.36,\n",
       "   'wind_deg': 216,\n",
       "   'wind_gust': 3.66,\n",
       "   'weather': [{'id': 501,\n",
       "     'main': 'Rain',\n",
       "     'description': 'moderate rain',\n",
       "     'icon': '10d'}],\n",
       "   'clouds': 100,\n",
       "   'pop': 0.79,\n",
       "   'rain': 1.15,\n",
       "   'uvi': 8},\n",
       "  {'dt': 1679428800,\n",
       "   'sunrise': 1679406929,\n",
       "   'sunset': 1679450689,\n",
       "   'moonrise': 1679407680,\n",
       "   'moonset': 1679451780,\n",
       "   'moon_phase': 0,\n",
       "   'temp': {'day': 287.43,\n",
       "    'min': 285.56,\n",
       "    'max': 288.14,\n",
       "    'night': 287.34,\n",
       "    'eve': 287.53,\n",
       "    'morn': 285.7},\n",
       "   'feels_like': {'day': 286.95,\n",
       "    'night': 286.98,\n",
       "    'eve': 287.14,\n",
       "    'morn': 285.2},\n",
       "   'pressure': 1017,\n",
       "   'humidity': 78,\n",
       "   'dew_point': 283.05,\n",
       "   'wind_speed': 5.37,\n",
       "   'wind_deg': 129,\n",
       "   'wind_gust': 8.48,\n",
       "   'weather': [{'id': 500,\n",
       "     'main': 'Rain',\n",
       "     'description': 'light rain',\n",
       "     'icon': '10d'}],\n",
       "   'clouds': 100,\n",
       "   'pop': 0.76,\n",
       "   'rain': 2.15,\n",
       "   'uvi': 8}]}"
      ]
     },
     "execution_count": 90,
     "metadata": {},
     "output_type": "execute_result"
    }
   ],
   "source": [
    "LA_weather_response.json()"
   ]
  },
  {
   "cell_type": "markdown",
   "id": "40265fb8",
   "metadata": {},
   "source": [
    "Knowing what these API resonses look like will make it much easier at the time of feature engineering to make informed decisions about how the data and model should be structured."
   ]
  },
  {
   "cell_type": "markdown",
   "id": "c2248946",
   "metadata": {},
   "source": [
    "### 12 Save Data<a id='12_Save_Data'>"
   ]
  },
  {
   "cell_type": "code",
   "execution_count": 92,
   "id": "ea3d492e",
   "metadata": {
    "scrolled": true
   },
   "outputs": [
    {
     "name": "stdout",
     "output_type": "stream",
     "text": [
      "A file already exists with this name.\n",
      "\n",
      "Do you want to overwrite? (Y/N)y\n",
      "Writing file.  \"../Data\\LA_data.csv\"\n",
      "Writing file.  \"../Data\\LA_collisions.csv\"\n",
      "A file already exists with this name.\n",
      "\n",
      "Do you want to overwrite? (Y/N)y\n",
      "Writing file.  \"../Data\\LA_highway_collisions_cleaned.csv\"\n",
      "A file already exists with this name.\n",
      "\n",
      "Do you want to overwrite? (Y/N)y\\\n",
      "Writing file.  \"../Data\\LA_nonhighway_collisions_cleaned.csv\"\n",
      "A file already exists with this name.\n",
      "\n",
      "Do you want to overwrite? (Y/N)y\n",
      "Writing file.  \"../Data\\LA_traffic_counts.csv\"\n",
      "A file already exists with this name.\n",
      "\n",
      "Do you want to overwrite? (Y/N)y\n",
      "Writing file.  \"../Data\\LA_weather_cleaned.csv\"\n"
     ]
    }
   ],
   "source": [
    "datapath = '../Data'\n",
    "save_file(LA_data, 'LA_data.csv', datapath)\n",
    "save_file(LA_collisions, 'LA_collisions.csv', datapath)\n",
    "save_file(LA_highway_collisions, 'LA_highway_collisions_cleaned.csv', datapath)\n",
    "save_file(LA_nonhighway_collisions, 'LA_nonhighway_collisions_cleaned.csv', datapath)\n",
    "save_file(LA_traffic_counts, 'LA_traffic_counts.csv', datapath)\n",
    "save_file(LA_weather, 'LA_weather_cleaned.csv', datapath)"
   ]
  },
  {
   "cell_type": "markdown",
   "id": "ca3a59e6",
   "metadata": {},
   "source": [
    "### 13 Conclusion<a id='13_Conclusion'>"
   ]
  },
  {
   "cell_type": "markdown",
   "id": "f8d54545",
   "metadata": {},
   "source": [
    "The data is now cleaned of all null values. The collision data, both highway and nonhighway, has been merged with the weather data, which will allow the model to take weather and time data into the risk calculations. \n",
    "\n",
    "The google maps api returns a number of routes when requested with a start and end location. The API can take addresses or a latitudes and longitudes for the endpoints, as well as returning street names and latitudes and longitudes. The street names/cooordinates are easily accessible through the returned list.\n",
    "\n",
    "The weather api is almost the same as the bulk weather data from earlier in this notebook, differing in that the api response has a lot of unnecessary data. The useful data is luckily stored near the front (temp, humidity, visibility, etc...)."
   ]
  }
 ],
 "metadata": {
  "kernelspec": {
   "display_name": "Python 3 (ipykernel)",
   "language": "python",
   "name": "python3"
  },
  "language_info": {
   "codemirror_mode": {
    "name": "ipython",
    "version": 3
   },
   "file_extension": ".py",
   "mimetype": "text/x-python",
   "name": "python",
   "nbconvert_exporter": "python",
   "pygments_lexer": "ipython3",
   "version": "3.10.9"
  }
 },
 "nbformat": 4,
 "nbformat_minor": 5
}
