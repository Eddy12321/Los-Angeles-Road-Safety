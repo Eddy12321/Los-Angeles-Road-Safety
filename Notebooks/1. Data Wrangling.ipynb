{
 "cells": [
  {
   "cell_type": "markdown",
   "id": "b2942272",
   "metadata": {},
   "source": [
    "# Data Wrangling"
   ]
  },
  {
   "cell_type": "markdown",
   "id": "7d86834f",
   "metadata": {},
   "source": [
    "### 1 Table of Contents<a id='Contents'></a>\n",
    "* [Data Wrangling](#Data_Wrangling)\n",
    "  * [1 Contents](#Contents)\n",
    "  * [2 Introduction](#2_Introduction)\n",
    "      * [2.1 Problem](#2.1_Problem)\n",
    "      * [2.2 Data Sources](#2.2_Data_Sources)\n",
    "  * [3 Imports](#3_Imports)\n",
    "  * [4 Load Data](#4_Load_Data)\n",
    "      * [4.1 Highway Collisions](#4.1_Highway_Collisions)\n",
    "      * [4.2 Non-Highway Collisions](#4.2_Non-Highway_Collisions)\n",
    "      * [4.3 Weather](#4.3_Weather)\n",
    "  * [5 Traffic Collisions](#5_Traffic_Collisions)\n",
    "      * [5.1 Highway Collisions](#5.1_Highway_Collisions)\n",
    "      * [5.2 Non-Highway Collisions](#5.2_Non-Highway_Collisions)\n",
    "  * [6 Weather](#6_Weather)\n",
    "  * [7 Merge](#7_Merge)\n",
    "      * [7.1 Combining Collision Datasets](#7.1_Combining_Collision_Datasets)\n",
    "      * [7.2 Merging Collision and Weather](#7.2_Merging_Collision_and_Weather)\n",
    "  * [8 First Look](#8_First_Look)\n",
    "  * [9 Google Maps API](#9_Google_Maps_API)\n",
    "  * [10 OpenWeather API](#10_OpenWeather_API)\n",
    "  * [11 Save Data](#11_Save_Data)\n",
    "  * [12 Conclusion](#12_Conclusion)"
   ]
  },
  {
   "cell_type": "markdown",
   "id": "fd712465",
   "metadata": {},
   "source": [
    "### 2 Introduction<a id='2_Introduction'>"
   ]
  },
  {
   "cell_type": "markdown",
   "id": "df0371ce",
   "metadata": {},
   "source": [
    "#### 2.1 Problem<a id='2.1_Problem'>"
   ]
  },
  {
   "cell_type": "markdown",
   "id": "d3914eca",
   "metadata": {},
   "source": [
    "Millions of people are on the road everyday. In fact, there are more than seven million cars registered in LA county alone. With that many cars on the road, and pedestrians and cyclists, it can be quite dangerous to commute to everyday activities like work and grocery shopping, However, some routes are more dangerous than others. \n",
    "\n",
    "I will create a model to return the likelihood of an accident occurring on the different routes returned by the Google Maps API when prompted by a user, such that  the user can accurately choose the safest journey to take more than 75 percent of the time. For this project, I will be solely focusing on the city of Los Angeles.\n"
   ]
  },
  {
   "cell_type": "markdown",
   "id": "a268811f",
   "metadata": {},
   "source": [
    "#### 2.2 Data Sources<a id='2.2_Data_Sources'>"
   ]
  },
  {
   "cell_type": "markdown",
   "id": "61cde63d",
   "metadata": {},
   "source": [
    "The data that will be used is listed below:\n",
    "- SWITRS dataset on traffic collisions in California from 2001 to 2022. Sqlite files include info on collisions, parties involved, injuries, and a few weather factors. This is the dataset that will be used for modeling. The set contains over 300,000 collisions in the city of Los Angeles from 2007 to 2021.\n",
    "- LAPD data on non-highway traffic collisions from 2010 to present.\n",
    "- OpenWeather API provides weather data used for training the model, as this set has more useful weather factors, mainly visibility, than the California traffic collision dataset.\n",
    "- Google Maps API to provide routes on demand\tto users, who will then be given the likelihood that each route will result in an accident. API "
   ]
  },
  {
   "cell_type": "markdown",
   "id": "dcd18f83",
   "metadata": {},
   "source": [
    "### 3 Imports<a id='3_Imports'>"
   ]
  },
  {
   "cell_type": "code",
   "execution_count": 1,
   "id": "124ea66a",
   "metadata": {},
   "outputs": [],
   "source": [
    "import warnings\n",
    "warnings.simplefilter('ignore')\n",
    "import matplotlib.pyplot as plt\n",
    "import pandas as pd\n",
    "import seaborn as sns\n",
    "import numpy as np\n",
    "from library.sb_utils import save_file\n",
    "import requests\n",
    "import gmaps\n",
    "import googlemaps\n",
    "import os\n",
    "import csv\n",
    "%matplotlib inline"
   ]
  },
  {
   "cell_type": "markdown",
   "id": "6fb05d45",
   "metadata": {},
   "source": [
    "### 4 Load Data<a id='4_Load_Data'>"
   ]
  },
  {
   "cell_type": "code",
   "execution_count": 2,
   "id": "782d7027",
   "metadata": {},
   "outputs": [],
   "source": [
    "LA_highway_collisions = pd.read_csv('../Raw Data/Traffic.csv')\n",
    "LA_nonhighway_collisions = pd.read_csv('../Raw Data/Traffic_Collisions_LAPD.csv')\n",
    "LA_weather = pd.read_csv('../Raw Data/Los_Angeles_Weather.csv')\n",
    "openWeather_api_key = pd.read_json('../credentials.json', typ='series')['openWeather_api_key']\n",
    "maps_api_key = pd.read_json('../credentials.json', typ='series')['maps_api_key']"
   ]
  },
  {
   "cell_type": "markdown",
   "id": "a0166e7c",
   "metadata": {},
   "source": [
    "#### 4.1 Highway Collisions<a id='4.1_Highway_Collisions'>"
   ]
  },
  {
   "cell_type": "code",
   "execution_count": 3,
   "id": "f7cd1650",
   "metadata": {},
   "outputs": [
    {
     "data": {
      "text/html": [
       "<div>\n",
       "<style scoped>\n",
       "    .dataframe tbody tr th:only-of-type {\n",
       "        vertical-align: middle;\n",
       "    }\n",
       "\n",
       "    .dataframe tbody tr th {\n",
       "        vertical-align: top;\n",
       "    }\n",
       "\n",
       "    .dataframe thead th {\n",
       "        text-align: right;\n",
       "    }\n",
       "</style>\n",
       "<table border=\"1\" class=\"dataframe\">\n",
       "  <thead>\n",
       "    <tr style=\"text-align: right;\">\n",
       "      <th></th>\n",
       "      <th>id</th>\n",
       "      <th>road</th>\n",
       "      <th>intersection</th>\n",
       "      <th>side_of_highway</th>\n",
       "      <th>severity</th>\n",
       "      <th>type</th>\n",
       "      <th>pedestrian</th>\n",
       "      <th>bicycle</th>\n",
       "      <th>motorcycle</th>\n",
       "      <th>truck</th>\n",
       "      <th>same_day_crashes</th>\n",
       "      <th>same_road_crashes</th>\n",
       "      <th>latitude</th>\n",
       "      <th>longitude</th>\n",
       "      <th>datetime</th>\n",
       "    </tr>\n",
       "  </thead>\n",
       "  <tbody>\n",
       "    <tr>\n",
       "      <th>0</th>\n",
       "      <td>81488182</td>\n",
       "      <td>CENTINELA AV</td>\n",
       "      <td>0.0</td>\n",
       "      <td>NaN</td>\n",
       "      <td>pain</td>\n",
       "      <td>broadside</td>\n",
       "      <td>0</td>\n",
       "      <td>0</td>\n",
       "      <td>0</td>\n",
       "      <td>0</td>\n",
       "      <td>3</td>\n",
       "      <td>229</td>\n",
       "      <td>33.97074</td>\n",
       "      <td>-118.34786</td>\n",
       "      <td>2021-06-01 13:58:00</td>\n",
       "    </tr>\n",
       "    <tr>\n",
       "      <th>1</th>\n",
       "      <td>81488183</td>\n",
       "      <td>MANCHESTER BLVD</td>\n",
       "      <td>1.0</td>\n",
       "      <td>NaN</td>\n",
       "      <td>pain</td>\n",
       "      <td>broadside</td>\n",
       "      <td>0</td>\n",
       "      <td>0</td>\n",
       "      <td>0</td>\n",
       "      <td>0</td>\n",
       "      <td>3</td>\n",
       "      <td>185</td>\n",
       "      <td>33.95995</td>\n",
       "      <td>-118.32868</td>\n",
       "      <td>2021-06-01 16:15:00</td>\n",
       "    </tr>\n",
       "    <tr>\n",
       "      <th>2</th>\n",
       "      <td>91488003</td>\n",
       "      <td>I-710 NORTHBOUND(LONG BEACH FREEWAY)</td>\n",
       "      <td>0.0</td>\n",
       "      <td>NaN</td>\n",
       "      <td>property damage only</td>\n",
       "      <td>rear end</td>\n",
       "      <td>0</td>\n",
       "      <td>0</td>\n",
       "      <td>0</td>\n",
       "      <td>0</td>\n",
       "      <td>3</td>\n",
       "      <td>1</td>\n",
       "      <td>33.92770</td>\n",
       "      <td>-118.17820</td>\n",
       "      <td>2021-06-01 16:20:00</td>\n",
       "    </tr>\n",
       "    <tr>\n",
       "      <th>3</th>\n",
       "      <td>81487205</td>\n",
       "      <td>LA BREA AV</td>\n",
       "      <td>1.0</td>\n",
       "      <td>NaN</td>\n",
       "      <td>property damage only</td>\n",
       "      <td>hit object</td>\n",
       "      <td>0</td>\n",
       "      <td>0</td>\n",
       "      <td>0</td>\n",
       "      <td>0</td>\n",
       "      <td>3</td>\n",
       "      <td>424</td>\n",
       "      <td>33.96550</td>\n",
       "      <td>-118.35330</td>\n",
       "      <td>2021-05-30 06:45:00</td>\n",
       "    </tr>\n",
       "    <tr>\n",
       "      <th>4</th>\n",
       "      <td>91487342</td>\n",
       "      <td>I-605 (S/B)</td>\n",
       "      <td>0.0</td>\n",
       "      <td>NaN</td>\n",
       "      <td>severe injury</td>\n",
       "      <td>hit object</td>\n",
       "      <td>0</td>\n",
       "      <td>0</td>\n",
       "      <td>0</td>\n",
       "      <td>0</td>\n",
       "      <td>3</td>\n",
       "      <td>131</td>\n",
       "      <td>33.97228</td>\n",
       "      <td>-118.08097</td>\n",
       "      <td>2021-05-30 22:35:00</td>\n",
       "    </tr>\n",
       "  </tbody>\n",
       "</table>\n",
       "</div>"
      ],
      "text/plain": [
       "         id                                  road  intersection  \\\n",
       "0  81488182                          CENTINELA AV           0.0   \n",
       "1  81488183                       MANCHESTER BLVD           1.0   \n",
       "2  91488003  I-710 NORTHBOUND(LONG BEACH FREEWAY)           0.0   \n",
       "3  81487205                            LA BREA AV           1.0   \n",
       "4  91487342                           I-605 (S/B)           0.0   \n",
       "\n",
       "  side_of_highway              severity        type  pedestrian  bicycle  \\\n",
       "0             NaN                  pain   broadside           0        0   \n",
       "1             NaN                  pain   broadside           0        0   \n",
       "2             NaN  property damage only    rear end           0        0   \n",
       "3             NaN  property damage only  hit object           0        0   \n",
       "4             NaN         severe injury  hit object           0        0   \n",
       "\n",
       "   motorcycle  truck  same_day_crashes  same_road_crashes  latitude  \\\n",
       "0           0      0                 3                229  33.97074   \n",
       "1           0      0                 3                185  33.95995   \n",
       "2           0      0                 3                  1  33.92770   \n",
       "3           0      0                 3                424  33.96550   \n",
       "4           0      0                 3                131  33.97228   \n",
       "\n",
       "   longitude             datetime  \n",
       "0 -118.34786  2021-06-01 13:58:00  \n",
       "1 -118.32868  2021-06-01 16:15:00  \n",
       "2 -118.17820  2021-06-01 16:20:00  \n",
       "3 -118.35330  2021-05-30 06:45:00  \n",
       "4 -118.08097  2021-05-30 22:35:00  "
      ]
     },
     "execution_count": 3,
     "metadata": {},
     "output_type": "execute_result"
    }
   ],
   "source": [
    "LA_highway_collisions.head()"
   ]
  },
  {
   "cell_type": "markdown",
   "id": "bb46ace5",
   "metadata": {},
   "source": [
    "The collisions dataset contains information on each wreck, including: severity, road, and time. The dataset was queried from the SWITRS database using SQLiteStudio. "
   ]
  },
  {
   "cell_type": "code",
   "execution_count": 4,
   "id": "c08917f7",
   "metadata": {},
   "outputs": [
    {
     "data": {
      "text/plain": [
       "(319906, 15)"
      ]
     },
     "execution_count": 4,
     "metadata": {},
     "output_type": "execute_result"
    }
   ],
   "source": [
    "LA_highway_collisions.shape"
   ]
  },
  {
   "cell_type": "markdown",
   "id": "74e9ffb7",
   "metadata": {},
   "source": [
    "#### 4.2 Non-Highway Collisions<a id='4.2_Non-Highway_Collisions'>"
   ]
  },
  {
   "cell_type": "code",
   "execution_count": 5,
   "id": "de577bb7",
   "metadata": {},
   "outputs": [
    {
     "data": {
      "text/html": [
       "<div>\n",
       "<style scoped>\n",
       "    .dataframe tbody tr th:only-of-type {\n",
       "        vertical-align: middle;\n",
       "    }\n",
       "\n",
       "    .dataframe tbody tr th {\n",
       "        vertical-align: top;\n",
       "    }\n",
       "\n",
       "    .dataframe thead th {\n",
       "        text-align: right;\n",
       "    }\n",
       "</style>\n",
       "<table border=\"1\" class=\"dataframe\">\n",
       "  <thead>\n",
       "    <tr style=\"text-align: right;\">\n",
       "      <th></th>\n",
       "      <th>DR Number</th>\n",
       "      <th>Date Reported</th>\n",
       "      <th>Date Occurred</th>\n",
       "      <th>Time Occurred</th>\n",
       "      <th>Area ID</th>\n",
       "      <th>Area Name</th>\n",
       "      <th>Reporting District</th>\n",
       "      <th>Crime Code</th>\n",
       "      <th>Crime Code Description</th>\n",
       "      <th>MO Codes</th>\n",
       "      <th>Victim Age</th>\n",
       "      <th>Victim Sex</th>\n",
       "      <th>Victim Descent</th>\n",
       "      <th>Premise Code</th>\n",
       "      <th>Premise Description</th>\n",
       "      <th>Address</th>\n",
       "      <th>Cross Street</th>\n",
       "      <th>Location</th>\n",
       "    </tr>\n",
       "  </thead>\n",
       "  <tbody>\n",
       "    <tr>\n",
       "      <th>0</th>\n",
       "      <td>190319651</td>\n",
       "      <td>08/24/2019</td>\n",
       "      <td>08/24/2019</td>\n",
       "      <td>450</td>\n",
       "      <td>3</td>\n",
       "      <td>Southwest</td>\n",
       "      <td>356</td>\n",
       "      <td>997</td>\n",
       "      <td>TRAFFIC COLLISION</td>\n",
       "      <td>3036 3004 3026 3101 4003</td>\n",
       "      <td>22.0</td>\n",
       "      <td>M</td>\n",
       "      <td>H</td>\n",
       "      <td>101.0</td>\n",
       "      <td>STREET</td>\n",
       "      <td>JEFFERSON                    BL</td>\n",
       "      <td>NORMANDIE                    AV</td>\n",
       "      <td>(34.0255, -118.3002)</td>\n",
       "    </tr>\n",
       "    <tr>\n",
       "      <th>1</th>\n",
       "      <td>190319680</td>\n",
       "      <td>08/30/2019</td>\n",
       "      <td>08/30/2019</td>\n",
       "      <td>2320</td>\n",
       "      <td>3</td>\n",
       "      <td>Southwest</td>\n",
       "      <td>355</td>\n",
       "      <td>997</td>\n",
       "      <td>TRAFFIC COLLISION</td>\n",
       "      <td>3037 3006 3028 3030 3039 3101 4003</td>\n",
       "      <td>30.0</td>\n",
       "      <td>F</td>\n",
       "      <td>H</td>\n",
       "      <td>101.0</td>\n",
       "      <td>STREET</td>\n",
       "      <td>JEFFERSON                    BL</td>\n",
       "      <td>W  WESTERN</td>\n",
       "      <td>(34.0256, -118.3089)</td>\n",
       "    </tr>\n",
       "    <tr>\n",
       "      <th>2</th>\n",
       "      <td>190413769</td>\n",
       "      <td>08/25/2019</td>\n",
       "      <td>08/25/2019</td>\n",
       "      <td>545</td>\n",
       "      <td>4</td>\n",
       "      <td>Hollenbeck</td>\n",
       "      <td>422</td>\n",
       "      <td>997</td>\n",
       "      <td>TRAFFIC COLLISION</td>\n",
       "      <td>3101 3401 3701 3006 3030</td>\n",
       "      <td>NaN</td>\n",
       "      <td>M</td>\n",
       "      <td>X</td>\n",
       "      <td>101.0</td>\n",
       "      <td>STREET</td>\n",
       "      <td>N  BROADWAY</td>\n",
       "      <td>W  EASTLAKE                     AV</td>\n",
       "      <td>(34.0738, -118.2078)</td>\n",
       "    </tr>\n",
       "    <tr>\n",
       "      <th>3</th>\n",
       "      <td>190127578</td>\n",
       "      <td>11/20/2019</td>\n",
       "      <td>11/20/2019</td>\n",
       "      <td>350</td>\n",
       "      <td>1</td>\n",
       "      <td>Central</td>\n",
       "      <td>128</td>\n",
       "      <td>997</td>\n",
       "      <td>TRAFFIC COLLISION</td>\n",
       "      <td>0605 3101 3401 3701 3011 3034</td>\n",
       "      <td>21.0</td>\n",
       "      <td>M</td>\n",
       "      <td>H</td>\n",
       "      <td>101.0</td>\n",
       "      <td>STREET</td>\n",
       "      <td>1ST</td>\n",
       "      <td>CENTRAL</td>\n",
       "      <td>(34.0492, -118.2391)</td>\n",
       "    </tr>\n",
       "    <tr>\n",
       "      <th>4</th>\n",
       "      <td>190319695</td>\n",
       "      <td>08/30/2019</td>\n",
       "      <td>08/30/2019</td>\n",
       "      <td>2100</td>\n",
       "      <td>3</td>\n",
       "      <td>Southwest</td>\n",
       "      <td>374</td>\n",
       "      <td>997</td>\n",
       "      <td>TRAFFIC COLLISION</td>\n",
       "      <td>0605 4025 3037 3004 3025 3101</td>\n",
       "      <td>49.0</td>\n",
       "      <td>M</td>\n",
       "      <td>B</td>\n",
       "      <td>101.0</td>\n",
       "      <td>STREET</td>\n",
       "      <td>MARTIN LUTHER KING JR</td>\n",
       "      <td>ARLINGTON                    AV</td>\n",
       "      <td>(34.0108, -118.3182)</td>\n",
       "    </tr>\n",
       "  </tbody>\n",
       "</table>\n",
       "</div>"
      ],
      "text/plain": [
       "   DR Number Date Reported Date Occurred  Time Occurred  Area ID   Area Name  \\\n",
       "0  190319651    08/24/2019    08/24/2019            450        3   Southwest   \n",
       "1  190319680    08/30/2019    08/30/2019           2320        3   Southwest   \n",
       "2  190413769    08/25/2019    08/25/2019            545        4  Hollenbeck   \n",
       "3  190127578    11/20/2019    11/20/2019            350        1     Central   \n",
       "4  190319695    08/30/2019    08/30/2019           2100        3   Southwest   \n",
       "\n",
       "   Reporting District  Crime Code Crime Code Description  \\\n",
       "0                 356         997      TRAFFIC COLLISION   \n",
       "1                 355         997      TRAFFIC COLLISION   \n",
       "2                 422         997      TRAFFIC COLLISION   \n",
       "3                 128         997      TRAFFIC COLLISION   \n",
       "4                 374         997      TRAFFIC COLLISION   \n",
       "\n",
       "                             MO Codes  Victim Age Victim Sex Victim Descent  \\\n",
       "0            3036 3004 3026 3101 4003        22.0          M              H   \n",
       "1  3037 3006 3028 3030 3039 3101 4003        30.0          F              H   \n",
       "2            3101 3401 3701 3006 3030         NaN          M              X   \n",
       "3       0605 3101 3401 3701 3011 3034        21.0          M              H   \n",
       "4       0605 4025 3037 3004 3025 3101        49.0          M              B   \n",
       "\n",
       "   Premise Code Premise Description                          Address  \\\n",
       "0         101.0              STREET  JEFFERSON                    BL   \n",
       "1         101.0              STREET  JEFFERSON                    BL   \n",
       "2         101.0              STREET                      N  BROADWAY   \n",
       "3         101.0              STREET                              1ST   \n",
       "4         101.0              STREET            MARTIN LUTHER KING JR   \n",
       "\n",
       "                         Cross Street              Location  \n",
       "0     NORMANDIE                    AV  (34.0255, -118.3002)  \n",
       "1                          W  WESTERN  (34.0256, -118.3089)  \n",
       "2  W  EASTLAKE                     AV  (34.0738, -118.2078)  \n",
       "3                             CENTRAL  (34.0492, -118.2391)  \n",
       "4     ARLINGTON                    AV  (34.0108, -118.3182)  "
      ]
     },
     "execution_count": 5,
     "metadata": {},
     "output_type": "execute_result"
    }
   ],
   "source": [
    "LA_nonhighway_collisions.head()"
   ]
  },
  {
   "cell_type": "code",
   "execution_count": 6,
   "id": "8c5f992e",
   "metadata": {},
   "outputs": [
    {
     "data": {
      "text/plain": [
       "(587194, 18)"
      ]
     },
     "execution_count": 6,
     "metadata": {},
     "output_type": "execute_result"
    }
   ],
   "source": [
    "LA_nonhighway_collisions.shape"
   ]
  },
  {
   "cell_type": "markdown",
   "id": "ccda3d1e",
   "metadata": {},
   "source": [
    "#### 4.3 Weather<a id='4.3_Weather'>"
   ]
  },
  {
   "cell_type": "code",
   "execution_count": 7,
   "id": "4999325d",
   "metadata": {
    "scrolled": false
   },
   "outputs": [
    {
     "data": {
      "text/html": [
       "<div>\n",
       "<style scoped>\n",
       "    .dataframe tbody tr th:only-of-type {\n",
       "        vertical-align: middle;\n",
       "    }\n",
       "\n",
       "    .dataframe tbody tr th {\n",
       "        vertical-align: top;\n",
       "    }\n",
       "\n",
       "    .dataframe thead th {\n",
       "        text-align: right;\n",
       "    }\n",
       "</style>\n",
       "<table border=\"1\" class=\"dataframe\">\n",
       "  <thead>\n",
       "    <tr style=\"text-align: right;\">\n",
       "      <th></th>\n",
       "      <th>dt</th>\n",
       "      <th>dt_iso</th>\n",
       "      <th>timezone</th>\n",
       "      <th>city_name</th>\n",
       "      <th>lat</th>\n",
       "      <th>lon</th>\n",
       "      <th>temp</th>\n",
       "      <th>visibility</th>\n",
       "      <th>dew_point</th>\n",
       "      <th>feels_like</th>\n",
       "      <th>...</th>\n",
       "      <th>wind_gust</th>\n",
       "      <th>rain_1h</th>\n",
       "      <th>rain_3h</th>\n",
       "      <th>snow_1h</th>\n",
       "      <th>snow_3h</th>\n",
       "      <th>clouds_all</th>\n",
       "      <th>weather_id</th>\n",
       "      <th>weather_main</th>\n",
       "      <th>weather_description</th>\n",
       "      <th>weather_icon</th>\n",
       "    </tr>\n",
       "  </thead>\n",
       "  <tbody>\n",
       "    <tr>\n",
       "      <th>0</th>\n",
       "      <td>1167609600</td>\n",
       "      <td>2007-01-01 00:00:00 +0000 UTC</td>\n",
       "      <td>-28800</td>\n",
       "      <td>Los Angeles</td>\n",
       "      <td>34.052234</td>\n",
       "      <td>-118.243685</td>\n",
       "      <td>15.88</td>\n",
       "      <td>10000.0</td>\n",
       "      <td>8.38</td>\n",
       "      <td>15.12</td>\n",
       "      <td>...</td>\n",
       "      <td>NaN</td>\n",
       "      <td>NaN</td>\n",
       "      <td>NaN</td>\n",
       "      <td>NaN</td>\n",
       "      <td>NaN</td>\n",
       "      <td>0</td>\n",
       "      <td>800</td>\n",
       "      <td>Clear</td>\n",
       "      <td>sky is clear</td>\n",
       "      <td>01d</td>\n",
       "    </tr>\n",
       "    <tr>\n",
       "      <th>1</th>\n",
       "      <td>1167613200</td>\n",
       "      <td>2007-01-01 01:00:00 +0000 UTC</td>\n",
       "      <td>-28800</td>\n",
       "      <td>Los Angeles</td>\n",
       "      <td>34.052234</td>\n",
       "      <td>-118.243685</td>\n",
       "      <td>14.79</td>\n",
       "      <td>10000.0</td>\n",
       "      <td>8.51</td>\n",
       "      <td>14.05</td>\n",
       "      <td>...</td>\n",
       "      <td>NaN</td>\n",
       "      <td>NaN</td>\n",
       "      <td>NaN</td>\n",
       "      <td>NaN</td>\n",
       "      <td>NaN</td>\n",
       "      <td>0</td>\n",
       "      <td>800</td>\n",
       "      <td>Clear</td>\n",
       "      <td>sky is clear</td>\n",
       "      <td>01n</td>\n",
       "    </tr>\n",
       "    <tr>\n",
       "      <th>2</th>\n",
       "      <td>1167616800</td>\n",
       "      <td>2007-01-01 02:00:00 +0000 UTC</td>\n",
       "      <td>-28800</td>\n",
       "      <td>Los Angeles</td>\n",
       "      <td>34.052234</td>\n",
       "      <td>-118.243685</td>\n",
       "      <td>14.01</td>\n",
       "      <td>10000.0</td>\n",
       "      <td>9.45</td>\n",
       "      <td>13.40</td>\n",
       "      <td>...</td>\n",
       "      <td>NaN</td>\n",
       "      <td>NaN</td>\n",
       "      <td>NaN</td>\n",
       "      <td>NaN</td>\n",
       "      <td>NaN</td>\n",
       "      <td>0</td>\n",
       "      <td>800</td>\n",
       "      <td>Clear</td>\n",
       "      <td>sky is clear</td>\n",
       "      <td>01n</td>\n",
       "    </tr>\n",
       "    <tr>\n",
       "      <th>3</th>\n",
       "      <td>1167620400</td>\n",
       "      <td>2007-01-01 03:00:00 +0000 UTC</td>\n",
       "      <td>-28800</td>\n",
       "      <td>Los Angeles</td>\n",
       "      <td>34.052234</td>\n",
       "      <td>-118.243685</td>\n",
       "      <td>12.08</td>\n",
       "      <td>9656.0</td>\n",
       "      <td>6.99</td>\n",
       "      <td>11.20</td>\n",
       "      <td>...</td>\n",
       "      <td>NaN</td>\n",
       "      <td>NaN</td>\n",
       "      <td>NaN</td>\n",
       "      <td>NaN</td>\n",
       "      <td>NaN</td>\n",
       "      <td>100</td>\n",
       "      <td>721</td>\n",
       "      <td>Haze</td>\n",
       "      <td>haze</td>\n",
       "      <td>50n</td>\n",
       "    </tr>\n",
       "    <tr>\n",
       "      <th>4</th>\n",
       "      <td>1167624000</td>\n",
       "      <td>2007-01-01 04:00:00 +0000 UTC</td>\n",
       "      <td>-28800</td>\n",
       "      <td>Los Angeles</td>\n",
       "      <td>34.052234</td>\n",
       "      <td>-118.243685</td>\n",
       "      <td>11.55</td>\n",
       "      <td>8047.0</td>\n",
       "      <td>7.66</td>\n",
       "      <td>10.77</td>\n",
       "      <td>...</td>\n",
       "      <td>NaN</td>\n",
       "      <td>NaN</td>\n",
       "      <td>NaN</td>\n",
       "      <td>NaN</td>\n",
       "      <td>NaN</td>\n",
       "      <td>75</td>\n",
       "      <td>721</td>\n",
       "      <td>Haze</td>\n",
       "      <td>haze</td>\n",
       "      <td>50n</td>\n",
       "    </tr>\n",
       "  </tbody>\n",
       "</table>\n",
       "<p>5 rows × 28 columns</p>\n",
       "</div>"
      ],
      "text/plain": [
       "           dt                         dt_iso  timezone    city_name  \\\n",
       "0  1167609600  2007-01-01 00:00:00 +0000 UTC    -28800  Los Angeles   \n",
       "1  1167613200  2007-01-01 01:00:00 +0000 UTC    -28800  Los Angeles   \n",
       "2  1167616800  2007-01-01 02:00:00 +0000 UTC    -28800  Los Angeles   \n",
       "3  1167620400  2007-01-01 03:00:00 +0000 UTC    -28800  Los Angeles   \n",
       "4  1167624000  2007-01-01 04:00:00 +0000 UTC    -28800  Los Angeles   \n",
       "\n",
       "         lat         lon   temp  visibility  dew_point  feels_like  ...  \\\n",
       "0  34.052234 -118.243685  15.88     10000.0       8.38       15.12  ...   \n",
       "1  34.052234 -118.243685  14.79     10000.0       8.51       14.05  ...   \n",
       "2  34.052234 -118.243685  14.01     10000.0       9.45       13.40  ...   \n",
       "3  34.052234 -118.243685  12.08      9656.0       6.99       11.20  ...   \n",
       "4  34.052234 -118.243685  11.55      8047.0       7.66       10.77  ...   \n",
       "\n",
       "   wind_gust  rain_1h  rain_3h  snow_1h  snow_3h  clouds_all  weather_id  \\\n",
       "0        NaN      NaN      NaN      NaN      NaN           0         800   \n",
       "1        NaN      NaN      NaN      NaN      NaN           0         800   \n",
       "2        NaN      NaN      NaN      NaN      NaN           0         800   \n",
       "3        NaN      NaN      NaN      NaN      NaN         100         721   \n",
       "4        NaN      NaN      NaN      NaN      NaN          75         721   \n",
       "\n",
       "   weather_main  weather_description  weather_icon  \n",
       "0         Clear         sky is clear           01d  \n",
       "1         Clear         sky is clear           01n  \n",
       "2         Clear         sky is clear           01n  \n",
       "3          Haze                 haze           50n  \n",
       "4          Haze                 haze           50n  \n",
       "\n",
       "[5 rows x 28 columns]"
      ]
     },
     "execution_count": 7,
     "metadata": {},
     "output_type": "execute_result"
    }
   ],
   "source": [
    "LA_weather.head()"
   ]
  },
  {
   "cell_type": "markdown",
   "id": "ecb530dd",
   "metadata": {},
   "source": [
    "The weather dataset contains information on each wreck, including: temp, visibility, and wind. This dataset will be joined to the collisions dataset on the time column later in this notebook. But first, cleaning the datasets."
   ]
  },
  {
   "cell_type": "code",
   "execution_count": 8,
   "id": "50fc60ab",
   "metadata": {},
   "outputs": [
    {
     "data": {
      "text/plain": [
       "(132731, 28)"
      ]
     },
     "execution_count": 8,
     "metadata": {},
     "output_type": "execute_result"
    }
   ],
   "source": [
    "LA_weather.shape"
   ]
  },
  {
   "cell_type": "markdown",
   "id": "4bab6b37",
   "metadata": {},
   "source": [
    "### 5 Traffic Collisions<a id='5_Traffic_Collisions'>"
   ]
  },
  {
   "cell_type": "markdown",
   "id": "f1673853",
   "metadata": {},
   "source": [
    "#### 5.1 Highway Collisions<a id='5.1_Highway_Collisions'>"
   ]
  },
  {
   "cell_type": "code",
   "execution_count": 9,
   "id": "0fbcd996",
   "metadata": {
    "scrolled": true
   },
   "outputs": [
    {
     "data": {
      "text/plain": [
       "id                     int64\n",
       "road                  object\n",
       "intersection         float64\n",
       "side_of_highway       object\n",
       "severity              object\n",
       "type                  object\n",
       "pedestrian             int64\n",
       "bicycle                int64\n",
       "motorcycle             int64\n",
       "truck                  int64\n",
       "same_day_crashes       int64\n",
       "same_road_crashes      int64\n",
       "latitude             float64\n",
       "longitude            float64\n",
       "datetime              object\n",
       "dtype: object"
      ]
     },
     "execution_count": 9,
     "metadata": {},
     "output_type": "execute_result"
    }
   ],
   "source": [
    "LA_highway_collisions.dtypes"
   ]
  },
  {
   "cell_type": "markdown",
   "id": "5e72b562",
   "metadata": {},
   "source": [
    "The object dtypes are string objects. These will be turned into dummy columns in a future notebook. For now, focusing on missing values."
   ]
  },
  {
   "cell_type": "code",
   "execution_count": 10,
   "id": "967d4ba6",
   "metadata": {
    "scrolled": true
   },
   "outputs": [
    {
     "data": {
      "text/plain": [
       "id                        0\n",
       "road                      0\n",
       "intersection            266\n",
       "side_of_highway      216113\n",
       "severity                  0\n",
       "type                    805\n",
       "pedestrian                0\n",
       "bicycle                   0\n",
       "motorcycle                0\n",
       "truck                     0\n",
       "same_day_crashes          0\n",
       "same_road_crashes         0\n",
       "latitude                  0\n",
       "longitude                 0\n",
       "datetime               1817\n",
       "dtype: int64"
      ]
     },
     "execution_count": 10,
     "metadata": {},
     "output_type": "execute_result"
    }
   ],
   "source": [
    "LA_highway_collisions.isna().sum()"
   ]
  },
  {
   "cell_type": "markdown",
   "id": "b6a4453a",
   "metadata": {},
   "source": [
    "There are quite a lot of missing values in a number of columns. Datetime is important, since that is the column that  will be used to join the two datasets on. Imputing values based on nearby values is an option, however it is only about 0.5% of the rows that are missing values in that column, so they will be dropped instead to avoid incorrect imputation. "
   ]
  },
  {
   "cell_type": "code",
   "execution_count": 11,
   "id": "e6f5ce3f",
   "metadata": {},
   "outputs": [],
   "source": [
    "LA_highway_collisions.dropna(subset = ['datetime'], inplace = True)"
   ]
  },
  {
   "cell_type": "code",
   "execution_count": 12,
   "id": "a0bd71f5",
   "metadata": {},
   "outputs": [
    {
     "name": "stdout",
     "output_type": "stream",
     "text": [
      "side_of_highway: [nan 'eastbound' 'southbound' 'northbound' 'westbound']\n",
      "type: ['broadside' 'rear end' 'hit object' 'sideswipe' 'head-on' 'other'\n",
      " 'pedestrian' 'overturned' nan]\n",
      "intersection: [ 0.  1. nan]\n"
     ]
    }
   ],
   "source": [
    "print('side_of_highway:', LA_highway_collisions['side_of_highway'].unique())\n",
    "print('type:', LA_highway_collisions['type'].unique())\n",
    "print('intersection:', LA_highway_collisions['intersection'].unique())"
   ]
  },
  {
   "cell_type": "markdown",
   "id": "db7a0680",
   "metadata": {},
   "source": [
    "The above columns are a mixture of string objects and a float. The string objects will be imputed with \"Not Available\" and the float will be imputed with zero. It is assumed that missing values for intersection are instances that did not involve an intersection"
   ]
  },
  {
   "cell_type": "code",
   "execution_count": 13,
   "id": "51836a33",
   "metadata": {},
   "outputs": [],
   "source": [
    "LA_highway_collisions.fillna({'side_of_highway':'Not Available', 'type':'Not Available',\n",
    "                              'intersection':0}, inplace = True)"
   ]
  },
  {
   "cell_type": "code",
   "execution_count": 14,
   "id": "b21232b5",
   "metadata": {},
   "outputs": [
    {
     "data": {
      "text/plain": [
       "id                   0\n",
       "road                 0\n",
       "intersection         0\n",
       "side_of_highway      0\n",
       "severity             0\n",
       "type                 0\n",
       "pedestrian           0\n",
       "bicycle              0\n",
       "motorcycle           0\n",
       "truck                0\n",
       "same_day_crashes     0\n",
       "same_road_crashes    0\n",
       "latitude             0\n",
       "longitude            0\n",
       "datetime             0\n",
       "dtype: int64"
      ]
     },
     "execution_count": 14,
     "metadata": {},
     "output_type": "execute_result"
    }
   ],
   "source": [
    "LA_highway_collisions.isna().sum()"
   ]
  },
  {
   "cell_type": "markdown",
   "id": "b465ee76",
   "metadata": {},
   "source": [
    "That's all of the null values handled in this dataset. The id column is no longer needed so that can be dropped."
   ]
  },
  {
   "cell_type": "code",
   "execution_count": 15,
   "id": "d95a9738",
   "metadata": {},
   "outputs": [],
   "source": [
    "LA_highway_collisions.drop(columns = ['id'], inplace = True)"
   ]
  },
  {
   "cell_type": "code",
   "execution_count": 16,
   "id": "703a5791",
   "metadata": {},
   "outputs": [
    {
     "data": {
      "text/plain": [
       "road                  26566\n",
       "intersection              2\n",
       "side_of_highway           5\n",
       "severity                  5\n",
       "type                      9\n",
       "pedestrian                2\n",
       "bicycle                   2\n",
       "motorcycle                2\n",
       "truck                     2\n",
       "same_day_crashes        145\n",
       "same_road_crashes       319\n",
       "latitude              24841\n",
       "longitude             43383\n",
       "datetime             283209\n",
       "dtype: int64"
      ]
     },
     "execution_count": 16,
     "metadata": {},
     "output_type": "execute_result"
    }
   ],
   "source": [
    "LA_highway_collisions.nunique()"
   ]
  },
  {
   "cell_type": "markdown",
   "id": "9e774394",
   "metadata": {},
   "source": [
    "Now, the non-highway collisions"
   ]
  },
  {
   "cell_type": "markdown",
   "id": "f4c4b273",
   "metadata": {},
   "source": [
    "#### 5.2 Non-Highway Collisions<a id='5.2_Non-Highway_Collisions'>"
   ]
  },
  {
   "cell_type": "code",
   "execution_count": 17,
   "id": "09d71929",
   "metadata": {
    "scrolled": true
   },
   "outputs": [
    {
     "data": {
      "text/plain": [
       "DR Number                   int64\n",
       "Date Reported              object\n",
       "Date Occurred              object\n",
       "Time Occurred               int64\n",
       "Area ID                     int64\n",
       "Area Name                  object\n",
       "Reporting District          int64\n",
       "Crime Code                  int64\n",
       "Crime Code Description     object\n",
       "MO Codes                   object\n",
       "Victim Age                float64\n",
       "Victim Sex                 object\n",
       "Victim Descent             object\n",
       "Premise Code              float64\n",
       "Premise Description        object\n",
       "Address                    object\n",
       "Cross Street               object\n",
       "Location                   object\n",
       "dtype: object"
      ]
     },
     "execution_count": 17,
     "metadata": {},
     "output_type": "execute_result"
    }
   ],
   "source": [
    "LA_nonhighway_collisions.dtypes"
   ]
  },
  {
   "cell_type": "markdown",
   "id": "11eb7128",
   "metadata": {},
   "source": [
    "There are many unneeded columns in this dataset. Mostly, columns pertaining to the victim's age or sex or pertaining to the area, other than Location, are not needed."
   ]
  },
  {
   "cell_type": "code",
   "execution_count": 18,
   "id": "02069c58",
   "metadata": {},
   "outputs": [],
   "source": [
    "LA_nonhighway_collisions.drop(columns = ['DR Number', 'Date Reported', 'Area ID', 'Area Name', 'Reporting District', \n",
    "                                         'Crime Code', 'Crime Code Description', 'MO Codes', 'Victim Sex', \n",
    "                                         'Victim Age', 'Victim Descent', 'Premise Code', 'Premise Description', \n",
    "                                         'Cross Street'], inplace = True)"
   ]
  },
  {
   "cell_type": "code",
   "execution_count": 19,
   "id": "b9003bd3",
   "metadata": {},
   "outputs": [
    {
     "data": {
      "text/html": [
       "<div>\n",
       "<style scoped>\n",
       "    .dataframe tbody tr th:only-of-type {\n",
       "        vertical-align: middle;\n",
       "    }\n",
       "\n",
       "    .dataframe tbody tr th {\n",
       "        vertical-align: top;\n",
       "    }\n",
       "\n",
       "    .dataframe thead th {\n",
       "        text-align: right;\n",
       "    }\n",
       "</style>\n",
       "<table border=\"1\" class=\"dataframe\">\n",
       "  <thead>\n",
       "    <tr style=\"text-align: right;\">\n",
       "      <th></th>\n",
       "      <th>Date Occurred</th>\n",
       "      <th>Time Occurred</th>\n",
       "      <th>Address</th>\n",
       "      <th>Location</th>\n",
       "    </tr>\n",
       "  </thead>\n",
       "  <tbody>\n",
       "    <tr>\n",
       "      <th>0</th>\n",
       "      <td>08/24/2019</td>\n",
       "      <td>450</td>\n",
       "      <td>JEFFERSON                    BL</td>\n",
       "      <td>(34.0255, -118.3002)</td>\n",
       "    </tr>\n",
       "    <tr>\n",
       "      <th>1</th>\n",
       "      <td>08/30/2019</td>\n",
       "      <td>2320</td>\n",
       "      <td>JEFFERSON                    BL</td>\n",
       "      <td>(34.0256, -118.3089)</td>\n",
       "    </tr>\n",
       "    <tr>\n",
       "      <th>2</th>\n",
       "      <td>08/25/2019</td>\n",
       "      <td>545</td>\n",
       "      <td>N  BROADWAY</td>\n",
       "      <td>(34.0738, -118.2078)</td>\n",
       "    </tr>\n",
       "    <tr>\n",
       "      <th>3</th>\n",
       "      <td>11/20/2019</td>\n",
       "      <td>350</td>\n",
       "      <td>1ST</td>\n",
       "      <td>(34.0492, -118.2391)</td>\n",
       "    </tr>\n",
       "    <tr>\n",
       "      <th>4</th>\n",
       "      <td>08/30/2019</td>\n",
       "      <td>2100</td>\n",
       "      <td>MARTIN LUTHER KING JR</td>\n",
       "      <td>(34.0108, -118.3182)</td>\n",
       "    </tr>\n",
       "  </tbody>\n",
       "</table>\n",
       "</div>"
      ],
      "text/plain": [
       "  Date Occurred  Time Occurred                          Address  \\\n",
       "0    08/24/2019            450  JEFFERSON                    BL   \n",
       "1    08/30/2019           2320  JEFFERSON                    BL   \n",
       "2    08/25/2019            545                      N  BROADWAY   \n",
       "3    11/20/2019            350                              1ST   \n",
       "4    08/30/2019           2100            MARTIN LUTHER KING JR   \n",
       "\n",
       "               Location  \n",
       "0  (34.0255, -118.3002)  \n",
       "1  (34.0256, -118.3089)  \n",
       "2  (34.0738, -118.2078)  \n",
       "3  (34.0492, -118.2391)  \n",
       "4  (34.0108, -118.3182)  "
      ]
     },
     "execution_count": 19,
     "metadata": {},
     "output_type": "execute_result"
    }
   ],
   "source": [
    "LA_nonhighway_collisions.head()"
   ]
  },
  {
   "cell_type": "code",
   "execution_count": 20,
   "id": "c9bb0f87",
   "metadata": {},
   "outputs": [
    {
     "name": "stdout",
     "output_type": "stream",
     "text": [
      "<class 'str'>\n"
     ]
    }
   ],
   "source": [
    "print(type(LA_nonhighway_collisions['Location'][0]))"
   ]
  },
  {
   "cell_type": "markdown",
   "id": "df5c6dfa",
   "metadata": {},
   "source": [
    "The Location column has the latitude and logitude as a string. This string can be broken up by using ', ' as the seperator. The type will also be changed to float64 to match the highway collisions dataset"
   ]
  },
  {
   "cell_type": "code",
   "execution_count": 21,
   "id": "0352df51",
   "metadata": {},
   "outputs": [],
   "source": [
    "LA_nonhighway_collisions['latitude'] = LA_nonhighway_collisions['Location'].agg(\n",
    "    lambda x: x.split(', ')[0].replace('(', '')).astype('float64')\n",
    "LA_nonhighway_collisions['longitude'] = LA_nonhighway_collisions['Location'].agg(\n",
    "    lambda x: x.split(', ')[1].replace(')', '')).astype('float64')\n",
    "LA_nonhighway_collisions.drop(columns = ['Location'], inplace = True)"
   ]
  },
  {
   "cell_type": "code",
   "execution_count": 22,
   "id": "49ff967e",
   "metadata": {},
   "outputs": [
    {
     "data": {
      "text/html": [
       "<div>\n",
       "<style scoped>\n",
       "    .dataframe tbody tr th:only-of-type {\n",
       "        vertical-align: middle;\n",
       "    }\n",
       "\n",
       "    .dataframe tbody tr th {\n",
       "        vertical-align: top;\n",
       "    }\n",
       "\n",
       "    .dataframe thead th {\n",
       "        text-align: right;\n",
       "    }\n",
       "</style>\n",
       "<table border=\"1\" class=\"dataframe\">\n",
       "  <thead>\n",
       "    <tr style=\"text-align: right;\">\n",
       "      <th></th>\n",
       "      <th>Date Occurred</th>\n",
       "      <th>Time Occurred</th>\n",
       "      <th>Address</th>\n",
       "      <th>latitude</th>\n",
       "      <th>longitude</th>\n",
       "    </tr>\n",
       "  </thead>\n",
       "  <tbody>\n",
       "    <tr>\n",
       "      <th>0</th>\n",
       "      <td>08/24/2019</td>\n",
       "      <td>450</td>\n",
       "      <td>JEFFERSON                    BL</td>\n",
       "      <td>34.0255</td>\n",
       "      <td>-118.3002</td>\n",
       "    </tr>\n",
       "    <tr>\n",
       "      <th>1</th>\n",
       "      <td>08/30/2019</td>\n",
       "      <td>2320</td>\n",
       "      <td>JEFFERSON                    BL</td>\n",
       "      <td>34.0256</td>\n",
       "      <td>-118.3089</td>\n",
       "    </tr>\n",
       "    <tr>\n",
       "      <th>2</th>\n",
       "      <td>08/25/2019</td>\n",
       "      <td>545</td>\n",
       "      <td>N  BROADWAY</td>\n",
       "      <td>34.0738</td>\n",
       "      <td>-118.2078</td>\n",
       "    </tr>\n",
       "    <tr>\n",
       "      <th>3</th>\n",
       "      <td>11/20/2019</td>\n",
       "      <td>350</td>\n",
       "      <td>1ST</td>\n",
       "      <td>34.0492</td>\n",
       "      <td>-118.2391</td>\n",
       "    </tr>\n",
       "    <tr>\n",
       "      <th>4</th>\n",
       "      <td>08/30/2019</td>\n",
       "      <td>2100</td>\n",
       "      <td>MARTIN LUTHER KING JR</td>\n",
       "      <td>34.0108</td>\n",
       "      <td>-118.3182</td>\n",
       "    </tr>\n",
       "  </tbody>\n",
       "</table>\n",
       "</div>"
      ],
      "text/plain": [
       "  Date Occurred  Time Occurred                          Address  latitude  \\\n",
       "0    08/24/2019            450  JEFFERSON                    BL   34.0255   \n",
       "1    08/30/2019           2320  JEFFERSON                    BL   34.0256   \n",
       "2    08/25/2019            545                      N  BROADWAY   34.0738   \n",
       "3    11/20/2019            350                              1ST   34.0492   \n",
       "4    08/30/2019           2100            MARTIN LUTHER KING JR   34.0108   \n",
       "\n",
       "   longitude  \n",
       "0  -118.3002  \n",
       "1  -118.3089  \n",
       "2  -118.2078  \n",
       "3  -118.2391  \n",
       "4  -118.3182  "
      ]
     },
     "execution_count": 22,
     "metadata": {},
     "output_type": "execute_result"
    }
   ],
   "source": [
    "LA_nonhighway_collisions.head()"
   ]
  },
  {
   "cell_type": "code",
   "execution_count": 23,
   "id": "c9978082",
   "metadata": {},
   "outputs": [
    {
     "data": {
      "text/plain": [
       "Date Occurred     object\n",
       "Time Occurred      int64\n",
       "Address           object\n",
       "latitude         float64\n",
       "longitude        float64\n",
       "dtype: object"
      ]
     },
     "execution_count": 23,
     "metadata": {},
     "output_type": "execute_result"
    }
   ],
   "source": [
    "LA_nonhighway_collisions.dtypes"
   ]
  },
  {
   "cell_type": "markdown",
   "id": "e5eafb23",
   "metadata": {},
   "source": [
    "Are there any null values?"
   ]
  },
  {
   "cell_type": "code",
   "execution_count": 24,
   "id": "a642424c",
   "metadata": {
    "scrolled": true
   },
   "outputs": [
    {
     "data": {
      "text/plain": [
       "Date Occurred    0\n",
       "Time Occurred    0\n",
       "Address          0\n",
       "latitude         0\n",
       "longitude        0\n",
       "dtype: int64"
      ]
     },
     "execution_count": 24,
     "metadata": {},
     "output_type": "execute_result"
    }
   ],
   "source": [
    "LA_nonhighway_collisions.isna().sum()"
   ]
  },
  {
   "cell_type": "markdown",
   "id": "c542a904",
   "metadata": {},
   "source": [
    "Columns are added to match the highway collisions dataset. The columns are loaded with either 0 or 'Not Available' depending on column type."
   ]
  },
  {
   "cell_type": "code",
   "execution_count": 25,
   "id": "785c2519",
   "metadata": {},
   "outputs": [],
   "source": [
    "LA_nonhighway_collisions['intersection'] = 0\n",
    "LA_nonhighway_collisions['side_of_highway'] = 'Not Available'\n",
    "LA_nonhighway_collisions['severity'] = 'Not Available'\n",
    "LA_nonhighway_collisions['type'] = 'Not Available'\n",
    "LA_nonhighway_collisions['pedestrian'] = 0\n",
    "LA_nonhighway_collisions['bicycle'] = 0\n",
    "LA_nonhighway_collisions['motorcycle'] = 0\n",
    "LA_nonhighway_collisions['truck'] = 0\n",
    "LA_nonhighway_collisions['same_day_crashes'] = 0\n",
    "LA_nonhighway_collisions['same_road_crashes'] = 0"
   ]
  },
  {
   "cell_type": "markdown",
   "id": "0eb4c2b3",
   "metadata": {},
   "source": [
    "### 6 Weather<a id='6_Weather'>"
   ]
  },
  {
   "cell_type": "code",
   "execution_count": 26,
   "id": "945a2095",
   "metadata": {},
   "outputs": [
    {
     "data": {
      "text/plain": [
       "dt                       int64\n",
       "dt_iso                  object\n",
       "timezone                 int64\n",
       "city_name               object\n",
       "lat                    float64\n",
       "lon                    float64\n",
       "temp                   float64\n",
       "visibility             float64\n",
       "dew_point              float64\n",
       "feels_like             float64\n",
       "temp_min               float64\n",
       "temp_max               float64\n",
       "pressure                 int64\n",
       "sea_level              float64\n",
       "grnd_level             float64\n",
       "humidity                 int64\n",
       "wind_speed             float64\n",
       "wind_deg                 int64\n",
       "wind_gust              float64\n",
       "rain_1h                float64\n",
       "rain_3h                float64\n",
       "snow_1h                float64\n",
       "snow_3h                float64\n",
       "clouds_all               int64\n",
       "weather_id               int64\n",
       "weather_main            object\n",
       "weather_description     object\n",
       "weather_icon            object\n",
       "dtype: object"
      ]
     },
     "execution_count": 26,
     "metadata": {},
     "output_type": "execute_result"
    }
   ],
   "source": [
    "LA_weather.dtypes"
   ]
  },
  {
   "cell_type": "markdown",
   "id": "48607366",
   "metadata": {},
   "source": [
    "Again, this dataset, like the previous, is a mixture of numerics and strings."
   ]
  },
  {
   "cell_type": "code",
   "execution_count": 27,
   "id": "d8903f9d",
   "metadata": {
    "scrolled": false
   },
   "outputs": [
    {
     "data": {
      "text/plain": [
       "dt                          0\n",
       "dt_iso                      0\n",
       "timezone                    0\n",
       "city_name                   0\n",
       "lat                         0\n",
       "lon                         0\n",
       "temp                        0\n",
       "visibility               1133\n",
       "dew_point                   0\n",
       "feels_like                  0\n",
       "temp_min                    0\n",
       "temp_max                    0\n",
       "pressure                    0\n",
       "sea_level              132731\n",
       "grnd_level             132731\n",
       "humidity                    0\n",
       "wind_speed                  0\n",
       "wind_deg                    0\n",
       "wind_gust              112518\n",
       "rain_1h                126144\n",
       "rain_3h                132314\n",
       "snow_1h                132731\n",
       "snow_3h                132731\n",
       "clouds_all                  0\n",
       "weather_id                  0\n",
       "weather_main                0\n",
       "weather_description         0\n",
       "weather_icon                0\n",
       "dtype: int64"
      ]
     },
     "execution_count": 27,
     "metadata": {},
     "output_type": "execute_result"
    }
   ],
   "source": [
    "LA_weather.isna().sum()"
   ]
  },
  {
   "cell_type": "code",
   "execution_count": 28,
   "id": "a81d8e4e",
   "metadata": {},
   "outputs": [],
   "source": [
    "LA_weather.drop(columns = ['dt_iso', 'timezone', 'city_name', 'lat', 'lon', 'sea_level', 'grnd_level', 'feels_like', \\\n",
    "                           'weather_id', 'weather_main', 'weather_description', 'weather_icon'], inplace = True)"
   ]
  },
  {
   "cell_type": "markdown",
   "id": "0d16de64",
   "metadata": {},
   "source": [
    "The columns dropped above are not pertinent to our this case or for the joining of the two datasets. "
   ]
  },
  {
   "cell_type": "code",
   "execution_count": 29,
   "id": "c4cc090f",
   "metadata": {},
   "outputs": [
    {
     "data": {
      "text/plain": [
       "0.00     8578\n",
       "0.45     1257\n",
       "1.34      853\n",
       "1.79      823\n",
       "2.24      755\n",
       "         ... \n",
       "12.34       1\n",
       "14.39       1\n",
       "17.00       1\n",
       "16.00       1\n",
       "12.07       1\n",
       "Name: wind_gust, Length: 84, dtype: int64"
      ]
     },
     "execution_count": 29,
     "metadata": {},
     "output_type": "execute_result"
    }
   ],
   "source": [
    "LA_weather['wind_gust'].value_counts()"
   ]
  },
  {
   "cell_type": "code",
   "execution_count": 30,
   "id": "ed7ce0df",
   "metadata": {},
   "outputs": [
    {
     "data": {
      "text/plain": [
       "0.30    699\n",
       "0.50    413\n",
       "0.20    300\n",
       "0.25    242\n",
       "0.11    197\n",
       "       ... \n",
       "2.44      1\n",
       "3.32      1\n",
       "2.31      1\n",
       "1.79      1\n",
       "2.95      1\n",
       "Name: rain_1h, Length: 391, dtype: int64"
      ]
     },
     "execution_count": 30,
     "metadata": {},
     "output_type": "execute_result"
    }
   ],
   "source": [
    "LA_weather['rain_1h'].value_counts()"
   ]
  },
  {
   "cell_type": "code",
   "execution_count": 31,
   "id": "427daf1a",
   "metadata": {},
   "outputs": [
    {
     "data": {
      "text/plain": [
       "0.30     87\n",
       "0.50     41\n",
       "0.80     32\n",
       "1.30     18\n",
       "1.00     18\n",
       "         ..\n",
       "18.80     1\n",
       "8.60      1\n",
       "16.80     1\n",
       "28.40     1\n",
       "8.12      1\n",
       "Name: rain_3h, Length: 64, dtype: int64"
      ]
     },
     "execution_count": 31,
     "metadata": {},
     "output_type": "execute_result"
    }
   ],
   "source": [
    "LA_weather['rain_3h'].value_counts()"
   ]
  },
  {
   "cell_type": "markdown",
   "id": "62028f66",
   "metadata": {},
   "source": [
    "Looking at the value counts above, it is reasonable to impute the value of zero for null values for those columns."
   ]
  },
  {
   "cell_type": "code",
   "execution_count": 32,
   "id": "96168ca5",
   "metadata": {},
   "outputs": [
    {
     "data": {
      "text/plain": [
       "(0, 16)"
      ]
     },
     "execution_count": 32,
     "metadata": {},
     "output_type": "execute_result"
    }
   ],
   "source": [
    "LA_weather[LA_weather['rain_1h'] == 0].shape"
   ]
  },
  {
   "cell_type": "markdown",
   "id": "70c5bc71",
   "metadata": {},
   "source": [
    "Indeed, there are no zero values in the rain_1h column, giving further confirmation that the missing values are meant to be zero."
   ]
  },
  {
   "cell_type": "markdown",
   "id": "a1b13ead",
   "metadata": {},
   "source": [
    "The columns snow_1h and snow_3h are missing all of the values. This isn't that surprising; it is L.A. So, these columns will be dropped, as well."
   ]
  },
  {
   "cell_type": "code",
   "execution_count": 33,
   "id": "c9052597",
   "metadata": {},
   "outputs": [],
   "source": [
    "LA_weather.drop(columns = ['snow_1h', 'snow_3h'], inplace = True)"
   ]
  },
  {
   "cell_type": "markdown",
   "id": "b5a78631",
   "metadata": {},
   "source": [
    "The missing values in the visibility column will be dropped. Like the datetime column in the collisions dataset, the missing values only make up about 1% of the total number of rows, and imputing could lead to erroneous results"
   ]
  },
  {
   "cell_type": "code",
   "execution_count": 34,
   "id": "9bfb4b24",
   "metadata": {},
   "outputs": [],
   "source": [
    "LA_weather.dropna(subset = ['visibility'], inplace = True)\n",
    "LA_weather.fillna(value = 0, inplace = True)"
   ]
  },
  {
   "cell_type": "code",
   "execution_count": 35,
   "id": "fad8087e",
   "metadata": {},
   "outputs": [
    {
     "data": {
      "text/plain": [
       "dt            0\n",
       "temp          0\n",
       "visibility    0\n",
       "dew_point     0\n",
       "temp_min      0\n",
       "temp_max      0\n",
       "pressure      0\n",
       "humidity      0\n",
       "wind_speed    0\n",
       "wind_deg      0\n",
       "wind_gust     0\n",
       "rain_1h       0\n",
       "rain_3h       0\n",
       "clouds_all    0\n",
       "dtype: int64"
      ]
     },
     "execution_count": 35,
     "metadata": {},
     "output_type": "execute_result"
    }
   ],
   "source": [
    "LA_weather.isna().sum()"
   ]
  },
  {
   "cell_type": "markdown",
   "id": "1c8d80ea",
   "metadata": {},
   "source": [
    "Again, this dataset is now cleaning of any missing values"
   ]
  },
  {
   "cell_type": "code",
   "execution_count": 36,
   "id": "a4650a8b",
   "metadata": {},
   "outputs": [
    {
     "data": {
      "text/plain": [
       "dt            130363\n",
       "temp            3479\n",
       "visibility        19\n",
       "dew_point       3836\n",
       "temp_min        3170\n",
       "temp_max        3644\n",
       "pressure          49\n",
       "humidity          98\n",
       "wind_speed       228\n",
       "wind_deg         361\n",
       "wind_gust         84\n",
       "rain_1h          389\n",
       "rain_3h           65\n",
       "clouds_all        98\n",
       "dtype: int64"
      ]
     },
     "execution_count": 36,
     "metadata": {},
     "output_type": "execute_result"
    }
   ],
   "source": [
    "LA_weather.nunique()"
   ]
  },
  {
   "cell_type": "markdown",
   "id": "eb190a44",
   "metadata": {},
   "source": [
    "### 7 Merge<a id='7_Merge'>"
   ]
  },
  {
   "cell_type": "markdown",
   "id": "9d763e1c",
   "metadata": {},
   "source": [
    "#### 7.1 Combining Collision Datasets<a id='7.1_Combining_Collision_Datasets'>"
   ]
  },
  {
   "cell_type": "markdown",
   "id": "eeff8a7a",
   "metadata": {},
   "source": [
    "To start, the 'Date Occurred' and 'Time Occurred' columns of the non-highway collisions dataset need to be combined into a single column. The Time Occured column is an int representation of a 24-hour clock. This column needs to be changed into a workable format "
   ]
  },
  {
   "cell_type": "code",
   "execution_count": 37,
   "id": "c670dcde",
   "metadata": {},
   "outputs": [],
   "source": [
    "LA_nonhighway_collisions['Time Occurred'] = LA_nonhighway_collisions['Time Occurred'].astype('str').agg(\n",
    "    lambda x: x[:2] + ':' + x[2:] + ':00' if len(x) > 3 else x[:1] + ':' + x[1:] + ':00' if\n",
    "    len(x) > 2 else '00' + ':' + x + ':00')\n",
    "LA_nonhighway_collisions['Date Occurred'] = LA_nonhighway_collisions['Date Occurred'].agg(\n",
    "    lambda x: x.replace('/','-'))"
   ]
  },
  {
   "cell_type": "code",
   "execution_count": 38,
   "id": "23e1ba79",
   "metadata": {},
   "outputs": [
    {
     "data": {
      "text/plain": [
       "0     4:50:00\n",
       "1    23:20:00\n",
       "2     5:45:00\n",
       "3     3:50:00\n",
       "4    21:00:00\n",
       "Name: Time Occurred, dtype: object"
      ]
     },
     "execution_count": 38,
     "metadata": {},
     "output_type": "execute_result"
    }
   ],
   "source": [
    "LA_nonhighway_collisions['Time Occurred'].head()"
   ]
  },
  {
   "cell_type": "code",
   "execution_count": 39,
   "id": "897dd66f",
   "metadata": {},
   "outputs": [],
   "source": [
    "LA_nonhighway_collisions['datetime'] = LA_nonhighway_collisions['Date Occurred'] + ' ' + LA_nonhighway_collisions['Time Occurred']"
   ]
  },
  {
   "cell_type": "code",
   "execution_count": 40,
   "id": "ed81de9a",
   "metadata": {},
   "outputs": [
    {
     "data": {
      "text/html": [
       "<div>\n",
       "<style scoped>\n",
       "    .dataframe tbody tr th:only-of-type {\n",
       "        vertical-align: middle;\n",
       "    }\n",
       "\n",
       "    .dataframe tbody tr th {\n",
       "        vertical-align: top;\n",
       "    }\n",
       "\n",
       "    .dataframe thead th {\n",
       "        text-align: right;\n",
       "    }\n",
       "</style>\n",
       "<table border=\"1\" class=\"dataframe\">\n",
       "  <thead>\n",
       "    <tr style=\"text-align: right;\">\n",
       "      <th></th>\n",
       "      <th>Date Occurred</th>\n",
       "      <th>Time Occurred</th>\n",
       "      <th>Address</th>\n",
       "      <th>latitude</th>\n",
       "      <th>longitude</th>\n",
       "      <th>intersection</th>\n",
       "      <th>side_of_highway</th>\n",
       "      <th>severity</th>\n",
       "      <th>type</th>\n",
       "      <th>pedestrian</th>\n",
       "      <th>bicycle</th>\n",
       "      <th>motorcycle</th>\n",
       "      <th>truck</th>\n",
       "      <th>same_day_crashes</th>\n",
       "      <th>same_road_crashes</th>\n",
       "      <th>datetime</th>\n",
       "    </tr>\n",
       "  </thead>\n",
       "  <tbody>\n",
       "    <tr>\n",
       "      <th>0</th>\n",
       "      <td>08-24-2019</td>\n",
       "      <td>4:50:00</td>\n",
       "      <td>JEFFERSON                    BL</td>\n",
       "      <td>34.0255</td>\n",
       "      <td>-118.3002</td>\n",
       "      <td>0</td>\n",
       "      <td>Not Available</td>\n",
       "      <td>Not Available</td>\n",
       "      <td>Not Available</td>\n",
       "      <td>0</td>\n",
       "      <td>0</td>\n",
       "      <td>0</td>\n",
       "      <td>0</td>\n",
       "      <td>0</td>\n",
       "      <td>0</td>\n",
       "      <td>08-24-2019 4:50:00</td>\n",
       "    </tr>\n",
       "    <tr>\n",
       "      <th>1</th>\n",
       "      <td>08-30-2019</td>\n",
       "      <td>23:20:00</td>\n",
       "      <td>JEFFERSON                    BL</td>\n",
       "      <td>34.0256</td>\n",
       "      <td>-118.3089</td>\n",
       "      <td>0</td>\n",
       "      <td>Not Available</td>\n",
       "      <td>Not Available</td>\n",
       "      <td>Not Available</td>\n",
       "      <td>0</td>\n",
       "      <td>0</td>\n",
       "      <td>0</td>\n",
       "      <td>0</td>\n",
       "      <td>0</td>\n",
       "      <td>0</td>\n",
       "      <td>08-30-2019 23:20:00</td>\n",
       "    </tr>\n",
       "    <tr>\n",
       "      <th>2</th>\n",
       "      <td>08-25-2019</td>\n",
       "      <td>5:45:00</td>\n",
       "      <td>N  BROADWAY</td>\n",
       "      <td>34.0738</td>\n",
       "      <td>-118.2078</td>\n",
       "      <td>0</td>\n",
       "      <td>Not Available</td>\n",
       "      <td>Not Available</td>\n",
       "      <td>Not Available</td>\n",
       "      <td>0</td>\n",
       "      <td>0</td>\n",
       "      <td>0</td>\n",
       "      <td>0</td>\n",
       "      <td>0</td>\n",
       "      <td>0</td>\n",
       "      <td>08-25-2019 5:45:00</td>\n",
       "    </tr>\n",
       "    <tr>\n",
       "      <th>3</th>\n",
       "      <td>11-20-2019</td>\n",
       "      <td>3:50:00</td>\n",
       "      <td>1ST</td>\n",
       "      <td>34.0492</td>\n",
       "      <td>-118.2391</td>\n",
       "      <td>0</td>\n",
       "      <td>Not Available</td>\n",
       "      <td>Not Available</td>\n",
       "      <td>Not Available</td>\n",
       "      <td>0</td>\n",
       "      <td>0</td>\n",
       "      <td>0</td>\n",
       "      <td>0</td>\n",
       "      <td>0</td>\n",
       "      <td>0</td>\n",
       "      <td>11-20-2019 3:50:00</td>\n",
       "    </tr>\n",
       "    <tr>\n",
       "      <th>4</th>\n",
       "      <td>08-30-2019</td>\n",
       "      <td>21:00:00</td>\n",
       "      <td>MARTIN LUTHER KING JR</td>\n",
       "      <td>34.0108</td>\n",
       "      <td>-118.3182</td>\n",
       "      <td>0</td>\n",
       "      <td>Not Available</td>\n",
       "      <td>Not Available</td>\n",
       "      <td>Not Available</td>\n",
       "      <td>0</td>\n",
       "      <td>0</td>\n",
       "      <td>0</td>\n",
       "      <td>0</td>\n",
       "      <td>0</td>\n",
       "      <td>0</td>\n",
       "      <td>08-30-2019 21:00:00</td>\n",
       "    </tr>\n",
       "  </tbody>\n",
       "</table>\n",
       "</div>"
      ],
      "text/plain": [
       "  Date Occurred Time Occurred                          Address  latitude  \\\n",
       "0    08-24-2019       4:50:00  JEFFERSON                    BL   34.0255   \n",
       "1    08-30-2019      23:20:00  JEFFERSON                    BL   34.0256   \n",
       "2    08-25-2019       5:45:00                      N  BROADWAY   34.0738   \n",
       "3    11-20-2019       3:50:00                              1ST   34.0492   \n",
       "4    08-30-2019      21:00:00            MARTIN LUTHER KING JR   34.0108   \n",
       "\n",
       "   longitude  intersection side_of_highway       severity           type  \\\n",
       "0  -118.3002             0   Not Available  Not Available  Not Available   \n",
       "1  -118.3089             0   Not Available  Not Available  Not Available   \n",
       "2  -118.2078             0   Not Available  Not Available  Not Available   \n",
       "3  -118.2391             0   Not Available  Not Available  Not Available   \n",
       "4  -118.3182             0   Not Available  Not Available  Not Available   \n",
       "\n",
       "   pedestrian  bicycle  motorcycle  truck  same_day_crashes  \\\n",
       "0           0        0           0      0                 0   \n",
       "1           0        0           0      0                 0   \n",
       "2           0        0           0      0                 0   \n",
       "3           0        0           0      0                 0   \n",
       "4           0        0           0      0                 0   \n",
       "\n",
       "   same_road_crashes             datetime  \n",
       "0                  0   08-24-2019 4:50:00  \n",
       "1                  0  08-30-2019 23:20:00  \n",
       "2                  0   08-25-2019 5:45:00  \n",
       "3                  0   11-20-2019 3:50:00  \n",
       "4                  0  08-30-2019 21:00:00  "
      ]
     },
     "execution_count": 40,
     "metadata": {},
     "output_type": "execute_result"
    }
   ],
   "source": [
    "LA_nonhighway_collisions.head()"
   ]
  },
  {
   "cell_type": "code",
   "execution_count": 41,
   "id": "2cab1a09",
   "metadata": {},
   "outputs": [],
   "source": [
    "LA_nonhighway_collisions.drop(columns = ['Date Occurred', 'Time Occurred'], inplace = True)\n",
    "LA_nonhighway_collisions.rename(columns = {'Address':'road'}, inplace = True)"
   ]
  },
  {
   "cell_type": "code",
   "execution_count": 42,
   "id": "715f95c0",
   "metadata": {},
   "outputs": [],
   "source": [
    "LA_collisions = LA_highway_collisions.append(LA_nonhighway_collisions, ignore_index = True)"
   ]
  },
  {
   "cell_type": "code",
   "execution_count": 43,
   "id": "2365a981",
   "metadata": {},
   "outputs": [
    {
     "data": {
      "text/html": [
       "<div>\n",
       "<style scoped>\n",
       "    .dataframe tbody tr th:only-of-type {\n",
       "        vertical-align: middle;\n",
       "    }\n",
       "\n",
       "    .dataframe tbody tr th {\n",
       "        vertical-align: top;\n",
       "    }\n",
       "\n",
       "    .dataframe thead th {\n",
       "        text-align: right;\n",
       "    }\n",
       "</style>\n",
       "<table border=\"1\" class=\"dataframe\">\n",
       "  <thead>\n",
       "    <tr style=\"text-align: right;\">\n",
       "      <th></th>\n",
       "      <th>road</th>\n",
       "      <th>intersection</th>\n",
       "      <th>side_of_highway</th>\n",
       "      <th>severity</th>\n",
       "      <th>type</th>\n",
       "      <th>pedestrian</th>\n",
       "      <th>bicycle</th>\n",
       "      <th>motorcycle</th>\n",
       "      <th>truck</th>\n",
       "      <th>same_day_crashes</th>\n",
       "      <th>same_road_crashes</th>\n",
       "      <th>latitude</th>\n",
       "      <th>longitude</th>\n",
       "      <th>datetime</th>\n",
       "    </tr>\n",
       "  </thead>\n",
       "  <tbody>\n",
       "    <tr>\n",
       "      <th>0</th>\n",
       "      <td>CENTINELA AV</td>\n",
       "      <td>0.0</td>\n",
       "      <td>Not Available</td>\n",
       "      <td>pain</td>\n",
       "      <td>broadside</td>\n",
       "      <td>0</td>\n",
       "      <td>0</td>\n",
       "      <td>0</td>\n",
       "      <td>0</td>\n",
       "      <td>3</td>\n",
       "      <td>229</td>\n",
       "      <td>33.97074</td>\n",
       "      <td>-118.34786</td>\n",
       "      <td>2021-06-01 13:58:00</td>\n",
       "    </tr>\n",
       "    <tr>\n",
       "      <th>1</th>\n",
       "      <td>MANCHESTER BLVD</td>\n",
       "      <td>1.0</td>\n",
       "      <td>Not Available</td>\n",
       "      <td>pain</td>\n",
       "      <td>broadside</td>\n",
       "      <td>0</td>\n",
       "      <td>0</td>\n",
       "      <td>0</td>\n",
       "      <td>0</td>\n",
       "      <td>3</td>\n",
       "      <td>185</td>\n",
       "      <td>33.95995</td>\n",
       "      <td>-118.32868</td>\n",
       "      <td>2021-06-01 16:15:00</td>\n",
       "    </tr>\n",
       "    <tr>\n",
       "      <th>2</th>\n",
       "      <td>I-710 NORTHBOUND(LONG BEACH FREEWAY)</td>\n",
       "      <td>0.0</td>\n",
       "      <td>Not Available</td>\n",
       "      <td>property damage only</td>\n",
       "      <td>rear end</td>\n",
       "      <td>0</td>\n",
       "      <td>0</td>\n",
       "      <td>0</td>\n",
       "      <td>0</td>\n",
       "      <td>3</td>\n",
       "      <td>1</td>\n",
       "      <td>33.92770</td>\n",
       "      <td>-118.17820</td>\n",
       "      <td>2021-06-01 16:20:00</td>\n",
       "    </tr>\n",
       "    <tr>\n",
       "      <th>3</th>\n",
       "      <td>LA BREA AV</td>\n",
       "      <td>1.0</td>\n",
       "      <td>Not Available</td>\n",
       "      <td>property damage only</td>\n",
       "      <td>hit object</td>\n",
       "      <td>0</td>\n",
       "      <td>0</td>\n",
       "      <td>0</td>\n",
       "      <td>0</td>\n",
       "      <td>3</td>\n",
       "      <td>424</td>\n",
       "      <td>33.96550</td>\n",
       "      <td>-118.35330</td>\n",
       "      <td>2021-05-30 06:45:00</td>\n",
       "    </tr>\n",
       "    <tr>\n",
       "      <th>4</th>\n",
       "      <td>I-605 (S/B)</td>\n",
       "      <td>0.0</td>\n",
       "      <td>Not Available</td>\n",
       "      <td>severe injury</td>\n",
       "      <td>hit object</td>\n",
       "      <td>0</td>\n",
       "      <td>0</td>\n",
       "      <td>0</td>\n",
       "      <td>0</td>\n",
       "      <td>3</td>\n",
       "      <td>131</td>\n",
       "      <td>33.97228</td>\n",
       "      <td>-118.08097</td>\n",
       "      <td>2021-05-30 22:35:00</td>\n",
       "    </tr>\n",
       "  </tbody>\n",
       "</table>\n",
       "</div>"
      ],
      "text/plain": [
       "                                   road  intersection side_of_highway  \\\n",
       "0                          CENTINELA AV           0.0   Not Available   \n",
       "1                       MANCHESTER BLVD           1.0   Not Available   \n",
       "2  I-710 NORTHBOUND(LONG BEACH FREEWAY)           0.0   Not Available   \n",
       "3                            LA BREA AV           1.0   Not Available   \n",
       "4                           I-605 (S/B)           0.0   Not Available   \n",
       "\n",
       "               severity        type  pedestrian  bicycle  motorcycle  truck  \\\n",
       "0                  pain   broadside           0        0           0      0   \n",
       "1                  pain   broadside           0        0           0      0   \n",
       "2  property damage only    rear end           0        0           0      0   \n",
       "3  property damage only  hit object           0        0           0      0   \n",
       "4         severe injury  hit object           0        0           0      0   \n",
       "\n",
       "   same_day_crashes  same_road_crashes  latitude  longitude  \\\n",
       "0                 3                229  33.97074 -118.34786   \n",
       "1                 3                185  33.95995 -118.32868   \n",
       "2                 3                  1  33.92770 -118.17820   \n",
       "3                 3                424  33.96550 -118.35330   \n",
       "4                 3                131  33.97228 -118.08097   \n",
       "\n",
       "              datetime  \n",
       "0  2021-06-01 13:58:00  \n",
       "1  2021-06-01 16:15:00  \n",
       "2  2021-06-01 16:20:00  \n",
       "3  2021-05-30 06:45:00  \n",
       "4  2021-05-30 22:35:00  "
      ]
     },
     "execution_count": 43,
     "metadata": {},
     "output_type": "execute_result"
    }
   ],
   "source": [
    "LA_collisions.head()"
   ]
  },
  {
   "cell_type": "code",
   "execution_count": 44,
   "id": "46b600e3",
   "metadata": {},
   "outputs": [
    {
     "data": {
      "text/plain": [
       "(905283, 14)"
      ]
     },
     "execution_count": 44,
     "metadata": {},
     "output_type": "execute_result"
    }
   ],
   "source": [
    "LA_collisions.shape"
   ]
  },
  {
   "cell_type": "markdown",
   "id": "f87c68bd",
   "metadata": {},
   "source": [
    "Great! The two collision datasets are now combined into one dataframe. Now that dataframe can be merged with the weather data."
   ]
  },
  {
   "cell_type": "markdown",
   "id": "f36c3e81",
   "metadata": {},
   "source": [
    "#### 7.2 Merging Collision and Weather<a id='7.2_Merging_Collision_and_Weather'>"
   ]
  },
  {
   "cell_type": "markdown",
   "id": "6de993f6",
   "metadata": {},
   "source": [
    "The datasets will be merged on the datetime column. Before this can be done, the weather dataset needs a datetime column. This can be extracted form the dt column which is the time given as a UNIX timestamp."
   ]
  },
  {
   "cell_type": "code",
   "execution_count": 45,
   "id": "37cec5cb",
   "metadata": {},
   "outputs": [],
   "source": [
    "LA_weather['datetime'] = pd.to_datetime(LA_weather['dt'], unit='s')"
   ]
  },
  {
   "cell_type": "code",
   "execution_count": 46,
   "id": "9f83bc4f",
   "metadata": {},
   "outputs": [
    {
     "data": {
      "text/plain": [
       "0   2007-01-01 00:00:00\n",
       "1   2007-01-01 01:00:00\n",
       "2   2007-01-01 02:00:00\n",
       "3   2007-01-01 03:00:00\n",
       "4   2007-01-01 04:00:00\n",
       "5   2007-01-01 05:00:00\n",
       "6   2007-01-01 06:00:00\n",
       "7   2007-01-01 07:00:00\n",
       "8   2007-01-01 08:00:00\n",
       "9   2007-01-01 09:00:00\n",
       "Name: datetime, dtype: datetime64[ns]"
      ]
     },
     "execution_count": 46,
     "metadata": {},
     "output_type": "execute_result"
    }
   ],
   "source": [
    "LA_weather['datetime'].head(10)"
   ]
  },
  {
   "cell_type": "markdown",
   "id": "d8cfc528",
   "metadata": {},
   "source": [
    "However, the datetime column is now in GMT time. pd.Timedelta allows for subtracting the necessary amount of hours, 8, to get the column into L.A. time."
   ]
  },
  {
   "cell_type": "code",
   "execution_count": 47,
   "id": "d70ee186",
   "metadata": {},
   "outputs": [],
   "source": [
    "LA_weather.loc[:,'datetime'] += pd.Timedelta(value = -8, unit = 'h')"
   ]
  },
  {
   "cell_type": "code",
   "execution_count": 48,
   "id": "8acd379c",
   "metadata": {},
   "outputs": [
    {
     "data": {
      "text/plain": [
       "0   2006-12-31 16:00:00\n",
       "1   2006-12-31 17:00:00\n",
       "2   2006-12-31 18:00:00\n",
       "3   2006-12-31 19:00:00\n",
       "4   2006-12-31 20:00:00\n",
       "5   2006-12-31 21:00:00\n",
       "6   2006-12-31 22:00:00\n",
       "7   2006-12-31 23:00:00\n",
       "8   2007-01-01 00:00:00\n",
       "9   2007-01-01 01:00:00\n",
       "Name: datetime, dtype: datetime64[ns]"
      ]
     },
     "execution_count": 48,
     "metadata": {},
     "output_type": "execute_result"
    }
   ],
   "source": [
    "LA_weather['datetime'].head(10)"
   ]
  },
  {
   "cell_type": "markdown",
   "id": "2bc2a64a",
   "metadata": {},
   "source": [
    "Since, the weather dataset's datetime column is a datetime object, so should be the collisions dataset's datetime column."
   ]
  },
  {
   "cell_type": "code",
   "execution_count": 49,
   "id": "64af5b29",
   "metadata": {},
   "outputs": [
    {
     "data": {
      "text/plain": [
       "0    2021-06-01 13:58:00\n",
       "1    2021-06-01 16:15:00\n",
       "2    2021-06-01 16:20:00\n",
       "3    2021-05-30 06:45:00\n",
       "4    2021-05-30 22:35:00\n",
       "Name: datetime, dtype: object"
      ]
     },
     "execution_count": 49,
     "metadata": {},
     "output_type": "execute_result"
    }
   ],
   "source": [
    "LA_collisions['datetime'].head()"
   ]
  },
  {
   "cell_type": "code",
   "execution_count": 50,
   "id": "94c58cf9",
   "metadata": {},
   "outputs": [],
   "source": [
    "LA_collisions['datetime'] = pd.to_datetime(LA_collisions['datetime'])"
   ]
  },
  {
   "cell_type": "code",
   "execution_count": 51,
   "id": "e8d8666c",
   "metadata": {},
   "outputs": [
    {
     "data": {
      "text/plain": [
       "0   2021-06-01 13:58:00\n",
       "1   2021-06-01 16:15:00\n",
       "2   2021-06-01 16:20:00\n",
       "3   2021-05-30 06:45:00\n",
       "4   2021-05-30 22:35:00\n",
       "Name: datetime, dtype: datetime64[ns]"
      ]
     },
     "execution_count": 51,
     "metadata": {},
     "output_type": "execute_result"
    }
   ],
   "source": [
    "LA_collisions['datetime'].head()"
   ]
  },
  {
   "cell_type": "markdown",
   "id": "35a10571",
   "metadata": {},
   "source": [
    "The weather dataset's datetime column is in intervals of one hour, while the collisions dataset's datetime values can be any time. Before the merge, the collisions dataset's datetime column will be rounded to the nearest hour. Also, duplicates will be dropped from the weather dataset to avoid any unwanted rows"
   ]
  },
  {
   "cell_type": "code",
   "execution_count": 52,
   "id": "b8f30365",
   "metadata": {},
   "outputs": [],
   "source": [
    "LA_collisions['datetime'] = LA_collisions['datetime'].dt.round(freq = 'H')\n",
    "LA_weather.drop_duplicates(subset = ['datetime'], keep = False, inplace = True)"
   ]
  },
  {
   "cell_type": "code",
   "execution_count": 53,
   "id": "8069d9aa",
   "metadata": {},
   "outputs": [],
   "source": [
    "LA_data = LA_collisions.merge(LA_weather, how = 'inner', on = 'datetime')"
   ]
  },
  {
   "cell_type": "code",
   "execution_count": 54,
   "id": "922a2ea6",
   "metadata": {},
   "outputs": [
    {
     "data": {
      "text/html": [
       "<div>\n",
       "<style scoped>\n",
       "    .dataframe tbody tr th:only-of-type {\n",
       "        vertical-align: middle;\n",
       "    }\n",
       "\n",
       "    .dataframe tbody tr th {\n",
       "        vertical-align: top;\n",
       "    }\n",
       "\n",
       "    .dataframe thead th {\n",
       "        text-align: right;\n",
       "    }\n",
       "</style>\n",
       "<table border=\"1\" class=\"dataframe\">\n",
       "  <thead>\n",
       "    <tr style=\"text-align: right;\">\n",
       "      <th></th>\n",
       "      <th>road</th>\n",
       "      <th>intersection</th>\n",
       "      <th>side_of_highway</th>\n",
       "      <th>severity</th>\n",
       "      <th>type</th>\n",
       "      <th>pedestrian</th>\n",
       "      <th>bicycle</th>\n",
       "      <th>motorcycle</th>\n",
       "      <th>truck</th>\n",
       "      <th>same_day_crashes</th>\n",
       "      <th>...</th>\n",
       "      <th>temp_min</th>\n",
       "      <th>temp_max</th>\n",
       "      <th>pressure</th>\n",
       "      <th>humidity</th>\n",
       "      <th>wind_speed</th>\n",
       "      <th>wind_deg</th>\n",
       "      <th>wind_gust</th>\n",
       "      <th>rain_1h</th>\n",
       "      <th>rain_3h</th>\n",
       "      <th>clouds_all</th>\n",
       "    </tr>\n",
       "  </thead>\n",
       "  <tbody>\n",
       "    <tr>\n",
       "      <th>0</th>\n",
       "      <td>CENTINELA AV</td>\n",
       "      <td>0.0</td>\n",
       "      <td>Not Available</td>\n",
       "      <td>pain</td>\n",
       "      <td>broadside</td>\n",
       "      <td>0</td>\n",
       "      <td>0</td>\n",
       "      <td>0</td>\n",
       "      <td>0</td>\n",
       "      <td>3</td>\n",
       "      <td>...</td>\n",
       "      <td>20.21</td>\n",
       "      <td>32.14</td>\n",
       "      <td>1014</td>\n",
       "      <td>54</td>\n",
       "      <td>1.34</td>\n",
       "      <td>293</td>\n",
       "      <td>0.45</td>\n",
       "      <td>0.0</td>\n",
       "      <td>0.0</td>\n",
       "      <td>0</td>\n",
       "    </tr>\n",
       "    <tr>\n",
       "      <th>1</th>\n",
       "      <td>CRENSHAW                     BL</td>\n",
       "      <td>0.0</td>\n",
       "      <td>Not Available</td>\n",
       "      <td>Not Available</td>\n",
       "      <td>Not Available</td>\n",
       "      <td>0</td>\n",
       "      <td>0</td>\n",
       "      <td>0</td>\n",
       "      <td>0</td>\n",
       "      <td>0</td>\n",
       "      <td>...</td>\n",
       "      <td>20.21</td>\n",
       "      <td>32.14</td>\n",
       "      <td>1014</td>\n",
       "      <td>54</td>\n",
       "      <td>1.34</td>\n",
       "      <td>293</td>\n",
       "      <td>0.45</td>\n",
       "      <td>0.0</td>\n",
       "      <td>0.0</td>\n",
       "      <td>0</td>\n",
       "    </tr>\n",
       "    <tr>\n",
       "      <th>2</th>\n",
       "      <td>MANCHESTER BLVD</td>\n",
       "      <td>1.0</td>\n",
       "      <td>Not Available</td>\n",
       "      <td>pain</td>\n",
       "      <td>broadside</td>\n",
       "      <td>0</td>\n",
       "      <td>0</td>\n",
       "      <td>0</td>\n",
       "      <td>0</td>\n",
       "      <td>3</td>\n",
       "      <td>...</td>\n",
       "      <td>19.10</td>\n",
       "      <td>31.11</td>\n",
       "      <td>1013</td>\n",
       "      <td>58</td>\n",
       "      <td>2.57</td>\n",
       "      <td>0</td>\n",
       "      <td>0.00</td>\n",
       "      <td>0.0</td>\n",
       "      <td>0.0</td>\n",
       "      <td>0</td>\n",
       "    </tr>\n",
       "    <tr>\n",
       "      <th>3</th>\n",
       "      <td>I-710 NORTHBOUND(LONG BEACH FREEWAY)</td>\n",
       "      <td>0.0</td>\n",
       "      <td>Not Available</td>\n",
       "      <td>property damage only</td>\n",
       "      <td>rear end</td>\n",
       "      <td>0</td>\n",
       "      <td>0</td>\n",
       "      <td>0</td>\n",
       "      <td>0</td>\n",
       "      <td>3</td>\n",
       "      <td>...</td>\n",
       "      <td>19.10</td>\n",
       "      <td>31.11</td>\n",
       "      <td>1013</td>\n",
       "      <td>58</td>\n",
       "      <td>2.57</td>\n",
       "      <td>0</td>\n",
       "      <td>0.00</td>\n",
       "      <td>0.0</td>\n",
       "      <td>0.0</td>\n",
       "      <td>0</td>\n",
       "    </tr>\n",
       "    <tr>\n",
       "      <th>4</th>\n",
       "      <td>JEFFERSON</td>\n",
       "      <td>0.0</td>\n",
       "      <td>Not Available</td>\n",
       "      <td>Not Available</td>\n",
       "      <td>Not Available</td>\n",
       "      <td>0</td>\n",
       "      <td>0</td>\n",
       "      <td>0</td>\n",
       "      <td>0</td>\n",
       "      <td>0</td>\n",
       "      <td>...</td>\n",
       "      <td>19.10</td>\n",
       "      <td>31.11</td>\n",
       "      <td>1013</td>\n",
       "      <td>58</td>\n",
       "      <td>2.57</td>\n",
       "      <td>0</td>\n",
       "      <td>0.00</td>\n",
       "      <td>0.0</td>\n",
       "      <td>0.0</td>\n",
       "      <td>0</td>\n",
       "    </tr>\n",
       "  </tbody>\n",
       "</table>\n",
       "<p>5 rows × 28 columns</p>\n",
       "</div>"
      ],
      "text/plain": [
       "                                   road  intersection side_of_highway  \\\n",
       "0                          CENTINELA AV           0.0   Not Available   \n",
       "1       CRENSHAW                     BL           0.0   Not Available   \n",
       "2                       MANCHESTER BLVD           1.0   Not Available   \n",
       "3  I-710 NORTHBOUND(LONG BEACH FREEWAY)           0.0   Not Available   \n",
       "4                             JEFFERSON           0.0   Not Available   \n",
       "\n",
       "               severity           type  pedestrian  bicycle  motorcycle  \\\n",
       "0                  pain      broadside           0        0           0   \n",
       "1         Not Available  Not Available           0        0           0   \n",
       "2                  pain      broadside           0        0           0   \n",
       "3  property damage only       rear end           0        0           0   \n",
       "4         Not Available  Not Available           0        0           0   \n",
       "\n",
       "   truck  same_day_crashes  ...  temp_min  temp_max  pressure humidity  \\\n",
       "0      0                 3  ...     20.21     32.14      1014       54   \n",
       "1      0                 0  ...     20.21     32.14      1014       54   \n",
       "2      0                 3  ...     19.10     31.11      1013       58   \n",
       "3      0                 3  ...     19.10     31.11      1013       58   \n",
       "4      0                 0  ...     19.10     31.11      1013       58   \n",
       "\n",
       "   wind_speed  wind_deg  wind_gust  rain_1h  rain_3h  clouds_all  \n",
       "0        1.34       293       0.45      0.0      0.0           0  \n",
       "1        1.34       293       0.45      0.0      0.0           0  \n",
       "2        2.57         0       0.00      0.0      0.0           0  \n",
       "3        2.57         0       0.00      0.0      0.0           0  \n",
       "4        2.57         0       0.00      0.0      0.0           0  \n",
       "\n",
       "[5 rows x 28 columns]"
      ]
     },
     "execution_count": 54,
     "metadata": {},
     "output_type": "execute_result"
    }
   ],
   "source": [
    "LA_data.head()"
   ]
  },
  {
   "cell_type": "code",
   "execution_count": 55,
   "id": "91472d50",
   "metadata": {},
   "outputs": [
    {
     "data": {
      "text/plain": [
       "(870520, 28)"
      ]
     },
     "execution_count": 55,
     "metadata": {},
     "output_type": "execute_result"
    }
   ],
   "source": [
    "LA_data.shape"
   ]
  },
  {
   "cell_type": "markdown",
   "id": "26c9d5d4",
   "metadata": {},
   "source": [
    "After the merge, the dataset contains only a slightly fewer number of rows than the collisions dataset. This means that only a few accidents didn't have corresponding weather data, which is great."
   ]
  },
  {
   "cell_type": "markdown",
   "id": "d74ebb43",
   "metadata": {},
   "source": [
    "### 8 First Look<a id='8_First_Look'>"
   ]
  },
  {
   "cell_type": "markdown",
   "id": "1ad8f98f",
   "metadata": {},
   "source": [
    "Which 5 roads see the most accidents?"
   ]
  },
  {
   "cell_type": "code",
   "execution_count": 56,
   "id": "c306ed5f",
   "metadata": {},
   "outputs": [
    {
     "data": {
      "text/plain": [
       "RT 10     17773\n",
       "RT 5      15472\n",
       "RT 110    14291\n",
       "RT 405    11355\n",
       "RT 605     9988\n",
       "Name: road, dtype: int64"
      ]
     },
     "execution_count": 56,
     "metadata": {},
     "output_type": "execute_result"
    }
   ],
   "source": [
    "LA_data['road'].value_counts().head(5)"
   ]
  },
  {
   "cell_type": "markdown",
   "id": "9d267c1d",
   "metadata": {},
   "source": [
    "What was the least and most amount of crashes in a single day?"
   ]
  },
  {
   "cell_type": "code",
   "execution_count": 57,
   "id": "aa52d335",
   "metadata": {},
   "outputs": [
    {
     "name": "stdout",
     "output_type": "stream",
     "text": [
      "0\n",
      "163\n"
     ]
    }
   ],
   "source": [
    "print(min(LA_data['same_day_crashes']))\n",
    "print(max(LA_data['same_day_crashes']))"
   ]
  },
  {
   "cell_type": "markdown",
   "id": "80da9ce1",
   "metadata": {},
   "source": [
    "What was the weather like on those days?"
   ]
  },
  {
   "cell_type": "code",
   "execution_count": 58,
   "id": "68012569",
   "metadata": {
    "scrolled": true
   },
   "outputs": [
    {
     "data": {
      "text/plain": [
       "0.19472972972972977"
      ]
     },
     "execution_count": 58,
     "metadata": {},
     "output_type": "execute_result"
    }
   ],
   "source": [
    "LA_data[LA_data['same_day_crashes'] == 163]['rain_1h'].mean()"
   ]
  },
  {
   "cell_type": "code",
   "execution_count": 59,
   "id": "e86c304e",
   "metadata": {},
   "outputs": [
    {
     "data": {
      "text/plain": [
       "9759.256756756757"
      ]
     },
     "execution_count": 59,
     "metadata": {},
     "output_type": "execute_result"
    }
   ],
   "source": [
    "LA_data[LA_data['same_day_crashes'] == 163]['visibility'].mean()"
   ]
  },
  {
   "cell_type": "code",
   "execution_count": 60,
   "id": "fd3d7f3d",
   "metadata": {},
   "outputs": [
    {
     "data": {
      "text/plain": [
       "20.464966105068534"
      ]
     },
     "execution_count": 60,
     "metadata": {},
     "output_type": "execute_result"
    }
   ],
   "source": [
    "LA_data[LA_data['same_day_crashes'] == 0]['temp'].mean()"
   ]
  },
  {
   "cell_type": "code",
   "execution_count": 61,
   "id": "b293a24a",
   "metadata": {},
   "outputs": [
    {
     "data": {
      "text/plain": [
       "22.679459459459473"
      ]
     },
     "execution_count": 61,
     "metadata": {},
     "output_type": "execute_result"
    }
   ],
   "source": [
    "LA_data[LA_data['same_day_crashes'] == 163]['temp'].mean()"
   ]
  },
  {
   "cell_type": "markdown",
   "id": "f9de1a61",
   "metadata": {},
   "source": [
    "How many accidents involve something other than a car?"
   ]
  },
  {
   "cell_type": "code",
   "execution_count": 62,
   "id": "149c9e9d",
   "metadata": {},
   "outputs": [
    {
     "name": "stdout",
     "output_type": "stream",
     "text": [
      "4977\n",
      "3423\n",
      "11016\n",
      "26081\n"
     ]
    }
   ],
   "source": [
    "print(LA_data['pedestrian'].sum())\n",
    "print(LA_data['bicycle'].sum())\n",
    "print(LA_data['motorcycle'].sum())\n",
    "print(LA_data['truck'].sum())"
   ]
  },
  {
   "cell_type": "markdown",
   "id": "2cbe0cb1",
   "metadata": {},
   "source": [
    "Although these numbers are only applicable to the highway accidents, it is quite surprising that the motorcycle accidents are about half the number of truck accidents, considering there are many more trucks on the road than motorcycles"
   ]
  },
  {
   "cell_type": "markdown",
   "id": "ff04de33",
   "metadata": {},
   "source": [
    "### 9 Google Maps API<a id='9_Google_Maps_API'>"
   ]
  },
  {
   "cell_type": "markdown",
   "id": "7f02acf3",
   "metadata": {},
   "source": [
    "The google maps api will be used to get a list of possible routes for the user. The model will determine the safest route. To determine the model inputs and outputs, the google maps api response characteristics will be investigated."
   ]
  },
  {
   "cell_type": "code",
   "execution_count": 63,
   "id": "4fff4278",
   "metadata": {},
   "outputs": [],
   "source": [
    "gmaps.configure(api_key = maps_api_key)\n",
    "DirMap = googlemaps.Client(key = maps_api_key)"
   ]
  },
  {
   "cell_type": "code",
   "execution_count": 64,
   "id": "f57b47a2",
   "metadata": {
    "scrolled": false
   },
   "outputs": [
    {
     "data": {
      "application/vnd.jupyter.widget-view+json": {
       "model_id": "1a858e3184d343f2af5879719188bd4c",
       "version_major": 2,
       "version_minor": 0
      },
      "text/plain": [
       "Figure(layout=FigureLayout(height='420px'))"
      ]
     },
     "metadata": {},
     "output_type": "display_data"
    }
   ],
   "source": [
    "LA_coords = (34.0522, -118.2437)\n",
    "gmaps.figure(center = LA_coords, zoom_level = 10)"
   ]
  },
  {
   "cell_type": "markdown",
   "id": "285946b0",
   "metadata": {},
   "source": [
    "To get directions from one location to another, the following code can be used,"
   ]
  },
  {
   "cell_type": "code",
   "execution_count": 65,
   "id": "fa940adf",
   "metadata": {},
   "outputs": [],
   "source": [
    "Origin = \"1111 S Figueroa St, Los Angeles, CA 90015\"\n",
    "Destination = \"430 Normandie Pl, Los Angeles, CA 90004\"\n",
    "\n",
    "directions = DirMap.directions(Origin, Destination, mode = \"driving\", alternatives = True)"
   ]
  },
  {
   "cell_type": "code",
   "execution_count": 66,
   "id": "f21a948d",
   "metadata": {},
   "outputs": [
    {
     "data": {
      "text/plain": [
       "list"
      ]
     },
     "execution_count": 66,
     "metadata": {},
     "output_type": "execute_result"
    }
   ],
   "source": [
    "type(directions)"
   ]
  },
  {
   "cell_type": "code",
   "execution_count": 67,
   "id": "df82079c",
   "metadata": {
    "scrolled": true
   },
   "outputs": [
    {
     "data": {
      "text/plain": [
       "[{'bounds': {'northeast': {'lat': 34.080595, 'lng': -118.2488444},\n",
       "   'southwest': {'lat': 34.0426288, 'lng': -118.301229}},\n",
       "  'copyrights': 'Map data ©2023 Google',\n",
       "  'legs': [{'distance': {'text': '5.6 mi', 'value': 9056},\n",
       "    'duration': {'text': '13 mins', 'value': 788},\n",
       "    'end_address': '430 Normandie Pl, Los Angeles, CA 90004, USA',\n",
       "    'end_location': {'lat': 34.078586, 'lng': -118.3012242},\n",
       "    'start_address': '1111 S Figueroa St, Los Angeles, CA 90015, USA',\n",
       "    'start_location': {'lat': 34.0426288, 'lng': -118.2662159},\n",
       "    'steps': [{'distance': {'text': '492 ft', 'value': 150},\n",
       "      'duration': {'text': '1 min', 'value': 21},\n",
       "      'end_location': {'lat': 34.0436931, 'lng': -118.2652206},\n",
       "      'html_instructions': 'Head <b>northeast</b> on <b>S Figueroa St</b> toward <b>W 11th St</b>',\n",
       "      'polyline': {'points': 'm}wnEzzypUwAqAk@i@EEiAeA'},\n",
       "      'start_location': {'lat': 34.0426288, 'lng': -118.2662159},\n",
       "      'travel_mode': 'DRIVING'},\n",
       "     {'distance': {'text': '0.3 mi', 'value': 469},\n",
       "      'duration': {'text': '1 min', 'value': 78},\n",
       "      'end_location': {'lat': 34.0450458, 'lng': -118.2699412},\n",
       "      'html_instructions': 'Turn <b>left</b> onto <b>Chick Hearn Ct</b>',\n",
       "      'maneuver': 'turn-left',\n",
       "      'polyline': {'points': 'adxnErtypUK`@If@CLCREf@AzAAlACd@Cp@AZCPEXGXENIVM\\\\[x@_AjCO`@aAhC'},\n",
       "      'start_location': {'lat': 34.0436931, 'lng': -118.2652206},\n",
       "      'travel_mode': 'DRIVING'},\n",
       "     {'distance': {'text': '0.3 mi', 'value': 441},\n",
       "      'duration': {'text': '1 min', 'value': 43},\n",
       "      'end_location': {'lat': 34.0476524, 'lng': -118.2666288},\n",
       "      'html_instructions': 'Turn <b>right</b> onto the <b>CA-110 N</b> ramp',\n",
       "      'maneuver': 'ramp-right',\n",
       "      'polyline': {'points': 'qlxnEbrzpUMVQWEEA?]WMMIKSQOSSUQUU[A?QUEGCESWIMGKQU?AOCSc@IOi@gAe@}@[o@i@cAKSMWUc@'},\n",
       "      'start_location': {'lat': 34.0450458, 'lng': -118.2699412},\n",
       "      'travel_mode': 'DRIVING'},\n",
       "     {'distance': {'text': '0.4 mi', 'value': 674},\n",
       "      'duration': {'text': '1 min', 'value': 40},\n",
       "      'end_location': {'lat': 34.0512269, 'lng': -118.2607221},\n",
       "      'html_instructions': 'Keep <b>left</b> to continue toward <b>CA-110 N</b>',\n",
       "      'maneuver': 'keep-left',\n",
       "      'polyline': {'points': 'y|xnEl}ypUWg@S_@O]y@aBS_@w@yAaAmBMWWm@Qa@KUAAAAIQ]s@KSISUc@i@eAYk@S]CEACMUYg@MUYi@GMIOo@kAa@s@Yc@'},\n",
       "      'start_location': {'lat': 34.0476524, 'lng': -118.2666288},\n",
       "      'travel_mode': 'DRIVING'},\n",
       "     {'distance': {'text': '0.2 mi', 'value': 394},\n",
       "      'duration': {'text': '1 min', 'value': 25},\n",
       "      'end_location': {'lat': 34.0537002, 'lng': -118.2576829},\n",
       "      'html_instructions': 'Keep <b>left</b>, follow signs for <b>3rd St</b>/<wbr/><b>4th St</b>',\n",
       "      'maneuver': 'keep-left',\n",
       "      'polyline': {'points': 'esynEnxxpUYg@]k@i@}@a@o@AA?AKOSY[e@eAyAm@w@_@i@UYa@a@KIe@c@[UQM'},\n",
       "      'start_location': {'lat': 34.0512269, 'lng': -118.2607221},\n",
       "      'travel_mode': 'DRIVING'},\n",
       "     {'distance': {'text': '318 ft', 'value': 97},\n",
       "      'duration': {'text': '1 min', 'value': 6},\n",
       "      'end_location': {'lat': 34.054446, 'lng': -118.2571452},\n",
       "      'html_instructions': 'Keep <b>left</b> to continue toward <b>CA-110 N</b>',\n",
       "      'maneuver': 'keep-left',\n",
       "      'polyline': {'points': 'sbznEnexpUOIOK[SOIQMA?c@[QK'},\n",
       "      'start_location': {'lat': 34.0537002, 'lng': -118.2576829},\n",
       "      'travel_mode': 'DRIVING'},\n",
       "     {'distance': {'text': '0.5 mi', 'value': 808},\n",
       "      'duration': {'text': '1 min', 'value': 57},\n",
       "      'end_location': {'lat': 34.0600436, 'lng': -118.2516477},\n",
       "      'html_instructions': 'Keep <b>left</b> and merge onto <b>CA-110 N</b>',\n",
       "      'maneuver': 'keep-left',\n",
       "      'polyline': {'points': 'igznEdbxpUIEIE]UIGQK]U[SYSUQMEIAMAu@q@SQ}@{@OOWUUWOMSUSSw@y@[]e@e@OSQSSYEGMKOQqAsAa@c@CCWWEEQSMMMMIKKMMMEEEE]a@[a@c@k@[c@_AmA'},\n",
       "      'start_location': {'lat': 34.054446, 'lng': -118.2571452},\n",
       "      'travel_mode': 'DRIVING'},\n",
       "     {'distance': {'text': '0.1 mi', 'value': 180},\n",
       "      'duration': {'text': '1 min', 'value': 14},\n",
       "      'end_location': {'lat': 34.0610645, 'lng': -118.2501502},\n",
       "      'html_instructions': 'Take the <b>US-101 N</b>/<wbr/><b>US-101 S</b> exit toward <b>Ventura</b>/<wbr/><b>I-5 S</b>/<wbr/><b>I-10 E</b>/<wbr/><b>CA-60 E</b>',\n",
       "      'maneuver': 'ramp-right',\n",
       "      'polyline': {'points': 'gj{nEx_wpUEW[g@MQk@}@g@u@i@y@]k@'},\n",
       "      'start_location': {'lat': 34.0600436, 'lng': -118.2516477},\n",
       "      'travel_mode': 'DRIVING'},\n",
       "     {'distance': {'text': '2.8 mi', 'value': 4474},\n",
       "      'duration': {'text': '4 mins', 'value': 264},\n",
       "      'end_location': {'lat': 34.0790986, 'lng': -118.2894676},\n",
       "      'html_instructions': 'Keep <b>left</b> at the fork, follow signs for <b>US-101 N</b>/<wbr/><b>Hollywood</b> and merge onto <b>US-101 N</b>',\n",
       "      'maneuver': 'fork-left',\n",
       "      'polyline': {'points': 'sp{nElvvpUQKIMGIOU_@i@Wa@OSACQUUSUQIEKEKEKCKCKCEAMAy@Ei@CO?O@M?QBM@KDIBOFA@MHIFGHKJ?@EDGLILEFKVMXKTKTEJEHMXGNIFEJYh@Yh@EHu@hAOXC^o@hAMPQVEFKPOVSVGJINc@n@A@U`@UZQVEHA@W`@SZSZCDa@p@CFKPIP]n@GLi@lAGLKVKVCDKXKVCJGNIRENKXGTELEPGR?@ITIZQt@CHA@?@YhACFSz@CJYfAMd@Kd@WbA[lAMh@?@]pAAFA@WdAWbAGVSr@ADa@bBGRI^[nACH_@zA]nAEPIZGNOh@Od@GTKVe@vA_@dASn@Ob@Wt@[~@O`@AB_@fAOd@KZUn@Qf@Qh@c@pAUt@Yz@Uv@c@vAa@tASn@ELIVKXOf@MZOb@EJCDM\\\\IPABYr@GNO\\\\IRQ`@KZO^g@vAOd@Y~@GPELCHK`@ELCLCFIZI^Kb@K`@Kb@UhAMt@Kd@Kl@Kd@GXI`@G^Kd@Kl@GZIZSfAQ`AMl@Ov@?BI`@GZG\\\\GZEPAFQx@EXI^ERCPIb@EPG^G\\\\G\\\\G`@G\\\\Kt@CRIl@Kr@_@bCCVU|AKt@EZGb@ETCTCPSpAIj@Kx@U|AKt@CNAHE`@EXGn@Gh@Ed@Kx@El@E\\\\Gf@AFEXGb@CVIh@CTEXG^G\\\\GVEXEPERGTI\\\\Mf@W~@'},\n",
       "      'start_location': {'lat': 34.0610645, 'lng': -118.2501502},\n",
       "      'travel_mode': 'DRIVING'},\n",
       "     {'distance': {'text': '0.2 mi', 'value': 274},\n",
       "      'duration': {'text': '1 min', 'value': 32},\n",
       "      'end_location': {'lat': 34.080595, 'lng': -118.2917227},\n",
       "      'html_instructions': 'Take exit <b>6A</b> for <b>Vermont Ave</b>',\n",
       "      'maneuver': 'ramp-right',\n",
       "      'polyline': {'points': 'ka_oEdl~pUWDA@IPGPABCFMTELGLGNKTGNIPEHEJEJGJCFEHGHEDIJEFOLWXKHKLQPCBEDCFA@ABCFCFAHCLAX'},\n",
       "      'start_location': {'lat': 34.0790986, 'lng': -118.2894676},\n",
       "      'travel_mode': 'DRIVING'},\n",
       "     {'distance': {'text': '0.1 mi', 'value': 171},\n",
       "      'duration': {'text': '1 min', 'value': 36},\n",
       "      'end_location': {'lat': 34.0790534, 'lng': -118.2917155},\n",
       "      'html_instructions': 'Turn <b>left</b> onto <b>N Vermont Ave</b>',\n",
       "      'maneuver': 'turn-left',\n",
       "      'polyline': {'points': 'uj_oEfz~pUP?F@N?L?T?b@Ah@?NAv@@f@AB?b@@'},\n",
       "      'start_location': {'lat': 34.080595, 'lng': -118.2917227},\n",
       "      'travel_mode': 'DRIVING'},\n",
       "     {'distance': {'text': '0.5 mi', 'value': 876},\n",
       "      'duration': {'text': '3 mins', 'value': 155},\n",
       "      'end_location': {'lat': 34.0790145, 'lng': -118.301229},\n",
       "      'html_instructions': 'Turn <b>right</b> onto <b>Rosewood Ave</b>',\n",
       "      'maneuver': 'turn-right',\n",
       "      'polyline': {'points': 'aa_oEfz~pU?h@@pA@pBAT?n@?j@AtB?xC@d@?v@?lB?`D@|@?vA?R?T?xA?\\\\?b@?r@?|@?H?j@?R@zE?bA@vA'},\n",
       "      'start_location': {'lat': 34.0790534, 'lng': -118.2917155},\n",
       "      'travel_mode': 'DRIVING'},\n",
       "     {'distance': {'text': '157 ft', 'value': 48},\n",
       "      'duration': {'text': '1 min', 'value': 17},\n",
       "      'end_location': {'lat': 34.078586, 'lng': -118.3012242},\n",
       "      'html_instructions': 'Turn <b>left</b> onto <b>Normandie Pl</b><div style=\"font-size:0.9em\">Destination will be on the left</div>',\n",
       "      'maneuver': 'turn-left',\n",
       "      'polyline': {'points': 'y`_oEtu`qUF?H?t@AJ?'},\n",
       "      'start_location': {'lat': 34.0790145, 'lng': -118.301229},\n",
       "      'travel_mode': 'DRIVING'}],\n",
       "    'traffic_speed_entry': [],\n",
       "    'via_waypoint': []}],\n",
       "  'overview_polyline': {'points': 'm}wnEzzypUsEgE]jBEf@AzAErBElAIj@Mh@Wt@mDpJMVQWGEk@e@aAgA{@gAaAwAOCSc@s@wAwBeEeF}JoAeCi@oAYk@eDuGsCkFaE}GaCiDmAaBw@{@_BqAkAs@iAu@SKg@]eBiAc@WWCwCoCqAqAmCqC{@iAeEkEiBqB{C_EEW[g@kC_E]k@QKQWwAuBi@m@k@]o@QwBMm@@k@Ji@V]\\\\Wb@qAtCQV_AhBeAbBC^uAzB}BpDsB~C{@|AwAxCiAvCm@tBiAfE{FjUuBrIu@lCg@dByD`L{C`JoDlL{AbEkBvEyAnE[fA[pAy@rDwApHcD~Ps@xD}AlKyCpT{@fIo@vE[`Be@nBW~@WDA@Wn@gAbCWj@]d@aBbBKTKx@jDAfC@@bGAjJ@lJ@nK?fC@~G@vAF?~@AJ?'},\n",
       "  'summary': 'US-101 N',\n",
       "  'warnings': [],\n",
       "  'waypoint_order': []},\n",
       " {'bounds': {'northeast': {'lat': 34.078586, 'lng': -118.2639556},\n",
       "   'southwest': {'lat': 34.0426288, 'lng': -118.3012242}},\n",
       "  'copyrights': 'Map data ©2023 Google',\n",
       "  'legs': [{'distance': {'text': '4.3 mi', 'value': 6848},\n",
       "    'duration': {'text': '19 mins', 'value': 1158},\n",
       "    'end_address': '430 Normandie Pl, Los Angeles, CA 90004, USA',\n",
       "    'end_location': {'lat': 34.078586, 'lng': -118.3012242},\n",
       "    'start_address': '1111 S Figueroa St, Los Angeles, CA 90015, USA',\n",
       "    'start_location': {'lat': 34.0426288, 'lng': -118.2662159},\n",
       "    'steps': [{'distance': {'text': '0.2 mi', 'value': 336},\n",
       "      'duration': {'text': '1 min', 'value': 60},\n",
       "      'end_location': {'lat': 34.0449948, 'lng': -118.2639556},\n",
       "      'html_instructions': 'Head <b>northeast</b> on <b>S Figueroa St</b> toward <b>W 11th St</b>',\n",
       "      'polyline': {'points': 'm}wnEzzypUwAqAk@i@EEiAeAy@u@MM][QSGCWYq@o@y@y@'},\n",
       "      'start_location': {'lat': 34.0426288, 'lng': -118.2662159},\n",
       "      'travel_mode': 'DRIVING'},\n",
       "     {'distance': {'text': '2.2 mi', 'value': 3524},\n",
       "      'duration': {'text': '9 mins', 'value': 526},\n",
       "      'end_location': {'lat': 34.0526296, 'lng': -118.3000264},\n",
       "      'html_instructions': 'Turn <b>left</b> onto <b>W Olympic Blvd</b>',\n",
       "      'maneuver': 'turn-left',\n",
       "      'polyline': {'points': 'elxnEvlypUGTStASfBCTIh@YpAc@bBu@xBM\\\\AFGJe@tAUn@Qf@Sl@Od@A@ADKV?BCD?@ITGN?@CDABIXYv@[|@K\\\\KVQd@CJOd@Qd@Qh@M`@Yx@OZWp@EJ]bAKT_@fAe@rAEJGT[v@Ur@M^k@`BM^]`AIRMb@IPSj@IVSp@O^Qb@o@nB[`ASj@IXe@rAO`@Sl@KZQd@]dAUr@KTIVEJGPWt@Ul@Yx@Yt@I\\\\IZAHAHCJC^Cd@ExAI|BIzBCf@G~ACp@CfAAnC?T?dAA~A?X@fB?J?`A@l@?T?@?~A?zB?T?f@@tA?X?rA?J?R?lB?hAA`@ARAR?LAFE\\\\CPCLGPId@CNABCTCX?R?^?t@AbA?d@?V?nA@~@?\\\\?J?fB@h@AhA@V?dA?x@?P?bC@tA?p@?fA?`B?N?L@pA?nA?R?b@?`@?j@'},\n",
       "      'start_location': {'lat': 34.0449948, 'lng': -118.2639556},\n",
       "      'travel_mode': 'DRIVING'},\n",
       "     {'distance': {'text': '256 ft', 'value': 78},\n",
       "      'duration': {'text': '1 min', 'value': 14},\n",
       "      'end_location': {'lat': 34.0532858, 'lng': -118.3003041},\n",
       "      'html_instructions': 'Turn <b>right</b> onto <b>S Normandie Ave</b>',\n",
       "      'maneuver': 'turn-right',\n",
       "      'polyline': {'points': '}{ynEdn`qU]HMBE@WFGBq@X'},\n",
       "      'start_location': {'lat': 34.0526296, 'lng': -118.3000264},\n",
       "      'travel_mode': 'DRIVING'},\n",
       "     {'distance': {'text': '0.6 mi', 'value': 966},\n",
       "      'duration': {'text': '3 mins', 'value': 194},\n",
       "      'end_location': {'lat': 34.0617479, 'lng': -118.3003843},\n",
       "      'html_instructions': 'Continue onto <b>Irolo St</b>',\n",
       "      'polyline': {'points': 'a`znEzo`qUgAl@QJQFMFMFIBQJIBGBKBIBI@I@C?KByG?iA?kA?q@@_BAC?}@@SA}J@c@?e@?q@?Q?[AG@MCMCQIA?ECCCGEEEWUSQUMIEICSCA?EAI?C?[?'},\n",
       "      'start_location': {'lat': 34.0532858, 'lng': -118.3003041},\n",
       "      'travel_mode': 'DRIVING'},\n",
       "     {'distance': {'text': '1.1 mi', 'value': 1769},\n",
       "      'duration': {'text': '5 mins', 'value': 310},\n",
       "      'end_location': {'lat': 34.07766, 'lng': -118.3004379},\n",
       "      'html_instructions': 'Continue onto <b>S Normandie Ave</b>',\n",
       "      'polyline': {'points': '}t{nEjp`qUkA?K@WAM?_A?G?uA?C?S?y@?u@?]?I?q@?{@?M?mB?a@?]?U?G?Q?Q?w@?]?Y?mA?E?gA?U?mB?iA?y@?e@?I?M?c@?i@AQ?]@cA?iA@]?G?eD@}C?{C?cEBaB?qE?G@MAa@@E?c@?A?q@?E?m@?Y?S?C?K?]?W?K?g@@g@?[?c@?'},\n",
       "      'start_location': {'lat': 34.0617479, 'lng': -118.3003843},\n",
       "      'travel_mode': 'DRIVING'},\n",
       "     {'distance': {'text': '236 ft', 'value': 72},\n",
       "      'duration': {'text': '1 min', 'value': 20},\n",
       "      'end_location': {'lat': 34.07765630000001, 'lng': -118.3012212},\n",
       "      'html_instructions': 'Turn <b>left</b> onto <b>Oakwood Ave</b>',\n",
       "      'maneuver': 'turn-left',\n",
       "      'polyline': {'points': 'kx~nEvp`qU?j@?h@?j@?X'},\n",
       "      'start_location': {'lat': 34.07766, 'lng': -118.3004379},\n",
       "      'travel_mode': 'DRIVING'},\n",
       "     {'distance': {'text': '338 ft', 'value': 103},\n",
       "      'duration': {'text': '1 min', 'value': 34},\n",
       "      'end_location': {'lat': 34.078586, 'lng': -118.3012242},\n",
       "      'html_instructions': 'Turn <b>right</b> at the 1st cross street onto <b>Normandie Pl</b><div style=\"font-size:0.9em\">Destination will be on the right</div>',\n",
       "      'maneuver': 'turn-right',\n",
       "      'polyline': {'points': 'kx~nEru`qUS?c@?c@?eA?W?'},\n",
       "      'start_location': {'lat': 34.07765630000001, 'lng': -118.3012212},\n",
       "      'travel_mode': 'DRIVING'}],\n",
       "    'traffic_speed_entry': [],\n",
       "    'via_waypoint': []}],\n",
       "  'overview_polyline': {'points': 'm}wnEzzypUsEgEwBsBkCgC[jBW|Bc@zBc@bBu@xBOd@m@`BkAjDOb@Yt@oBzFaAvCgArCoDbK{CxI_AlCiBvFgDtJo@jBo@fBc@rAQz@GdAOvEYtHEvE?zA?lF@fC@hNAlFE|@In@K^SnACl@?tAApEBbL@pO@bE?dA?j@]HSD_@J}CzAw@^g@Nc@FaN@oT?cACg@Qi@e@i@_@SIe@EwB@uGAyP?iM?cH@yc@FmD?oC@?zCyD?'},\n",
       "  'summary': 'W Olympic Blvd and S Normandie Ave',\n",
       "  'warnings': [],\n",
       "  'waypoint_order': []}]"
      ]
     },
     "execution_count": 67,
     "metadata": {},
     "output_type": "execute_result"
    }
   ],
   "source": [
    "directions"
   ]
  },
  {
   "cell_type": "markdown",
   "id": "1d5dcaee",
   "metadata": {},
   "source": [
    "The different routes are stored as dictionaries in a list. The steps can be found in directions[0]['legs'][0]['steps'] where n is the index of the route being investigated. The steps dictionary contains the start and end latitude and longitude as well as text stating the road being travelled on."
   ]
  },
  {
   "cell_type": "code",
   "execution_count": 68,
   "id": "3e92a1f8",
   "metadata": {},
   "outputs": [
    {
     "data": {
      "text/plain": [
       "2"
      ]
     },
     "execution_count": 68,
     "metadata": {},
     "output_type": "execute_result"
    }
   ],
   "source": [
    "len(directions)"
   ]
  },
  {
   "cell_type": "markdown",
   "id": "e6773e10",
   "metadata": {},
   "source": [
    "The API returned two routes. What are the roads beings travelled on in the first route?"
   ]
  },
  {
   "cell_type": "code",
   "execution_count": 69,
   "id": "94139157",
   "metadata": {},
   "outputs": [
    {
     "data": {
      "text/plain": [
       "['Head <b>northeast</b> on <b>S Figueroa St</b> toward <b>W 11th St</b>',\n",
       " 'Turn <b>left</b> onto <b>Chick Hearn Ct</b>',\n",
       " 'Turn <b>right</b> onto the <b>CA-110 N</b> ramp',\n",
       " 'Keep <b>left</b> to continue toward <b>CA-110 N</b>',\n",
       " 'Keep <b>left</b>, follow signs for <b>3rd St</b>/<wbr/><b>4th St</b>',\n",
       " 'Keep <b>left</b> to continue toward <b>CA-110 N</b>',\n",
       " 'Keep <b>left</b> and merge onto <b>CA-110 N</b>',\n",
       " 'Take the <b>US-101 N</b>/<wbr/><b>US-101 S</b> exit toward <b>Ventura</b>/<wbr/><b>I-5 S</b>/<wbr/><b>I-10 E</b>/<wbr/><b>CA-60 E</b>',\n",
       " 'Keep <b>left</b> at the fork, follow signs for <b>US-101 N</b>/<wbr/><b>Hollywood</b> and merge onto <b>US-101 N</b>',\n",
       " 'Take exit <b>6A</b> for <b>Vermont Ave</b>',\n",
       " 'Turn <b>left</b> onto <b>N Vermont Ave</b>',\n",
       " 'Turn <b>right</b> onto <b>Rosewood Ave</b>',\n",
       " 'Turn <b>left</b> onto <b>Normandie Pl</b><div style=\"font-size:0.9em\">Destination will be on the left</div>']"
      ]
     },
     "execution_count": 69,
     "metadata": {},
     "output_type": "execute_result"
    }
   ],
   "source": [
    "roads = [0] * len(directions[0]['legs'][0]['steps'])\n",
    "for i in range(len(directions[0]['legs'][0]['steps'])):\n",
    "    roads[i] = directions[0]['legs'][0]['steps'][i]['html_instructions']\n",
    "roads"
   ]
  },
  {
   "cell_type": "markdown",
   "id": "692324c9",
   "metadata": {},
   "source": [
    "The text above contains the roads that are being travelled on in this route. More will be done with this later, during feature engineering. But this is a good starting point for deciding what our explanatory features and target feature should look like."
   ]
  },
  {
   "cell_type": "markdown",
   "id": "abcaa576",
   "metadata": {},
   "source": [
    "### 10 OpenWeather API<a id='10_OpenWeather_API'>"
   ]
  },
  {
   "cell_type": "markdown",
   "id": "aa3d27c7",
   "metadata": {},
   "source": [
    "The OpenWeather api will be used to get weather factors along the different routes supplied by the maps api. This information will also feed into the model, so it's characteristics must also be determined. It should be quite similar to the historic information that makes up the LA_weather dataframe. The possible file formats are json, html, and xml. Json will be used for the purpose of this project."
   ]
  },
  {
   "cell_type": "markdown",
   "id": "b0b25560",
   "metadata": {},
   "source": [
    "The current weather for a location in LA can be found as follows:"
   ]
  },
  {
   "cell_type": "code",
   "execution_count": 70,
   "id": "216b1b97",
   "metadata": {},
   "outputs": [],
   "source": [
    "lat = LA_coords[0]\n",
    "lon = LA_coords[1]\n",
    "API_key = openWeather_api_key\n",
    "\n",
    "LA_weather_response = requests.get(\n",
    "    f'https://api.openweathermap.org/data/3.0/onecall?lat={lat}&lon={lon}&exclude=minutely,hourly,monthly,alerts&appid={API_key}')"
   ]
  },
  {
   "cell_type": "code",
   "execution_count": 71,
   "id": "44e93f78",
   "metadata": {
    "scrolled": true
   },
   "outputs": [
    {
     "data": {
      "text/plain": [
       "{'lat': 34.0522,\n",
       " 'lon': -118.2437,\n",
       " 'timezone': 'America/Los_Angeles',\n",
       " 'timezone_offset': -28800,\n",
       " 'current': {'dt': 1676329156,\n",
       "  'sunrise': 1676299202,\n",
       "  'sunset': 1676338473,\n",
       "  'temp': 289.23,\n",
       "  'feels_like': 288.46,\n",
       "  'pressure': 1017,\n",
       "  'humidity': 60,\n",
       "  'dew_point': 281.47,\n",
       "  'uvi': 1.5,\n",
       "  'clouds': 40,\n",
       "  'visibility': 10000,\n",
       "  'wind_speed': 5.14,\n",
       "  'wind_deg': 190,\n",
       "  'weather': [{'id': 802,\n",
       "    'main': 'Clouds',\n",
       "    'description': 'scattered clouds',\n",
       "    'icon': '03d'}]},\n",
       " 'daily': [{'dt': 1676318400,\n",
       "   'sunrise': 1676299202,\n",
       "   'sunset': 1676338473,\n",
       "   'moonrise': 1676276700,\n",
       "   'moonset': 1676314320,\n",
       "   'moon_phase': 0.75,\n",
       "   'temp': {'day': 287.93,\n",
       "    'min': 283.3,\n",
       "    'max': 289.23,\n",
       "    'night': 285.61,\n",
       "    'eve': 287.68,\n",
       "    'morn': 283.32},\n",
       "   'feels_like': {'day': 287.06,\n",
       "    'night': 284.92,\n",
       "    'eve': 286.86,\n",
       "    'morn': 282.43},\n",
       "   'pressure': 1015,\n",
       "   'humidity': 61,\n",
       "   'dew_point': 280.49,\n",
       "   'wind_speed': 3.64,\n",
       "   'wind_deg': 204,\n",
       "   'wind_gust': 4.21,\n",
       "   'weather': [{'id': 803,\n",
       "     'main': 'Clouds',\n",
       "     'description': 'broken clouds',\n",
       "     'icon': '04d'}],\n",
       "   'clouds': 75,\n",
       "   'pop': 0.08,\n",
       "   'uvi': 4.58},\n",
       "  {'dt': 1676404800,\n",
       "   'sunrise': 1676385543,\n",
       "   'sunset': 1676424930,\n",
       "   'moonrise': 1676367240,\n",
       "   'moonset': 1676403240,\n",
       "   'moon_phase': 0.79,\n",
       "   'temp': {'day': 286.61,\n",
       "    'min': 282.43,\n",
       "    'max': 287.41,\n",
       "    'night': 282.43,\n",
       "    'eve': 285.07,\n",
       "    'morn': 284.49},\n",
       "   'feels_like': {'day': 285.53,\n",
       "    'night': 279.67,\n",
       "    'eve': 283.07,\n",
       "    'morn': 283.85},\n",
       "   'pressure': 1009,\n",
       "   'humidity': 58,\n",
       "   'dew_point': 278.06,\n",
       "   'wind_speed': 9.31,\n",
       "   'wind_deg': 339,\n",
       "   'wind_gust': 14.91,\n",
       "   'weather': [{'id': 500,\n",
       "     'main': 'Rain',\n",
       "     'description': 'light rain',\n",
       "     'icon': '10d'}],\n",
       "   'clouds': 85,\n",
       "   'pop': 0.43,\n",
       "   'rain': 0.64,\n",
       "   'uvi': 3.43},\n",
       "  {'dt': 1676491200,\n",
       "   'sunrise': 1676471882,\n",
       "   'sunset': 1676511386,\n",
       "   'moonrise': 1676457780,\n",
       "   'moonset': 1676492760,\n",
       "   'moon_phase': 0.83,\n",
       "   'temp': {'day': 287.8,\n",
       "    'min': 280.51,\n",
       "    'max': 289.05,\n",
       "    'night': 283.99,\n",
       "    'eve': 285.48,\n",
       "    'morn': 280.53},\n",
       "   'feels_like': {'day': 285.61,\n",
       "    'night': 281.91,\n",
       "    'eve': 283.45,\n",
       "    'morn': 278.16},\n",
       "   'pressure': 1020,\n",
       "   'humidity': 11,\n",
       "   'dew_point': 257.73,\n",
       "   'wind_speed': 6.06,\n",
       "   'wind_deg': 342,\n",
       "   'wind_gust': 8.93,\n",
       "   'weather': [{'id': 800,\n",
       "     'main': 'Clear',\n",
       "     'description': 'clear sky',\n",
       "     'icon': '01d'}],\n",
       "   'clouds': 0,\n",
       "   'pop': 0.01,\n",
       "   'uvi': 4.37},\n",
       "  {'dt': 1676577600,\n",
       "   'sunrise': 1676558220,\n",
       "   'sunset': 1676597842,\n",
       "   'moonrise': 1676548260,\n",
       "   'moonset': 1676582940,\n",
       "   'moon_phase': 0.86,\n",
       "   'temp': {'day': 289.45,\n",
       "    'min': 282.32,\n",
       "    'max': 289.62,\n",
       "    'night': 285.95,\n",
       "    'eve': 286.85,\n",
       "    'morn': 282.32},\n",
       "   'feels_like': {'day': 287.34,\n",
       "    'night': 283.83,\n",
       "    'eve': 284.85,\n",
       "    'morn': 281.34},\n",
       "   'pressure': 1022,\n",
       "   'humidity': 8,\n",
       "   'dew_point': 254.78,\n",
       "   'wind_speed': 2.04,\n",
       "   'wind_deg': 35,\n",
       "   'wind_gust': 2.92,\n",
       "   'weather': [{'id': 804,\n",
       "     'main': 'Clouds',\n",
       "     'description': 'overcast clouds',\n",
       "     'icon': '04d'}],\n",
       "   'clouds': 100,\n",
       "   'pop': 0,\n",
       "   'uvi': 3.72},\n",
       "  {'dt': 1676664000,\n",
       "   'sunrise': 1676644558,\n",
       "   'sunset': 1676684298,\n",
       "   'moonrise': 1676638320,\n",
       "   'moonset': 1676673600,\n",
       "   'moon_phase': 0.9,\n",
       "   'temp': {'day': 289.61,\n",
       "    'min': 283.37,\n",
       "    'max': 289.61,\n",
       "    'night': 285.61,\n",
       "    'eve': 287.01,\n",
       "    'morn': 283.37},\n",
       "   'feels_like': {'day': 287.57,\n",
       "    'night': 283.72,\n",
       "    'eve': 285.03,\n",
       "    'morn': 280.84},\n",
       "   'pressure': 1013,\n",
       "   'humidity': 10,\n",
       "   'dew_point': 257.9,\n",
       "   'wind_speed': 3.28,\n",
       "   'wind_deg': 183,\n",
       "   'wind_gust': 3.47,\n",
       "   'weather': [{'id': 804,\n",
       "     'main': 'Clouds',\n",
       "     'description': 'overcast clouds',\n",
       "     'icon': '04d'}],\n",
       "   'clouds': 100,\n",
       "   'pop': 0,\n",
       "   'uvi': 3.7},\n",
       "  {'dt': 1676750400,\n",
       "   'sunrise': 1676730894,\n",
       "   'sunset': 1676770753,\n",
       "   'moonrise': 1676727960,\n",
       "   'moonset': 1676764560,\n",
       "   'moon_phase': 0.94,\n",
       "   'temp': {'day': 290.89,\n",
       "    'min': 284.42,\n",
       "    'max': 290.89,\n",
       "    'night': 286.14,\n",
       "    'eve': 287.38,\n",
       "    'morn': 284.53},\n",
       "   'feels_like': {'day': 289.19,\n",
       "    'night': 284.72,\n",
       "    'eve': 285.93,\n",
       "    'morn': 282.53},\n",
       "   'pressure': 1017,\n",
       "   'humidity': 18,\n",
       "   'dew_point': 265.49,\n",
       "   'wind_speed': 3.85,\n",
       "   'wind_deg': 163,\n",
       "   'wind_gust': 4.42,\n",
       "   'weather': [{'id': 803,\n",
       "     'main': 'Clouds',\n",
       "     'description': 'broken clouds',\n",
       "     'icon': '04d'}],\n",
       "   'clouds': 62,\n",
       "   'pop': 0,\n",
       "   'uvi': 4},\n",
       "  {'dt': 1676836800,\n",
       "   'sunrise': 1676817229,\n",
       "   'sunset': 1676857208,\n",
       "   'moonrise': 1676817000,\n",
       "   'moonset': 1676855580,\n",
       "   'moon_phase': 0,\n",
       "   'temp': {'day': 292.93,\n",
       "    'min': 284.45,\n",
       "    'max': 292.93,\n",
       "    'night': 287.02,\n",
       "    'eve': 288.13,\n",
       "    'morn': 284.45},\n",
       "   'feels_like': {'day': 291.36,\n",
       "    'night': 285.51,\n",
       "    'eve': 286.57,\n",
       "    'morn': 282.55},\n",
       "   'pressure': 1017,\n",
       "   'humidity': 15,\n",
       "   'dew_point': 265.03,\n",
       "   'wind_speed': 4.09,\n",
       "   'wind_deg': 231,\n",
       "   'wind_gust': 2.94,\n",
       "   'weather': [{'id': 800,\n",
       "     'main': 'Clear',\n",
       "     'description': 'clear sky',\n",
       "     'icon': '01d'}],\n",
       "   'clouds': 0,\n",
       "   'pop': 0,\n",
       "   'uvi': 4},\n",
       "  {'dt': 1676923200,\n",
       "   'sunrise': 1676903562,\n",
       "   'sunset': 1676943663,\n",
       "   'moonrise': 1676905680,\n",
       "   'moonset': 1676946360,\n",
       "   'moon_phase': 0.02,\n",
       "   'temp': {'day': 291.16,\n",
       "    'min': 284.6,\n",
       "    'max': 291.16,\n",
       "    'night': 286.37,\n",
       "    'eve': 287.15,\n",
       "    'morn': 284.6},\n",
       "   'feels_like': {'day': 289.77,\n",
       "    'night': 285.34,\n",
       "    'eve': 286.09,\n",
       "    'morn': 283.13},\n",
       "   'pressure': 1015,\n",
       "   'humidity': 29,\n",
       "   'dew_point': 272.6,\n",
       "   'wind_speed': 4.59,\n",
       "   'wind_deg': 242,\n",
       "   'wind_gust': 4.46,\n",
       "   'weather': [{'id': 802,\n",
       "     'main': 'Clouds',\n",
       "     'description': 'scattered clouds',\n",
       "     'icon': '03d'}],\n",
       "   'clouds': 36,\n",
       "   'pop': 0,\n",
       "   'uvi': 4}]}"
      ]
     },
     "execution_count": 71,
     "metadata": {},
     "output_type": "execute_result"
    }
   ],
   "source": [
    "LA_weather_response.json()"
   ]
  },
  {
   "cell_type": "markdown",
   "id": "40265fb8",
   "metadata": {},
   "source": [
    "Knowing what these API resonses look like will make it much easier at the time of feature engineering to make informed decisions about how the data and model should be structured."
   ]
  },
  {
   "cell_type": "markdown",
   "id": "c2248946",
   "metadata": {},
   "source": [
    "### 11 Save Data<a id='11_Save_Data'>"
   ]
  },
  {
   "cell_type": "code",
   "execution_count": 72,
   "id": "ea3d492e",
   "metadata": {},
   "outputs": [
    {
     "name": "stdout",
     "output_type": "stream",
     "text": [
      "A file already exists with this name.\n",
      "\n",
      "Do you want to overwrite? (Y/N)y\n",
      "Writing file.  \"../data/LA_data.csv\"\n",
      "A file already exists with this name.\n",
      "\n",
      "Do you want to overwrite? (Y/N)y\n",
      "Writing file.  \"../data/LA_highway_collisions_cleaned.csv\"\n",
      "A file already exists with this name.\n",
      "\n",
      "Do you want to overwrite? (Y/N)y\n",
      "Writing file.  \"../data/LA_nonhighway_collisions_cleaned.csv\"\n",
      "A file already exists with this name.\n",
      "\n",
      "Do you want to overwrite? (Y/N)y\n",
      "Writing file.  \"../data/LA_weather_cleaned.csv\"\n"
     ]
    }
   ],
   "source": [
    "datapath = '../data'\n",
    "save_file(LA_data, 'LA_data.csv', datapath)\n",
    "save_file(LA_highway_collisions, 'LA_highway_collisions_cleaned.csv', datapath)\n",
    "save_file(LA_nonhighway_collisions, 'LA_nonhighway_collisions_cleaned.csv', datapath)\n",
    "save_file(LA_weather, 'LA_weather_cleaned.csv', datapath)"
   ]
  },
  {
   "cell_type": "markdown",
   "id": "ca3a59e6",
   "metadata": {},
   "source": [
    "### 12 Conclusion<a id='12_Conclusion'>"
   ]
  },
  {
   "cell_type": "markdown",
   "id": "f8d54545",
   "metadata": {},
   "source": [
    "The data is now cleaned of all null values. The collision data, both highway and nonhighway, has been merged with the weather data, which will allow the model to take weather and time data into the risk calculations. \n",
    "\n",
    "The google maps api returns a number of routes when requested with a start and end location. The API can take addresses or a latitudes and longitudes for the endpoints, as well as returning street names and latitudes and longitudes. The street names/cooordinates are easily accessible through the returned list.\n",
    "\n",
    "The weather api is almost the same as the bulk weather data from earlier in this notebook, differing in that the api response has a lot of unnecessary data. The useful data is luckily stored near the front (temp, humidity, visibility, etc...)."
   ]
  }
 ],
 "metadata": {
  "kernelspec": {
   "display_name": "Python 3 (ipykernel)",
   "language": "python",
   "name": "python3"
  },
  "language_info": {
   "codemirror_mode": {
    "name": "ipython",
    "version": 3
   },
   "file_extension": ".py",
   "mimetype": "text/x-python",
   "name": "python",
   "nbconvert_exporter": "python",
   "pygments_lexer": "ipython3",
   "version": "3.9.12"
  }
 },
 "nbformat": 4,
 "nbformat_minor": 5
}
